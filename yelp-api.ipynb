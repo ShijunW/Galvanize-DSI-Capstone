{
 "cells": [
  {
   "cell_type": "markdown",
   "metadata": {},
   "source": [
    "## Yelp API"
   ]
  },
  {
   "cell_type": "code",
   "execution_count": 1,
   "metadata": {
    "ExecuteTime": {
     "end_time": "2018-08-23T22:35:12.960782Z",
     "start_time": "2018-08-23T22:35:12.591416Z"
    }
   },
   "outputs": [],
   "source": [
    "from yelp_helpers import *\n",
    "from yelp import *"
   ]
  },
  {
   "cell_type": "code",
   "execution_count": 4,
   "metadata": {
    "ExecuteTime": {
     "end_time": "2018-08-23T22:39:30.616427Z",
     "start_time": "2018-08-23T22:39:30.581951Z"
    }
   },
   "outputs": [],
   "source": [
    "url_params = {'catogories': 'Restaurants'\n",
    "    \n",
    "}"
   ]
  },
  {
   "cell_type": "code",
   "execution_count": 5,
   "metadata": {
    "ExecuteTime": {
     "end_time": "2018-08-23T22:39:31.467578Z",
     "start_time": "2018-08-23T22:39:31.160644Z"
    }
   },
   "outputs": [
    {
     "name": "stdout",
     "output_type": "stream",
     "text": [
      "Querying https://api.yelp.com/v3/businesses/search ...\n"
     ]
    }
   ],
   "source": [
    "test = city_search('Chandler')"
   ]
  },
  {
   "cell_type": "code",
   "execution_count": 6,
   "metadata": {
    "ExecuteTime": {
     "end_time": "2018-08-23T22:39:47.899414Z",
     "start_time": "2018-08-23T22:39:47.863883Z"
    }
   },
   "outputs": [
    {
     "data": {
      "text/plain": [
       "{'error': {'code': 'UNAUTHORIZED_ACCESS_TOKEN',\n",
       "  'description': 'The access token provided is not currently able to query this endpoint.'}}"
      ]
     },
     "execution_count": 6,
     "metadata": {},
     "output_type": "execute_result"
    }
   ],
   "source": [
    "test"
   ]
  },
  {
   "cell_type": "code",
   "execution_count": null,
   "metadata": {},
   "outputs": [],
   "source": []
  }
 ],
 "metadata": {
  "kernelspec": {
   "display_name": "Python 3",
   "language": "python",
   "name": "python3"
  },
  "language_info": {
   "codemirror_mode": {
    "name": "ipython",
    "version": 3
   },
   "file_extension": ".py",
   "mimetype": "text/x-python",
   "name": "python",
   "nbconvert_exporter": "python",
   "pygments_lexer": "ipython3",
   "version": "3.6.5"
  }
 },
 "nbformat": 4,
 "nbformat_minor": 2
}
