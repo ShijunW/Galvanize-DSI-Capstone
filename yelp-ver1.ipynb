{
 "cells": [
  {
   "cell_type": "code",
   "execution_count": 42,
   "metadata": {
    "ExecuteTime": {
     "end_time": "2018-08-23T17:12:08.257355Z",
     "start_time": "2018-08-23T17:12:08.230811Z"
    }
   },
   "outputs": [],
   "source": [
    "import pandas as pd\n",
    "import numpy as np"
   ]
  },
  {
   "cell_type": "code",
   "execution_count": null,
   "metadata": {
    "ExecuteTime": {
     "start_time": "2018-08-23T16:26:45.482Z"
    }
   },
   "outputs": [
    {
     "name": "stderr",
     "output_type": "stream",
     "text": [
      "/anaconda3/lib/python3.6/site-packages/numpy/lib/arraysetops.py:472: FutureWarning: elementwise comparison failed; returning scalar instead, but in the future will perform elementwise comparison\n",
      "  mask |= (ar1 == a)\n"
     ]
    }
   ],
   "source": [
    "# read in user data\n",
    "users = pd.read_csv('./yelp_dataset/yelp_user.csv', index_col=0)"
   ]
  },
  {
   "cell_type": "code",
   "execution_count": 6,
   "metadata": {
    "ExecuteTime": {
     "end_time": "2018-08-22T22:04:09.578158Z",
     "start_time": "2018-08-22T22:04:08.514957Z"
    }
   },
   "outputs": [
    {
     "name": "stdout",
     "output_type": "stream",
     "text": [
      "<class 'pandas.core.frame.DataFrame'>\n",
      "Int64Index: 1518169 entries, 0 to 1518168\n",
      "Data columns (total 22 columns):\n",
      "average_stars         1518169 non-null float64\n",
      "compliment_cool       1518169 non-null int64\n",
      "compliment_cute       1518169 non-null int64\n",
      "compliment_funny      1518169 non-null int64\n",
      "compliment_hot        1518169 non-null int64\n",
      "compliment_list       1518169 non-null int64\n",
      "compliment_more       1518169 non-null int64\n",
      "compliment_note       1518169 non-null int64\n",
      "compliment_photos     1518169 non-null int64\n",
      "compliment_plain      1518169 non-null int64\n",
      "compliment_profile    1518169 non-null int64\n",
      "compliment_writer     1518169 non-null int64\n",
      "cool                  1518169 non-null int64\n",
      "elite                 1518169 non-null object\n",
      "fans                  1518169 non-null int64\n",
      "friends               1518169 non-null object\n",
      "funny                 1518169 non-null int64\n",
      "name                  1517693 non-null object\n",
      "review_count          1518169 non-null int64\n",
      "useful                1518169 non-null int64\n",
      "user_id               1518169 non-null object\n",
      "yelping_since         1518169 non-null object\n",
      "dtypes: float64(1), int64(16), object(5)\n",
      "memory usage: 266.4+ MB\n"
     ]
    }
   ],
   "source": [
    "users.info()"
   ]
  },
  {
   "cell_type": "code",
   "execution_count": 7,
   "metadata": {
    "ExecuteTime": {
     "end_time": "2018-08-22T22:05:10.837947Z",
     "start_time": "2018-08-22T22:05:10.759201Z"
    }
   },
   "outputs": [
    {
     "data": {
      "text/html": [
       "<div>\n",
       "<style scoped>\n",
       "    .dataframe tbody tr th:only-of-type {\n",
       "        vertical-align: middle;\n",
       "    }\n",
       "\n",
       "    .dataframe tbody tr th {\n",
       "        vertical-align: top;\n",
       "    }\n",
       "\n",
       "    .dataframe thead th {\n",
       "        text-align: right;\n",
       "    }\n",
       "</style>\n",
       "<table border=\"1\" class=\"dataframe\">\n",
       "  <thead>\n",
       "    <tr style=\"text-align: right;\">\n",
       "      <th></th>\n",
       "      <th>average_stars</th>\n",
       "      <th>compliment_cool</th>\n",
       "      <th>compliment_cute</th>\n",
       "      <th>compliment_funny</th>\n",
       "      <th>compliment_hot</th>\n",
       "      <th>compliment_list</th>\n",
       "      <th>compliment_more</th>\n",
       "      <th>compliment_note</th>\n",
       "      <th>compliment_photos</th>\n",
       "      <th>compliment_plain</th>\n",
       "      <th>...</th>\n",
       "      <th>cool</th>\n",
       "      <th>elite</th>\n",
       "      <th>fans</th>\n",
       "      <th>friends</th>\n",
       "      <th>funny</th>\n",
       "      <th>name</th>\n",
       "      <th>review_count</th>\n",
       "      <th>useful</th>\n",
       "      <th>user_id</th>\n",
       "      <th>yelping_since</th>\n",
       "    </tr>\n",
       "  </thead>\n",
       "  <tbody>\n",
       "    <tr>\n",
       "      <th>0</th>\n",
       "      <td>2.00</td>\n",
       "      <td>0</td>\n",
       "      <td>0</td>\n",
       "      <td>0</td>\n",
       "      <td>0</td>\n",
       "      <td>0</td>\n",
       "      <td>0</td>\n",
       "      <td>0</td>\n",
       "      <td>0</td>\n",
       "      <td>0</td>\n",
       "      <td>...</td>\n",
       "      <td>0</td>\n",
       "      <td>None</td>\n",
       "      <td>0</td>\n",
       "      <td>None</td>\n",
       "      <td>0</td>\n",
       "      <td>Susan</td>\n",
       "      <td>1</td>\n",
       "      <td>0</td>\n",
       "      <td>lzlZwIpuSWXEnNS91wxjHw</td>\n",
       "      <td>2015-09-28</td>\n",
       "    </tr>\n",
       "    <tr>\n",
       "      <th>1</th>\n",
       "      <td>5.00</td>\n",
       "      <td>0</td>\n",
       "      <td>0</td>\n",
       "      <td>0</td>\n",
       "      <td>0</td>\n",
       "      <td>0</td>\n",
       "      <td>0</td>\n",
       "      <td>0</td>\n",
       "      <td>0</td>\n",
       "      <td>0</td>\n",
       "      <td>...</td>\n",
       "      <td>0</td>\n",
       "      <td>None</td>\n",
       "      <td>0</td>\n",
       "      <td>None</td>\n",
       "      <td>0</td>\n",
       "      <td>Daipayan</td>\n",
       "      <td>2</td>\n",
       "      <td>0</td>\n",
       "      <td>XvLBr-9smbI0m_a7dXtB7w</td>\n",
       "      <td>2015-09-05</td>\n",
       "    </tr>\n",
       "    <tr>\n",
       "      <th>2</th>\n",
       "      <td>4.00</td>\n",
       "      <td>0</td>\n",
       "      <td>0</td>\n",
       "      <td>0</td>\n",
       "      <td>0</td>\n",
       "      <td>0</td>\n",
       "      <td>0</td>\n",
       "      <td>0</td>\n",
       "      <td>0</td>\n",
       "      <td>0</td>\n",
       "      <td>...</td>\n",
       "      <td>0</td>\n",
       "      <td>None</td>\n",
       "      <td>0</td>\n",
       "      <td>None</td>\n",
       "      <td>0</td>\n",
       "      <td>Andy</td>\n",
       "      <td>1</td>\n",
       "      <td>0</td>\n",
       "      <td>QPT4Ud4H5sJVr68yXhoWFw</td>\n",
       "      <td>2016-07-21</td>\n",
       "    </tr>\n",
       "    <tr>\n",
       "      <th>3</th>\n",
       "      <td>4.05</td>\n",
       "      <td>0</td>\n",
       "      <td>0</td>\n",
       "      <td>0</td>\n",
       "      <td>0</td>\n",
       "      <td>0</td>\n",
       "      <td>0</td>\n",
       "      <td>0</td>\n",
       "      <td>0</td>\n",
       "      <td>0</td>\n",
       "      <td>...</td>\n",
       "      <td>0</td>\n",
       "      <td>None</td>\n",
       "      <td>0</td>\n",
       "      <td>None</td>\n",
       "      <td>0</td>\n",
       "      <td>Jonathan</td>\n",
       "      <td>19</td>\n",
       "      <td>0</td>\n",
       "      <td>i5YitlHZpf0B3R0s_8NVuw</td>\n",
       "      <td>2014-08-04</td>\n",
       "    </tr>\n",
       "    <tr>\n",
       "      <th>4</th>\n",
       "      <td>3.00</td>\n",
       "      <td>0</td>\n",
       "      <td>0</td>\n",
       "      <td>0</td>\n",
       "      <td>0</td>\n",
       "      <td>0</td>\n",
       "      <td>0</td>\n",
       "      <td>0</td>\n",
       "      <td>0</td>\n",
       "      <td>0</td>\n",
       "      <td>...</td>\n",
       "      <td>0</td>\n",
       "      <td>None</td>\n",
       "      <td>0</td>\n",
       "      <td>None</td>\n",
       "      <td>0</td>\n",
       "      <td>Shashank</td>\n",
       "      <td>3</td>\n",
       "      <td>0</td>\n",
       "      <td>s4FoIXE_LSGviTHBe8dmcg</td>\n",
       "      <td>2017-06-18</td>\n",
       "    </tr>\n",
       "  </tbody>\n",
       "</table>\n",
       "<p>5 rows × 22 columns</p>\n",
       "</div>"
      ],
      "text/plain": [
       "   average_stars  compliment_cool  compliment_cute  compliment_funny  \\\n",
       "0           2.00                0                0                 0   \n",
       "1           5.00                0                0                 0   \n",
       "2           4.00                0                0                 0   \n",
       "3           4.05                0                0                 0   \n",
       "4           3.00                0                0                 0   \n",
       "\n",
       "   compliment_hot  compliment_list  compliment_more  compliment_note  \\\n",
       "0               0                0                0                0   \n",
       "1               0                0                0                0   \n",
       "2               0                0                0                0   \n",
       "3               0                0                0                0   \n",
       "4               0                0                0                0   \n",
       "\n",
       "   compliment_photos  compliment_plain      ...        cool  elite  fans  \\\n",
       "0                  0                 0      ...           0   None     0   \n",
       "1                  0                 0      ...           0   None     0   \n",
       "2                  0                 0      ...           0   None     0   \n",
       "3                  0                 0      ...           0   None     0   \n",
       "4                  0                 0      ...           0   None     0   \n",
       "\n",
       "  friends  funny      name  review_count useful                 user_id  \\\n",
       "0    None      0     Susan             1      0  lzlZwIpuSWXEnNS91wxjHw   \n",
       "1    None      0  Daipayan             2      0  XvLBr-9smbI0m_a7dXtB7w   \n",
       "2    None      0      Andy             1      0  QPT4Ud4H5sJVr68yXhoWFw   \n",
       "3    None      0  Jonathan            19      0  i5YitlHZpf0B3R0s_8NVuw   \n",
       "4    None      0  Shashank             3      0  s4FoIXE_LSGviTHBe8dmcg   \n",
       "\n",
       "   yelping_since  \n",
       "0     2015-09-28  \n",
       "1     2015-09-05  \n",
       "2     2016-07-21  \n",
       "3     2014-08-04  \n",
       "4     2017-06-18  \n",
       "\n",
       "[5 rows x 22 columns]"
      ]
     },
     "execution_count": 7,
     "metadata": {},
     "output_type": "execute_result"
    }
   ],
   "source": [
    "users.head()"
   ]
  },
  {
   "cell_type": "code",
   "execution_count": 8,
   "metadata": {
    "ExecuteTime": {
     "end_time": "2018-08-22T22:05:31.835844Z",
     "start_time": "2018-08-22T22:05:29.703576Z"
    }
   },
   "outputs": [],
   "source": [
    "# read in business data\n",
    "business = pd.read_csv('yelp_business.csv', index_col=0)"
   ]
  },
  {
   "cell_type": "code",
   "execution_count": 9,
   "metadata": {
    "ExecuteTime": {
     "end_time": "2018-08-22T22:05:40.636244Z",
     "start_time": "2018-08-22T22:05:40.436977Z"
    }
   },
   "outputs": [
    {
     "name": "stdout",
     "output_type": "stream",
     "text": [
      "<class 'pandas.core.frame.DataFrame'>\n",
      "Int64Index: 188593 entries, 0 to 188592\n",
      "Data columns (total 15 columns):\n",
      "address         180970 non-null object\n",
      "attributes      162807 non-null object\n",
      "business_id     188593 non-null object\n",
      "categories      188052 non-null object\n",
      "city            188583 non-null object\n",
      "hours           143791 non-null object\n",
      "is_open         188593 non-null int64\n",
      "latitude        188587 non-null float64\n",
      "longitude       188587 non-null float64\n",
      "name            188593 non-null object\n",
      "neighborhood    68655 non-null object\n",
      "postal_code     187912 non-null object\n",
      "review_count    188593 non-null int64\n",
      "stars           188593 non-null float64\n",
      "state           188593 non-null object\n",
      "dtypes: float64(3), int64(2), object(10)\n",
      "memory usage: 23.0+ MB\n"
     ]
    }
   ],
   "source": [
    "business.info()"
   ]
  },
  {
   "cell_type": "code",
   "execution_count": 10,
   "metadata": {
    "ExecuteTime": {
     "end_time": "2018-08-22T22:05:48.293756Z",
     "start_time": "2018-08-22T22:05:48.224734Z"
    }
   },
   "outputs": [
    {
     "data": {
      "text/html": [
       "<div>\n",
       "<style scoped>\n",
       "    .dataframe tbody tr th:only-of-type {\n",
       "        vertical-align: middle;\n",
       "    }\n",
       "\n",
       "    .dataframe tbody tr th {\n",
       "        vertical-align: top;\n",
       "    }\n",
       "\n",
       "    .dataframe thead th {\n",
       "        text-align: right;\n",
       "    }\n",
       "</style>\n",
       "<table border=\"1\" class=\"dataframe\">\n",
       "  <thead>\n",
       "    <tr style=\"text-align: right;\">\n",
       "      <th></th>\n",
       "      <th>address</th>\n",
       "      <th>attributes</th>\n",
       "      <th>business_id</th>\n",
       "      <th>categories</th>\n",
       "      <th>city</th>\n",
       "      <th>hours</th>\n",
       "      <th>is_open</th>\n",
       "      <th>latitude</th>\n",
       "      <th>longitude</th>\n",
       "      <th>name</th>\n",
       "      <th>neighborhood</th>\n",
       "      <th>postal_code</th>\n",
       "      <th>review_count</th>\n",
       "      <th>stars</th>\n",
       "      <th>state</th>\n",
       "    </tr>\n",
       "  </thead>\n",
       "  <tbody>\n",
       "    <tr>\n",
       "      <th>0</th>\n",
       "      <td>1314 44 Avenue NE</td>\n",
       "      <td>{'BikeParking': 'False', 'BusinessAcceptsCredi...</td>\n",
       "      <td>Apn5Q_b6Nz61Tq4XzPdf9A</td>\n",
       "      <td>Tours, Breweries, Pizza, Restaurants, Food, Ho...</td>\n",
       "      <td>Calgary</td>\n",
       "      <td>{'Monday': '8:30-17:0', 'Tuesday': '11:0-21:0'...</td>\n",
       "      <td>1</td>\n",
       "      <td>51.091813</td>\n",
       "      <td>-114.031675</td>\n",
       "      <td>Minhas Micro Brewery</td>\n",
       "      <td>NaN</td>\n",
       "      <td>T2E 6L6</td>\n",
       "      <td>24</td>\n",
       "      <td>4.0</td>\n",
       "      <td>AB</td>\n",
       "    </tr>\n",
       "    <tr>\n",
       "      <th>1</th>\n",
       "      <td>NaN</td>\n",
       "      <td>{'Alcohol': 'none', 'BikeParking': 'False', 'B...</td>\n",
       "      <td>AjEbIBw6ZFfln7ePHha9PA</td>\n",
       "      <td>Chicken Wings, Burgers, Caterers, Street Vendo...</td>\n",
       "      <td>Henderson</td>\n",
       "      <td>{'Friday': '17:0-23:0', 'Saturday': '17:0-23:0...</td>\n",
       "      <td>0</td>\n",
       "      <td>35.960734</td>\n",
       "      <td>-114.939821</td>\n",
       "      <td>CK'S BBQ &amp; Catering</td>\n",
       "      <td>NaN</td>\n",
       "      <td>89002</td>\n",
       "      <td>3</td>\n",
       "      <td>4.5</td>\n",
       "      <td>NV</td>\n",
       "    </tr>\n",
       "    <tr>\n",
       "      <th>2</th>\n",
       "      <td>1335 rue Beaubien E</td>\n",
       "      <td>{'Alcohol': 'beer_and_wine', 'Ambience': \"{'ro...</td>\n",
       "      <td>O8S5hYJ1SMc8fA4QBtVujA</td>\n",
       "      <td>Breakfast &amp; Brunch, Restaurants, French, Sandw...</td>\n",
       "      <td>Montréal</td>\n",
       "      <td>{'Monday': '10:0-22:0', 'Tuesday': '10:0-22:0'...</td>\n",
       "      <td>0</td>\n",
       "      <td>45.540503</td>\n",
       "      <td>-73.599300</td>\n",
       "      <td>La Bastringue</td>\n",
       "      <td>Rosemont-La Petite-Patrie</td>\n",
       "      <td>H2G 1K7</td>\n",
       "      <td>5</td>\n",
       "      <td>4.0</td>\n",
       "      <td>QC</td>\n",
       "    </tr>\n",
       "    <tr>\n",
       "      <th>3</th>\n",
       "      <td>211 W Monroe St</td>\n",
       "      <td>NaN</td>\n",
       "      <td>bFzdJJ3wp3PZssNEsyU23g</td>\n",
       "      <td>Insurance, Financial Services</td>\n",
       "      <td>Phoenix</td>\n",
       "      <td>NaN</td>\n",
       "      <td>1</td>\n",
       "      <td>33.449999</td>\n",
       "      <td>-112.076979</td>\n",
       "      <td>Geico Insurance</td>\n",
       "      <td>NaN</td>\n",
       "      <td>85003</td>\n",
       "      <td>8</td>\n",
       "      <td>1.5</td>\n",
       "      <td>AZ</td>\n",
       "    </tr>\n",
       "    <tr>\n",
       "      <th>4</th>\n",
       "      <td>2005 Alyth Place SE</td>\n",
       "      <td>{'BusinessAcceptsCreditCards': 'True'}</td>\n",
       "      <td>8USyCYqpScwiNEb58Bt6CA</td>\n",
       "      <td>Home &amp; Garden, Nurseries &amp; Gardening, Shopping...</td>\n",
       "      <td>Calgary</td>\n",
       "      <td>{'Monday': '8:0-17:0', 'Tuesday': '8:0-17:0', ...</td>\n",
       "      <td>1</td>\n",
       "      <td>51.035591</td>\n",
       "      <td>-114.027366</td>\n",
       "      <td>Action Engine</td>\n",
       "      <td>NaN</td>\n",
       "      <td>T2H 0N5</td>\n",
       "      <td>4</td>\n",
       "      <td>2.0</td>\n",
       "      <td>AB</td>\n",
       "    </tr>\n",
       "  </tbody>\n",
       "</table>\n",
       "</div>"
      ],
      "text/plain": [
       "               address                                         attributes  \\\n",
       "0    1314 44 Avenue NE  {'BikeParking': 'False', 'BusinessAcceptsCredi...   \n",
       "1                  NaN  {'Alcohol': 'none', 'BikeParking': 'False', 'B...   \n",
       "2  1335 rue Beaubien E  {'Alcohol': 'beer_and_wine', 'Ambience': \"{'ro...   \n",
       "3      211 W Monroe St                                                NaN   \n",
       "4  2005 Alyth Place SE             {'BusinessAcceptsCreditCards': 'True'}   \n",
       "\n",
       "              business_id                                         categories  \\\n",
       "0  Apn5Q_b6Nz61Tq4XzPdf9A  Tours, Breweries, Pizza, Restaurants, Food, Ho...   \n",
       "1  AjEbIBw6ZFfln7ePHha9PA  Chicken Wings, Burgers, Caterers, Street Vendo...   \n",
       "2  O8S5hYJ1SMc8fA4QBtVujA  Breakfast & Brunch, Restaurants, French, Sandw...   \n",
       "3  bFzdJJ3wp3PZssNEsyU23g                      Insurance, Financial Services   \n",
       "4  8USyCYqpScwiNEb58Bt6CA  Home & Garden, Nurseries & Gardening, Shopping...   \n",
       "\n",
       "        city                                              hours  is_open  \\\n",
       "0    Calgary  {'Monday': '8:30-17:0', 'Tuesday': '11:0-21:0'...        1   \n",
       "1  Henderson  {'Friday': '17:0-23:0', 'Saturday': '17:0-23:0...        0   \n",
       "2   Montréal  {'Monday': '10:0-22:0', 'Tuesday': '10:0-22:0'...        0   \n",
       "3    Phoenix                                                NaN        1   \n",
       "4    Calgary  {'Monday': '8:0-17:0', 'Tuesday': '8:0-17:0', ...        1   \n",
       "\n",
       "    latitude   longitude                  name               neighborhood  \\\n",
       "0  51.091813 -114.031675  Minhas Micro Brewery                        NaN   \n",
       "1  35.960734 -114.939821   CK'S BBQ & Catering                        NaN   \n",
       "2  45.540503  -73.599300         La Bastringue  Rosemont-La Petite-Patrie   \n",
       "3  33.449999 -112.076979       Geico Insurance                        NaN   \n",
       "4  51.035591 -114.027366         Action Engine                        NaN   \n",
       "\n",
       "  postal_code  review_count  stars state  \n",
       "0     T2E 6L6            24    4.0    AB  \n",
       "1       89002             3    4.5    NV  \n",
       "2     H2G 1K7             5    4.0    QC  \n",
       "3       85003             8    1.5    AZ  \n",
       "4     T2H 0N5             4    2.0    AB  "
      ]
     },
     "execution_count": 10,
     "metadata": {},
     "output_type": "execute_result"
    }
   ],
   "source": [
    "business.head()"
   ]
  },
  {
   "cell_type": "code",
   "execution_count": 11,
   "metadata": {
    "ExecuteTime": {
     "end_time": "2018-08-22T22:08:05.482026Z",
     "start_time": "2018-08-22T22:06:28.230697Z"
    }
   },
   "outputs": [
    {
     "name": "stderr",
     "output_type": "stream",
     "text": [
      "/anaconda3/lib/python3.6/site-packages/IPython/core/interactiveshell.py:2785: DtypeWarning: Columns (0,2) have mixed types. Specify dtype option on import or set low_memory=False.\n",
      "  interactivity=interactivity, compiler=compiler, result=result)\n"
     ]
    }
   ],
   "source": [
    "reviews = pd.read_csv('yelp_review.csv', index_col=0)"
   ]
  },
  {
   "cell_type": "code",
   "execution_count": 12,
   "metadata": {
    "ExecuteTime": {
     "end_time": "2018-08-22T22:08:06.240942Z",
     "start_time": "2018-08-22T22:08:05.505277Z"
    }
   },
   "outputs": [
    {
     "data": {
      "text/html": [
       "<div>\n",
       "<style scoped>\n",
       "    .dataframe tbody tr th:only-of-type {\n",
       "        vertical-align: middle;\n",
       "    }\n",
       "\n",
       "    .dataframe tbody tr th {\n",
       "        vertical-align: top;\n",
       "    }\n",
       "\n",
       "    .dataframe thead th {\n",
       "        text-align: right;\n",
       "    }\n",
       "</style>\n",
       "<table border=\"1\" class=\"dataframe\">\n",
       "  <thead>\n",
       "    <tr style=\"text-align: right;\">\n",
       "      <th></th>\n",
       "      <th>business_id</th>\n",
       "      <th>cool</th>\n",
       "      <th>date</th>\n",
       "      <th>funny</th>\n",
       "      <th>review_id</th>\n",
       "      <th>stars</th>\n",
       "      <th>text</th>\n",
       "      <th>useful</th>\n",
       "      <th>user_id</th>\n",
       "    </tr>\n",
       "  </thead>\n",
       "  <tbody>\n",
       "    <tr>\n",
       "      <th>0</th>\n",
       "      <td>iCQpiavjjPzJ5_3gPD5Ebg</td>\n",
       "      <td>0</td>\n",
       "      <td>2011-02-25</td>\n",
       "      <td>0.0</td>\n",
       "      <td>x7mDIiDB3jEiPGPHOmDzyw</td>\n",
       "      <td>2.0</td>\n",
       "      <td>The pizza was okay. Not the best I've had. I p...</td>\n",
       "      <td>0.0</td>\n",
       "      <td>msQe1u7Z_XuqjGoqhB0J5g</td>\n",
       "    </tr>\n",
       "    <tr>\n",
       "      <th>1</th>\n",
       "      <td>pomGBqfbxcqPv14c3XH-ZQ</td>\n",
       "      <td>0</td>\n",
       "      <td>2012-11-13</td>\n",
       "      <td>0.0</td>\n",
       "      <td>dDl8zu1vWPdKGihJrwQbpw</td>\n",
       "      <td>5.0</td>\n",
       "      <td>I love this place! My fiance And I go here atl...</td>\n",
       "      <td>0.0</td>\n",
       "      <td>msQe1u7Z_XuqjGoqhB0J5g</td>\n",
       "    </tr>\n",
       "    <tr>\n",
       "      <th>2</th>\n",
       "      <td>jtQARsP6P-LbkyjbO1qNGg</td>\n",
       "      <td>1</td>\n",
       "      <td>2014-10-23</td>\n",
       "      <td>1.0</td>\n",
       "      <td>LZp4UX5zK3e-c5ZGSeo3kA</td>\n",
       "      <td>1.0</td>\n",
       "      <td>Terrible. Dry corn bread. Rib tips were all fa...</td>\n",
       "      <td>3.0</td>\n",
       "      <td>msQe1u7Z_XuqjGoqhB0J5g</td>\n",
       "    </tr>\n",
       "    <tr>\n",
       "      <th>3</th>\n",
       "      <td>elqbBhBfElMNSrjFqW3now</td>\n",
       "      <td>0</td>\n",
       "      <td>2011-02-25</td>\n",
       "      <td>0.0</td>\n",
       "      <td>Er4NBWCmCD4nM8_p1GRdow</td>\n",
       "      <td>2.0</td>\n",
       "      <td>Back in 2005-2007 this place was my FAVORITE t...</td>\n",
       "      <td>2.0</td>\n",
       "      <td>msQe1u7Z_XuqjGoqhB0J5g</td>\n",
       "    </tr>\n",
       "    <tr>\n",
       "      <th>4</th>\n",
       "      <td>Ums3gaP2qM3W1XcA5r6SsQ</td>\n",
       "      <td>0</td>\n",
       "      <td>2014-09-05</td>\n",
       "      <td>0.0</td>\n",
       "      <td>jsDu6QEJHbwP2Blom1PLCA</td>\n",
       "      <td>5.0</td>\n",
       "      <td>Delicious healthy food. The steak is amazing. ...</td>\n",
       "      <td>0.0</td>\n",
       "      <td>msQe1u7Z_XuqjGoqhB0J5g</td>\n",
       "    </tr>\n",
       "  </tbody>\n",
       "</table>\n",
       "</div>"
      ],
      "text/plain": [
       "              business_id cool        date  funny               review_id  \\\n",
       "0  iCQpiavjjPzJ5_3gPD5Ebg    0  2011-02-25    0.0  x7mDIiDB3jEiPGPHOmDzyw   \n",
       "1  pomGBqfbxcqPv14c3XH-ZQ    0  2012-11-13    0.0  dDl8zu1vWPdKGihJrwQbpw   \n",
       "2  jtQARsP6P-LbkyjbO1qNGg    1  2014-10-23    1.0  LZp4UX5zK3e-c5ZGSeo3kA   \n",
       "3  elqbBhBfElMNSrjFqW3now    0  2011-02-25    0.0  Er4NBWCmCD4nM8_p1GRdow   \n",
       "4  Ums3gaP2qM3W1XcA5r6SsQ    0  2014-09-05    0.0  jsDu6QEJHbwP2Blom1PLCA   \n",
       "\n",
       "   stars                                               text  useful  \\\n",
       "0    2.0  The pizza was okay. Not the best I've had. I p...     0.0   \n",
       "1    5.0  I love this place! My fiance And I go here atl...     0.0   \n",
       "2    1.0  Terrible. Dry corn bread. Rib tips were all fa...     3.0   \n",
       "3    2.0  Back in 2005-2007 this place was my FAVORITE t...     2.0   \n",
       "4    5.0  Delicious healthy food. The steak is amazing. ...     0.0   \n",
       "\n",
       "                  user_id  \n",
       "0  msQe1u7Z_XuqjGoqhB0J5g  \n",
       "1  msQe1u7Z_XuqjGoqhB0J5g  \n",
       "2  msQe1u7Z_XuqjGoqhB0J5g  \n",
       "3  msQe1u7Z_XuqjGoqhB0J5g  \n",
       "4  msQe1u7Z_XuqjGoqhB0J5g  "
      ]
     },
     "execution_count": 12,
     "metadata": {},
     "output_type": "execute_result"
    }
   ],
   "source": [
    "reviews.head()"
   ]
  },
  {
   "cell_type": "code",
   "execution_count": 13,
   "metadata": {
    "ExecuteTime": {
     "end_time": "2018-08-22T22:08:12.537147Z",
     "start_time": "2018-08-22T22:08:12.486959Z"
    }
   },
   "outputs": [
    {
     "name": "stdout",
     "output_type": "stream",
     "text": [
      "<class 'pandas.core.frame.DataFrame'>\n",
      "Index: 5996998 entries, 0 to 5996995\n",
      "Data columns (total 9 columns):\n",
      "business_id    object\n",
      "cool           object\n",
      "date           object\n",
      "funny          float64\n",
      "review_id      object\n",
      "stars          float64\n",
      "text           object\n",
      "useful         float64\n",
      "user_id        object\n",
      "dtypes: float64(3), object(6)\n",
      "memory usage: 457.5+ MB\n"
     ]
    }
   ],
   "source": [
    "reviews.info()"
   ]
  },
  {
   "cell_type": "code",
   "execution_count": 14,
   "metadata": {
    "ExecuteTime": {
     "end_time": "2018-08-22T22:10:55.033493Z",
     "start_time": "2018-08-22T22:10:54.910371Z"
    }
   },
   "outputs": [
    {
     "data": {
      "text/plain": [
       "array(['AB', 'NV', 'QC', 'AZ', 'ON', 'PA', 'OH', 'IL', 'WI', 'NC', 'BY',\n",
       "       'NYK', 'SC', 'C', 'XGM', 'ST', 'IN', 'RP', 'CMA', 'NI', 'NLK',\n",
       "       'VS', '6', 'CO', 'HE', 'VA', 'RCC', '01', 'SG', 'NY', 'OR', 'NW',\n",
       "       '4', '10', 'CC', 'CA', '45', 'LU', 'MT', 'G', 'PO', 'B', 'VT',\n",
       "       'AL', 'WAR', 'MO', 'HU', 'M', 'AR', 'O', 'FL', 'WA', 'KY', 'CRF',\n",
       "       'TAM', 'NE', 'XMS', 'GA', 'AG', 'WHT', 'MA', 'V', 'BC', 'SP', 'DE',\n",
       "       'HH', '11', 'CS', 'MN'], dtype=object)"
      ]
     },
     "execution_count": 14,
     "metadata": {},
     "output_type": "execute_result"
    }
   ],
   "source": [
    "business.state.unique()"
   ]
  },
  {
   "cell_type": "code",
   "execution_count": 15,
   "metadata": {
    "ExecuteTime": {
     "end_time": "2018-08-22T22:11:06.068635Z",
     "start_time": "2018-08-22T22:11:05.988062Z"
    }
   },
   "outputs": [
    {
     "data": {
      "text/plain": [
       "AZ     56495\n",
       "NV     35688\n",
       "ON     32393\n",
       "NC     14359\n",
       "OH     13664\n",
       "PA     10966\n",
       "QC      8756\n",
       "AB      7670\n",
       "WI      5042\n",
       "IL      1937\n",
       "SC       770\n",
       "NYK      163\n",
       "NI       134\n",
       "IN       101\n",
       "OR        72\n",
       "BY        60\n",
       "ST        45\n",
       "CO        43\n",
       "C         34\n",
       "HE        32\n",
       "NLK       23\n",
       "XGM       23\n",
       "NY        19\n",
       "RP        19\n",
       "01        11\n",
       "CA         8\n",
       "VS         7\n",
       "NW         4\n",
       "6          3\n",
       "O          3\n",
       "       ...  \n",
       "G          2\n",
       "VA         1\n",
       "LU         1\n",
       "DE         1\n",
       "11         1\n",
       "FL         1\n",
       "WHT        1\n",
       "MN         1\n",
       "10         1\n",
       "NE         1\n",
       "CS         1\n",
       "GA         1\n",
       "TAM        1\n",
       "V          1\n",
       "HH         1\n",
       "KY         1\n",
       "RCC        1\n",
       "BC         1\n",
       "HU         1\n",
       "45         1\n",
       "PO         1\n",
       "WAR        1\n",
       "CRF        1\n",
       "SP         1\n",
       "MT         1\n",
       "CC         1\n",
       "AG         1\n",
       "MA         1\n",
       "XMS        1\n",
       "4          1\n",
       "Name: state, Length: 69, dtype: int64"
      ]
     },
     "execution_count": 15,
     "metadata": {},
     "output_type": "execute_result"
    }
   ],
   "source": [
    "business.state.value_counts()"
   ]
  },
  {
   "cell_type": "code",
   "execution_count": 16,
   "metadata": {
    "ExecuteTime": {
     "end_time": "2018-08-22T22:11:27.153277Z",
     "start_time": "2018-08-22T22:11:26.508104Z"
    }
   },
   "outputs": [],
   "source": [
    "business_AZ = business[business['state'] == 'AZ']"
   ]
  },
  {
   "cell_type": "code",
   "execution_count": 17,
   "metadata": {
    "ExecuteTime": {
     "end_time": "2018-08-22T22:11:51.006612Z",
     "start_time": "2018-08-22T22:11:50.660874Z"
    }
   },
   "outputs": [
    {
     "name": "stderr",
     "output_type": "stream",
     "text": [
      "/anaconda3/lib/python3.6/site-packages/ipykernel_launcher.py:2: SettingWithCopyWarning: \n",
      "A value is trying to be set on a copy of a slice from a DataFrame\n",
      "\n",
      "See the caveats in the documentation: http://pandas.pydata.org/pandas-docs/stable/indexing.html#indexing-view-versus-copy\n",
      "  \n"
     ]
    }
   ],
   "source": [
    "# remove categories with NaN\n",
    "business_AZ.dropna(subset=['categories'], inplace=True)"
   ]
  },
  {
   "cell_type": "code",
   "execution_count": 54,
   "metadata": {
    "ExecuteTime": {
     "end_time": "2018-08-23T16:10:01.365906Z",
     "start_time": "2018-08-23T16:10:00.600606Z"
    }
   },
   "outputs": [],
   "source": [
    "restaurant_AZ = business_AZ[business_AZ['categories'].str.contains('Restaurants')]"
   ]
  },
  {
   "cell_type": "code",
   "execution_count": 55,
   "metadata": {
    "ExecuteTime": {
     "end_time": "2018-08-23T16:10:05.895391Z",
     "start_time": "2018-08-23T16:10:05.850095Z"
    }
   },
   "outputs": [
    {
     "data": {
      "text/plain": [
       "Phoenix                 3805\n",
       "Scottsdale              1509\n",
       "Mesa                    1155\n",
       "Tempe                    991\n",
       "Chandler                 840\n",
       "Glendale                 690\n",
       "Gilbert                  547\n",
       "Peoria                   356\n",
       "Surprise                 223\n",
       "Avondale                 179\n",
       "Goodyear                 172\n",
       "Cave Creek                88\n",
       "Fountain Hills            81\n",
       "Buckeye                   66\n",
       "Litchfield Park           47\n",
       "Sun City                  45\n",
       "Tolleson                  33\n",
       "Laveen                    32\n",
       "Paradise Valley           28\n",
       "Carefree                  27\n",
       "El Mirage                 25\n",
       "MESA                      24\n",
       "Anthem                    16\n",
       "Sun City West             14\n",
       "San Tan Valley            14\n",
       "Sun Lakes                 11\n",
       "Youngtown                 10\n",
       "Fort McDowell              6\n",
       "Higley                     6\n",
       "Guadalupe                  6\n",
       "Ahwatukee                  5\n",
       "Laveen Village             4\n",
       "Roosevelt                  3\n",
       "Scottdale                  2\n",
       "Pheonix                    2\n",
       "Central City               1\n",
       "Waddell                    1\n",
       "Schottsdale                1\n",
       "Phx                        1\n",
       "Mesa AZ                    1\n",
       "Glendale Az                1\n",
       "Phoenix Valley             1\n",
       "Central City Village       1\n",
       "Gelndale                   1\n",
       "Pheonix AZ                 1\n",
       "Name: city, dtype: int64"
      ]
     },
     "execution_count": 55,
     "metadata": {},
     "output_type": "execute_result"
    }
   ],
   "source": [
    "restaurant_AZ['city'].value_counts()"
   ]
  },
  {
   "cell_type": "code",
   "execution_count": 56,
   "metadata": {
    "ExecuteTime": {
     "end_time": "2018-08-23T16:10:12.749893Z",
     "start_time": "2018-08-23T16:10:12.674672Z"
    }
   },
   "outputs": [],
   "source": [
    "# pick only phoenix\n",
    "restaurant_PHX = restaurant_AZ[restaurant_AZ['city'] == 'Phoenix']"
   ]
  },
  {
   "cell_type": "code",
   "execution_count": 57,
   "metadata": {
    "ExecuteTime": {
     "end_time": "2018-08-23T16:10:15.583759Z",
     "start_time": "2018-08-23T16:10:15.108631Z"
    }
   },
   "outputs": [
    {
     "name": "stdout",
     "output_type": "stream",
     "text": [
      "<class 'pandas.core.frame.DataFrame'>\n",
      "Int64Index: 3805 entries, 12 to 188518\n",
      "Data columns (total 15 columns):\n",
      "address         3748 non-null object\n",
      "attributes      3760 non-null object\n",
      "business_id     3805 non-null object\n",
      "categories      3805 non-null object\n",
      "city            3805 non-null object\n",
      "hours           2851 non-null object\n",
      "is_open         3805 non-null int64\n",
      "latitude        3805 non-null float64\n",
      "longitude       3805 non-null float64\n",
      "name            3805 non-null object\n",
      "neighborhood    0 non-null object\n",
      "postal_code     3799 non-null object\n",
      "review_count    3805 non-null int64\n",
      "stars           3805 non-null float64\n",
      "state           3805 non-null object\n",
      "dtypes: float64(3), int64(2), object(10)\n",
      "memory usage: 475.6+ KB\n"
     ]
    }
   ],
   "source": [
    "restaurant_PHX.info()"
   ]
  },
  {
   "cell_type": "markdown",
   "metadata": {},
   "source": [
    "pd.concat(objs, axis=0, join='outer', join_axes=None, ignore_index=False,\n",
    "          keys=None, levels=None, names=None, verify_integrity=False,\n",
    "          copy=True)"
   ]
  },
  {
   "cell_type": "markdown",
   "metadata": {},
   "source": [
    "pd.merge(left, right, how='inner', on=None, left_on=None, right_on=None,\n",
    "         left_index=False, right_index=False, sort=True,\n",
    "         suffixes=('_x', '_y'), copy=True, indicator=False,\n",
    "         validate=None)"
   ]
  },
  {
   "cell_type": "code",
   "execution_count": 58,
   "metadata": {
    "ExecuteTime": {
     "end_time": "2018-08-23T16:11:20.587527Z",
     "start_time": "2018-08-23T16:10:21.387777Z"
    }
   },
   "outputs": [],
   "source": [
    "restaurant_review = pd.merge(restaurant_PHX, reviews, how='inner', on='business_id')"
   ]
  },
  {
   "cell_type": "code",
   "execution_count": 59,
   "metadata": {
    "ExecuteTime": {
     "end_time": "2018-08-23T16:11:25.351751Z",
     "start_time": "2018-08-23T16:11:24.561686Z"
    }
   },
   "outputs": [
    {
     "data": {
      "text/html": [
       "<div>\n",
       "<style scoped>\n",
       "    .dataframe tbody tr th:only-of-type {\n",
       "        vertical-align: middle;\n",
       "    }\n",
       "\n",
       "    .dataframe tbody tr th {\n",
       "        vertical-align: top;\n",
       "    }\n",
       "\n",
       "    .dataframe thead th {\n",
       "        text-align: right;\n",
       "    }\n",
       "</style>\n",
       "<table border=\"1\" class=\"dataframe\">\n",
       "  <thead>\n",
       "    <tr style=\"text-align: right;\">\n",
       "      <th></th>\n",
       "      <th>address</th>\n",
       "      <th>attributes</th>\n",
       "      <th>business_id</th>\n",
       "      <th>categories</th>\n",
       "      <th>city</th>\n",
       "      <th>hours</th>\n",
       "      <th>is_open</th>\n",
       "      <th>latitude</th>\n",
       "      <th>longitude</th>\n",
       "      <th>name</th>\n",
       "      <th>...</th>\n",
       "      <th>stars_x</th>\n",
       "      <th>state</th>\n",
       "      <th>cool</th>\n",
       "      <th>date</th>\n",
       "      <th>funny</th>\n",
       "      <th>review_id</th>\n",
       "      <th>stars_y</th>\n",
       "      <th>text</th>\n",
       "      <th>useful</th>\n",
       "      <th>user_id</th>\n",
       "    </tr>\n",
       "  </thead>\n",
       "  <tbody>\n",
       "    <tr>\n",
       "      <th>0</th>\n",
       "      <td>2801 N 15th Ave</td>\n",
       "      <td>{'Alcohol': 'full_bar', 'Ambience': \"{'romanti...</td>\n",
       "      <td>_c3ixq9jYKxhLUB0czi0ug</td>\n",
       "      <td>Bars, Sports Bars, Dive Bars, Burgers, Nightli...</td>\n",
       "      <td>Phoenix</td>\n",
       "      <td>{'Monday': '11:0-22:0', 'Tuesday': '11:0-22:0'...</td>\n",
       "      <td>1</td>\n",
       "      <td>33.479807</td>\n",
       "      <td>-112.091188</td>\n",
       "      <td>Original Hamburger Works</td>\n",
       "      <td>...</td>\n",
       "      <td>4.0</td>\n",
       "      <td>AZ</td>\n",
       "      <td>0</td>\n",
       "      <td>2015-05-11</td>\n",
       "      <td>0.0</td>\n",
       "      <td>lM_XM7e1nD7d7NJ815inuA</td>\n",
       "      <td>4.0</td>\n",
       "      <td>Cozy neighborhood sports bar w good burgers. L...</td>\n",
       "      <td>2.0</td>\n",
       "      <td>UfUFjbwLpYCeJrWUWdMYVA</td>\n",
       "    </tr>\n",
       "    <tr>\n",
       "      <th>1</th>\n",
       "      <td>2801 N 15th Ave</td>\n",
       "      <td>{'Alcohol': 'full_bar', 'Ambience': \"{'romanti...</td>\n",
       "      <td>_c3ixq9jYKxhLUB0czi0ug</td>\n",
       "      <td>Bars, Sports Bars, Dive Bars, Burgers, Nightli...</td>\n",
       "      <td>Phoenix</td>\n",
       "      <td>{'Monday': '11:0-22:0', 'Tuesday': '11:0-22:0'...</td>\n",
       "      <td>1</td>\n",
       "      <td>33.479807</td>\n",
       "      <td>-112.091188</td>\n",
       "      <td>Original Hamburger Works</td>\n",
       "      <td>...</td>\n",
       "      <td>4.0</td>\n",
       "      <td>AZ</td>\n",
       "      <td>0</td>\n",
       "      <td>2010-08-14</td>\n",
       "      <td>0.0</td>\n",
       "      <td>ACW_G1G0PG0GNyGUPfI3UA</td>\n",
       "      <td>4.0</td>\n",
       "      <td>The bad: the bar closes at 10pm.  It seems lik...</td>\n",
       "      <td>0.0</td>\n",
       "      <td>VWDL0VgQ2ivpN3oYhL_WsA</td>\n",
       "    </tr>\n",
       "    <tr>\n",
       "      <th>2</th>\n",
       "      <td>2801 N 15th Ave</td>\n",
       "      <td>{'Alcohol': 'full_bar', 'Ambience': \"{'romanti...</td>\n",
       "      <td>_c3ixq9jYKxhLUB0czi0ug</td>\n",
       "      <td>Bars, Sports Bars, Dive Bars, Burgers, Nightli...</td>\n",
       "      <td>Phoenix</td>\n",
       "      <td>{'Monday': '11:0-22:0', 'Tuesday': '11:0-22:0'...</td>\n",
       "      <td>1</td>\n",
       "      <td>33.479807</td>\n",
       "      <td>-112.091188</td>\n",
       "      <td>Original Hamburger Works</td>\n",
       "      <td>...</td>\n",
       "      <td>4.0</td>\n",
       "      <td>AZ</td>\n",
       "      <td>1</td>\n",
       "      <td>2014-07-29</td>\n",
       "      <td>0.0</td>\n",
       "      <td>KKJa4pRGwq8eO6YCdhjNoA</td>\n",
       "      <td>5.0</td>\n",
       "      <td>Good food, good vibes, good service. All adds ...</td>\n",
       "      <td>1.0</td>\n",
       "      <td>SoL4ToJdvxWpGGzxYVA86A</td>\n",
       "    </tr>\n",
       "    <tr>\n",
       "      <th>3</th>\n",
       "      <td>2801 N 15th Ave</td>\n",
       "      <td>{'Alcohol': 'full_bar', 'Ambience': \"{'romanti...</td>\n",
       "      <td>_c3ixq9jYKxhLUB0czi0ug</td>\n",
       "      <td>Bars, Sports Bars, Dive Bars, Burgers, Nightli...</td>\n",
       "      <td>Phoenix</td>\n",
       "      <td>{'Monday': '11:0-22:0', 'Tuesday': '11:0-22:0'...</td>\n",
       "      <td>1</td>\n",
       "      <td>33.479807</td>\n",
       "      <td>-112.091188</td>\n",
       "      <td>Original Hamburger Works</td>\n",
       "      <td>...</td>\n",
       "      <td>4.0</td>\n",
       "      <td>AZ</td>\n",
       "      <td>0</td>\n",
       "      <td>2015-11-08</td>\n",
       "      <td>0.0</td>\n",
       "      <td>zSa_s88VlxYzeiHHTlK6xw</td>\n",
       "      <td>5.0</td>\n",
       "      <td>My wife and I were referred to this place by a...</td>\n",
       "      <td>0.0</td>\n",
       "      <td>JIj2V2YaM5_8jVtnkLSZ5g</td>\n",
       "    </tr>\n",
       "    <tr>\n",
       "      <th>4</th>\n",
       "      <td>2801 N 15th Ave</td>\n",
       "      <td>{'Alcohol': 'full_bar', 'Ambience': \"{'romanti...</td>\n",
       "      <td>_c3ixq9jYKxhLUB0czi0ug</td>\n",
       "      <td>Bars, Sports Bars, Dive Bars, Burgers, Nightli...</td>\n",
       "      <td>Phoenix</td>\n",
       "      <td>{'Monday': '11:0-22:0', 'Tuesday': '11:0-22:0'...</td>\n",
       "      <td>1</td>\n",
       "      <td>33.479807</td>\n",
       "      <td>-112.091188</td>\n",
       "      <td>Original Hamburger Works</td>\n",
       "      <td>...</td>\n",
       "      <td>4.0</td>\n",
       "      <td>AZ</td>\n",
       "      <td>3</td>\n",
       "      <td>2009-09-24</td>\n",
       "      <td>5.0</td>\n",
       "      <td>1wYTbfyQ0bfM31nM9c3hsA</td>\n",
       "      <td>3.0</td>\n",
       "      <td>My boyfriend likes burgers...I don't. Not real...</td>\n",
       "      <td>4.0</td>\n",
       "      <td>BoJQWDp2a9sxUMrlJBTfRA</td>\n",
       "    </tr>\n",
       "  </tbody>\n",
       "</table>\n",
       "<p>5 rows × 23 columns</p>\n",
       "</div>"
      ],
      "text/plain": [
       "           address                                         attributes  \\\n",
       "0  2801 N 15th Ave  {'Alcohol': 'full_bar', 'Ambience': \"{'romanti...   \n",
       "1  2801 N 15th Ave  {'Alcohol': 'full_bar', 'Ambience': \"{'romanti...   \n",
       "2  2801 N 15th Ave  {'Alcohol': 'full_bar', 'Ambience': \"{'romanti...   \n",
       "3  2801 N 15th Ave  {'Alcohol': 'full_bar', 'Ambience': \"{'romanti...   \n",
       "4  2801 N 15th Ave  {'Alcohol': 'full_bar', 'Ambience': \"{'romanti...   \n",
       "\n",
       "              business_id                                         categories  \\\n",
       "0  _c3ixq9jYKxhLUB0czi0ug  Bars, Sports Bars, Dive Bars, Burgers, Nightli...   \n",
       "1  _c3ixq9jYKxhLUB0czi0ug  Bars, Sports Bars, Dive Bars, Burgers, Nightli...   \n",
       "2  _c3ixq9jYKxhLUB0czi0ug  Bars, Sports Bars, Dive Bars, Burgers, Nightli...   \n",
       "3  _c3ixq9jYKxhLUB0czi0ug  Bars, Sports Bars, Dive Bars, Burgers, Nightli...   \n",
       "4  _c3ixq9jYKxhLUB0czi0ug  Bars, Sports Bars, Dive Bars, Burgers, Nightli...   \n",
       "\n",
       "      city                                              hours  is_open  \\\n",
       "0  Phoenix  {'Monday': '11:0-22:0', 'Tuesday': '11:0-22:0'...        1   \n",
       "1  Phoenix  {'Monday': '11:0-22:0', 'Tuesday': '11:0-22:0'...        1   \n",
       "2  Phoenix  {'Monday': '11:0-22:0', 'Tuesday': '11:0-22:0'...        1   \n",
       "3  Phoenix  {'Monday': '11:0-22:0', 'Tuesday': '11:0-22:0'...        1   \n",
       "4  Phoenix  {'Monday': '11:0-22:0', 'Tuesday': '11:0-22:0'...        1   \n",
       "\n",
       "    latitude   longitude                      name           ...            \\\n",
       "0  33.479807 -112.091188  Original Hamburger Works           ...             \n",
       "1  33.479807 -112.091188  Original Hamburger Works           ...             \n",
       "2  33.479807 -112.091188  Original Hamburger Works           ...             \n",
       "3  33.479807 -112.091188  Original Hamburger Works           ...             \n",
       "4  33.479807 -112.091188  Original Hamburger Works           ...             \n",
       "\n",
       "  stars_x state  cool        date funny               review_id stars_y  \\\n",
       "0     4.0    AZ     0  2015-05-11   0.0  lM_XM7e1nD7d7NJ815inuA     4.0   \n",
       "1     4.0    AZ     0  2010-08-14   0.0  ACW_G1G0PG0GNyGUPfI3UA     4.0   \n",
       "2     4.0    AZ     1  2014-07-29   0.0  KKJa4pRGwq8eO6YCdhjNoA     5.0   \n",
       "3     4.0    AZ     0  2015-11-08   0.0  zSa_s88VlxYzeiHHTlK6xw     5.0   \n",
       "4     4.0    AZ     3  2009-09-24   5.0  1wYTbfyQ0bfM31nM9c3hsA     3.0   \n",
       "\n",
       "                                                text useful  \\\n",
       "0  Cozy neighborhood sports bar w good burgers. L...    2.0   \n",
       "1  The bad: the bar closes at 10pm.  It seems lik...    0.0   \n",
       "2  Good food, good vibes, good service. All adds ...    1.0   \n",
       "3  My wife and I were referred to this place by a...    0.0   \n",
       "4  My boyfriend likes burgers...I don't. Not real...    4.0   \n",
       "\n",
       "                  user_id  \n",
       "0  UfUFjbwLpYCeJrWUWdMYVA  \n",
       "1  VWDL0VgQ2ivpN3oYhL_WsA  \n",
       "2  SoL4ToJdvxWpGGzxYVA86A  \n",
       "3  JIj2V2YaM5_8jVtnkLSZ5g  \n",
       "4  BoJQWDp2a9sxUMrlJBTfRA  \n",
       "\n",
       "[5 rows x 23 columns]"
      ]
     },
     "execution_count": 59,
     "metadata": {},
     "output_type": "execute_result"
    }
   ],
   "source": [
    "restaurant_review.head()"
   ]
  },
  {
   "cell_type": "code",
   "execution_count": 60,
   "metadata": {
    "ExecuteTime": {
     "end_time": "2018-08-23T16:11:32.759100Z",
     "start_time": "2018-08-23T16:11:29.011657Z"
    }
   },
   "outputs": [
    {
     "name": "stdout",
     "output_type": "stream",
     "text": [
      "<class 'pandas.core.frame.DataFrame'>\n",
      "Int64Index: 375409 entries, 0 to 375408\n",
      "Data columns (total 23 columns):\n",
      "address         374340 non-null object\n",
      "attributes      374715 non-null object\n",
      "business_id     375409 non-null object\n",
      "categories      375409 non-null object\n",
      "city            375409 non-null object\n",
      "hours           354817 non-null object\n",
      "is_open         375409 non-null int64\n",
      "latitude        375409 non-null float64\n",
      "longitude       375409 non-null float64\n",
      "name            375409 non-null object\n",
      "neighborhood    0 non-null object\n",
      "postal_code     375253 non-null object\n",
      "review_count    375409 non-null int64\n",
      "stars_x         375409 non-null float64\n",
      "state           375409 non-null object\n",
      "cool            375409 non-null object\n",
      "date            375409 non-null object\n",
      "funny           375409 non-null float64\n",
      "review_id       375409 non-null object\n",
      "stars_y         375409 non-null float64\n",
      "text            375409 non-null object\n",
      "useful          375409 non-null float64\n",
      "user_id         375409 non-null object\n",
      "dtypes: float64(6), int64(2), object(15)\n",
      "memory usage: 68.7+ MB\n"
     ]
    }
   ],
   "source": [
    "restaurant_review.info()"
   ]
  },
  {
   "cell_type": "code",
   "execution_count": 61,
   "metadata": {
    "ExecuteTime": {
     "end_time": "2018-08-23T16:11:45.056396Z",
     "start_time": "2018-08-23T16:11:38.448203Z"
    }
   },
   "outputs": [],
   "source": [
    "restaurant_review_user = pd.merge(users, restaurant_review, how='inner', on='user_id')"
   ]
  },
  {
   "cell_type": "code",
   "execution_count": 62,
   "metadata": {
    "ExecuteTime": {
     "end_time": "2018-08-23T16:11:48.425596Z",
     "start_time": "2018-08-23T16:11:48.327212Z"
    }
   },
   "outputs": [
    {
     "data": {
      "text/html": [
       "<div>\n",
       "<style scoped>\n",
       "    .dataframe tbody tr th:only-of-type {\n",
       "        vertical-align: middle;\n",
       "    }\n",
       "\n",
       "    .dataframe tbody tr th {\n",
       "        vertical-align: top;\n",
       "    }\n",
       "\n",
       "    .dataframe thead th {\n",
       "        text-align: right;\n",
       "    }\n",
       "</style>\n",
       "<table border=\"1\" class=\"dataframe\">\n",
       "  <thead>\n",
       "    <tr style=\"text-align: right;\">\n",
       "      <th></th>\n",
       "      <th>average_stars</th>\n",
       "      <th>compliment_cool</th>\n",
       "      <th>compliment_cute</th>\n",
       "      <th>compliment_funny</th>\n",
       "      <th>compliment_hot</th>\n",
       "      <th>compliment_list</th>\n",
       "      <th>compliment_more</th>\n",
       "      <th>compliment_note</th>\n",
       "      <th>compliment_photos</th>\n",
       "      <th>compliment_plain</th>\n",
       "      <th>...</th>\n",
       "      <th>review_count_y</th>\n",
       "      <th>stars_x</th>\n",
       "      <th>state</th>\n",
       "      <th>cool_y</th>\n",
       "      <th>date</th>\n",
       "      <th>funny_y</th>\n",
       "      <th>review_id</th>\n",
       "      <th>stars_y</th>\n",
       "      <th>text</th>\n",
       "      <th>useful_y</th>\n",
       "    </tr>\n",
       "  </thead>\n",
       "  <tbody>\n",
       "    <tr>\n",
       "      <th>0</th>\n",
       "      <td>4.0</td>\n",
       "      <td>0</td>\n",
       "      <td>0</td>\n",
       "      <td>0</td>\n",
       "      <td>0</td>\n",
       "      <td>0</td>\n",
       "      <td>0</td>\n",
       "      <td>0</td>\n",
       "      <td>0</td>\n",
       "      <td>0</td>\n",
       "      <td>...</td>\n",
       "      <td>296</td>\n",
       "      <td>4.0</td>\n",
       "      <td>AZ</td>\n",
       "      <td>0</td>\n",
       "      <td>2017-01-28</td>\n",
       "      <td>0.0</td>\n",
       "      <td>B7nYOB0yjOkCmLtXHfxWxw</td>\n",
       "      <td>4.0</td>\n",
       "      <td>Great burger place, chipotle style menu. Good ...</td>\n",
       "      <td>0.0</td>\n",
       "    </tr>\n",
       "    <tr>\n",
       "      <th>1</th>\n",
       "      <td>4.0</td>\n",
       "      <td>0</td>\n",
       "      <td>0</td>\n",
       "      <td>0</td>\n",
       "      <td>0</td>\n",
       "      <td>0</td>\n",
       "      <td>0</td>\n",
       "      <td>0</td>\n",
       "      <td>0</td>\n",
       "      <td>0</td>\n",
       "      <td>...</td>\n",
       "      <td>120</td>\n",
       "      <td>3.5</td>\n",
       "      <td>AZ</td>\n",
       "      <td>2</td>\n",
       "      <td>2013-04-07</td>\n",
       "      <td>0.0</td>\n",
       "      <td>yDT1e0XEACTiPfhJCbrasA</td>\n",
       "      <td>4.0</td>\n",
       "      <td>Big and Juicy fried Oyster..... and the Ipswic...</td>\n",
       "      <td>2.0</td>\n",
       "    </tr>\n",
       "    <tr>\n",
       "      <th>2</th>\n",
       "      <td>4.0</td>\n",
       "      <td>0</td>\n",
       "      <td>0</td>\n",
       "      <td>0</td>\n",
       "      <td>0</td>\n",
       "      <td>0</td>\n",
       "      <td>0</td>\n",
       "      <td>0</td>\n",
       "      <td>0</td>\n",
       "      <td>0</td>\n",
       "      <td>...</td>\n",
       "      <td>170</td>\n",
       "      <td>4.0</td>\n",
       "      <td>AZ</td>\n",
       "      <td>1</td>\n",
       "      <td>2013-04-07</td>\n",
       "      <td>0.0</td>\n",
       "      <td>JMFMubgR3gmM98H0MDh_Xw</td>\n",
       "      <td>4.0</td>\n",
       "      <td>Wonderful Chinese food for a very fair value. ...</td>\n",
       "      <td>0.0</td>\n",
       "    </tr>\n",
       "    <tr>\n",
       "      <th>3</th>\n",
       "      <td>4.0</td>\n",
       "      <td>0</td>\n",
       "      <td>0</td>\n",
       "      <td>0</td>\n",
       "      <td>0</td>\n",
       "      <td>0</td>\n",
       "      <td>0</td>\n",
       "      <td>0</td>\n",
       "      <td>0</td>\n",
       "      <td>0</td>\n",
       "      <td>...</td>\n",
       "      <td>1036</td>\n",
       "      <td>4.0</td>\n",
       "      <td>AZ</td>\n",
       "      <td>1</td>\n",
       "      <td>2013-04-07</td>\n",
       "      <td>0.0</td>\n",
       "      <td>KNiuq0ZgsBaopu3jUfrrIQ</td>\n",
       "      <td>4.0</td>\n",
       "      <td>Was in search of a tasty burger. Mushroom burg...</td>\n",
       "      <td>1.0</td>\n",
       "    </tr>\n",
       "    <tr>\n",
       "      <th>4</th>\n",
       "      <td>4.0</td>\n",
       "      <td>0</td>\n",
       "      <td>0</td>\n",
       "      <td>0</td>\n",
       "      <td>0</td>\n",
       "      <td>0</td>\n",
       "      <td>0</td>\n",
       "      <td>0</td>\n",
       "      <td>0</td>\n",
       "      <td>0</td>\n",
       "      <td>...</td>\n",
       "      <td>316</td>\n",
       "      <td>4.5</td>\n",
       "      <td>AZ</td>\n",
       "      <td>0</td>\n",
       "      <td>2013-04-07</td>\n",
       "      <td>0.0</td>\n",
       "      <td>ry9YjXdIkcuIWpLAhMBf4A</td>\n",
       "      <td>4.0</td>\n",
       "      <td>Fresh and tasty carne asada quesadilla or past...</td>\n",
       "      <td>0.0</td>\n",
       "    </tr>\n",
       "  </tbody>\n",
       "</table>\n",
       "<p>5 rows × 44 columns</p>\n",
       "</div>"
      ],
      "text/plain": [
       "   average_stars  compliment_cool  compliment_cute  compliment_funny  \\\n",
       "0            4.0                0                0                 0   \n",
       "1            4.0                0                0                 0   \n",
       "2            4.0                0                0                 0   \n",
       "3            4.0                0                0                 0   \n",
       "4            4.0                0                0                 0   \n",
       "\n",
       "   compliment_hot  compliment_list  compliment_more  compliment_note  \\\n",
       "0               0                0                0                0   \n",
       "1               0                0                0                0   \n",
       "2               0                0                0                0   \n",
       "3               0                0                0                0   \n",
       "4               0                0                0                0   \n",
       "\n",
       "   compliment_photos  compliment_plain    ...     review_count_y  stars_x  \\\n",
       "0                  0                 0    ...                296      4.0   \n",
       "1                  0                 0    ...                120      3.5   \n",
       "2                  0                 0    ...                170      4.0   \n",
       "3                  0                 0    ...               1036      4.0   \n",
       "4                  0                 0    ...                316      4.5   \n",
       "\n",
       "   state cool_y        date funny_y               review_id stars_y  \\\n",
       "0     AZ      0  2017-01-28     0.0  B7nYOB0yjOkCmLtXHfxWxw     4.0   \n",
       "1     AZ      2  2013-04-07     0.0  yDT1e0XEACTiPfhJCbrasA     4.0   \n",
       "2     AZ      1  2013-04-07     0.0  JMFMubgR3gmM98H0MDh_Xw     4.0   \n",
       "3     AZ      1  2013-04-07     0.0  KNiuq0ZgsBaopu3jUfrrIQ     4.0   \n",
       "4     AZ      0  2013-04-07     0.0  ry9YjXdIkcuIWpLAhMBf4A     4.0   \n",
       "\n",
       "                                                text  useful_y  \n",
       "0  Great burger place, chipotle style menu. Good ...       0.0  \n",
       "1  Big and Juicy fried Oyster..... and the Ipswic...       2.0  \n",
       "2  Wonderful Chinese food for a very fair value. ...       0.0  \n",
       "3  Was in search of a tasty burger. Mushroom burg...       1.0  \n",
       "4  Fresh and tasty carne asada quesadilla or past...       0.0  \n",
       "\n",
       "[5 rows x 44 columns]"
      ]
     },
     "execution_count": 62,
     "metadata": {},
     "output_type": "execute_result"
    }
   ],
   "source": [
    "restaurant_review_user.head()"
   ]
  },
  {
   "cell_type": "code",
   "execution_count": 63,
   "metadata": {
    "ExecuteTime": {
     "end_time": "2018-08-23T16:11:53.473149Z",
     "start_time": "2018-08-23T16:11:51.766665Z"
    }
   },
   "outputs": [
    {
     "name": "stdout",
     "output_type": "stream",
     "text": [
      "<class 'pandas.core.frame.DataFrame'>\n",
      "Int64Index: 375409 entries, 0 to 375408\n",
      "Data columns (total 44 columns):\n",
      "average_stars         375409 non-null float64\n",
      "compliment_cool       375409 non-null int64\n",
      "compliment_cute       375409 non-null int64\n",
      "compliment_funny      375409 non-null int64\n",
      "compliment_hot        375409 non-null int64\n",
      "compliment_list       375409 non-null int64\n",
      "compliment_more       375409 non-null int64\n",
      "compliment_note       375409 non-null int64\n",
      "compliment_photos     375409 non-null int64\n",
      "compliment_plain      375409 non-null int64\n",
      "compliment_profile    375409 non-null int64\n",
      "compliment_writer     375409 non-null int64\n",
      "cool_x                375409 non-null int64\n",
      "elite                 375409 non-null object\n",
      "fans                  375409 non-null int64\n",
      "friends               375409 non-null object\n",
      "funny_x               375409 non-null int64\n",
      "name_x                375390 non-null object\n",
      "review_count_x        375409 non-null int64\n",
      "useful_x              375409 non-null int64\n",
      "user_id               375409 non-null object\n",
      "yelping_since         375409 non-null object\n",
      "address               374340 non-null object\n",
      "attributes            374715 non-null object\n",
      "business_id           375409 non-null object\n",
      "categories            375409 non-null object\n",
      "city                  375409 non-null object\n",
      "hours                 354817 non-null object\n",
      "is_open               375409 non-null int64\n",
      "latitude              375409 non-null float64\n",
      "longitude             375409 non-null float64\n",
      "name_y                375409 non-null object\n",
      "neighborhood          0 non-null object\n",
      "postal_code           375253 non-null object\n",
      "review_count_y        375409 non-null int64\n",
      "stars_x               375409 non-null float64\n",
      "state                 375409 non-null object\n",
      "cool_y                375409 non-null object\n",
      "date                  375409 non-null object\n",
      "funny_y               375409 non-null float64\n",
      "review_id             375409 non-null object\n",
      "stars_y               375409 non-null float64\n",
      "text                  375409 non-null object\n",
      "useful_y              375409 non-null float64\n",
      "dtypes: float64(7), int64(18), object(19)\n",
      "memory usage: 128.9+ MB\n"
     ]
    }
   ],
   "source": [
    "restaurant_review_user.info()"
   ]
  },
  {
   "cell_type": "code",
   "execution_count": 64,
   "metadata": {
    "ExecuteTime": {
     "end_time": "2018-08-23T16:12:01.233561Z",
     "start_time": "2018-08-23T16:12:00.751207Z"
    }
   },
   "outputs": [
    {
     "data": {
      "text/plain": [
       "user_id\n",
       "---94vtJ_5o_nikEs6hUjg     1\n",
       "---cu1hq55BP9DWVXXKHZg     2\n",
       "--2HUmLkcNHZp0xw6AMBPg     6\n",
       "--3WaS23LcIXtxyFULJHTA     2\n",
       "--41c9Tl0C9OGewIR7Qyzg     1\n",
       "--4q8EyqThydQm-eKZpS-A     1\n",
       "--4rAAfZnEIAKJE80aIiYg    12\n",
       "--5XzJ2pRsVVJiJUfzZlgQ     1\n",
       "--BIMVqCxdg5AbJu-ysD8g     1\n",
       "--CIuK7sUpaNzalLAlHJKA     5\n",
       "--HSetzBcPbZifvoFc5sHg     1\n",
       "--IMmfBLz5qOLSlSHRHH6Q     2\n",
       "--K1aJ5K8ZLIfDd_NjySbA     1\n",
       "--KR35achpjfu4qZ5Mb5Kg     2\n",
       "--L_yvPtHKRTjRO0T8FL0g     2\n",
       "--Nnm_506G_p8MxAOQna5w    25\n",
       "--P-Qvza7AED8gnDrZkMgA     3\n",
       "--PHyzUR6FEjHqxg9I60LA     2\n",
       "--RY4bG7REOBum5HsSspxQ     1\n",
       "--Rm-VyYWgHA7ZpljAMlvg     3\n",
       "--_TEmFrGzbLOfkezpyTRg     1\n",
       "--dt6KqbqXc3cIdPNTrhUQ     2\n",
       "--eQVss9nAx54FWsZHZgpA     4\n",
       "--fF-8O8ruMCIuP45IwVMQ     1\n",
       "--fF_pQlaU9sME-HLCoHlQ     2\n",
       "--fTYYEaTDqA8Z2OR_vNfw     1\n",
       "--gBGXfVm5YyAVVkj84W5Q     1\n",
       "--gc9Xg3MPKCy3BPt1g_1A     1\n",
       "--gsZ16vkDVFD5uSuUFBFw     2\n",
       "--iiD1TQzaXGxePZ1g5S2A     1\n",
       "                          ..\n",
       "zz5dvUxublEptng2GvC6sA     2\n",
       "zz8rQaQvsZFZfAu-rPhLNw     8\n",
       "zzF17hwmlFTuOa1Yagi-eg    10\n",
       "zzGUguWplnzgKfYxM5KWsg     1\n",
       "zzGsbwQ3HKL3YSUAig4mwQ     1\n",
       "zzIn-ymZjkihnZ7klX13Iw     1\n",
       "zzJImcfBJi_SJSuh-6l2qw     2\n",
       "zzO9aMo33jA3pPv8SoYskw     4\n",
       "zzOd64i66_Z5roGjXmwCXA     1\n",
       "zzPr2LP2uMqI2SYhVBmowQ     2\n",
       "zzPwPGo8aJmWOH4rSxcv-g     1\n",
       "zzRq3Ykz8yfr2mcsPhYnEg     1\n",
       "zzSu7UOwJW-BlS8jLjrJAQ     1\n",
       "zzT7g9p0NVHz5jMoWgN9cw     1\n",
       "zzWQb8kPhQ64SiCSY8jxfQ     1\n",
       "zzXNLpbLmNzcC7h7mGonNQ     4\n",
       "zz_af2hX9jRh965zsaFLKg     1\n",
       "zzaq5Fn1U2Feut3dGxidNg     1\n",
       "zzbDNI_Ss1DmeDITGoTjXA     1\n",
       "zzbLAhBKT8xEZWWaIuG0vQ     2\n",
       "zzcRUD3kTXhHQXJIhxlKoQ     1\n",
       "zzhOHf6bPcrFkzyWKTyp0g     1\n",
       "zzitZPIJBmyxt8DefrJygg     4\n",
       "zzjQuRnY_Kgr_zaw6A-ACQ     1\n",
       "zzkgqTZLZxLdIRtMBOUSeQ     1\n",
       "zzmbLv7WZPxhGbpk0BdPPQ     1\n",
       "zznZTSALzMXf3cjggfNdBQ     4\n",
       "zzpV8L0FOeyejQwomFSDPA     1\n",
       "zzzAgDDWe4PTnJuwhi3XQQ     1\n",
       "zzzTrQ2bkvteEngjkXCTAA     1\n",
       "Name: review_count_x, Length: 141654, dtype: int64"
      ]
     },
     "execution_count": 64,
     "metadata": {},
     "output_type": "execute_result"
    }
   ],
   "source": [
    "restaurant_review_user.groupby('user_id')['review_count_x'].count()"
   ]
  },
  {
   "cell_type": "code",
   "execution_count": 65,
   "metadata": {
    "ExecuteTime": {
     "end_time": "2018-08-23T16:13:07.023768Z",
     "start_time": "2018-08-23T16:12:07.114554Z"
    }
   },
   "outputs": [],
   "source": [
    "restaurant_review_user.to_csv('restaurant_review_user_phx.csv')"
   ]
  },
  {
   "cell_type": "code",
   "execution_count": 66,
   "metadata": {
    "ExecuteTime": {
     "end_time": "2018-08-23T16:13:11.438152Z",
     "start_time": "2018-08-23T16:13:10.758250Z"
    }
   },
   "outputs": [
    {
     "data": {
      "text/plain": [
       "141654"
      ]
     },
     "execution_count": 66,
     "metadata": {},
     "output_type": "execute_result"
    }
   ],
   "source": [
    "# total users who reviewed on phx restaurant\n",
    "len(restaurant_review_user.groupby('user_id')['review_count_x'].count())"
   ]
  },
  {
   "cell_type": "code",
   "execution_count": 67,
   "metadata": {
    "ExecuteTime": {
     "end_time": "2018-08-23T16:13:17.504489Z",
     "start_time": "2018-08-23T16:13:17.045796Z"
    }
   },
   "outputs": [
    {
     "data": {
      "text/plain": [
       "30707"
      ]
     },
     "execution_count": 67,
     "metadata": {},
     "output_type": "execute_result"
    }
   ],
   "source": [
    "# number of users who have 3 or more reviews on phx restaurant\n",
    "sum(restaurant_review_user.groupby('user_id')['review_count_x'].count()>=3)"
   ]
  },
  {
   "cell_type": "code",
   "execution_count": 68,
   "metadata": {
    "ExecuteTime": {
     "end_time": "2018-08-23T16:13:22.340978Z",
     "start_time": "2018-08-23T16:13:22.283192Z"
    }
   },
   "outputs": [],
   "source": [
    "test = restaurant_review_user.iloc[0,:]"
   ]
  },
  {
   "cell_type": "code",
   "execution_count": 69,
   "metadata": {
    "ExecuteTime": {
     "end_time": "2018-08-23T16:13:23.163297Z",
     "start_time": "2018-08-23T16:13:23.123173Z"
    }
   },
   "outputs": [
    {
     "data": {
      "text/plain": [
       "average_stars                                                         4\n",
       "compliment_cool                                                       0\n",
       "compliment_cute                                                       0\n",
       "compliment_funny                                                      0\n",
       "compliment_hot                                                        0\n",
       "compliment_list                                                       0\n",
       "compliment_more                                                       0\n",
       "compliment_note                                                       0\n",
       "compliment_photos                                                     0\n",
       "compliment_plain                                                      0\n",
       "compliment_profile                                                    0\n",
       "compliment_writer                                                     0\n",
       "cool_x                                                                0\n",
       "elite                                                              None\n",
       "fans                                                                  0\n",
       "friends                                                            None\n",
       "funny_x                                                               0\n",
       "name_x                                                             Andy\n",
       "review_count_x                                                        1\n",
       "useful_x                                                              0\n",
       "user_id                                          QPT4Ud4H5sJVr68yXhoWFw\n",
       "yelping_since                                                2016-07-21\n",
       "address                                          430 E Bell Rd, Ste 103\n",
       "attributes            {'Alcohol': 'beer_and_wine', 'Ambience': \"{'ro...\n",
       "business_id                                      lRL7x-HMBscWyELxEVq85w\n",
       "categories                                         Restaurants, Burgers\n",
       "city                                                            Phoenix\n",
       "hours                 {'Monday': '11:0-21:0', 'Tuesday': '11:0-21:0'...\n",
       "is_open                                                               1\n",
       "latitude                                                        33.6412\n",
       "longitude                                                      -112.068\n",
       "name_y                                                  Caveman Burgers\n",
       "neighborhood                                                        NaN\n",
       "postal_code                                                       85022\n",
       "review_count_y                                                      296\n",
       "stars_x                                                               4\n",
       "state                                                                AZ\n",
       "cool_y                                                                0\n",
       "date                                                         2017-01-28\n",
       "funny_y                                                               0\n",
       "review_id                                        B7nYOB0yjOkCmLtXHfxWxw\n",
       "stars_y                                                               4\n",
       "text                  Great burger place, chipotle style menu. Good ...\n",
       "useful_y                                                              0\n",
       "Name: 0, dtype: object"
      ]
     },
     "execution_count": 69,
     "metadata": {},
     "output_type": "execute_result"
    }
   ],
   "source": [
    "test"
   ]
  },
  {
   "cell_type": "code",
   "execution_count": 70,
   "metadata": {
    "ExecuteTime": {
     "end_time": "2018-08-23T16:13:27.976697Z",
     "start_time": "2018-08-23T16:13:27.534729Z"
    }
   },
   "outputs": [
    {
     "data": {
      "text/plain": [
       "2.650182839877448"
      ]
     },
     "execution_count": 70,
     "metadata": {},
     "output_type": "execute_result"
    }
   ],
   "source": [
    "restaurant_review_user.groupby('user_id')['review_count_x'].count().mean()"
   ]
  },
  {
   "cell_type": "markdown",
   "metadata": {},
   "source": [
    "## read in the whole phx restaurant data"
   ]
  },
  {
   "cell_type": "code",
   "execution_count": 2,
   "metadata": {
    "ExecuteTime": {
     "end_time": "2018-08-23T16:28:45.751791Z",
     "start_time": "2018-08-23T16:28:30.067607Z"
    }
   },
   "outputs": [],
   "source": [
    "df = pd.read_csv('./yelp_dataset/restaurant_review_user_phx.csv', index_col=0)"
   ]
  },
  {
   "cell_type": "code",
   "execution_count": 75,
   "metadata": {
    "ExecuteTime": {
     "end_time": "2018-08-23T18:23:09.978670Z",
     "start_time": "2018-08-23T18:23:07.895245Z"
    }
   },
   "outputs": [
    {
     "name": "stdout",
     "output_type": "stream",
     "text": [
      "<class 'pandas.core.frame.DataFrame'>\n",
      "Int64Index: 375409 entries, 0 to 375408\n",
      "Data columns (total 44 columns):\n",
      "average_stars         375409 non-null float64\n",
      "compliment_cool       375409 non-null int64\n",
      "compliment_cute       375409 non-null int64\n",
      "compliment_funny      375409 non-null int64\n",
      "compliment_hot        375409 non-null int64\n",
      "compliment_list       375409 non-null int64\n",
      "compliment_more       375409 non-null int64\n",
      "compliment_note       375409 non-null int64\n",
      "compliment_photos     375409 non-null int64\n",
      "compliment_plain      375409 non-null int64\n",
      "compliment_profile    375409 non-null int64\n",
      "compliment_writer     375409 non-null int64\n",
      "cool_x                375409 non-null int64\n",
      "elite                 375409 non-null object\n",
      "fans                  375409 non-null int64\n",
      "friends               375409 non-null object\n",
      "funny_x               375409 non-null int64\n",
      "name_x                375390 non-null object\n",
      "review_count_x        375409 non-null int64\n",
      "useful_x              375409 non-null int64\n",
      "user_id               375409 non-null object\n",
      "yelping_since         375409 non-null object\n",
      "address               374340 non-null object\n",
      "attributes            374715 non-null object\n",
      "business_id           375409 non-null object\n",
      "categories            375409 non-null object\n",
      "city                  375409 non-null object\n",
      "hours                 354817 non-null object\n",
      "is_open               375409 non-null int64\n",
      "latitude              375409 non-null float64\n",
      "longitude             375409 non-null float64\n",
      "name_y                375409 non-null object\n",
      "neighborhood          0 non-null float64\n",
      "postal_code           375253 non-null float64\n",
      "review_count_y        375409 non-null int64\n",
      "stars_x               375409 non-null float64\n",
      "state                 375409 non-null object\n",
      "cool_y                375409 non-null int64\n",
      "date                  375409 non-null object\n",
      "funny_y               375409 non-null float64\n",
      "review_id             375409 non-null object\n",
      "stars_y               375409 non-null float64\n",
      "text                  375409 non-null object\n",
      "useful_y              375409 non-null float64\n",
      "dtypes: float64(9), int64(19), object(16)\n",
      "memory usage: 138.9+ MB\n"
     ]
    }
   ],
   "source": [
    "df.info()"
   ]
  },
  {
   "cell_type": "code",
   "execution_count": 76,
   "metadata": {
    "ExecuteTime": {
     "end_time": "2018-08-23T18:28:50.116729Z",
     "start_time": "2018-08-23T18:28:50.033964Z"
    }
   },
   "outputs": [],
   "source": [
    "sub_columns = ['user_id', 'name_x', 'review_count_x', 'average_stars', 'business_id', 'categories', \\\n",
    "               'attributes', 'stars_x', 'review_count_y', 'stars_y', 'text']\n",
    "df_sub = df[sub_columns]"
   ]
  },
  {
   "cell_type": "code",
   "execution_count": 77,
   "metadata": {
    "ExecuteTime": {
     "end_time": "2018-08-23T18:28:58.290502Z",
     "start_time": "2018-08-23T18:28:58.023963Z"
    }
   },
   "outputs": [
    {
     "name": "stdout",
     "output_type": "stream",
     "text": [
      "<class 'pandas.core.frame.DataFrame'>\n",
      "Int64Index: 375409 entries, 0 to 375408\n",
      "Data columns (total 11 columns):\n",
      "user_id           375409 non-null object\n",
      "name_x            375390 non-null object\n",
      "review_count_x    375409 non-null int64\n",
      "average_stars     375409 non-null float64\n",
      "business_id       375409 non-null object\n",
      "categories        375409 non-null object\n",
      "attributes        374715 non-null object\n",
      "stars_x           375409 non-null float64\n",
      "review_count_y    375409 non-null int64\n",
      "stars_y           375409 non-null float64\n",
      "text              375409 non-null object\n",
      "dtypes: float64(3), int64(2), object(6)\n",
      "memory usage: 44.4+ MB\n"
     ]
    }
   ],
   "source": [
    "df_sub.info()"
   ]
  },
  {
   "cell_type": "code",
   "execution_count": 85,
   "metadata": {
    "ExecuteTime": {
     "end_time": "2018-08-23T19:14:37.922979Z",
     "start_time": "2018-08-23T19:14:37.697053Z"
    }
   },
   "outputs": [
    {
     "data": {
      "text/plain": [
       "3592"
      ]
     },
     "execution_count": 85,
     "metadata": {},
     "output_type": "execute_result"
    }
   ],
   "source": [
    "len(df_sub.attributes.unique())"
   ]
  },
  {
   "cell_type": "code",
   "execution_count": 86,
   "metadata": {
    "ExecuteTime": {
     "end_time": "2018-08-23T19:15:05.629295Z",
     "start_time": "2018-08-23T19:15:05.532716Z"
    }
   },
   "outputs": [
    {
     "data": {
      "text/plain": [
       "2381"
      ]
     },
     "execution_count": 86,
     "metadata": {},
     "output_type": "execute_result"
    }
   ],
   "source": [
    "len(df_sub.categories.unique())"
   ]
  },
  {
   "cell_type": "code",
   "execution_count": 89,
   "metadata": {
    "ExecuteTime": {
     "end_time": "2018-08-23T19:18:16.866877Z",
     "start_time": "2018-08-23T19:18:16.835576Z"
    }
   },
   "outputs": [
    {
     "data": {
      "text/plain": [
       "'{\\'Alcohol\\': \\'beer_and_wine\\', \\'Ambience\\': \"{\\'romantic\\': False, \\'intimate\\': False, \\'classy\\': False, \\'hipster\\': False, \\'divey\\': False, \\'touristy\\': False, \\'trendy\\': True, \\'upscale\\': False, \\'casual\\': True}\", \\'BikeParking\\': \\'True\\', \\'BusinessAcceptsBitcoin\\': \\'False\\', \\'BusinessAcceptsCreditCards\\': \\'True\\', \\'BusinessParking\\': \"{\\'garage\\': False, \\'street\\': False, \\'validated\\': False, \\'lot\\': True, \\'valet\\': False}\", \\'Caters\\': \\'False\\', \\'DogsAllowed\\': \\'False\\', \\'DriveThru\\': \\'False\\', \\'GoodForKids\\': \\'True\\', \\'GoodForMeal\\': \"{\\'dessert\\': False, \\'latenight\\': False, \\'lunch\\': True, \\'dinner\\': True, \\'breakfast\\': False, \\'brunch\\': False}\", \\'HasTV\\': \\'False\\', \\'NoiseLevel\\': \\'average\\', \\'OutdoorSeating\\': \\'True\\', \\'RestaurantsAttire\\': \\'casual\\', \\'RestaurantsDelivery\\': \\'True\\', \\'RestaurantsGoodForGroups\\': \\'True\\', \\'RestaurantsPriceRange2\\': \\'2\\', \\'RestaurantsReservations\\': \\'False\\', \\'RestaurantsTableService\\': \\'False\\', \\'RestaurantsTakeOut\\': \\'True\\', \\'WheelchairAccessible\\': \\'True\\', \\'WiFi\\': \\'no\\'}'"
      ]
     },
     "execution_count": 89,
     "metadata": {},
     "output_type": "execute_result"
    }
   ],
   "source": [
    "df_sub.attributes[0]"
   ]
  },
  {
   "cell_type": "code",
   "execution_count": 97,
   "metadata": {
    "ExecuteTime": {
     "end_time": "2018-08-23T19:22:44.562278Z",
     "start_time": "2018-08-23T19:22:44.531428Z"
    }
   },
   "outputs": [
    {
     "data": {
      "text/plain": [
       "'Asian Fusion, American (Traditional), Restaurants, Vegan, Chinese'"
      ]
     },
     "execution_count": 97,
     "metadata": {},
     "output_type": "execute_result"
    }
   ],
   "source": [
    "df_sub.categories[5]"
   ]
  },
  {
   "cell_type": "code",
   "execution_count": 98,
   "metadata": {
    "ExecuteTime": {
     "end_time": "2018-08-23T19:23:35.434213Z",
     "start_time": "2018-08-23T19:23:35.393264Z"
    }
   },
   "outputs": [
    {
     "data": {
      "text/plain": [
       "'Meat Shops, Food, International Grocery, Ethnic Food, Halal, Middle Eastern, Bakeries, Specialty Food, Grocery, Mediterranean, Restaurants'"
      ]
     },
     "execution_count": 98,
     "metadata": {},
     "output_type": "execute_result"
    }
   ],
   "source": [
    "df_sub.categories[9]"
   ]
  },
  {
   "cell_type": "code",
   "execution_count": 68,
   "metadata": {
    "ExecuteTime": {
     "end_time": "2018-08-23T17:41:17.856542Z",
     "start_time": "2018-08-23T17:41:17.298420Z"
    }
   },
   "outputs": [
    {
     "data": {
      "text/html": [
       "<div>\n",
       "<style scoped>\n",
       "    .dataframe tbody tr th:only-of-type {\n",
       "        vertical-align: middle;\n",
       "    }\n",
       "\n",
       "    .dataframe tbody tr th {\n",
       "        vertical-align: top;\n",
       "    }\n",
       "\n",
       "    .dataframe thead tr th {\n",
       "        text-align: left;\n",
       "    }\n",
       "\n",
       "    .dataframe thead tr:last-of-type th {\n",
       "        text-align: right;\n",
       "    }\n",
       "</style>\n",
       "<table border=\"1\" class=\"dataframe\">\n",
       "  <thead>\n",
       "    <tr>\n",
       "      <th></th>\n",
       "      <th></th>\n",
       "      <th colspan=\"2\" halign=\"left\">stars_x</th>\n",
       "    </tr>\n",
       "    <tr>\n",
       "      <th></th>\n",
       "      <th></th>\n",
       "      <th>mean</th>\n",
       "      <th>count</th>\n",
       "    </tr>\n",
       "    <tr>\n",
       "      <th>user_id</th>\n",
       "      <th>business_id</th>\n",
       "      <th></th>\n",
       "      <th></th>\n",
       "    </tr>\n",
       "  </thead>\n",
       "  <tbody>\n",
       "    <tr>\n",
       "      <th>---94vtJ_5o_nikEs6hUjg</th>\n",
       "      <th>noCfW7m3z-S1p8KwFIvj2Q</th>\n",
       "      <td>3.5</td>\n",
       "      <td>1</td>\n",
       "    </tr>\n",
       "    <tr>\n",
       "      <th rowspan=\"2\" valign=\"top\">---cu1hq55BP9DWVXXKHZg</th>\n",
       "      <th>EGzsR_Tyd0QOaZ6g7wPl-w</th>\n",
       "      <td>4.5</td>\n",
       "      <td>1</td>\n",
       "    </tr>\n",
       "    <tr>\n",
       "      <th>eCJDiRPoSuA0bsb7F1gNUA</th>\n",
       "      <td>4.0</td>\n",
       "      <td>1</td>\n",
       "    </tr>\n",
       "    <tr>\n",
       "      <th rowspan=\"6\" valign=\"top\">--2HUmLkcNHZp0xw6AMBPg</th>\n",
       "      <th>7m1Oa1VYV98UUuo_6i0EZg</th>\n",
       "      <td>4.5</td>\n",
       "      <td>1</td>\n",
       "    </tr>\n",
       "    <tr>\n",
       "      <th>E4JyAzB5_2quptwtemyhYA</th>\n",
       "      <td>4.5</td>\n",
       "      <td>1</td>\n",
       "    </tr>\n",
       "    <tr>\n",
       "      <th>LR_99E7tVUfxqemvcGkDzw</th>\n",
       "      <td>3.5</td>\n",
       "      <td>1</td>\n",
       "    </tr>\n",
       "    <tr>\n",
       "      <th>cHdJXLlKNWixBXpDwEGb_A</th>\n",
       "      <td>4.0</td>\n",
       "      <td>1</td>\n",
       "    </tr>\n",
       "    <tr>\n",
       "      <th>u9R0_pvEkl7QGPJYH3j1sg</th>\n",
       "      <td>4.0</td>\n",
       "      <td>1</td>\n",
       "    </tr>\n",
       "    <tr>\n",
       "      <th>yX0pOWG_Be9TjGnm0aihVA</th>\n",
       "      <td>3.0</td>\n",
       "      <td>1</td>\n",
       "    </tr>\n",
       "    <tr>\n",
       "      <th rowspan=\"2\" valign=\"top\">--3WaS23LcIXtxyFULJHTA</th>\n",
       "      <th>WB7346WSdkTHvtHfWPilaA</th>\n",
       "      <td>4.5</td>\n",
       "      <td>1</td>\n",
       "    </tr>\n",
       "    <tr>\n",
       "      <th>wB2mrl_xHyj55UObucaVRA</th>\n",
       "      <td>4.5</td>\n",
       "      <td>1</td>\n",
       "    </tr>\n",
       "    <tr>\n",
       "      <th>--41c9Tl0C9OGewIR7Qyzg</th>\n",
       "      <th>ey3i64kDG-91Zqz6LCH14Q</th>\n",
       "      <td>3.0</td>\n",
       "      <td>1</td>\n",
       "    </tr>\n",
       "    <tr>\n",
       "      <th>--4q8EyqThydQm-eKZpS-A</th>\n",
       "      <th>HJFKqzhV4n4ZWepneOzFhQ</th>\n",
       "      <td>4.0</td>\n",
       "      <td>1</td>\n",
       "    </tr>\n",
       "    <tr>\n",
       "      <th rowspan=\"12\" valign=\"top\">--4rAAfZnEIAKJE80aIiYg</th>\n",
       "      <th>-kIscN8I29eXMPkvyyxmRQ</th>\n",
       "      <td>4.5</td>\n",
       "      <td>1</td>\n",
       "    </tr>\n",
       "    <tr>\n",
       "      <th>7MeMGh0SUlF-GuTyruwtcw</th>\n",
       "      <td>3.5</td>\n",
       "      <td>1</td>\n",
       "    </tr>\n",
       "    <tr>\n",
       "      <th>7cK9uEV09iPmsTqOqmY3kQ</th>\n",
       "      <td>4.5</td>\n",
       "      <td>1</td>\n",
       "    </tr>\n",
       "    <tr>\n",
       "      <th>825nC-s-cQG6Hsul5Gm2cA</th>\n",
       "      <td>4.0</td>\n",
       "      <td>1</td>\n",
       "    </tr>\n",
       "    <tr>\n",
       "      <th>8F9C5vhDlYphBWELUgLkvQ</th>\n",
       "      <td>3.0</td>\n",
       "      <td>1</td>\n",
       "    </tr>\n",
       "    <tr>\n",
       "      <th>9RSgLa87uZTZKdTvxy2qyg</th>\n",
       "      <td>3.0</td>\n",
       "      <td>1</td>\n",
       "    </tr>\n",
       "    <tr>\n",
       "      <th>9h2FCxdB5uk4bjX3P47L9g</th>\n",
       "      <td>4.0</td>\n",
       "      <td>1</td>\n",
       "    </tr>\n",
       "    <tr>\n",
       "      <th>ElWzx5_fU8S2G45OnM-HpA</th>\n",
       "      <td>4.0</td>\n",
       "      <td>1</td>\n",
       "    </tr>\n",
       "    <tr>\n",
       "      <th>FTUkGtUgd38pOx71SaVovg</th>\n",
       "      <td>3.5</td>\n",
       "      <td>1</td>\n",
       "    </tr>\n",
       "    <tr>\n",
       "      <th>VyVIneSU7XAWgMBllI6LnQ</th>\n",
       "      <td>4.5</td>\n",
       "      <td>1</td>\n",
       "    </tr>\n",
       "    <tr>\n",
       "      <th>W7Dt3b6H_pMIHfxn49Pkzg</th>\n",
       "      <td>2.5</td>\n",
       "      <td>1</td>\n",
       "    </tr>\n",
       "    <tr>\n",
       "      <th>dIqMQYs6tmowQUygS8sQ6A</th>\n",
       "      <td>4.0</td>\n",
       "      <td>1</td>\n",
       "    </tr>\n",
       "    <tr>\n",
       "      <th>--5XzJ2pRsVVJiJUfzZlgQ</th>\n",
       "      <th>siXCBrVFOXicbM2R-33-8w</th>\n",
       "      <td>3.5</td>\n",
       "      <td>1</td>\n",
       "    </tr>\n",
       "    <tr>\n",
       "      <th>--BIMVqCxdg5AbJu-ysD8g</th>\n",
       "      <th>MOi64A9mDpK9zUB8546L8Q</th>\n",
       "      <td>2.5</td>\n",
       "      <td>1</td>\n",
       "    </tr>\n",
       "    <tr>\n",
       "      <th rowspan=\"3\" valign=\"top\">--CIuK7sUpaNzalLAlHJKA</th>\n",
       "      <th>5xCeuEI7Einoi5xYsNuDCQ</th>\n",
       "      <td>2.5</td>\n",
       "      <td>1</td>\n",
       "    </tr>\n",
       "    <tr>\n",
       "      <th>OFacUbdk0t-GJ83GQ83LOw</th>\n",
       "      <td>3.5</td>\n",
       "      <td>1</td>\n",
       "    </tr>\n",
       "    <tr>\n",
       "      <th>OQggqcQglU-lHY3rY-8Lhw</th>\n",
       "      <td>4.0</td>\n",
       "      <td>1</td>\n",
       "    </tr>\n",
       "    <tr>\n",
       "      <th>...</th>\n",
       "      <th>...</th>\n",
       "      <td>...</td>\n",
       "      <td>...</td>\n",
       "    </tr>\n",
       "    <tr>\n",
       "      <th>zzPwPGo8aJmWOH4rSxcv-g</th>\n",
       "      <th>3SLDrXzPmKF0iCY8WriLsA</th>\n",
       "      <td>3.0</td>\n",
       "      <td>1</td>\n",
       "    </tr>\n",
       "    <tr>\n",
       "      <th>zzRq3Ykz8yfr2mcsPhYnEg</th>\n",
       "      <th>ymtJtXwsJUClLNDepV1piQ</th>\n",
       "      <td>4.5</td>\n",
       "      <td>1</td>\n",
       "    </tr>\n",
       "    <tr>\n",
       "      <th>zzSu7UOwJW-BlS8jLjrJAQ</th>\n",
       "      <th>axZSFXdaJ0KE5auPwBllRQ</th>\n",
       "      <td>2.5</td>\n",
       "      <td>1</td>\n",
       "    </tr>\n",
       "    <tr>\n",
       "      <th>zzT7g9p0NVHz5jMoWgN9cw</th>\n",
       "      <th>whAwdYVty-jSNRhrYT2zHA</th>\n",
       "      <td>4.0</td>\n",
       "      <td>1</td>\n",
       "    </tr>\n",
       "    <tr>\n",
       "      <th>zzWQb8kPhQ64SiCSY8jxfQ</th>\n",
       "      <th>NJ0RzuWd5xDqfJejYQZ65g</th>\n",
       "      <td>4.0</td>\n",
       "      <td>1</td>\n",
       "    </tr>\n",
       "    <tr>\n",
       "      <th rowspan=\"4\" valign=\"top\">zzXNLpbLmNzcC7h7mGonNQ</th>\n",
       "      <th>3BGzRYh6GQbZz3LGAGb-sQ</th>\n",
       "      <td>3.0</td>\n",
       "      <td>1</td>\n",
       "    </tr>\n",
       "    <tr>\n",
       "      <th>N5B7OBTyNGgwU_Y2fwNcyw</th>\n",
       "      <td>4.0</td>\n",
       "      <td>1</td>\n",
       "    </tr>\n",
       "    <tr>\n",
       "      <th>ept9mIlqGIsemr6w0RczaA</th>\n",
       "      <td>3.5</td>\n",
       "      <td>1</td>\n",
       "    </tr>\n",
       "    <tr>\n",
       "      <th>jq9gzjKbVWgeMYzA0aFzxw</th>\n",
       "      <td>4.0</td>\n",
       "      <td>1</td>\n",
       "    </tr>\n",
       "    <tr>\n",
       "      <th>zz_af2hX9jRh965zsaFLKg</th>\n",
       "      <th>IsoLzudHC50oJLiEWpwV-w</th>\n",
       "      <td>4.0</td>\n",
       "      <td>1</td>\n",
       "    </tr>\n",
       "    <tr>\n",
       "      <th>zzaq5Fn1U2Feut3dGxidNg</th>\n",
       "      <th>VrIskBdLuRxS0HsSimJOhA</th>\n",
       "      <td>3.0</td>\n",
       "      <td>1</td>\n",
       "    </tr>\n",
       "    <tr>\n",
       "      <th>zzbDNI_Ss1DmeDITGoTjXA</th>\n",
       "      <th>umrDQGRNied77aVg29_fVw</th>\n",
       "      <td>4.0</td>\n",
       "      <td>1</td>\n",
       "    </tr>\n",
       "    <tr>\n",
       "      <th rowspan=\"2\" valign=\"top\">zzbLAhBKT8xEZWWaIuG0vQ</th>\n",
       "      <th>UUtWoDyREiy9MPdtTRFUYQ</th>\n",
       "      <td>4.5</td>\n",
       "      <td>1</td>\n",
       "    </tr>\n",
       "    <tr>\n",
       "      <th>cXgXRqB40CGHEMKQgxLDTg</th>\n",
       "      <td>4.0</td>\n",
       "      <td>1</td>\n",
       "    </tr>\n",
       "    <tr>\n",
       "      <th>zzcRUD3kTXhHQXJIhxlKoQ</th>\n",
       "      <th>pV0eHAVd-guPjogXLnJ_Sg</th>\n",
       "      <td>4.0</td>\n",
       "      <td>1</td>\n",
       "    </tr>\n",
       "    <tr>\n",
       "      <th>zzhOHf6bPcrFkzyWKTyp0g</th>\n",
       "      <th>3Xq-bUUpRF9qi3MIXPY8cQ</th>\n",
       "      <td>4.5</td>\n",
       "      <td>1</td>\n",
       "    </tr>\n",
       "    <tr>\n",
       "      <th rowspan=\"4\" valign=\"top\">zzitZPIJBmyxt8DefrJygg</th>\n",
       "      <th>EDcZRvERC22Cvw1yi4-VKg</th>\n",
       "      <td>4.5</td>\n",
       "      <td>1</td>\n",
       "    </tr>\n",
       "    <tr>\n",
       "      <th>ahfAFuFHO9tfFkoBIkVdmg</th>\n",
       "      <td>4.5</td>\n",
       "      <td>1</td>\n",
       "    </tr>\n",
       "    <tr>\n",
       "      <th>iE71iwcSljg3xm2GB2Y9aA</th>\n",
       "      <td>4.0</td>\n",
       "      <td>1</td>\n",
       "    </tr>\n",
       "    <tr>\n",
       "      <th>xS5HGqgk0KY2jFWU-l_nrA</th>\n",
       "      <td>4.0</td>\n",
       "      <td>1</td>\n",
       "    </tr>\n",
       "    <tr>\n",
       "      <th>zzjQuRnY_Kgr_zaw6A-ACQ</th>\n",
       "      <th>NwVj3tbEcR2F8fbrcOEV0Q</th>\n",
       "      <td>3.5</td>\n",
       "      <td>1</td>\n",
       "    </tr>\n",
       "    <tr>\n",
       "      <th>zzkgqTZLZxLdIRtMBOUSeQ</th>\n",
       "      <th>eCJDiRPoSuA0bsb7F1gNUA</th>\n",
       "      <td>4.0</td>\n",
       "      <td>1</td>\n",
       "    </tr>\n",
       "    <tr>\n",
       "      <th>zzmbLv7WZPxhGbpk0BdPPQ</th>\n",
       "      <th>iiuEt92eGGy_fTvywsTBbA</th>\n",
       "      <td>4.0</td>\n",
       "      <td>1</td>\n",
       "    </tr>\n",
       "    <tr>\n",
       "      <th rowspan=\"4\" valign=\"top\">zznZTSALzMXf3cjggfNdBQ</th>\n",
       "      <th>825nC-s-cQG6Hsul5Gm2cA</th>\n",
       "      <td>4.0</td>\n",
       "      <td>1</td>\n",
       "    </tr>\n",
       "    <tr>\n",
       "      <th>aLaIaJM9LsETSRPV1pllhg</th>\n",
       "      <td>3.5</td>\n",
       "      <td>1</td>\n",
       "    </tr>\n",
       "    <tr>\n",
       "      <th>cq6SQkWKVT3TH-6YzGFn4g</th>\n",
       "      <td>4.5</td>\n",
       "      <td>1</td>\n",
       "    </tr>\n",
       "    <tr>\n",
       "      <th>kP2wC0luve3mT5fcdrA3nQ</th>\n",
       "      <td>4.0</td>\n",
       "      <td>1</td>\n",
       "    </tr>\n",
       "    <tr>\n",
       "      <th>zzpV8L0FOeyejQwomFSDPA</th>\n",
       "      <th>24Td_CQH1bonWKff1rt2vg</th>\n",
       "      <td>4.0</td>\n",
       "      <td>1</td>\n",
       "    </tr>\n",
       "    <tr>\n",
       "      <th>zzzAgDDWe4PTnJuwhi3XQQ</th>\n",
       "      <th>PBEUEK39haiJhQzuW4tnYQ</th>\n",
       "      <td>3.5</td>\n",
       "      <td>1</td>\n",
       "    </tr>\n",
       "    <tr>\n",
       "      <th>zzzTrQ2bkvteEngjkXCTAA</th>\n",
       "      <th>jb0-JZMt-6Khsh-VwsDtLQ</th>\n",
       "      <td>4.0</td>\n",
       "      <td>1</td>\n",
       "    </tr>\n",
       "  </tbody>\n",
       "</table>\n",
       "<p>375409 rows × 2 columns</p>\n",
       "</div>"
      ],
      "text/plain": [
       "                                              stars_x      \n",
       "                                                 mean count\n",
       "user_id                business_id                         \n",
       "---94vtJ_5o_nikEs6hUjg noCfW7m3z-S1p8KwFIvj2Q     3.5     1\n",
       "---cu1hq55BP9DWVXXKHZg EGzsR_Tyd0QOaZ6g7wPl-w     4.5     1\n",
       "                       eCJDiRPoSuA0bsb7F1gNUA     4.0     1\n",
       "--2HUmLkcNHZp0xw6AMBPg 7m1Oa1VYV98UUuo_6i0EZg     4.5     1\n",
       "                       E4JyAzB5_2quptwtemyhYA     4.5     1\n",
       "                       LR_99E7tVUfxqemvcGkDzw     3.5     1\n",
       "                       cHdJXLlKNWixBXpDwEGb_A     4.0     1\n",
       "                       u9R0_pvEkl7QGPJYH3j1sg     4.0     1\n",
       "                       yX0pOWG_Be9TjGnm0aihVA     3.0     1\n",
       "--3WaS23LcIXtxyFULJHTA WB7346WSdkTHvtHfWPilaA     4.5     1\n",
       "                       wB2mrl_xHyj55UObucaVRA     4.5     1\n",
       "--41c9Tl0C9OGewIR7Qyzg ey3i64kDG-91Zqz6LCH14Q     3.0     1\n",
       "--4q8EyqThydQm-eKZpS-A HJFKqzhV4n4ZWepneOzFhQ     4.0     1\n",
       "--4rAAfZnEIAKJE80aIiYg -kIscN8I29eXMPkvyyxmRQ     4.5     1\n",
       "                       7MeMGh0SUlF-GuTyruwtcw     3.5     1\n",
       "                       7cK9uEV09iPmsTqOqmY3kQ     4.5     1\n",
       "                       825nC-s-cQG6Hsul5Gm2cA     4.0     1\n",
       "                       8F9C5vhDlYphBWELUgLkvQ     3.0     1\n",
       "                       9RSgLa87uZTZKdTvxy2qyg     3.0     1\n",
       "                       9h2FCxdB5uk4bjX3P47L9g     4.0     1\n",
       "                       ElWzx5_fU8S2G45OnM-HpA     4.0     1\n",
       "                       FTUkGtUgd38pOx71SaVovg     3.5     1\n",
       "                       VyVIneSU7XAWgMBllI6LnQ     4.5     1\n",
       "                       W7Dt3b6H_pMIHfxn49Pkzg     2.5     1\n",
       "                       dIqMQYs6tmowQUygS8sQ6A     4.0     1\n",
       "--5XzJ2pRsVVJiJUfzZlgQ siXCBrVFOXicbM2R-33-8w     3.5     1\n",
       "--BIMVqCxdg5AbJu-ysD8g MOi64A9mDpK9zUB8546L8Q     2.5     1\n",
       "--CIuK7sUpaNzalLAlHJKA 5xCeuEI7Einoi5xYsNuDCQ     2.5     1\n",
       "                       OFacUbdk0t-GJ83GQ83LOw     3.5     1\n",
       "                       OQggqcQglU-lHY3rY-8Lhw     4.0     1\n",
       "...                                               ...   ...\n",
       "zzPwPGo8aJmWOH4rSxcv-g 3SLDrXzPmKF0iCY8WriLsA     3.0     1\n",
       "zzRq3Ykz8yfr2mcsPhYnEg ymtJtXwsJUClLNDepV1piQ     4.5     1\n",
       "zzSu7UOwJW-BlS8jLjrJAQ axZSFXdaJ0KE5auPwBllRQ     2.5     1\n",
       "zzT7g9p0NVHz5jMoWgN9cw whAwdYVty-jSNRhrYT2zHA     4.0     1\n",
       "zzWQb8kPhQ64SiCSY8jxfQ NJ0RzuWd5xDqfJejYQZ65g     4.0     1\n",
       "zzXNLpbLmNzcC7h7mGonNQ 3BGzRYh6GQbZz3LGAGb-sQ     3.0     1\n",
       "                       N5B7OBTyNGgwU_Y2fwNcyw     4.0     1\n",
       "                       ept9mIlqGIsemr6w0RczaA     3.5     1\n",
       "                       jq9gzjKbVWgeMYzA0aFzxw     4.0     1\n",
       "zz_af2hX9jRh965zsaFLKg IsoLzudHC50oJLiEWpwV-w     4.0     1\n",
       "zzaq5Fn1U2Feut3dGxidNg VrIskBdLuRxS0HsSimJOhA     3.0     1\n",
       "zzbDNI_Ss1DmeDITGoTjXA umrDQGRNied77aVg29_fVw     4.0     1\n",
       "zzbLAhBKT8xEZWWaIuG0vQ UUtWoDyREiy9MPdtTRFUYQ     4.5     1\n",
       "                       cXgXRqB40CGHEMKQgxLDTg     4.0     1\n",
       "zzcRUD3kTXhHQXJIhxlKoQ pV0eHAVd-guPjogXLnJ_Sg     4.0     1\n",
       "zzhOHf6bPcrFkzyWKTyp0g 3Xq-bUUpRF9qi3MIXPY8cQ     4.5     1\n",
       "zzitZPIJBmyxt8DefrJygg EDcZRvERC22Cvw1yi4-VKg     4.5     1\n",
       "                       ahfAFuFHO9tfFkoBIkVdmg     4.5     1\n",
       "                       iE71iwcSljg3xm2GB2Y9aA     4.0     1\n",
       "                       xS5HGqgk0KY2jFWU-l_nrA     4.0     1\n",
       "zzjQuRnY_Kgr_zaw6A-ACQ NwVj3tbEcR2F8fbrcOEV0Q     3.5     1\n",
       "zzkgqTZLZxLdIRtMBOUSeQ eCJDiRPoSuA0bsb7F1gNUA     4.0     1\n",
       "zzmbLv7WZPxhGbpk0BdPPQ iiuEt92eGGy_fTvywsTBbA     4.0     1\n",
       "zznZTSALzMXf3cjggfNdBQ 825nC-s-cQG6Hsul5Gm2cA     4.0     1\n",
       "                       aLaIaJM9LsETSRPV1pllhg     3.5     1\n",
       "                       cq6SQkWKVT3TH-6YzGFn4g     4.5     1\n",
       "                       kP2wC0luve3mT5fcdrA3nQ     4.0     1\n",
       "zzpV8L0FOeyejQwomFSDPA 24Td_CQH1bonWKff1rt2vg     4.0     1\n",
       "zzzAgDDWe4PTnJuwhi3XQQ PBEUEK39haiJhQzuW4tnYQ     3.5     1\n",
       "zzzTrQ2bkvteEngjkXCTAA jb0-JZMt-6Khsh-VwsDtLQ     4.0     1\n",
       "\n",
       "[375409 rows x 2 columns]"
      ]
     },
     "execution_count": 68,
     "metadata": {},
     "output_type": "execute_result"
    }
   ],
   "source": [
    "df.groupby(['user_id', 'business_id']).agg({'stars_x': ['mean', 'count']})"
   ]
  },
  {
   "cell_type": "code",
   "execution_count": 67,
   "metadata": {
    "ExecuteTime": {
     "end_time": "2018-08-23T17:40:47.401782Z",
     "start_time": "2018-08-23T17:40:46.823879Z"
    }
   },
   "outputs": [
    {
     "data": {
      "text/plain": [
       "1    375409\n",
       "Name: (stars_x, count), dtype: int64"
      ]
     },
     "execution_count": 67,
     "metadata": {},
     "output_type": "execute_result"
    }
   ],
   "source": [
    "(df.groupby(['user_id', 'business_id']).agg({'stars_x': ['mean', 'count']}))['stars_x','count'].value_counts()"
   ]
  },
  {
   "cell_type": "code",
   "execution_count": 62,
   "metadata": {
    "ExecuteTime": {
     "end_time": "2018-08-23T17:24:08.897461Z",
     "start_time": "2018-08-23T17:24:08.294404Z"
    }
   },
   "outputs": [
    {
     "data": {
      "text/plain": [
       "0"
      ]
     },
     "execution_count": 62,
     "metadata": {},
     "output_type": "execute_result"
    }
   ],
   "source": [
    "# no multiple reviews on the same restaurant from the same user\n",
    "sum((df.groupby(['user_id', 'business_id']).agg({'stars_x': ['mean', 'count']}))['stars_x','count'] > 1)"
   ]
  },
  {
   "cell_type": "code",
   "execution_count": 71,
   "metadata": {
    "ExecuteTime": {
     "end_time": "2018-08-23T17:43:23.517796Z",
     "start_time": "2018-08-23T17:43:23.134547Z"
    }
   },
   "outputs": [
    {
     "data": {
      "text/plain": [
       "user_id\n",
       "---94vtJ_5o_nikEs6hUjg     1\n",
       "---cu1hq55BP9DWVXXKHZg     2\n",
       "--2HUmLkcNHZp0xw6AMBPg     6\n",
       "--3WaS23LcIXtxyFULJHTA     2\n",
       "--41c9Tl0C9OGewIR7Qyzg     1\n",
       "--4q8EyqThydQm-eKZpS-A     1\n",
       "--4rAAfZnEIAKJE80aIiYg    12\n",
       "--5XzJ2pRsVVJiJUfzZlgQ     1\n",
       "--BIMVqCxdg5AbJu-ysD8g     1\n",
       "--CIuK7sUpaNzalLAlHJKA     5\n",
       "--HSetzBcPbZifvoFc5sHg     1\n",
       "--IMmfBLz5qOLSlSHRHH6Q     2\n",
       "--K1aJ5K8ZLIfDd_NjySbA     1\n",
       "--KR35achpjfu4qZ5Mb5Kg     2\n",
       "--L_yvPtHKRTjRO0T8FL0g     2\n",
       "--Nnm_506G_p8MxAOQna5w    25\n",
       "--P-Qvza7AED8gnDrZkMgA     3\n",
       "--PHyzUR6FEjHqxg9I60LA     2\n",
       "--RY4bG7REOBum5HsSspxQ     1\n",
       "--Rm-VyYWgHA7ZpljAMlvg     3\n",
       "--_TEmFrGzbLOfkezpyTRg     1\n",
       "--dt6KqbqXc3cIdPNTrhUQ     2\n",
       "--eQVss9nAx54FWsZHZgpA     4\n",
       "--fF-8O8ruMCIuP45IwVMQ     1\n",
       "--fF_pQlaU9sME-HLCoHlQ     2\n",
       "--fTYYEaTDqA8Z2OR_vNfw     1\n",
       "--gBGXfVm5YyAVVkj84W5Q     1\n",
       "--gc9Xg3MPKCy3BPt1g_1A     1\n",
       "--gsZ16vkDVFD5uSuUFBFw     2\n",
       "--iiD1TQzaXGxePZ1g5S2A     1\n",
       "                          ..\n",
       "zz5dvUxublEptng2GvC6sA     2\n",
       "zz8rQaQvsZFZfAu-rPhLNw     8\n",
       "zzF17hwmlFTuOa1Yagi-eg    10\n",
       "zzGUguWplnzgKfYxM5KWsg     1\n",
       "zzGsbwQ3HKL3YSUAig4mwQ     1\n",
       "zzIn-ymZjkihnZ7klX13Iw     1\n",
       "zzJImcfBJi_SJSuh-6l2qw     2\n",
       "zzO9aMo33jA3pPv8SoYskw     4\n",
       "zzOd64i66_Z5roGjXmwCXA     1\n",
       "zzPr2LP2uMqI2SYhVBmowQ     2\n",
       "zzPwPGo8aJmWOH4rSxcv-g     1\n",
       "zzRq3Ykz8yfr2mcsPhYnEg     1\n",
       "zzSu7UOwJW-BlS8jLjrJAQ     1\n",
       "zzT7g9p0NVHz5jMoWgN9cw     1\n",
       "zzWQb8kPhQ64SiCSY8jxfQ     1\n",
       "zzXNLpbLmNzcC7h7mGonNQ     4\n",
       "zz_af2hX9jRh965zsaFLKg     1\n",
       "zzaq5Fn1U2Feut3dGxidNg     1\n",
       "zzbDNI_Ss1DmeDITGoTjXA     1\n",
       "zzbLAhBKT8xEZWWaIuG0vQ     2\n",
       "zzcRUD3kTXhHQXJIhxlKoQ     1\n",
       "zzhOHf6bPcrFkzyWKTyp0g     1\n",
       "zzitZPIJBmyxt8DefrJygg     4\n",
       "zzjQuRnY_Kgr_zaw6A-ACQ     1\n",
       "zzkgqTZLZxLdIRtMBOUSeQ     1\n",
       "zzmbLv7WZPxhGbpk0BdPPQ     1\n",
       "zznZTSALzMXf3cjggfNdBQ     4\n",
       "zzpV8L0FOeyejQwomFSDPA     1\n",
       "zzzAgDDWe4PTnJuwhi3XQQ     1\n",
       "zzzTrQ2bkvteEngjkXCTAA     1\n",
       "Name: stars_x, Length: 141654, dtype: int64"
      ]
     },
     "execution_count": 71,
     "metadata": {},
     "output_type": "execute_result"
    }
   ],
   "source": [
    "df.groupby(['user_id'])['stars_x'].count()"
   ]
  },
  {
   "cell_type": "code",
   "execution_count": 72,
   "metadata": {
    "ExecuteTime": {
     "end_time": "2018-08-23T17:44:15.664030Z",
     "start_time": "2018-08-23T17:44:15.117983Z"
    }
   },
   "outputs": [
    {
     "data": {
      "text/plain": [
       "user_id                 business_id           \n",
       "---94vtJ_5o_nikEs6hUjg  noCfW7m3z-S1p8KwFIvj2Q    1\n",
       "---cu1hq55BP9DWVXXKHZg  EGzsR_Tyd0QOaZ6g7wPl-w    1\n",
       "                        eCJDiRPoSuA0bsb7F1gNUA    1\n",
       "--2HUmLkcNHZp0xw6AMBPg  7m1Oa1VYV98UUuo_6i0EZg    1\n",
       "                        E4JyAzB5_2quptwtemyhYA    1\n",
       "                        LR_99E7tVUfxqemvcGkDzw    1\n",
       "                        cHdJXLlKNWixBXpDwEGb_A    1\n",
       "                        u9R0_pvEkl7QGPJYH3j1sg    1\n",
       "                        yX0pOWG_Be9TjGnm0aihVA    1\n",
       "--3WaS23LcIXtxyFULJHTA  WB7346WSdkTHvtHfWPilaA    1\n",
       "                        wB2mrl_xHyj55UObucaVRA    1\n",
       "--41c9Tl0C9OGewIR7Qyzg  ey3i64kDG-91Zqz6LCH14Q    1\n",
       "--4q8EyqThydQm-eKZpS-A  HJFKqzhV4n4ZWepneOzFhQ    1\n",
       "--4rAAfZnEIAKJE80aIiYg  -kIscN8I29eXMPkvyyxmRQ    1\n",
       "                        7MeMGh0SUlF-GuTyruwtcw    1\n",
       "                        7cK9uEV09iPmsTqOqmY3kQ    1\n",
       "                        825nC-s-cQG6Hsul5Gm2cA    1\n",
       "                        8F9C5vhDlYphBWELUgLkvQ    1\n",
       "                        9RSgLa87uZTZKdTvxy2qyg    1\n",
       "                        9h2FCxdB5uk4bjX3P47L9g    1\n",
       "                        ElWzx5_fU8S2G45OnM-HpA    1\n",
       "                        FTUkGtUgd38pOx71SaVovg    1\n",
       "                        VyVIneSU7XAWgMBllI6LnQ    1\n",
       "                        W7Dt3b6H_pMIHfxn49Pkzg    1\n",
       "                        dIqMQYs6tmowQUygS8sQ6A    1\n",
       "--5XzJ2pRsVVJiJUfzZlgQ  siXCBrVFOXicbM2R-33-8w    1\n",
       "--BIMVqCxdg5AbJu-ysD8g  MOi64A9mDpK9zUB8546L8Q    1\n",
       "--CIuK7sUpaNzalLAlHJKA  5xCeuEI7Einoi5xYsNuDCQ    1\n",
       "                        OFacUbdk0t-GJ83GQ83LOw    1\n",
       "                        OQggqcQglU-lHY3rY-8Lhw    1\n",
       "                                                 ..\n",
       "zzPwPGo8aJmWOH4rSxcv-g  3SLDrXzPmKF0iCY8WriLsA    1\n",
       "zzRq3Ykz8yfr2mcsPhYnEg  ymtJtXwsJUClLNDepV1piQ    1\n",
       "zzSu7UOwJW-BlS8jLjrJAQ  axZSFXdaJ0KE5auPwBllRQ    1\n",
       "zzT7g9p0NVHz5jMoWgN9cw  whAwdYVty-jSNRhrYT2zHA    1\n",
       "zzWQb8kPhQ64SiCSY8jxfQ  NJ0RzuWd5xDqfJejYQZ65g    1\n",
       "zzXNLpbLmNzcC7h7mGonNQ  3BGzRYh6GQbZz3LGAGb-sQ    1\n",
       "                        N5B7OBTyNGgwU_Y2fwNcyw    1\n",
       "                        ept9mIlqGIsemr6w0RczaA    1\n",
       "                        jq9gzjKbVWgeMYzA0aFzxw    1\n",
       "zz_af2hX9jRh965zsaFLKg  IsoLzudHC50oJLiEWpwV-w    1\n",
       "zzaq5Fn1U2Feut3dGxidNg  VrIskBdLuRxS0HsSimJOhA    1\n",
       "zzbDNI_Ss1DmeDITGoTjXA  umrDQGRNied77aVg29_fVw    1\n",
       "zzbLAhBKT8xEZWWaIuG0vQ  UUtWoDyREiy9MPdtTRFUYQ    1\n",
       "                        cXgXRqB40CGHEMKQgxLDTg    1\n",
       "zzcRUD3kTXhHQXJIhxlKoQ  pV0eHAVd-guPjogXLnJ_Sg    1\n",
       "zzhOHf6bPcrFkzyWKTyp0g  3Xq-bUUpRF9qi3MIXPY8cQ    1\n",
       "zzitZPIJBmyxt8DefrJygg  EDcZRvERC22Cvw1yi4-VKg    1\n",
       "                        ahfAFuFHO9tfFkoBIkVdmg    1\n",
       "                        iE71iwcSljg3xm2GB2Y9aA    1\n",
       "                        xS5HGqgk0KY2jFWU-l_nrA    1\n",
       "zzjQuRnY_Kgr_zaw6A-ACQ  NwVj3tbEcR2F8fbrcOEV0Q    1\n",
       "zzkgqTZLZxLdIRtMBOUSeQ  eCJDiRPoSuA0bsb7F1gNUA    1\n",
       "zzmbLv7WZPxhGbpk0BdPPQ  iiuEt92eGGy_fTvywsTBbA    1\n",
       "zznZTSALzMXf3cjggfNdBQ  825nC-s-cQG6Hsul5Gm2cA    1\n",
       "                        aLaIaJM9LsETSRPV1pllhg    1\n",
       "                        cq6SQkWKVT3TH-6YzGFn4g    1\n",
       "                        kP2wC0luve3mT5fcdrA3nQ    1\n",
       "zzpV8L0FOeyejQwomFSDPA  24Td_CQH1bonWKff1rt2vg    1\n",
       "zzzAgDDWe4PTnJuwhi3XQQ  PBEUEK39haiJhQzuW4tnYQ    1\n",
       "zzzTrQ2bkvteEngjkXCTAA  jb0-JZMt-6Khsh-VwsDtLQ    1\n",
       "Name: stars_x, Length: 375409, dtype: int64"
      ]
     },
     "execution_count": 72,
     "metadata": {},
     "output_type": "execute_result"
    }
   ],
   "source": [
    "df.groupby(['user_id', 'business_id'])['stars_x'].count()"
   ]
  },
  {
   "cell_type": "code",
   "execution_count": 100,
   "metadata": {
    "ExecuteTime": {
     "end_time": "2018-08-23T19:33:19.932503Z",
     "start_time": "2018-08-23T19:33:12.558855Z"
    }
   },
   "outputs": [],
   "source": [
    "business_json = pd.read_json('./yelp_dataset/yelp_academic_dataset_business.json', lines=True)"
   ]
  },
  {
   "cell_type": "code",
   "execution_count": 120,
   "metadata": {
    "ExecuteTime": {
     "end_time": "2018-08-23T19:49:30.530979Z",
     "start_time": "2018-08-23T19:49:30.236466Z"
    }
   },
   "outputs": [],
   "source": [
    "biz_phx = business_json[(business_json.categories.str.contains('Restaurant')) \\\n",
    "                        & (business_json.city == 'Phoenix')].reset_index()"
   ]
  },
  {
   "cell_type": "code",
   "execution_count": 124,
   "metadata": {
    "ExecuteTime": {
     "end_time": "2018-08-23T19:51:11.198150Z",
     "start_time": "2018-08-23T19:51:11.166951Z"
    }
   },
   "outputs": [
    {
     "data": {
      "text/plain": [
       "3839"
      ]
     },
     "execution_count": 124,
     "metadata": {},
     "output_type": "execute_result"
    }
   ],
   "source": [
    "len(biz_phx)"
   ]
  },
  {
   "cell_type": "code",
   "execution_count": 125,
   "metadata": {
    "ExecuteTime": {
     "end_time": "2018-08-23T19:51:23.050109Z",
     "start_time": "2018-08-23T19:51:23.020667Z"
    },
    "scrolled": true
   },
   "outputs": [
    {
     "name": "stdout",
     "output_type": "stream",
     "text": [
      "30\n",
      "16\n",
      "12\n",
      "20\n",
      "20\n",
      "18\n",
      "19\n",
      "19\n",
      "20\n",
      "18\n",
      "16\n"
     ]
    }
   ],
   "source": [
    "for i in range(11):\n",
    "    print(len(biz_phx.attributes[i]))"
   ]
  },
  {
   "cell_type": "code",
   "execution_count": 130,
   "metadata": {
    "ExecuteTime": {
     "end_time": "2018-08-23T20:08:19.447349Z",
     "start_time": "2018-08-23T20:08:18.399589Z"
    }
   },
   "outputs": [
    {
     "data": {
      "text/plain": [
       "NaN                                                                                                                                                                                                                                                                                                                                                                                                                                                                                                                                                                                                                                                                                                                                                                                                                                                                                                                                                                                                                                                                                                                                                                                                                                                                                                                                                                                                                                      47\n",
       "{'Alcohol': 'full_bar', 'Ambience': '{'romantic': False, 'intimate': False, 'classy': False, 'hipster': False, 'divey': False, 'touristy': False, 'trendy': False, 'upscale': False, 'casual': True}', 'BikeParking': 'True', 'BusinessAcceptsCreditCards': 'True', 'BusinessParking': '{'garage': False, 'street': False, 'validated': False, 'lot': True, 'valet': False}', 'Caters': 'True', 'GoodForKids': 'True', 'GoodForMeal': '{'dessert': False, 'latenight': False, 'lunch': True, 'dinner': True, 'breakfast': False, 'brunch': False}', 'HasTV': 'True', 'NoiseLevel': 'average', 'OutdoorSeating': 'True', 'RestaurantsAttire': 'casual', 'RestaurantsDelivery': 'False', 'RestaurantsGoodForGroups': 'True', 'RestaurantsPriceRange2': '2', 'RestaurantsReservations': 'True', 'RestaurantsTableService': 'True', 'RestaurantsTakeOut': 'True', 'WheelchairAccessible': 'True', 'WiFi': 'free'}                                                                                                                                                                                                                                                                                                                                                                                                                                                                                                                             9\n",
       "{'Alcohol': 'full_bar', 'Ambience': '{'romantic': False, 'intimate': False, 'classy': False, 'hipster': False, 'divey': False, 'touristy': False, 'trendy': False, 'upscale': False, 'casual': True}', 'BikeParking': 'True', 'BusinessAcceptsCreditCards': 'True', 'BusinessParking': '{'garage': False, 'street': False, 'validated': False, 'lot': True, 'valet': False}', 'Caters': 'True', 'GoodForKids': 'True', 'GoodForMeal': '{'dessert': False, 'latenight': False, 'lunch': True, 'dinner': True, 'breakfast': False, 'brunch': False}', 'HasTV': 'True', 'NoiseLevel': 'average', 'OutdoorSeating': 'False', 'RestaurantsAttire': 'casual', 'RestaurantsDelivery': 'False', 'RestaurantsGoodForGroups': 'True', 'RestaurantsPriceRange2': '2', 'RestaurantsReservations': 'True', 'RestaurantsTableService': 'True', 'RestaurantsTakeOut': 'True', 'WheelchairAccessible': 'True', 'WiFi': 'free'}                                                                                                                                                                                                                                                                                                                                                                                                                                                                                                                            8\n",
       "{'BusinessAcceptsCreditCards': 'True'}                                                                                                                                                                                                                                                                                                                                                                                                                                                                                                                                                                                                                                                                                                                                                                                                                                                                                                                                                                                                                                                                                                                                                                                                                                                                                                                                                                                                    7\n",
       "{'Alcohol': 'full_bar', 'Ambience': '{'romantic': False, 'intimate': False, 'classy': False, 'hipster': False, 'divey': False, 'touristy': False, 'trendy': False, 'upscale': False, 'casual': True}', 'BikeParking': 'True', 'BusinessAcceptsCreditCards': 'True', 'BusinessParking': '{'garage': False, 'street': False, 'validated': False, 'lot': True, 'valet': False}', 'Caters': 'True', 'GoodForKids': 'True', 'GoodForMeal': '{'dessert': False, 'latenight': False, 'lunch': True, 'dinner': True, 'breakfast': False, 'brunch': False}', 'HasTV': 'True', 'NoiseLevel': 'average', 'OutdoorSeating': 'True', 'RestaurantsAttire': 'casual', 'RestaurantsDelivery': 'False', 'RestaurantsGoodForGroups': 'True', 'RestaurantsPriceRange2': '2', 'RestaurantsReservations': 'True', 'RestaurantsTableService': 'True', 'RestaurantsTakeOut': 'True', 'WheelchairAccessible': 'True', 'WiFi': 'no'}                                                                                                                                                                                                                                                                                                                                                                                                                                                                                                                               7\n",
       "{'GoodForKids': 'True'}                                                                                                                                                                                                                                                                                                                                                                                                                                                                                                                                                                                                                                                                                                                                                                                                                                                                                                                                                                                                                                                                                                                                                                                                                                                                                                                                                                                                                   6\n",
       "{'Alcohol': 'none', 'Ambience': '{'romantic': False, 'intimate': False, 'classy': False, 'hipster': False, 'divey': False, 'touristy': False, 'trendy': False, 'upscale': False, 'casual': True}', 'BikeParking': 'True', 'BusinessAcceptsCreditCards': 'True', 'BusinessParking': '{'garage': False, 'street': False, 'validated': False, 'lot': True, 'valet': False}', 'Caters': 'True', 'GoodForKids': 'True', 'GoodForMeal': '{'dessert': False, 'latenight': False, 'lunch': True, 'dinner': True, 'breakfast': False, 'brunch': False}', 'HasTV': 'False', 'NoiseLevel': 'average', 'OutdoorSeating': 'False', 'RestaurantsAttire': 'casual', 'RestaurantsDelivery': 'False', 'RestaurantsGoodForGroups': 'True', 'RestaurantsPriceRange2': '1', 'RestaurantsReservations': 'False', 'RestaurantsTableService': 'False', 'RestaurantsTakeOut': 'True', 'WheelchairAccessible': 'True', 'WiFi': 'no'}                                                                                                                                                                                                                                                                                                                                                                                                                                                                                                                               5\n",
       "{'Alcohol': 'none', 'Ambience': '{'romantic': False, 'intimate': False, 'classy': False, 'hipster': False, 'divey': False, 'touristy': False, 'trendy': False, 'upscale': False, 'casual': True}', 'BikeParking': 'True', 'BusinessAcceptsCreditCards': 'True', 'BusinessParking': '{'garage': False, 'street': False, 'validated': False, 'lot': True, 'valet': False}', 'Caters': 'False', 'DriveThru': 'False', 'GoodForKids': 'True', 'GoodForMeal': '{'dessert': False, 'latenight': False, 'lunch': True, 'dinner': True, 'breakfast': False, 'brunch': False}', 'HasTV': 'False', 'NoiseLevel': 'average', 'OutdoorSeating': 'True', 'RestaurantsAttire': 'casual', 'RestaurantsDelivery': 'False', 'RestaurantsGoodForGroups': 'True', 'RestaurantsPriceRange2': '1', 'RestaurantsReservations': 'False', 'RestaurantsTableService': 'False', 'RestaurantsTakeOut': 'True', 'WiFi': 'no'}                                                                                                                                                                                                                                                                                                                                                                                                                                                                                                                                         5\n",
       "{'Alcohol': 'none', 'Ambience': '{'romantic': False, 'intimate': False, 'classy': False, 'hipster': False, 'divey': False, 'touristy': False, 'trendy': False, 'upscale': False, 'casual': False}', 'BikeParking': 'False', 'BusinessAcceptsCreditCards': 'True', 'BusinessParking': '{'garage': False, 'street': False, 'validated': False, 'lot': False, 'valet': False}', 'Caters': 'False', 'DriveThru': 'True', 'GoodForKids': 'True', 'GoodForMeal': '{'dessert': False, 'latenight': False, 'lunch': False, 'dinner': False, 'breakfast': False, 'brunch': False}', 'HasTV': 'False', 'NoiseLevel': 'average', 'OutdoorSeating': 'False', 'RestaurantsAttire': 'casual', 'RestaurantsDelivery': 'False', 'RestaurantsGoodForGroups': 'True', 'RestaurantsPriceRange2': '1', 'RestaurantsReservations': 'False', 'RestaurantsTableService': 'False', 'RestaurantsTakeOut': 'True', 'WiFi': 'no'}                                                                                                                                                                                                                                                                                                                                                                                                                                                                                                                                    5\n",
       "{'Alcohol': 'none', 'Ambience': '{'romantic': False, 'intimate': False, 'classy': False, 'hipster': False, 'divey': False, 'touristy': False, 'trendy': False, 'upscale': False, 'casual': False}', 'BikeParking': 'True', 'BusinessAcceptsCreditCards': 'True', 'BusinessParking': '{'garage': False, 'street': False, 'validated': False, 'lot': False, 'valet': False}', 'Caters': 'False', 'DriveThru': 'True', 'GoodForKids': 'True', 'GoodForMeal': '{'dessert': False, 'latenight': False, 'lunch': False, 'dinner': False, 'breakfast': False, 'brunch': False}', 'HasTV': 'False', 'NoiseLevel': 'average', 'OutdoorSeating': 'False', 'RestaurantsAttire': 'casual', 'RestaurantsDelivery': 'False', 'RestaurantsGoodForGroups': 'True', 'RestaurantsPriceRange2': '1', 'RestaurantsReservations': 'False', 'RestaurantsTableService': 'False', 'RestaurantsTakeOut': 'True', 'WiFi': 'free'}                                                                                                                                                                                                                                                                                                                                                                                                                                                                                                                                   5\n",
       "{'RestaurantsPriceRange2': '1'}                                                                                                                                                                                                                                                                                                                                                                                                                                                                                                                                                                                                                                                                                                                                                                                                                                                                                                                                                                                                                                                                                                                                                                                                                                                                                                                                                                                                           4\n",
       "{'Alcohol': 'full_bar', 'Ambience': '{'romantic': False, 'intimate': False, 'classy': False, 'hipster': False, 'divey': False, 'touristy': False, 'trendy': False, 'upscale': False, 'casual': True}', 'BikeParking': 'True', 'BusinessAcceptsCreditCards': 'True', 'BusinessParking': '{'garage': False, 'street': False, 'validated': False, 'lot': True, 'valet': False}', 'Caters': 'True', 'GoodForKids': 'True', 'GoodForMeal': '{'dessert': False, 'latenight': False, 'lunch': True, 'dinner': True, 'breakfast': False, 'brunch': False}', 'HasTV': 'True', 'NoiseLevel': 'average', 'OutdoorSeating': 'False', 'RestaurantsAttire': 'casual', 'RestaurantsDelivery': 'False', 'RestaurantsGoodForGroups': 'True', 'RestaurantsPriceRange2': '2', 'RestaurantsReservations': 'True', 'RestaurantsTableService': 'True', 'RestaurantsTakeOut': 'True', 'WheelchairAccessible': 'True', 'WiFi': 'no'}                                                                                                                                                                                                                                                                                                                                                                                                                                                                                                                              4\n",
       "{'Alcohol': 'none', 'Ambience': '{'romantic': False, 'intimate': False, 'classy': False, 'hipster': False, 'divey': False, 'touristy': False, 'trendy': False, 'upscale': False, 'casual': True}', 'BikeParking': 'True', 'BusinessAcceptsCreditCards': 'True', 'BusinessParking': '{'garage': False, 'street': False, 'validated': False, 'lot': True, 'valet': False}', 'Caters': 'True', 'GoodForKids': 'True', 'GoodForMeal': '{'dessert': False, 'latenight': False, 'lunch': False, 'dinner': False, 'breakfast': True, 'brunch': True}', 'HasTV': 'False', 'NoiseLevel': 'average', 'OutdoorSeating': 'True', 'RestaurantsAttire': 'casual', 'RestaurantsDelivery': 'False', 'RestaurantsGoodForGroups': 'True', 'RestaurantsPriceRange2': '1', 'RestaurantsReservations': 'False', 'RestaurantsTableService': 'False', 'RestaurantsTakeOut': 'True', 'WheelchairAccessible': 'True', 'WiFi': 'free'}                                                                                                                                                                                                                                                                                                                                                                                                                                                                                                                              3\n",
       "{'Alcohol': 'none', 'Ambience': '{'romantic': False, 'intimate': False, 'classy': False, 'hipster': False, 'divey': False, 'touristy': False, 'trendy': False, 'upscale': False, 'casual': True}', 'BikeParking': 'False', 'BusinessAcceptsCreditCards': 'True', 'BusinessParking': '{'garage': False, 'street': False, 'validated': False, 'lot': True, 'valet': False}', 'Caters': 'True', 'GoodForKids': 'True', 'GoodForMeal': '{'dessert': False, 'latenight': False, 'lunch': True, 'dinner': True, 'breakfast': False, 'brunch': False}', 'HasTV': 'True', 'NoiseLevel': 'average', 'OutdoorSeating': 'False', 'RestaurantsAttire': 'casual', 'RestaurantsDelivery': 'False', 'RestaurantsGoodForGroups': 'True', 'RestaurantsPriceRange2': '1', 'RestaurantsReservations': 'False', 'RestaurantsTableService': 'False', 'RestaurantsTakeOut': 'True', 'WheelchairAccessible': 'True', 'WiFi': 'no'}                                                                                                                                                                                                                                                                                                                                                                                                                                                                                                                               3\n",
       "{'Alcohol': 'beer_and_wine', 'Ambience': '{'romantic': False, 'intimate': False, 'classy': False, 'hipster': False, 'divey': False, 'touristy': False, 'trendy': False, 'upscale': False, 'casual': True}', 'BikeParking': 'True', 'BusinessAcceptsCreditCards': 'True', 'BusinessParking': '{'garage': False, 'street': False, 'validated': False, 'lot': False, 'valet': False}', 'Caters': 'True', 'DriveThru': 'False', 'GoodForKids': 'True', 'GoodForMeal': '{'dessert': False, 'latenight': False, 'lunch': True, 'dinner': True, 'breakfast': False, 'brunch': False}', 'HasTV': 'False', 'NoiseLevel': 'average', 'OutdoorSeating': 'True', 'RestaurantsAttire': 'casual', 'RestaurantsDelivery': 'False', 'RestaurantsGoodForGroups': 'True', 'RestaurantsPriceRange2': '1', 'RestaurantsReservations': 'False', 'RestaurantsTableService': 'False', 'RestaurantsTakeOut': 'True', 'WheelchairAccessible': 'True', 'WiFi': 'no'}                                                                                                                                                                                                                                                                                                                                                                                                                                                                                                3\n",
       "{'Alcohol': 'none', 'Ambience': '{'romantic': False, 'intimate': False, 'classy': False, 'hipster': False, 'divey': False, 'touristy': False, 'trendy': False, 'upscale': False, 'casual': True}', 'BikeParking': 'True', 'BusinessAcceptsCreditCards': 'True', 'BusinessParking': '{'garage': False, 'street': False, 'validated': False, 'lot': True, 'valet': False}', 'Caters': 'False', 'GoodForKids': 'True', 'GoodForMeal': '{'dessert': False, 'latenight': False, 'lunch': True, 'dinner': False, 'breakfast': True, 'brunch': True}', 'HasTV': 'False', 'NoiseLevel': 'average', 'OutdoorSeating': 'True', 'RestaurantsAttire': 'casual', 'RestaurantsDelivery': 'False', 'RestaurantsGoodForGroups': 'True', 'RestaurantsPriceRange2': '2', 'RestaurantsReservations': 'False', 'RestaurantsTableService': 'True', 'RestaurantsTakeOut': 'True', 'WiFi': 'free'}                                                                                                                                                                                                                                                                                                                                                                                                                                                                                                                                                               3\n",
       "{'Alcohol': 'none', 'Ambience': '{'romantic': False, 'intimate': False, 'classy': False, 'hipster': False, 'divey': False, 'touristy': False, 'trendy': False, 'upscale': False, 'casual': True}', 'BikeParking': 'True', 'BusinessAcceptsCreditCards': 'True', 'BusinessParking': '{'garage': False, 'street': False, 'validated': False, 'lot': True, 'valet': False}', 'Caters': 'True', 'GoodForKids': 'True', 'GoodForMeal': '{'dessert': False, 'latenight': False, 'lunch': True, 'dinner': True, 'breakfast': False, 'brunch': False}', 'HasTV': 'True', 'NoiseLevel': 'average', 'OutdoorSeating': 'True', 'RestaurantsAttire': 'casual', 'RestaurantsDelivery': 'True', 'RestaurantsGoodForGroups': 'True', 'RestaurantsPriceRange2': '1', 'RestaurantsReservations': 'False', 'RestaurantsTableService': 'False', 'RestaurantsTakeOut': 'True', 'WheelchairAccessible': 'True', 'WiFi': 'free'}                                                                                                                                                                                                                                                                                                                                                                                                                                                                                                                                3\n",
       "{'Alcohol': 'none', 'Ambience': '{'romantic': False, 'intimate': False, 'classy': False, 'hipster': False, 'divey': False, 'touristy': False, 'trendy': False, 'upscale': False, 'casual': True}', 'BikeParking': 'True', 'BusinessAcceptsCreditCards': 'True', 'BusinessParking': '{'garage': False, 'street': False, 'validated': False, 'lot': True, 'valet': False}', 'Caters': 'False', 'DriveThru': 'True', 'GoodForKids': 'True', 'GoodForMeal': '{'dessert': False, 'latenight': False, 'lunch': True, 'dinner': True, 'breakfast': False, 'brunch': False}', 'HasTV': 'False', 'NoiseLevel': 'average', 'OutdoorSeating': 'True', 'RestaurantsAttire': 'casual', 'RestaurantsDelivery': 'False', 'RestaurantsGoodForGroups': 'True', 'RestaurantsPriceRange2': '1', 'RestaurantsReservations': 'False', 'RestaurantsTableService': 'False', 'RestaurantsTakeOut': 'True', 'WheelchairAccessible': 'True', 'WiFi': 'no'}                                                                                                                                                                                                                                                                                                                                                                                                                                                                                                          3\n",
       "{'Alcohol': 'none', 'Ambience': '{'romantic': False, 'intimate': False, 'classy': False, 'hipster': False, 'divey': False, 'touristy': False, 'trendy': False, 'upscale': False, 'casual': True}', 'BikeParking': 'True', 'BusinessAcceptsCreditCards': 'True', 'BusinessParking': '{'garage': False, 'street': False, 'validated': False, 'lot': True, 'valet': False}', 'Caters': 'False', 'GoodForKids': 'True', 'GoodForMeal': '{'dessert': False, 'latenight': False, 'lunch': True, 'dinner': False, 'breakfast': False, 'brunch': False}', 'HasTV': 'False', 'NoiseLevel': 'average', 'OutdoorSeating': 'False', 'RestaurantsAttire': 'casual', 'RestaurantsDelivery': 'False', 'RestaurantsGoodForGroups': 'True', 'RestaurantsPriceRange2': '1', 'RestaurantsReservations': 'False', 'RestaurantsTableService': 'True', 'RestaurantsTakeOut': 'True', 'WheelchairAccessible': 'True', 'WiFi': 'no'}                                                                                                                                                                                                                                                                                                                                                                                                                                                                                                                              3\n",
       "{'Alcohol': 'none', 'Ambience': '{'romantic': False, 'intimate': False, 'classy': False, 'hipster': False, 'divey': False, 'touristy': False, 'trendy': False, 'upscale': False, 'casual': True}', 'BikeParking': 'True', 'BusinessAcceptsCreditCards': 'True', 'BusinessParking': '{'garage': False, 'street': False, 'validated': False, 'lot': True, 'valet': False}', 'Caters': 'True', 'GoodForKids': 'True', 'GoodForMeal': '{'dessert': False, 'latenight': False, 'lunch': True, 'dinner': False, 'breakfast': False, 'brunch': False}', 'HasTV': 'True', 'NoiseLevel': 'average', 'OutdoorSeating': 'True', 'RestaurantsAttire': 'casual', 'RestaurantsDelivery': 'False', 'RestaurantsGoodForGroups': 'True', 'RestaurantsPriceRange2': '1', 'RestaurantsReservations': 'False', 'RestaurantsTableService': 'False', 'RestaurantsTakeOut': 'True', 'WheelchairAccessible': 'True', 'WiFi': 'no'}                                                                                                                                                                                                                                                                                                                                                                                                                                                                                                                                3\n",
       "{'Alcohol': 'none', 'Ambience': '{'romantic': False, 'intimate': False, 'classy': False, 'hipster': False, 'divey': False, 'touristy': False, 'trendy': False, 'upscale': False, 'casual': True}', 'BikeParking': 'True', 'BusinessAcceptsCreditCards': 'True', 'BusinessParking': '{'garage': False, 'street': False, 'validated': False, 'lot': True, 'valet': False}', 'Caters': 'True', 'GoodForKids': 'True', 'GoodForMeal': '{'dessert': False, 'latenight': False, 'lunch': True, 'dinner': True, 'breakfast': False, 'brunch': False}', 'HasTV': 'True', 'NoiseLevel': 'average', 'OutdoorSeating': 'False', 'RestaurantsAttire': 'casual', 'RestaurantsDelivery': 'False', 'RestaurantsGoodForGroups': 'True', 'RestaurantsPriceRange2': '1', 'RestaurantsReservations': 'False', 'RestaurantsTableService': 'False', 'RestaurantsTakeOut': 'True', 'WheelchairAccessible': 'True', 'WiFi': 'no'}                                                                                                                                                                                                                                                                                                                                                                                                                                                                                                                                3\n",
       "{'Alcohol': 'none', 'Ambience': '{'romantic': False, 'intimate': False, 'classy': False, 'hipster': False, 'divey': False, 'touristy': False, 'trendy': False, 'upscale': False, 'casual': True}', 'BikeParking': 'True', 'BusinessAcceptsCreditCards': 'True', 'BusinessParking': '{'garage': False, 'street': False, 'validated': False, 'lot': True, 'valet': False}', 'Caters': 'True', 'GoodForKids': 'True', 'GoodForMeal': '{'dessert': False, 'latenight': False, 'lunch': True, 'dinner': False, 'breakfast': True, 'brunch': False}', 'HasTV': 'False', 'NoiseLevel': 'average', 'OutdoorSeating': 'True', 'RestaurantsAttire': 'casual', 'RestaurantsDelivery': 'False', 'RestaurantsGoodForGroups': 'True', 'RestaurantsPriceRange2': '1', 'RestaurantsReservations': 'False', 'RestaurantsTableService': 'False', 'RestaurantsTakeOut': 'True', 'WheelchairAccessible': 'True', 'WiFi': 'free'}                                                                                                                                                                                                                                                                                                                                                                                                                                                                                                                              3\n",
       "{'Alcohol': 'none', 'Ambience': '{'romantic': False, 'intimate': False, 'classy': False, 'hipster': False, 'divey': False, 'touristy': False, 'trendy': False, 'upscale': False, 'casual': False}', 'BikeParking': 'True', 'BusinessAcceptsCreditCards': 'True', 'BusinessParking': '{'garage': False, 'street': False, 'validated': False, 'lot': False, 'valet': False}', 'Caters': 'False', 'DriveThru': 'True', 'GoodForKids': 'True', 'GoodForMeal': '{'dessert': False, 'latenight': False, 'lunch': False, 'dinner': False, 'breakfast': False, 'brunch': False}', 'HasTV': 'False', 'NoiseLevel': 'average', 'OutdoorSeating': 'False', 'RestaurantsAttire': 'casual', 'RestaurantsDelivery': 'False', 'RestaurantsGoodForGroups': 'True', 'RestaurantsPriceRange2': '1', 'RestaurantsReservations': 'False', 'RestaurantsTableService': 'False', 'RestaurantsTakeOut': 'True', 'WiFi': 'no'}                                                                                                                                                                                                                                                                                                                                                                                                                                                                                                                                     3\n",
       "{'BusinessAcceptsBitcoin': 'False', 'BusinessAcceptsCreditCards': 'True'}                                                                                                                                                                                                                                                                                                                                                                                                                                                                                                                                                                                                                                                                                                                                                                                                                                                                                                                                                                                                                                                                                                                                                                                                                                                                                                                                                                 3\n",
       "{'Alcohol': 'none', 'Ambience': '{'romantic': False, 'intimate': False, 'classy': False, 'hipster': False, 'divey': False, 'touristy': False, 'trendy': False, 'upscale': False, 'casual': False}', 'BikeParking': 'True', 'BusinessAcceptsCreditCards': 'True', 'BusinessParking': '{'garage': False, 'street': False, 'validated': False, 'lot': False, 'valet': False}', 'Caters': 'False', 'DriveThru': 'True', 'GoodForKids': 'True', 'GoodForMeal': '{'dessert': False, 'latenight': False, 'lunch': False, 'dinner': False, 'breakfast': False, 'brunch': False}', 'HasTV': 'True', 'NoiseLevel': 'average', 'OutdoorSeating': 'False', 'RestaurantsAttire': 'casual', 'RestaurantsDelivery': 'False', 'RestaurantsGoodForGroups': 'True', 'RestaurantsPriceRange2': '1', 'RestaurantsReservations': 'False', 'RestaurantsTableService': 'False', 'RestaurantsTakeOut': 'True', 'WiFi': 'free'}                                                                                                                                                                                                                                                                                                                                                                                                                                                                                                                                    3\n",
       "{'Alcohol': 'none', 'BusinessAcceptsCreditCards': 'True', 'BusinessParking': '{'garage': False, 'street': False, 'validated': False, 'lot': False, 'valet': False}', 'GoodForKids': 'True', 'GoodForMeal': '{'dessert': False, 'latenight': False, 'lunch': False, 'dinner': False, 'breakfast': False, 'brunch': False}', 'OutdoorSeating': 'True', 'RestaurantsAttire': 'casual', 'RestaurantsDelivery': 'False', 'RestaurantsGoodForGroups': 'True', 'RestaurantsPriceRange2': '1', 'RestaurantsReservations': 'False', 'RestaurantsTableService': 'False', 'RestaurantsTakeOut': 'True', 'WheelchairAccessible': 'True'}                                                                                                                                                                                                                                                                                                                                                                                                                                                                                                                                                                                                                                                                                                                                                                                                              3\n",
       "{'Alcohol': 'none', 'Ambience': '{'romantic': False, 'intimate': False, 'classy': False, 'hipster': False, 'divey': False, 'touristy': False, 'trendy': False, 'upscale': False, 'casual': True}', 'BikeParking': 'True', 'BusinessAcceptsCreditCards': 'True', 'BusinessParking': '{'garage': False, 'street': False, 'validated': False, 'lot': True, 'valet': False}', 'Caters': 'False', 'DriveThru': 'True', 'GoodForKids': 'True', 'GoodForMeal': '{'dessert': False, 'latenight': False, 'lunch': True, 'dinner': True, 'breakfast': False, 'brunch': False}', 'HasTV': 'False', 'NoiseLevel': 'average', 'OutdoorSeating': 'False', 'RestaurantsAttire': 'casual', 'RestaurantsDelivery': 'False', 'RestaurantsGoodForGroups': 'True', 'RestaurantsPriceRange2': '1', 'RestaurantsReservations': 'False', 'RestaurantsTableService': 'False', 'RestaurantsTakeOut': 'True', 'WiFi': 'no'}                                                                                                                                                                                                                                                                                                                                                                                                                                                                                                                                         3\n",
       "{'Alcohol': 'beer_and_wine', 'Ambience': '{'romantic': False, 'intimate': False, 'classy': False, 'hipster': False, 'divey': False, 'touristy': False, 'trendy': False, 'upscale': False, 'casual': True}', 'BikeParking': 'True', 'BusinessAcceptsCreditCards': 'True', 'BusinessParking': '{'garage': False, 'street': False, 'validated': False, 'lot': True, 'valet': False}', 'Caters': 'False', 'GoodForKids': 'True', 'GoodForMeal': '{'dessert': False, 'latenight': False, 'lunch': True, 'dinner': True, 'breakfast': False, 'brunch': False}', 'HasTV': 'True', 'NoiseLevel': 'average', 'OutdoorSeating': 'False', 'RestaurantsAttire': 'casual', 'RestaurantsDelivery': 'False', 'RestaurantsGoodForGroups': 'True', 'RestaurantsPriceRange2': '2', 'RestaurantsReservations': 'False', 'RestaurantsTableService': 'True', 'RestaurantsTakeOut': 'True', 'WiFi': 'no'}                                                                                                                                                                                                                                                                                                                                                                                                                                                                                                                                                       2\n",
       "{'Alcohol': 'none', 'Ambience': '{'romantic': False, 'intimate': False, 'classy': False, 'hipster': False, 'divey': False, 'touristy': False, 'trendy': False, 'upscale': False, 'casual': True}', 'BikeParking': 'True', 'BusinessAcceptsCreditCards': 'True', 'BusinessParking': '{'garage': False, 'street': False, 'validated': False, 'lot': True, 'valet': False}', 'Caters': 'True', 'DriveThru': 'False', 'GoodForKids': 'True', 'GoodForMeal': '{'dessert': False, 'latenight': False, 'lunch': True, 'dinner': False, 'breakfast': False, 'brunch': False}', 'HasTV': 'True', 'NoiseLevel': 'average', 'OutdoorSeating': 'True', 'RestaurantsAttire': 'casual', 'RestaurantsDelivery': 'False', 'RestaurantsGoodForGroups': 'True', 'RestaurantsPriceRange2': '1', 'RestaurantsReservations': 'False', 'RestaurantsTableService': 'False', 'RestaurantsTakeOut': 'True', 'WheelchairAccessible': 'True', 'WiFi': 'no'}                                                                                                                                                                                                                                                                                                                                                                                                                                                                                                          2\n",
       "{'Alcohol': 'none', 'Ambience': '{'romantic': False, 'intimate': False, 'classy': False, 'hipster': False, 'divey': False, 'touristy': False, 'trendy': False, 'upscale': False, 'casual': True}', 'BikeParking': 'False', 'BusinessAcceptsCreditCards': 'True', 'BusinessParking': '{'garage': False, 'street': False, 'validated': False, 'lot': False, 'valet': False}', 'Caters': 'False', 'DriveThru': 'False', 'GoodForKids': 'True', 'GoodForMeal': '{'dessert': False, 'latenight': False, 'lunch': True, 'dinner': True, 'breakfast': True, 'brunch': False}', 'HasTV': 'False', 'NoiseLevel': 'average', 'OutdoorSeating': 'False', 'RestaurantsAttire': 'casual', 'RestaurantsDelivery': 'False', 'RestaurantsGoodForGroups': 'False', 'RestaurantsPriceRange2': '1', 'RestaurantsReservations': 'False', 'RestaurantsTableService': 'False', 'RestaurantsTakeOut': 'True', 'WiFi': 'free'}                                                                                                                                                                                                                                                                                                                                                                                                                                                                                                                                    2\n",
       "                                                                                                                                                                                                                                                                                                                                                                                                                                                                                                                                                                                                                                                                                                                                                                                                                                                                                                                                                                                                                                                                                                                                                                                                                                                                                                                                                                                                                                         ..\n",
       "{'Alcohol': 'none', 'Ambience': '{'romantic': False, 'intimate': False, 'classy': False, 'hipster': False, 'divey': False, 'touristy': False, 'trendy': False, 'upscale': False, 'casual': False}', 'BusinessAcceptsCreditCards': 'True', 'BusinessParking': '{'garage': False, 'street': False, 'validated': False, 'lot': True, 'valet': False}', 'GoodForKids': 'True', 'GoodForMeal': '{'dessert': False, 'latenight': False, 'lunch': True, 'dinner': True, 'breakfast': False, 'brunch': False}', 'OutdoorSeating': 'False', 'RestaurantsAttire': 'casual', 'RestaurantsDelivery': 'True', 'RestaurantsGoodForGroups': 'True', 'RestaurantsPriceRange2': '1', 'RestaurantsReservations': 'False', 'RestaurantsTableService': 'False', 'RestaurantsTakeOut': 'True', 'WheelchairAccessible': 'True'}                                                                                                                                                                                                                                                                                                                                                                                                                                                                                                                                                                                                                                 1\n",
       "{'BikeParking': 'False', 'BusinessAcceptsCreditCards': 'False', 'BusinessParking': '{'garage': False, 'street': False, 'validated': False, 'lot': False, 'valet': False}', 'RestaurantsPriceRange2': '1', 'WheelchairAccessible': 'True'}                                                                                                                                                                                                                                                                                                                                                                                                                                                                                                                                                                                                                                                                                                                                                                                                                                                                                                                                                                                                                                                                                                                                                                                                 1\n",
       "{'Alcohol': 'full_bar', 'Ambience': '{'romantic': False, 'intimate': False, 'classy': False, 'hipster': False, 'divey': False, 'touristy': False, 'trendy': False, 'upscale': False, 'casual': True}', 'BestNights': '{'monday': True, 'tuesday': False, 'friday': False, 'wednesday': True, 'thursday': False, 'sunday': True, 'saturday': False}', 'BikeParking': 'True', 'BusinessAcceptsCreditCards': 'True', 'BusinessParking': '{'garage': False, 'street': False, 'validated': False, 'lot': False, 'valet': False}', 'Caters': 'True', 'CoatCheck': 'False', 'GoodForDancing': 'False', 'GoodForKids': 'True', 'GoodForMeal': '{'dessert': False, 'latenight': False, 'lunch': True, 'dinner': True, 'breakfast': False, 'brunch': False}', 'HappyHour': 'True', 'HasTV': 'True', 'Music': '{'dj': False, 'background_music': False, 'no_music': False, 'karaoke': False, 'live': False, 'video': False, 'jukebox': False}', 'NoiseLevel': 'average', 'OutdoorSeating': 'False', 'RestaurantsAttire': 'casual', 'RestaurantsDelivery': 'False', 'RestaurantsGoodForGroups': 'True', 'RestaurantsPriceRange2': '2', 'RestaurantsReservations': 'True', 'RestaurantsTableService': 'True', 'RestaurantsTakeOut': 'True', 'WiFi': 'free'}                                                                                                                                                                                            1\n",
       "{'Ambience': '{'romantic': False, 'intimate': False, 'classy': False, 'hipster': False, 'divey': False, 'touristy': False, 'trendy': False, 'upscale': False, 'casual': False}', 'BikeParking': 'False', 'BusinessAcceptsCreditCards': 'True', 'BusinessParking': '{'garage': False, 'street': False, 'validated': False, 'lot': False, 'valet': False}', 'Caters': 'False', 'DriveThru': 'False', 'GoodForKids': 'True', 'GoodForMeal': '{'dessert': False, 'latenight': False, 'lunch': False, 'dinner': False, 'breakfast': False, 'brunch': False}', 'HasTV': 'False', 'OutdoorSeating': 'False', 'RestaurantsAttire': 'casual', 'RestaurantsDelivery': 'False', 'RestaurantsGoodForGroups': 'False', 'RestaurantsPriceRange2': '1', 'RestaurantsReservations': 'False', 'RestaurantsTableService': 'False', 'RestaurantsTakeOut': 'True', 'WiFi': 'no'}                                                                                                                                                                                                                                                                                                                                                                                                                                                                                                                                                                              1\n",
       "{'Alcohol': 'none', 'Ambience': '{'romantic': False, 'intimate': False, 'classy': False, 'hipster': False, 'divey': False, 'touristy': False, 'trendy': False, 'upscale': False, 'casual': True}', 'BikeParking': 'True', 'BusinessAcceptsBitcoin': 'False', 'BusinessAcceptsCreditCards': 'True', 'BusinessParking': '{'garage': False, 'street': False, 'validated': False, 'lot': True, 'valet': False}', 'Caters': 'False', 'DogsAllowed': 'True', 'GoodForKids': 'True', 'GoodForMeal': '{'dessert': False, 'latenight': False, 'lunch': True, 'dinner': True, 'breakfast': True, 'brunch': True}', 'HasTV': 'False', 'NoiseLevel': 'average', 'OutdoorSeating': 'True', 'RestaurantsAttire': 'casual', 'RestaurantsDelivery': 'False', 'RestaurantsGoodForGroups': 'True', 'RestaurantsPriceRange2': '1', 'RestaurantsReservations': 'False', 'RestaurantsTableService': 'True', 'RestaurantsTakeOut': 'True', 'WheelchairAccessible': 'True', 'WiFi': 'no'}                                                                                                                                                                                                                                                                                                                                                                                                                                                                        1\n",
       "{'Alcohol': 'full_bar', 'Ambience': '{'romantic': False, 'intimate': False, 'classy': False, 'hipster': False, 'divey': False, 'touristy': False, 'trendy': False, 'upscale': False, 'casual': True}', 'BikeParking': 'True', 'BusinessAcceptsCreditCards': 'True', 'BusinessParking': '{'garage': True, 'street': True, 'validated': True, 'lot': False, 'valet': True}', 'Caters': 'True', 'GoodForKids': 'True', 'GoodForMeal': '{'dessert': False, 'latenight': False, 'lunch': False, 'dinner': True, 'breakfast': False, 'brunch': False}', 'HasTV': 'True', 'NoiseLevel': 'average', 'OutdoorSeating': 'True', 'RestaurantsAttire': 'casual', 'RestaurantsDelivery': 'False', 'RestaurantsGoodForGroups': 'True', 'RestaurantsPriceRange2': '2', 'RestaurantsReservations': 'True', 'RestaurantsTableService': 'True', 'RestaurantsTakeOut': 'True', 'WheelchairAccessible': 'True', 'WiFi': 'free'}                                                                                                                                                                                                                                                                                                                                                                                                                                                                                                                               1\n",
       "{'Alcohol': 'none', 'Ambience': '{'romantic': False, 'intimate': False, 'classy': False, 'hipster': False, 'divey': False, 'touristy': False, 'trendy': False, 'upscale': False, 'casual': True}', 'BikeParking': 'True', 'BusinessAcceptsCreditCards': 'True', 'BusinessParking': '{'garage': False, 'street': False, 'validated': False, 'lot': False, 'valet': False}', 'Caters': 'True', 'GoodForKids': 'True', 'GoodForMeal': '{'dessert': False, 'latenight': False, 'lunch': True, 'dinner': False, 'breakfast': False, 'brunch': False}', 'HasTV': 'False', 'NoiseLevel': 'average', 'OutdoorSeating': 'True', 'RestaurantsAttire': 'casual', 'RestaurantsDelivery': 'False', 'RestaurantsGoodForGroups': 'True', 'RestaurantsPriceRange2': '1', 'RestaurantsReservations': 'False', 'RestaurantsTableService': 'False', 'RestaurantsTakeOut': 'True', 'WiFi': 'no'}                                                                                                                                                                                                                                                                                                                                                                                                                                                                                                                                                              1\n",
       "{'Alcohol': 'beer_and_wine', 'Ambience': '{'romantic': False, 'intimate': False, 'classy': False, 'hipster': False, 'divey': False, 'touristy': False, 'trendy': False, 'upscale': False, 'casual': True}', 'BikeParking': 'False', 'BusinessAcceptsCreditCards': 'True', 'BusinessParking': '{'garage': False, 'street': False, 'validated': False, 'lot': False, 'valet': False}', 'Caters': 'False', 'GoodForKids': 'True', 'GoodForMeal': '{'dessert': False, 'latenight': False, 'lunch': True, 'dinner': True, 'breakfast': False, 'brunch': False}', 'HasTV': 'False', 'NoiseLevel': 'quiet', 'OutdoorSeating': 'False', 'RestaurantsAttire': 'casual', 'RestaurantsDelivery': 'False', 'RestaurantsGoodForGroups': 'True', 'RestaurantsPriceRange2': '1', 'RestaurantsReservations': 'False', 'RestaurantsTableService': 'True', 'RestaurantsTakeOut': 'True', 'WheelchairAccessible': 'True', 'WiFi': 'no'}                                                                                                                                                                                                                                                                                                                                                                                                                                                                                                                      1\n",
       "{'Alcohol': 'none', 'Ambience': '{'romantic': False, 'intimate': False, 'classy': False, 'hipster': False, 'divey': False, 'touristy': False, 'trendy': False, 'upscale': False, 'casual': True}', 'BikeParking': 'True', 'BusinessAcceptsCreditCards': 'True', 'BusinessParking': '{'garage': False, 'street': False, 'validated': False, 'lot': True, 'valet': False}', 'Caters': 'False', 'GoodForKids': 'True', 'GoodForMeal': '{'dessert': True, 'latenight': False, 'lunch': False, 'dinner': False, 'breakfast': False, 'brunch': False}', 'HasTV': 'True', 'NoiseLevel': 'average', 'OutdoorSeating': 'True', 'RestaurantsAttire': 'casual', 'RestaurantsDelivery': 'False', 'RestaurantsGoodForGroups': 'True', 'RestaurantsPriceRange2': '1', 'RestaurantsReservations': 'False', 'RestaurantsTableService': 'False', 'RestaurantsTakeOut': 'True', 'WheelchairAccessible': 'True', 'WiFi': 'free'}                                                                                                                                                                                                                                                                                                                                                                                                                                                                                                                             1\n",
       "{'BusinessParking': '{'garage': False, 'street': False, 'validated': False, 'lot': False, 'valet': False}', 'GoodForKids': 'True', 'RestaurantsDelivery': 'False', 'RestaurantsGoodForGroups': 'True', 'RestaurantsPriceRange2': '1', 'RestaurantsTableService': 'False', 'RestaurantsTakeOut': 'True', 'WheelchairAccessible': 'True'}                                                                                                                                                                                                                                                                                                                                                                                                                                                                                                                                                                                                                                                                                                                                                                                                                                                                                                                                                                                                                                                                                                   1\n",
       "{'Alcohol': 'none', 'Ambience': '{'romantic': False, 'intimate': False, 'classy': False, 'hipster': False, 'divey': False, 'touristy': False, 'trendy': False, 'upscale': False, 'casual': True}', 'BikeParking': 'True', 'BusinessAcceptsCreditCards': 'True', 'BusinessParking': '{'garage': False, 'street': False, 'validated': False, 'lot': True, 'valet': False}', 'Caters': 'True', 'GoodForKids': 'True', 'GoodForMeal': '{'dessert': True, 'latenight': False, 'lunch': True, 'dinner': False, 'breakfast': False, 'brunch': False}', 'HasTV': 'True', 'NoiseLevel': 'average', 'OutdoorSeating': 'True', 'RestaurantsAttire': 'casual', 'RestaurantsDelivery': 'False', 'RestaurantsGoodForGroups': 'True', 'RestaurantsPriceRange2': '1', 'RestaurantsReservations': 'False', 'RestaurantsTableService': 'False', 'RestaurantsTakeOut': 'True', 'WiFi': 'no'}                                                                                                                                                                                                                                                                                                                                                                                                                                                                                                                                                                 1\n",
       "{'Alcohol': 'full_bar', 'Ambience': '{'romantic': False, 'intimate': True, 'classy': False, 'hipster': True, 'divey': False, 'touristy': False, 'trendy': True, 'upscale': False, 'casual': True}', 'BestNights': '{'monday': False, 'tuesday': True, 'friday': False, 'wednesday': True, 'thursday': False, 'sunday': False, 'saturday': True}', 'BikeParking': 'True', 'BusinessAcceptsBitcoin': 'False', 'BusinessAcceptsCreditCards': 'True', 'BusinessParking': '{'garage': False, 'street': False, 'validated': False, 'lot': True, 'valet': False}', 'Caters': 'False', 'CoatCheck': 'False', 'DogsAllowed': 'False', 'GoodForDancing': 'False', 'GoodForKids': 'True', 'GoodForMeal': '{'dessert': False, 'latenight': True, 'lunch': True, 'dinner': True, 'breakfast': False, 'brunch': False}', 'HappyHour': 'True', 'HasTV': 'True', 'Music': '{'dj': False, 'background_music': False, 'no_music': False, 'karaoke': False, 'live': False, 'video': False, 'jukebox': False}', 'NoiseLevel': 'average', 'OutdoorSeating': 'False', 'RestaurantsAttire': 'casual', 'RestaurantsDelivery': 'False', 'RestaurantsGoodForGroups': 'True', 'RestaurantsPriceRange2': '2', 'RestaurantsReservations': 'True', 'RestaurantsTableService': 'True', 'RestaurantsTakeOut': 'False', 'Smoking': 'no', 'WheelchairAccessible': 'False', 'WiFi': 'free'}                                                                                  1\n",
       "{'BusinessAcceptsCreditCards': 'True', 'GoodForKids': 'True', 'RestaurantsAttire': 'casual', 'RestaurantsDelivery': 'False', 'RestaurantsGoodForGroups': 'True', 'RestaurantsPriceRange2': '1', 'RestaurantsReservations': 'False', 'RestaurantsTakeOut': 'True'}                                                                                                                                                                                                                                                                                                                                                                                                                                                                                                                                                                                                                                                                                                                                                                                                                                                                                                                                                                                                                                                                                                                                                                         1\n",
       "{'Alcohol': 'none', 'Ambience': '{'romantic': False, 'intimate': False, 'classy': False, 'hipster': False, 'divey': False, 'touristy': False, 'trendy': False, 'upscale': False, 'casual': False}', 'BikeParking': 'False', 'BusinessAcceptsCreditCards': 'True', 'BusinessParking': '{'garage': False, 'street': False, 'validated': False, 'lot': True, 'valet': False}', 'GoodForKids': 'True', 'GoodForMeal': '{'dessert': False, 'latenight': False, 'lunch': True, 'dinner': True, 'breakfast': False, 'brunch': False}', 'HasTV': 'True', 'NoiseLevel': 'quiet', 'OutdoorSeating': 'False', 'RestaurantsAttire': 'casual', 'RestaurantsDelivery': 'False', 'RestaurantsGoodForGroups': 'True', 'RestaurantsPriceRange2': '2', 'RestaurantsReservations': 'False', 'RestaurantsTableService': 'True', 'RestaurantsTakeOut': 'True', 'WiFi': 'no'}                                                                                                                                                                                                                                                                                                                                                                                                                                                                                                                                                                                   1\n",
       "{'Alcohol': 'none', 'Ambience': '{'romantic': False, 'intimate': False, 'classy': False, 'hipster': False, 'divey': False, 'touristy': False, 'trendy': False, 'upscale': False, 'casual': True}', 'BikeParking': 'True', 'BusinessAcceptsCreditCards': 'True', 'BusinessParking': '{'garage': False, 'street': False, 'validated': False, 'lot': False, 'valet': False}', 'Caters': 'False', 'DriveThru': 'True', 'GoodForKids': 'True', 'GoodForMeal': '{'dessert': False, 'latenight': False, 'lunch': True, 'dinner': False, 'breakfast': False, 'brunch': True}', 'HasTV': 'False', 'NoiseLevel': 'average', 'OutdoorSeating': 'False', 'RestaurantsAttire': 'casual', 'RestaurantsDelivery': 'False', 'RestaurantsGoodForGroups': 'True', 'RestaurantsPriceRange2': '1', 'RestaurantsReservations': 'False', 'RestaurantsTableService': 'True', 'RestaurantsTakeOut': 'True', 'WiFi': 'no'}                                                                                                                                                                                                                                                                                                                                                                                                                                                                                                                                         1\n",
       "{'Alcohol': 'none', 'Ambience': '{'romantic': False, 'intimate': False, 'classy': False, 'hipster': False, 'divey': False, 'touristy': False, 'trendy': False, 'upscale': False, 'casual': True}', 'BikeParking': 'True', 'BusinessAcceptsBitcoin': 'False', 'BusinessAcceptsCreditCards': 'True', 'BusinessParking': '{'garage': False, 'street': False, 'validated': False, 'lot': True, 'valet': False}', 'Caters': 'True', 'DriveThru': 'True', 'GoodForKids': 'True', 'GoodForMeal': '{'dessert': False, 'latenight': False, 'lunch': True, 'dinner': True, 'breakfast': True, 'brunch': False}', 'HasTV': 'False', 'NoiseLevel': 'average', 'OutdoorSeating': 'True', 'RestaurantsAttire': 'casual', 'RestaurantsDelivery': 'True', 'RestaurantsGoodForGroups': 'True', 'RestaurantsPriceRange2': '1', 'RestaurantsReservations': 'False', 'RestaurantsTableService': 'False', 'RestaurantsTakeOut': 'True', 'WheelchairAccessible': 'True', 'WiFi': 'free'}                                                                                                                                                                                                                                                                                                                                                                                                                                                                        1\n",
       "{'Alcohol': 'full_bar', 'Ambience': '{'romantic': False, 'intimate': False, 'classy': False, 'hipster': False, 'divey': False, 'touristy': False, 'trendy': False, 'upscale': False, 'casual': False}', 'BusinessAcceptsCreditCards': 'True', 'BusinessParking': '{'garage': False, 'street': False, 'validated': False, 'lot': False, 'valet': False}', 'GoodForKids': 'True', 'GoodForMeal': '{'dessert': False, 'latenight': False, 'lunch': False, 'dinner': False, 'breakfast': False, 'brunch': False}', 'HasTV': 'False', 'NoiseLevel': 'average', 'OutdoorSeating': 'False', 'RestaurantsAttire': 'casual', 'RestaurantsDelivery': 'False', 'RestaurantsGoodForGroups': 'True', 'RestaurantsPriceRange2': '2', 'RestaurantsTableService': 'True', 'RestaurantsTakeOut': 'True'}                                                                                                                                                                                                                                                                                                                                                                                                                                                                                                                                                                                                                                                   1\n",
       "{'Alcohol': 'none', 'BusinessAcceptsCreditCards': 'True', 'BusinessParking': '{'garage': False, 'street': False, 'validated': False, 'lot': True, 'valet': False}', 'GoodForKids': 'True', 'OutdoorSeating': 'True', 'RestaurantsAttire': 'casual', 'RestaurantsGoodForGroups': 'True', 'RestaurantsPriceRange2': '1', 'RestaurantsReservations': 'False', 'WheelchairAccessible': 'False', 'WiFi': 'no'}                                                                                                                                                                                                                                                                                                                                                                                                                                                                                                                                                                                                                                                                                                                                                                                                                                                                                                                                                                                                                                 1\n",
       "{'Alcohol': 'beer_and_wine', 'Ambience': '{'romantic': False, 'intimate': False, 'classy': False, 'hipster': False, 'divey': False, 'touristy': False, 'trendy': False, 'upscale': False, 'casual': True}', 'BYOB': 'False', 'BYOBCorkage': 'no', 'BikeParking': 'False', 'BusinessAcceptsCreditCards': 'True', 'BusinessParking': '{'garage': False, 'street': False, 'validated': False, 'lot': True, 'valet': False}', 'Caters': 'True', 'GoodForKids': 'True', 'GoodForMeal': '{'dessert': False, 'latenight': False, 'lunch': True, 'dinner': True, 'breakfast': False, 'brunch': False}', 'HasTV': 'True', 'NoiseLevel': 'average', 'OutdoorSeating': 'True', 'RestaurantsAttire': 'casual', 'RestaurantsDelivery': 'False', 'RestaurantsGoodForGroups': 'True', 'RestaurantsPriceRange2': '1', 'RestaurantsReservations': 'False', 'RestaurantsTableService': 'True', 'RestaurantsTakeOut': 'True', 'WheelchairAccessible': 'True', 'WiFi': 'no'}                                                                                                                                                                                                                                                                                                                                                                                                                                                                                  1\n",
       "{'Alcohol': 'full_bar', 'Ambience': '{'romantic': False, 'intimate': False, 'classy': False, 'hipster': False, 'divey': False, 'touristy': False, 'trendy': False, 'upscale': False, 'casual': False}', 'BusinessAcceptsCreditCards': 'True', 'Caters': 'False', 'GoodForKids': 'True', 'GoodForMeal': '{'dessert': False, 'latenight': False, 'lunch': False, 'dinner': False, 'breakfast': False, 'brunch': False}', 'HasTV': 'True', 'NoiseLevel': 'average', 'OutdoorSeating': 'False', 'RestaurantsAttire': 'casual', 'RestaurantsDelivery': 'False', 'RestaurantsGoodForGroups': 'False', 'RestaurantsPriceRange2': '3', 'RestaurantsReservations': 'False', 'RestaurantsTableService': 'True', 'RestaurantsTakeOut': 'False', 'WiFi': 'no'}                                                                                                                                                                                                                                                                                                                                                                                                                                                                                                                                                                                                                                                                                        1\n",
       "{'Alcohol': 'none', 'Ambience': '{'romantic': False, 'intimate': False, 'classy': False, 'hipster': False, 'divey': False, 'touristy': False, 'trendy': False, 'upscale': False, 'casual': True}', 'BikeParking': 'True', 'BusinessAcceptsCreditCards': 'True', 'BusinessParking': '{'garage': False, 'street': False, 'validated': False, 'lot': True, 'valet': False}', 'Caters': 'False', 'GoodForKids': 'True', 'GoodForMeal': '{'dessert': False, 'latenight': False, 'lunch': True, 'dinner': True, 'breakfast': False, 'brunch': False}', 'HasTV': 'False', 'NoiseLevel': 'quiet', 'OutdoorSeating': 'False', 'RestaurantsAttire': 'casual', 'RestaurantsDelivery': 'False', 'RestaurantsGoodForGroups': 'True', 'RestaurantsPriceRange2': '2', 'RestaurantsReservations': 'True', 'RestaurantsTableService': 'True', 'RestaurantsTakeOut': 'True', 'WheelchairAccessible': 'True', 'WiFi': 'no'}                                                                                                                                                                                                                                                                                                                                                                                                                                                                                                                                  1\n",
       "{'Alcohol': 'full_bar', 'Ambience': '{'romantic': False, 'intimate': False, 'classy': True, 'hipster': False, 'divey': False, 'touristy': False, 'trendy': False, 'upscale': False, 'casual': False}', 'BestNights': '{'monday': False, 'tuesday': False, 'friday': False, 'wednesday': False, 'thursday': False, 'sunday': False, 'saturday': True}', 'BikeParking': 'True', 'BusinessAcceptsCreditCards': 'True', 'BusinessParking': '{'garage': False, 'street': False, 'validated': False, 'lot': True, 'valet': False}', 'Caters': 'False', 'CoatCheck': 'False', 'GoodForDancing': 'False', 'GoodForKids': 'False', 'GoodForMeal': '{'dessert': False, 'latenight': False, 'lunch': False, 'dinner': True, 'breakfast': False, 'brunch': False}', 'HappyHour': 'True', 'HasTV': 'True', 'Music': '{'dj': False, 'background_music': True, 'no_music': False, 'karaoke': False, 'live': False, 'video': False, 'jukebox': False}', 'NoiseLevel': 'average', 'OutdoorSeating': 'True', 'RestaurantsAttire': 'dressy', 'RestaurantsDelivery': 'False', 'RestaurantsGoodForGroups': 'True', 'RestaurantsPriceRange2': '3', 'RestaurantsReservations': 'True', 'RestaurantsTableService': 'True', 'RestaurantsTakeOut': 'True', 'Smoking': 'no', 'WheelchairAccessible': 'True', 'WiFi': 'no'}                                                                                                                                           1\n",
       "{'Alcohol': 'full_bar', 'Ambience': '{'romantic': False, 'intimate': False, 'classy': False, 'hipster': False, 'divey': False, 'touristy': False, 'trendy': False, 'upscale': False, 'casual': True}', 'BestNights': '{'monday': False, 'tuesday': False, 'friday': True, 'wednesday': False, 'thursday': True, 'sunday': False, 'saturday': True}', 'BikeParking': 'True', 'BusinessAcceptsCreditCards': 'True', 'BusinessParking': '{'garage': False, 'street': False, 'validated': False, 'lot': True, 'valet': False}', 'CoatCheck': 'False', 'GoodForDancing': 'False', 'GoodForKids': 'True', 'GoodForMeal': '{'dessert': False, 'latenight': False, 'lunch': False, 'dinner': True, 'breakfast': False, 'brunch': False}', 'HappyHour': 'True', 'HasTV': 'True', 'Music': '{'dj': False, 'background_music': False, 'no_music': False, 'karaoke': False, 'live': False, 'video': False, 'jukebox': False}', 'NoiseLevel': 'average', 'OutdoorSeating': 'True', 'RestaurantsAttire': 'casual', 'RestaurantsDelivery': 'False', 'RestaurantsGoodForGroups': 'True', 'RestaurantsPriceRange2': '2', 'RestaurantsReservations': 'False', 'RestaurantsTableService': 'True', 'RestaurantsTakeOut': 'True', 'Smoking': 'outdoor', 'WiFi': 'free'}                                                                                                                                                                                        1\n",
       "{'Alcohol': 'none', 'Ambience': '{'romantic': False, 'intimate': False, 'classy': False, 'hipster': False, 'divey': False, 'touristy': False, 'trendy': False, 'upscale': False, 'casual': True}', 'BikeParking': 'False', 'BusinessAcceptsCreditCards': 'True', 'BusinessParking': '{'garage': False, 'street': False, 'validated': False, 'lot': True, 'valet': False}', 'Caters': 'False', 'GoodForKids': 'True', 'GoodForMeal': '{'dessert': False, 'latenight': False, 'lunch': True, 'dinner': True, 'breakfast': False, 'brunch': False}', 'HasTV': 'True', 'NoiseLevel': 'average', 'OutdoorSeating': 'False', 'RestaurantsAttire': 'casual', 'RestaurantsDelivery': 'False', 'RestaurantsGoodForGroups': 'True', 'RestaurantsPriceRange2': '1', 'RestaurantsReservations': 'True', 'RestaurantsTableService': 'True', 'RestaurantsTakeOut': 'True', 'WheelchairAccessible': 'True', 'WiFi': 'no'}                                                                                                                                                                                                                                                                                                                                                                                                                                                                                                                                1\n",
       "{'Alcohol': 'none', 'Ambience': '{'romantic': False, 'intimate': False, 'classy': False, 'hipster': False, 'divey': False, 'touristy': False, 'trendy': False, 'upscale': False, 'casual': True}', 'BikeParking': 'True', 'BusinessAcceptsCreditCards': 'True', 'BusinessParking': '{'garage': False, 'street': False, 'validated': False, 'lot': True, 'valet': False}', 'Caters': 'True', 'DriveThru': 'True', 'GoodForKids': 'True', 'GoodForMeal': '{'dessert': False, 'latenight': False, 'lunch': True, 'dinner': True, 'breakfast': False, 'brunch': False}', 'HasTV': 'True', 'NoiseLevel': 'average', 'OutdoorSeating': 'True', 'RestaurantsAttire': 'casual', 'RestaurantsDelivery': 'True', 'RestaurantsGoodForGroups': 'True', 'RestaurantsPriceRange2': '1', 'RestaurantsReservations': 'False', 'RestaurantsTableService': 'False', 'RestaurantsTakeOut': 'True', 'WheelchairAccessible': 'True', 'WiFi': 'no'}                                                                                                                                                                                                                                                                                                                                                                                                                                                                                                             1\n",
       "{'Alcohol': 'beer_and_wine', 'Ambience': '{'romantic': False, 'intimate': False, 'classy': False, 'hipster': False, 'divey': False, 'touristy': False, 'trendy': False, 'upscale': False, 'casual': True}', 'BikeParking': 'True', 'BusinessAcceptsCreditCards': 'True', 'BusinessParking': '{'garage': False, 'street': False, 'validated': False, 'lot': True, 'valet': False}', 'Caters': 'True', 'DietaryRestrictions': '{'dairy-free': False, 'gluten-free': True, 'vegan': False, 'kosher': False, 'halal': False, 'soy-free': False, 'vegetarian': True}', 'DriveThru': 'False', 'GoodForKids': 'True', 'GoodForMeal': '{'dessert': False, 'latenight': False, 'lunch': True, 'dinner': True, 'breakfast': False, 'brunch': False}', 'HasTV': 'False', 'NoiseLevel': 'average', 'Open24Hours': 'False', 'OutdoorSeating': 'True', 'RestaurantsAttire': 'casual', 'RestaurantsDelivery': 'False', 'RestaurantsGoodForGroups': 'True', 'RestaurantsPriceRange2': '1', 'RestaurantsReservations': 'False', 'RestaurantsTableService': 'False', 'RestaurantsTakeOut': 'True', 'WheelchairAccessible': 'True', 'WiFi': 'free'}                                                                                                                                                                                                                                                                                                          1\n",
       "{'Alcohol': 'full_bar', 'Ambience': '{'romantic': False, 'intimate': False, 'classy': False, 'hipster': False, 'divey': False, 'touristy': False, 'trendy': False, 'upscale': False, 'casual': True}', 'BusinessAcceptsCreditCards': 'True', 'BusinessParking': '{'garage': False, 'street': True, 'validated': False, 'lot': True, 'valet': False}', 'GoodForDancing': 'False', 'GoodForKids': 'False', 'GoodForMeal': '{'dessert': False, 'latenight': False, 'lunch': False, 'dinner': False, 'breakfast': False, 'brunch': False}', 'HappyHour': 'True', 'HasTV': 'True', 'OutdoorSeating': 'False', 'RestaurantsAttire': 'casual', 'RestaurantsDelivery': 'False', 'RestaurantsGoodForGroups': 'True', 'RestaurantsPriceRange2': '2', 'RestaurantsReservations': 'True', 'RestaurantsTakeOut': 'True', 'WheelchairAccessible': 'True', 'WiFi': 'free'}                                                                                                                                                                                                                                                                                                                                                                                                                                                                                                                                                                               1\n",
       "{'Alcohol': 'full_bar', 'Ambience': '{'romantic': True, 'intimate': False, 'classy': True, 'hipster': False, 'divey': False, 'touristy': False, 'trendy': False, 'upscale': False, 'casual': False}', 'BYOB': 'False', 'BYOBCorkage': 'no', 'BestNights': '{'monday': True, 'tuesday': True, 'friday': False, 'wednesday': True, 'thursday': False, 'sunday': False, 'saturday': False}', 'BikeParking': 'True', 'BusinessAcceptsBitcoin': 'False', 'BusinessAcceptsCreditCards': 'True', 'BusinessParking': '{'garage': True, 'street': True, 'validated': True, 'lot': False, 'valet': True}', 'Caters': 'False', 'CoatCheck': 'False', 'DogsAllowed': 'False', 'GoodForDancing': 'False', 'GoodForKids': 'False', 'GoodForMeal': '{'dessert': False, 'latenight': False, 'lunch': False, 'dinner': True, 'breakfast': False, 'brunch': False}', 'HappyHour': 'True', 'HasTV': 'False', 'Music': '{'dj': False, 'background_music': True, 'no_music': False, 'karaoke': False, 'live': False, 'video': False, 'jukebox': False}', 'NoiseLevel': 'average', 'OutdoorSeating': 'False', 'RestaurantsAttire': 'dressy', 'RestaurantsCounterService': 'False', 'RestaurantsDelivery': 'False', 'RestaurantsGoodForGroups': 'True', 'RestaurantsPriceRange2': '3', 'RestaurantsReservations': 'True', 'RestaurantsTableService': 'True', 'RestaurantsTakeOut': 'False', 'Smoking': 'no', 'WheelchairAccessible': 'True', 'WiFi': 'free'}     1\n",
       "{'BikeParking': 'False', 'BusinessAcceptsCreditCards': 'True', 'BusinessParking': '{'garage': False, 'street': False, 'validated': False, 'lot': True, 'valet': False}', 'RestaurantsPriceRange2': '2'}                                                                                                                                                                                                                                                                                                                                                                                                                                                                                                                                                                                                                                                                                                                                                                                                                                                                                                                                                                                                                                                                                                                                                                                                                                   1\n",
       "{'Alcohol': 'none', 'Ambience': '{'romantic': False, 'intimate': False, 'classy': False, 'hipster': False, 'divey': False, 'touristy': False, 'trendy': False, 'upscale': False, 'casual': True}', 'BikeParking': 'True', 'BusinessAcceptsCreditCards': 'True', 'BusinessParking': '{'garage': False, 'street': False, 'validated': False, 'lot': True, 'valet': False}', 'Caters': 'False', 'GoodForKids': 'True', 'GoodForMeal': '{'dessert': False, 'latenight': False, 'lunch': True, 'dinner': True, 'breakfast': True, 'brunch': False}', 'HasTV': 'True', 'NoiseLevel': 'quiet', 'OutdoorSeating': 'False', 'RestaurantsAttire': 'casual', 'RestaurantsDelivery': 'False', 'RestaurantsGoodForGroups': 'True', 'RestaurantsPriceRange2': '1', 'RestaurantsReservations': 'False', 'RestaurantsTableService': 'False', 'RestaurantsTakeOut': 'True', 'WheelchairAccessible': 'True', 'WiFi': 'no'}                                                                                                                                                                                                                                                                                                                                                                                                                                                                                                                                  1\n",
       "Name: attributes, Length: 3623, dtype: int64"
      ]
     },
     "execution_count": 130,
     "metadata": {},
     "output_type": "execute_result"
    }
   ],
   "source": [
    "biz_phx.attributes.value_counts(dropna=False)"
   ]
  },
  {
   "cell_type": "code",
   "execution_count": 140,
   "metadata": {
    "ExecuteTime": {
     "end_time": "2018-08-23T20:18:59.441379Z",
     "start_time": "2018-08-23T20:18:59.410492Z"
    }
   },
   "outputs": [],
   "source": [
    "biz_phx.attributes.fillna(0, inplace=True)"
   ]
  },
  {
   "cell_type": "code",
   "execution_count": 143,
   "metadata": {
    "ExecuteTime": {
     "end_time": "2018-08-23T20:20:37.817608Z",
     "start_time": "2018-08-23T20:20:37.774800Z"
    }
   },
   "outputs": [],
   "source": [
    "biz_phx.attributes.replace(0, 'unknown', inplace=True)"
   ]
  },
  {
   "cell_type": "code",
   "execution_count": 144,
   "metadata": {
    "ExecuteTime": {
     "end_time": "2018-08-23T20:20:41.185083Z",
     "start_time": "2018-08-23T20:20:40.108432Z"
    }
   },
   "outputs": [
    {
     "data": {
      "text/plain": [
       "unknown                                                                                                                                                                                                                                                                                                                                                                                                                                                                                                                                                                                                                                                                                                                                                                                                                                                                                                                                                                                                                                                                                                                                                                                                                                                                                                                                                                                                                                  47\n",
       "{'Alcohol': 'full_bar', 'Ambience': '{'romantic': False, 'intimate': False, 'classy': False, 'hipster': False, 'divey': False, 'touristy': False, 'trendy': False, 'upscale': False, 'casual': True}', 'BikeParking': 'True', 'BusinessAcceptsCreditCards': 'True', 'BusinessParking': '{'garage': False, 'street': False, 'validated': False, 'lot': True, 'valet': False}', 'Caters': 'True', 'GoodForKids': 'True', 'GoodForMeal': '{'dessert': False, 'latenight': False, 'lunch': True, 'dinner': True, 'breakfast': False, 'brunch': False}', 'HasTV': 'True', 'NoiseLevel': 'average', 'OutdoorSeating': 'True', 'RestaurantsAttire': 'casual', 'RestaurantsDelivery': 'False', 'RestaurantsGoodForGroups': 'True', 'RestaurantsPriceRange2': '2', 'RestaurantsReservations': 'True', 'RestaurantsTableService': 'True', 'RestaurantsTakeOut': 'True', 'WheelchairAccessible': 'True', 'WiFi': 'free'}                                                                                                                                                                                                                                                                                                                                                                                                                                                                                                                             9\n",
       "{'Alcohol': 'full_bar', 'Ambience': '{'romantic': False, 'intimate': False, 'classy': False, 'hipster': False, 'divey': False, 'touristy': False, 'trendy': False, 'upscale': False, 'casual': True}', 'BikeParking': 'True', 'BusinessAcceptsCreditCards': 'True', 'BusinessParking': '{'garage': False, 'street': False, 'validated': False, 'lot': True, 'valet': False}', 'Caters': 'True', 'GoodForKids': 'True', 'GoodForMeal': '{'dessert': False, 'latenight': False, 'lunch': True, 'dinner': True, 'breakfast': False, 'brunch': False}', 'HasTV': 'True', 'NoiseLevel': 'average', 'OutdoorSeating': 'False', 'RestaurantsAttire': 'casual', 'RestaurantsDelivery': 'False', 'RestaurantsGoodForGroups': 'True', 'RestaurantsPriceRange2': '2', 'RestaurantsReservations': 'True', 'RestaurantsTableService': 'True', 'RestaurantsTakeOut': 'True', 'WheelchairAccessible': 'True', 'WiFi': 'free'}                                                                                                                                                                                                                                                                                                                                                                                                                                                                                                                            8\n",
       "{'Alcohol': 'full_bar', 'Ambience': '{'romantic': False, 'intimate': False, 'classy': False, 'hipster': False, 'divey': False, 'touristy': False, 'trendy': False, 'upscale': False, 'casual': True}', 'BikeParking': 'True', 'BusinessAcceptsCreditCards': 'True', 'BusinessParking': '{'garage': False, 'street': False, 'validated': False, 'lot': True, 'valet': False}', 'Caters': 'True', 'GoodForKids': 'True', 'GoodForMeal': '{'dessert': False, 'latenight': False, 'lunch': True, 'dinner': True, 'breakfast': False, 'brunch': False}', 'HasTV': 'True', 'NoiseLevel': 'average', 'OutdoorSeating': 'True', 'RestaurantsAttire': 'casual', 'RestaurantsDelivery': 'False', 'RestaurantsGoodForGroups': 'True', 'RestaurantsPriceRange2': '2', 'RestaurantsReservations': 'True', 'RestaurantsTableService': 'True', 'RestaurantsTakeOut': 'True', 'WheelchairAccessible': 'True', 'WiFi': 'no'}                                                                                                                                                                                                                                                                                                                                                                                                                                                                                                                               7\n",
       "{'BusinessAcceptsCreditCards': 'True'}                                                                                                                                                                                                                                                                                                                                                                                                                                                                                                                                                                                                                                                                                                                                                                                                                                                                                                                                                                                                                                                                                                                                                                                                                                                                                                                                                                                                    7\n",
       "{'GoodForKids': 'True'}                                                                                                                                                                                                                                                                                                                                                                                                                                                                                                                                                                                                                                                                                                                                                                                                                                                                                                                                                                                                                                                                                                                                                                                                                                                                                                                                                                                                                   6\n",
       "{'Alcohol': 'none', 'Ambience': '{'romantic': False, 'intimate': False, 'classy': False, 'hipster': False, 'divey': False, 'touristy': False, 'trendy': False, 'upscale': False, 'casual': True}', 'BikeParking': 'True', 'BusinessAcceptsCreditCards': 'True', 'BusinessParking': '{'garage': False, 'street': False, 'validated': False, 'lot': True, 'valet': False}', 'Caters': 'False', 'DriveThru': 'False', 'GoodForKids': 'True', 'GoodForMeal': '{'dessert': False, 'latenight': False, 'lunch': True, 'dinner': True, 'breakfast': False, 'brunch': False}', 'HasTV': 'False', 'NoiseLevel': 'average', 'OutdoorSeating': 'True', 'RestaurantsAttire': 'casual', 'RestaurantsDelivery': 'False', 'RestaurantsGoodForGroups': 'True', 'RestaurantsPriceRange2': '1', 'RestaurantsReservations': 'False', 'RestaurantsTableService': 'False', 'RestaurantsTakeOut': 'True', 'WiFi': 'no'}                                                                                                                                                                                                                                                                                                                                                                                                                                                                                                                                         5\n",
       "{'Alcohol': 'none', 'Ambience': '{'romantic': False, 'intimate': False, 'classy': False, 'hipster': False, 'divey': False, 'touristy': False, 'trendy': False, 'upscale': False, 'casual': True}', 'BikeParking': 'True', 'BusinessAcceptsCreditCards': 'True', 'BusinessParking': '{'garage': False, 'street': False, 'validated': False, 'lot': True, 'valet': False}', 'Caters': 'True', 'GoodForKids': 'True', 'GoodForMeal': '{'dessert': False, 'latenight': False, 'lunch': True, 'dinner': True, 'breakfast': False, 'brunch': False}', 'HasTV': 'False', 'NoiseLevel': 'average', 'OutdoorSeating': 'False', 'RestaurantsAttire': 'casual', 'RestaurantsDelivery': 'False', 'RestaurantsGoodForGroups': 'True', 'RestaurantsPriceRange2': '1', 'RestaurantsReservations': 'False', 'RestaurantsTableService': 'False', 'RestaurantsTakeOut': 'True', 'WheelchairAccessible': 'True', 'WiFi': 'no'}                                                                                                                                                                                                                                                                                                                                                                                                                                                                                                                               5\n",
       "{'Alcohol': 'none', 'Ambience': '{'romantic': False, 'intimate': False, 'classy': False, 'hipster': False, 'divey': False, 'touristy': False, 'trendy': False, 'upscale': False, 'casual': False}', 'BikeParking': 'False', 'BusinessAcceptsCreditCards': 'True', 'BusinessParking': '{'garage': False, 'street': False, 'validated': False, 'lot': False, 'valet': False}', 'Caters': 'False', 'DriveThru': 'True', 'GoodForKids': 'True', 'GoodForMeal': '{'dessert': False, 'latenight': False, 'lunch': False, 'dinner': False, 'breakfast': False, 'brunch': False}', 'HasTV': 'False', 'NoiseLevel': 'average', 'OutdoorSeating': 'False', 'RestaurantsAttire': 'casual', 'RestaurantsDelivery': 'False', 'RestaurantsGoodForGroups': 'True', 'RestaurantsPriceRange2': '1', 'RestaurantsReservations': 'False', 'RestaurantsTableService': 'False', 'RestaurantsTakeOut': 'True', 'WiFi': 'no'}                                                                                                                                                                                                                                                                                                                                                                                                                                                                                                                                    5\n",
       "{'Alcohol': 'none', 'Ambience': '{'romantic': False, 'intimate': False, 'classy': False, 'hipster': False, 'divey': False, 'touristy': False, 'trendy': False, 'upscale': False, 'casual': False}', 'BikeParking': 'True', 'BusinessAcceptsCreditCards': 'True', 'BusinessParking': '{'garage': False, 'street': False, 'validated': False, 'lot': False, 'valet': False}', 'Caters': 'False', 'DriveThru': 'True', 'GoodForKids': 'True', 'GoodForMeal': '{'dessert': False, 'latenight': False, 'lunch': False, 'dinner': False, 'breakfast': False, 'brunch': False}', 'HasTV': 'False', 'NoiseLevel': 'average', 'OutdoorSeating': 'False', 'RestaurantsAttire': 'casual', 'RestaurantsDelivery': 'False', 'RestaurantsGoodForGroups': 'True', 'RestaurantsPriceRange2': '1', 'RestaurantsReservations': 'False', 'RestaurantsTableService': 'False', 'RestaurantsTakeOut': 'True', 'WiFi': 'free'}                                                                                                                                                                                                                                                                                                                                                                                                                                                                                                                                   5\n",
       "{'RestaurantsPriceRange2': '1'}                                                                                                                                                                                                                                                                                                                                                                                                                                                                                                                                                                                                                                                                                                                                                                                                                                                                                                                                                                                                                                                                                                                                                                                                                                                                                                                                                                                                           4\n",
       "{'Alcohol': 'full_bar', 'Ambience': '{'romantic': False, 'intimate': False, 'classy': False, 'hipster': False, 'divey': False, 'touristy': False, 'trendy': False, 'upscale': False, 'casual': True}', 'BikeParking': 'True', 'BusinessAcceptsCreditCards': 'True', 'BusinessParking': '{'garage': False, 'street': False, 'validated': False, 'lot': True, 'valet': False}', 'Caters': 'True', 'GoodForKids': 'True', 'GoodForMeal': '{'dessert': False, 'latenight': False, 'lunch': True, 'dinner': True, 'breakfast': False, 'brunch': False}', 'HasTV': 'True', 'NoiseLevel': 'average', 'OutdoorSeating': 'False', 'RestaurantsAttire': 'casual', 'RestaurantsDelivery': 'False', 'RestaurantsGoodForGroups': 'True', 'RestaurantsPriceRange2': '2', 'RestaurantsReservations': 'True', 'RestaurantsTableService': 'True', 'RestaurantsTakeOut': 'True', 'WheelchairAccessible': 'True', 'WiFi': 'no'}                                                                                                                                                                                                                                                                                                                                                                                                                                                                                                                              4\n",
       "{'Alcohol': 'none', 'Ambience': '{'romantic': False, 'intimate': False, 'classy': False, 'hipster': False, 'divey': False, 'touristy': False, 'trendy': False, 'upscale': False, 'casual': True}', 'BikeParking': 'True', 'BusinessAcceptsCreditCards': 'True', 'BusinessParking': '{'garage': False, 'street': False, 'validated': False, 'lot': True, 'valet': False}', 'Caters': 'False', 'GoodForKids': 'True', 'GoodForMeal': '{'dessert': False, 'latenight': False, 'lunch': True, 'dinner': False, 'breakfast': False, 'brunch': False}', 'HasTV': 'False', 'NoiseLevel': 'average', 'OutdoorSeating': 'False', 'RestaurantsAttire': 'casual', 'RestaurantsDelivery': 'False', 'RestaurantsGoodForGroups': 'True', 'RestaurantsPriceRange2': '1', 'RestaurantsReservations': 'False', 'RestaurantsTableService': 'True', 'RestaurantsTakeOut': 'True', 'WheelchairAccessible': 'True', 'WiFi': 'no'}                                                                                                                                                                                                                                                                                                                                                                                                                                                                                                                              3\n",
       "{'Alcohol': 'none', 'BusinessAcceptsCreditCards': 'True', 'BusinessParking': '{'garage': False, 'street': False, 'validated': False, 'lot': False, 'valet': False}', 'GoodForKids': 'True', 'GoodForMeal': '{'dessert': False, 'latenight': False, 'lunch': False, 'dinner': False, 'breakfast': False, 'brunch': False}', 'OutdoorSeating': 'True', 'RestaurantsAttire': 'casual', 'RestaurantsDelivery': 'False', 'RestaurantsGoodForGroups': 'True', 'RestaurantsPriceRange2': '1', 'RestaurantsReservations': 'False', 'RestaurantsTableService': 'False', 'RestaurantsTakeOut': 'True', 'WheelchairAccessible': 'True'}                                                                                                                                                                                                                                                                                                                                                                                                                                                                                                                                                                                                                                                                                                                                                                                                              3\n",
       "{'Alcohol': 'none', 'Ambience': '{'romantic': False, 'intimate': False, 'classy': False, 'hipster': False, 'divey': False, 'touristy': False, 'trendy': False, 'upscale': False, 'casual': True}', 'BikeParking': 'True', 'BusinessAcceptsCreditCards': 'True', 'BusinessParking': '{'garage': False, 'street': False, 'validated': False, 'lot': True, 'valet': False}', 'Caters': 'True', 'GoodForKids': 'True', 'GoodForMeal': '{'dessert': False, 'latenight': False, 'lunch': True, 'dinner': False, 'breakfast': False, 'brunch': False}', 'HasTV': 'True', 'NoiseLevel': 'average', 'OutdoorSeating': 'True', 'RestaurantsAttire': 'casual', 'RestaurantsDelivery': 'False', 'RestaurantsGoodForGroups': 'True', 'RestaurantsPriceRange2': '1', 'RestaurantsReservations': 'False', 'RestaurantsTableService': 'False', 'RestaurantsTakeOut': 'True', 'WheelchairAccessible': 'True', 'WiFi': 'no'}                                                                                                                                                                                                                                                                                                                                                                                                                                                                                                                                3\n",
       "{'Alcohol': 'none', 'Ambience': '{'romantic': False, 'intimate': False, 'classy': False, 'hipster': False, 'divey': False, 'touristy': False, 'trendy': False, 'upscale': False, 'casual': True}', 'BikeParking': 'True', 'BusinessAcceptsCreditCards': 'True', 'BusinessParking': '{'garage': False, 'street': False, 'validated': False, 'lot': True, 'valet': False}', 'Caters': 'False', 'DriveThru': 'True', 'GoodForKids': 'True', 'GoodForMeal': '{'dessert': False, 'latenight': False, 'lunch': True, 'dinner': True, 'breakfast': False, 'brunch': False}', 'HasTV': 'False', 'NoiseLevel': 'average', 'OutdoorSeating': 'False', 'RestaurantsAttire': 'casual', 'RestaurantsDelivery': 'False', 'RestaurantsGoodForGroups': 'True', 'RestaurantsPriceRange2': '1', 'RestaurantsReservations': 'False', 'RestaurantsTableService': 'False', 'RestaurantsTakeOut': 'True', 'WiFi': 'no'}                                                                                                                                                                                                                                                                                                                                                                                                                                                                                                                                         3\n",
       "{'Alcohol': 'none', 'Ambience': '{'romantic': False, 'intimate': False, 'classy': False, 'hipster': False, 'divey': False, 'touristy': False, 'trendy': False, 'upscale': False, 'casual': True}', 'BikeParking': 'False', 'BusinessAcceptsCreditCards': 'True', 'BusinessParking': '{'garage': False, 'street': False, 'validated': False, 'lot': True, 'valet': False}', 'Caters': 'True', 'GoodForKids': 'True', 'GoodForMeal': '{'dessert': False, 'latenight': False, 'lunch': True, 'dinner': True, 'breakfast': False, 'brunch': False}', 'HasTV': 'True', 'NoiseLevel': 'average', 'OutdoorSeating': 'False', 'RestaurantsAttire': 'casual', 'RestaurantsDelivery': 'False', 'RestaurantsGoodForGroups': 'True', 'RestaurantsPriceRange2': '1', 'RestaurantsReservations': 'False', 'RestaurantsTableService': 'False', 'RestaurantsTakeOut': 'True', 'WheelchairAccessible': 'True', 'WiFi': 'no'}                                                                                                                                                                                                                                                                                                                                                                                                                                                                                                                               3\n",
       "{'Alcohol': 'beer_and_wine', 'Ambience': '{'romantic': False, 'intimate': False, 'classy': False, 'hipster': False, 'divey': False, 'touristy': False, 'trendy': False, 'upscale': False, 'casual': True}', 'BikeParking': 'True', 'BusinessAcceptsCreditCards': 'True', 'BusinessParking': '{'garage': False, 'street': False, 'validated': False, 'lot': False, 'valet': False}', 'Caters': 'True', 'DriveThru': 'False', 'GoodForKids': 'True', 'GoodForMeal': '{'dessert': False, 'latenight': False, 'lunch': True, 'dinner': True, 'breakfast': False, 'brunch': False}', 'HasTV': 'False', 'NoiseLevel': 'average', 'OutdoorSeating': 'True', 'RestaurantsAttire': 'casual', 'RestaurantsDelivery': 'False', 'RestaurantsGoodForGroups': 'True', 'RestaurantsPriceRange2': '1', 'RestaurantsReservations': 'False', 'RestaurantsTableService': 'False', 'RestaurantsTakeOut': 'True', 'WheelchairAccessible': 'True', 'WiFi': 'no'}                                                                                                                                                                                                                                                                                                                                                                                                                                                                                                3\n",
       "{'Alcohol': 'none', 'Ambience': '{'romantic': False, 'intimate': False, 'classy': False, 'hipster': False, 'divey': False, 'touristy': False, 'trendy': False, 'upscale': False, 'casual': True}', 'BikeParking': 'True', 'BusinessAcceptsCreditCards': 'True', 'BusinessParking': '{'garage': False, 'street': False, 'validated': False, 'lot': True, 'valet': False}', 'Caters': 'True', 'GoodForKids': 'True', 'GoodForMeal': '{'dessert': False, 'latenight': False, 'lunch': False, 'dinner': False, 'breakfast': True, 'brunch': True}', 'HasTV': 'False', 'NoiseLevel': 'average', 'OutdoorSeating': 'True', 'RestaurantsAttire': 'casual', 'RestaurantsDelivery': 'False', 'RestaurantsGoodForGroups': 'True', 'RestaurantsPriceRange2': '1', 'RestaurantsReservations': 'False', 'RestaurantsTableService': 'False', 'RestaurantsTakeOut': 'True', 'WheelchairAccessible': 'True', 'WiFi': 'free'}                                                                                                                                                                                                                                                                                                                                                                                                                                                                                                                              3\n",
       "{'Alcohol': 'none', 'Ambience': '{'romantic': False, 'intimate': False, 'classy': False, 'hipster': False, 'divey': False, 'touristy': False, 'trendy': False, 'upscale': False, 'casual': True}', 'BikeParking': 'True', 'BusinessAcceptsCreditCards': 'True', 'BusinessParking': '{'garage': False, 'street': False, 'validated': False, 'lot': True, 'valet': False}', 'Caters': 'False', 'GoodForKids': 'True', 'GoodForMeal': '{'dessert': False, 'latenight': False, 'lunch': True, 'dinner': False, 'breakfast': True, 'brunch': True}', 'HasTV': 'False', 'NoiseLevel': 'average', 'OutdoorSeating': 'True', 'RestaurantsAttire': 'casual', 'RestaurantsDelivery': 'False', 'RestaurantsGoodForGroups': 'True', 'RestaurantsPriceRange2': '2', 'RestaurantsReservations': 'False', 'RestaurantsTableService': 'True', 'RestaurantsTakeOut': 'True', 'WiFi': 'free'}                                                                                                                                                                                                                                                                                                                                                                                                                                                                                                                                                               3\n",
       "{'Alcohol': 'none', 'Ambience': '{'romantic': False, 'intimate': False, 'classy': False, 'hipster': False, 'divey': False, 'touristy': False, 'trendy': False, 'upscale': False, 'casual': False}', 'BikeParking': 'True', 'BusinessAcceptsCreditCards': 'True', 'BusinessParking': '{'garage': False, 'street': False, 'validated': False, 'lot': False, 'valet': False}', 'Caters': 'False', 'DriveThru': 'True', 'GoodForKids': 'True', 'GoodForMeal': '{'dessert': False, 'latenight': False, 'lunch': False, 'dinner': False, 'breakfast': False, 'brunch': False}', 'HasTV': 'True', 'NoiseLevel': 'average', 'OutdoorSeating': 'False', 'RestaurantsAttire': 'casual', 'RestaurantsDelivery': 'False', 'RestaurantsGoodForGroups': 'True', 'RestaurantsPriceRange2': '1', 'RestaurantsReservations': 'False', 'RestaurantsTableService': 'False', 'RestaurantsTakeOut': 'True', 'WiFi': 'free'}                                                                                                                                                                                                                                                                                                                                                                                                                                                                                                                                    3\n",
       "{'Alcohol': 'none', 'Ambience': '{'romantic': False, 'intimate': False, 'classy': False, 'hipster': False, 'divey': False, 'touristy': False, 'trendy': False, 'upscale': False, 'casual': True}', 'BikeParking': 'True', 'BusinessAcceptsCreditCards': 'True', 'BusinessParking': '{'garage': False, 'street': False, 'validated': False, 'lot': True, 'valet': False}', 'Caters': 'True', 'GoodForKids': 'True', 'GoodForMeal': '{'dessert': False, 'latenight': False, 'lunch': True, 'dinner': False, 'breakfast': True, 'brunch': False}', 'HasTV': 'False', 'NoiseLevel': 'average', 'OutdoorSeating': 'True', 'RestaurantsAttire': 'casual', 'RestaurantsDelivery': 'False', 'RestaurantsGoodForGroups': 'True', 'RestaurantsPriceRange2': '1', 'RestaurantsReservations': 'False', 'RestaurantsTableService': 'False', 'RestaurantsTakeOut': 'True', 'WheelchairAccessible': 'True', 'WiFi': 'free'}                                                                                                                                                                                                                                                                                                                                                                                                                                                                                                                              3\n",
       "{'Alcohol': 'none', 'Ambience': '{'romantic': False, 'intimate': False, 'classy': False, 'hipster': False, 'divey': False, 'touristy': False, 'trendy': False, 'upscale': False, 'casual': True}', 'BikeParking': 'True', 'BusinessAcceptsCreditCards': 'True', 'BusinessParking': '{'garage': False, 'street': False, 'validated': False, 'lot': True, 'valet': False}', 'Caters': 'False', 'DriveThru': 'True', 'GoodForKids': 'True', 'GoodForMeal': '{'dessert': False, 'latenight': False, 'lunch': True, 'dinner': True, 'breakfast': False, 'brunch': False}', 'HasTV': 'False', 'NoiseLevel': 'average', 'OutdoorSeating': 'True', 'RestaurantsAttire': 'casual', 'RestaurantsDelivery': 'False', 'RestaurantsGoodForGroups': 'True', 'RestaurantsPriceRange2': '1', 'RestaurantsReservations': 'False', 'RestaurantsTableService': 'False', 'RestaurantsTakeOut': 'True', 'WheelchairAccessible': 'True', 'WiFi': 'no'}                                                                                                                                                                                                                                                                                                                                                                                                                                                                                                          3\n",
       "{'Alcohol': 'none', 'Ambience': '{'romantic': False, 'intimate': False, 'classy': False, 'hipster': False, 'divey': False, 'touristy': False, 'trendy': False, 'upscale': False, 'casual': True}', 'BikeParking': 'True', 'BusinessAcceptsCreditCards': 'True', 'BusinessParking': '{'garage': False, 'street': False, 'validated': False, 'lot': True, 'valet': False}', 'Caters': 'True', 'GoodForKids': 'True', 'GoodForMeal': '{'dessert': False, 'latenight': False, 'lunch': True, 'dinner': True, 'breakfast': False, 'brunch': False}', 'HasTV': 'True', 'NoiseLevel': 'average', 'OutdoorSeating': 'True', 'RestaurantsAttire': 'casual', 'RestaurantsDelivery': 'True', 'RestaurantsGoodForGroups': 'True', 'RestaurantsPriceRange2': '1', 'RestaurantsReservations': 'False', 'RestaurantsTableService': 'False', 'RestaurantsTakeOut': 'True', 'WheelchairAccessible': 'True', 'WiFi': 'free'}                                                                                                                                                                                                                                                                                                                                                                                                                                                                                                                                3\n",
       "{'BusinessAcceptsBitcoin': 'False', 'BusinessAcceptsCreditCards': 'True'}                                                                                                                                                                                                                                                                                                                                                                                                                                                                                                                                                                                                                                                                                                                                                                                                                                                                                                                                                                                                                                                                                                                                                                                                                                                                                                                                                                 3\n",
       "{'Alcohol': 'none', 'Ambience': '{'romantic': False, 'intimate': False, 'classy': False, 'hipster': False, 'divey': False, 'touristy': False, 'trendy': False, 'upscale': False, 'casual': False}', 'BikeParking': 'True', 'BusinessAcceptsCreditCards': 'True', 'BusinessParking': '{'garage': False, 'street': False, 'validated': False, 'lot': False, 'valet': False}', 'Caters': 'False', 'DriveThru': 'True', 'GoodForKids': 'True', 'GoodForMeal': '{'dessert': False, 'latenight': False, 'lunch': False, 'dinner': False, 'breakfast': False, 'brunch': False}', 'HasTV': 'False', 'NoiseLevel': 'average', 'OutdoorSeating': 'False', 'RestaurantsAttire': 'casual', 'RestaurantsDelivery': 'False', 'RestaurantsGoodForGroups': 'True', 'RestaurantsPriceRange2': '1', 'RestaurantsReservations': 'False', 'RestaurantsTableService': 'False', 'RestaurantsTakeOut': 'True', 'WiFi': 'no'}                                                                                                                                                                                                                                                                                                                                                                                                                                                                                                                                     3\n",
       "{'Alcohol': 'none', 'Ambience': '{'romantic': False, 'intimate': False, 'classy': False, 'hipster': False, 'divey': False, 'touristy': False, 'trendy': False, 'upscale': False, 'casual': True}', 'BikeParking': 'True', 'BusinessAcceptsCreditCards': 'True', 'BusinessParking': '{'garage': False, 'street': False, 'validated': False, 'lot': True, 'valet': False}', 'Caters': 'True', 'GoodForKids': 'True', 'GoodForMeal': '{'dessert': False, 'latenight': False, 'lunch': True, 'dinner': True, 'breakfast': False, 'brunch': False}', 'HasTV': 'True', 'NoiseLevel': 'average', 'OutdoorSeating': 'False', 'RestaurantsAttire': 'casual', 'RestaurantsDelivery': 'False', 'RestaurantsGoodForGroups': 'True', 'RestaurantsPriceRange2': '1', 'RestaurantsReservations': 'False', 'RestaurantsTableService': 'False', 'RestaurantsTakeOut': 'True', 'WheelchairAccessible': 'True', 'WiFi': 'no'}                                                                                                                                                                                                                                                                                                                                                                                                                                                                                                                                3\n",
       "{'BikeParking': 'True', 'BusinessAcceptsCreditCards': 'True', 'BusinessParking': '{'garage': False, 'street': False, 'validated': False, 'lot': False, 'valet': False}', 'RestaurantsPriceRange2': '1', 'RestaurantsTakeOut': 'False'}                                                                                                                                                                                                                                                                                                                                                                                                                                                                                                                                                                                                                                                                                                                                                                                                                                                                                                                                                                                                                                                                                                                                                                                                    2\n",
       "{'Alcohol': 'none', 'Ambience': '{'romantic': False, 'intimate': False, 'classy': False, 'hipster': False, 'divey': False, 'touristy': False, 'trendy': False, 'upscale': False, 'casual': True}', 'BikeParking': 'True', 'BusinessAcceptsCreditCards': 'True', 'BusinessParking': '{'garage': False, 'street': False, 'validated': False, 'lot': True, 'valet': False}', 'Caters': 'False', 'GoodForKids': 'True', 'GoodForMeal': '{'dessert': False, 'latenight': False, 'lunch': True, 'dinner': True, 'breakfast': False, 'brunch': False}', 'HasTV': 'False', 'NoiseLevel': 'average', 'OutdoorSeating': 'False', 'RestaurantsAttire': 'casual', 'RestaurantsDelivery': 'False', 'RestaurantsGoodForGroups': 'True', 'RestaurantsPriceRange2': '1', 'RestaurantsReservations': 'False', 'RestaurantsTableService': 'True', 'RestaurantsTakeOut': 'True', 'WiFi': 'no'}                                                                                                                                                                                                                                                                                                                                                                                                                                                                                                                                                               2\n",
       "{'Alcohol': 'none', 'BusinessAcceptsCreditCards': 'True', 'BusinessParking': '{'garage': False, 'street': False, 'validated': False, 'lot': False, 'valet': False}', 'GoodForKids': 'True', 'GoodForMeal': '{'dessert': False, 'latenight': False, 'lunch': False, 'dinner': False, 'breakfast': False, 'brunch': False}', 'OutdoorSeating': 'False', 'RestaurantsAttire': 'casual', 'RestaurantsDelivery': 'False', 'RestaurantsGoodForGroups': 'False', 'RestaurantsPriceRange2': '1', 'RestaurantsReservations': 'False', 'RestaurantsTableService': 'False', 'RestaurantsTakeOut': 'True', 'WheelchairAccessible': 'True'}                                                                                                                                                                                                                                                                                                                                                                                                                                                                                                                                                                                                                                                                                                                                                                                                            2\n",
       "                                                                                                                                                                                                                                                                                                                                                                                                                                                                                                                                                                                                                                                                                                                                                                                                                                                                                                                                                                                                                                                                                                                                                                                                                                                                                                                                                                                                                                         ..\n",
       "{'Alcohol': 'none', 'Ambience': '{'romantic': False, 'intimate': False, 'classy': False, 'hipster': False, 'divey': False, 'touristy': False, 'trendy': False, 'upscale': False, 'casual': False}', 'BikeParking': 'False', 'BusinessAcceptsCreditCards': 'True', 'BusinessParking': '{'garage': False, 'street': False, 'validated': False, 'lot': False, 'valet': False}', 'Caters': 'False', 'GoodForKids': 'True', 'HasTV': 'False', 'NoiseLevel': 'average', 'OutdoorSeating': 'False', 'RestaurantsAttire': 'casual', 'RestaurantsDelivery': 'True', 'RestaurantsGoodForGroups': 'True', 'RestaurantsPriceRange2': '1', 'RestaurantsReservations': 'False', 'RestaurantsTableService': 'False', 'RestaurantsTakeOut': 'True', 'WiFi': 'no'}                                                                                                                                                                                                                                                                                                                                                                                                                                                                                                                                                                                                                                                                                         1\n",
       "{'Alcohol': 'full_bar', 'Ambience': '{'romantic': False, 'intimate': False, 'classy': False, 'hipster': False, 'divey': False, 'touristy': False, 'trendy': False, 'upscale': False, 'casual': True}', 'BusinessAcceptsCreditCards': 'True', 'BusinessParking': '{'garage': False, 'street': False, 'validated': False, 'lot': True, 'valet': False}', 'GoodForKids': 'True', 'GoodForMeal': '{'dessert': False, 'latenight': False, 'lunch': True, 'dinner': True, 'breakfast': False, 'brunch': False}', 'HasTV': 'True', 'NoiseLevel': 'average', 'OutdoorSeating': 'True', 'RestaurantsAttire': 'casual', 'RestaurantsDelivery': 'False', 'RestaurantsGoodForGroups': 'True', 'RestaurantsPriceRange2': '1', 'RestaurantsReservations': 'False', 'RestaurantsTableService': 'False', 'RestaurantsTakeOut': 'True', 'WheelchairAccessible': 'True', 'WiFi': 'free'}                                                                                                                                                                                                                                                                                                                                                                                                                                                                                                                                                                    1\n",
       "{'Alcohol': 'none', 'Ambience': '{'romantic': False, 'intimate': False, 'classy': False, 'hipster': False, 'divey': False, 'touristy': False, 'trendy': False, 'upscale': False, 'casual': True}', 'BikeParking': 'False', 'BusinessAcceptsCreditCards': 'True', 'BusinessParking': '{'garage': False, 'street': False, 'validated': False, 'lot': True, 'valet': False}', 'Caters': 'False', 'GoodForKids': 'True', 'GoodForMeal': '{'dessert': False, 'latenight': False, 'lunch': True, 'dinner': True, 'breakfast': False, 'brunch': False}', 'HasTV': 'True', 'NoiseLevel': 'average', 'OutdoorSeating': 'False', 'RestaurantsAttire': 'casual', 'RestaurantsDelivery': 'False', 'RestaurantsGoodForGroups': 'True', 'RestaurantsPriceRange2': '1', 'RestaurantsReservations': 'True', 'RestaurantsTableService': 'True', 'RestaurantsTakeOut': 'True', 'WheelchairAccessible': 'True', 'WiFi': 'no'}                                                                                                                                                                                                                                                                                                                                                                                                                                                                                                                                1\n",
       "{'Alcohol': 'full_bar', 'Ambience': '{'romantic': False, 'intimate': False, 'classy': False, 'hipster': False, 'divey': False, 'touristy': False, 'trendy': False, 'upscale': False, 'casual': True}', 'BestNights': '{'monday': True, 'tuesday': False, 'friday': False, 'wednesday': True, 'thursday': False, 'sunday': True, 'saturday': False}', 'BikeParking': 'True', 'BusinessAcceptsCreditCards': 'True', 'BusinessParking': '{'garage': False, 'street': False, 'validated': False, 'lot': False, 'valet': False}', 'Caters': 'True', 'CoatCheck': 'False', 'GoodForDancing': 'False', 'GoodForKids': 'True', 'GoodForMeal': '{'dessert': False, 'latenight': False, 'lunch': True, 'dinner': True, 'breakfast': False, 'brunch': False}', 'HappyHour': 'True', 'HasTV': 'True', 'Music': '{'dj': False, 'background_music': False, 'no_music': False, 'karaoke': False, 'live': False, 'video': False, 'jukebox': False}', 'NoiseLevel': 'average', 'OutdoorSeating': 'False', 'RestaurantsAttire': 'casual', 'RestaurantsDelivery': 'False', 'RestaurantsGoodForGroups': 'True', 'RestaurantsPriceRange2': '2', 'RestaurantsReservations': 'True', 'RestaurantsTableService': 'True', 'RestaurantsTakeOut': 'True', 'WiFi': 'free'}                                                                                                                                                                                            1\n",
       "{'Alcohol': 'beer_and_wine', 'Ambience': '{'romantic': False, 'intimate': False, 'classy': False, 'hipster': False, 'divey': False, 'touristy': False, 'trendy': False, 'upscale': False, 'casual': True}', 'BikeParking': 'True', 'BusinessAcceptsCreditCards': 'True', 'BusinessParking': '{'garage': False, 'street': False, 'validated': False, 'lot': True, 'valet': False}', 'Caters': 'True', 'DietaryRestrictions': '{'dairy-free': False, 'gluten-free': True, 'vegan': False, 'kosher': False, 'halal': False, 'soy-free': False, 'vegetarian': True}', 'DriveThru': 'False', 'GoodForKids': 'True', 'GoodForMeal': '{'dessert': False, 'latenight': False, 'lunch': True, 'dinner': True, 'breakfast': False, 'brunch': False}', 'HasTV': 'False', 'NoiseLevel': 'average', 'Open24Hours': 'False', 'OutdoorSeating': 'True', 'RestaurantsAttire': 'casual', 'RestaurantsDelivery': 'False', 'RestaurantsGoodForGroups': 'True', 'RestaurantsPriceRange2': '1', 'RestaurantsReservations': 'False', 'RestaurantsTableService': 'False', 'RestaurantsTakeOut': 'True', 'WheelchairAccessible': 'True', 'WiFi': 'free'}                                                                                                                                                                                                                                                                                                          1\n",
       "{'Alcohol': 'none', 'BusinessAcceptsCreditCards': 'True', 'BusinessParking': '{'garage': False, 'street': False, 'validated': False, 'lot': False, 'valet': False}', 'GoodForKids': 'True', 'GoodForMeal': '{'dessert': False, 'latenight': False, 'lunch': False, 'dinner': False, 'breakfast': False, 'brunch': False}', 'OutdoorSeating': 'False', 'RestaurantsAttire': 'casual', 'RestaurantsGoodForGroups': 'True', 'RestaurantsPriceRange2': '1', 'RestaurantsTakeOut': 'True', 'WheelchairAccessible': 'True'}                                                                                                                                                                                                                                                                                                                                                                                                                                                                                                                                                                                                                                                                                                                                                                                                                                                                                                                     1\n",
       "{'Alcohol': 'full_bar', 'Ambience': '{'romantic': False, 'intimate': False, 'classy': False, 'hipster': False, 'divey': False, 'touristy': False, 'trendy': False, 'upscale': False, 'casual': True}', 'BikeParking': 'True', 'BusinessAcceptsCreditCards': 'True', 'BusinessParking': '{'garage': False, 'street': False, 'validated': False, 'lot': True, 'valet': False}', 'Caters': 'True', 'GoodForKids': 'True', 'GoodForMeal': '{'dessert': False, 'latenight': False, 'lunch': False, 'dinner': True, 'breakfast': False, 'brunch': False}', 'HasTV': 'True', 'NoiseLevel': 'quiet', 'OutdoorSeating': 'False', 'RestaurantsAttire': 'casual', 'RestaurantsDelivery': 'True', 'RestaurantsGoodForGroups': 'True', 'RestaurantsPriceRange2': '2', 'RestaurantsReservations': 'True', 'RestaurantsTableService': 'True', 'RestaurantsTakeOut': 'True', 'WheelchairAccessible': 'True', 'WiFi': 'no'}                                                                                                                                                                                                                                                                                                                                                                                                                                                                                                                                1\n",
       "{'Alcohol': 'none', 'Ambience': '{'romantic': False, 'intimate': False, 'classy': False, 'hipster': False, 'divey': False, 'touristy': False, 'trendy': False, 'upscale': False, 'casual': True}', 'BikeParking': 'True', 'BusinessAcceptsCreditCards': 'True', 'BusinessParking': '{'garage': False, 'street': False, 'validated': False, 'lot': True, 'valet': False}', 'Caters': 'False', 'GoodForKids': 'True', 'GoodForMeal': '{'dessert': False, 'latenight': False, 'lunch': True, 'dinner': True, 'breakfast': False, 'brunch': False}', 'HasTV': 'False', 'NoiseLevel': 'quiet', 'OutdoorSeating': 'False', 'RestaurantsAttire': 'casual', 'RestaurantsDelivery': 'False', 'RestaurantsGoodForGroups': 'True', 'RestaurantsPriceRange2': '2', 'RestaurantsReservations': 'True', 'RestaurantsTableService': 'True', 'RestaurantsTakeOut': 'True', 'WheelchairAccessible': 'True', 'WiFi': 'no'}                                                                                                                                                                                                                                                                                                                                                                                                                                                                                                                                  1\n",
       "{'Alcohol': 'full_bar', 'Ambience': '{'romantic': False, 'intimate': False, 'classy': False, 'hipster': False, 'divey': False, 'touristy': False, 'trendy': False, 'upscale': False, 'casual': True}', 'BestNights': '{'monday': False, 'tuesday': False, 'friday': True, 'wednesday': False, 'thursday': True, 'sunday': False, 'saturday': True}', 'BikeParking': 'True', 'BusinessAcceptsBitcoin': 'False', 'BusinessAcceptsCreditCards': 'True', 'BusinessParking': '{'garage': False, 'street': False, 'validated': False, 'lot': True, 'valet': False}', 'Caters': 'True', 'CoatCheck': 'False', 'DriveThru': 'False', 'GoodForDancing': 'False', 'GoodForKids': 'True', 'GoodForMeal': '{'dessert': True, 'latenight': False, 'lunch': True, 'dinner': False, 'breakfast': False, 'brunch': True}', 'HappyHour': 'True', 'HasTV': 'True', 'Music': '{'dj': False, 'background_music': False, 'no_music': False, 'karaoke': False, 'live': False, 'video': False, 'jukebox': False}', 'NoiseLevel': 'average', 'OutdoorSeating': 'True', 'RestaurantsAttire': 'casual', 'RestaurantsDelivery': 'False', 'RestaurantsGoodForGroups': 'True', 'RestaurantsPriceRange2': '2', 'RestaurantsReservations': 'True', 'RestaurantsTableService': 'True', 'RestaurantsTakeOut': 'True', 'Smoking': 'no', 'WheelchairAccessible': 'True', 'WiFi': 'free'}                                                                                     1\n",
       "{'Alcohol': 'beer_and_wine', 'Ambience': '{'romantic': False, 'intimate': False, 'classy': False, 'hipster': False, 'divey': False, 'touristy': False, 'trendy': False, 'upscale': False, 'casual': True}', 'BYOB': 'False', 'BYOBCorkage': 'no', 'BikeParking': 'True', 'BusinessAcceptsCreditCards': 'True', 'BusinessParking': '{'garage': False, 'street': False, 'validated': False, 'lot': True, 'valet': False}', 'Caters': 'False', 'DietaryRestrictions': '{'dairy-free': True, 'gluten-free': True, 'vegan': False, 'kosher': False, 'halal': False, 'soy-free': False, 'vegetarian': True}', 'GoodForKids': 'True', 'GoodForMeal': '{'dessert': False, 'latenight': False, 'lunch': True, 'dinner': True, 'breakfast': False, 'brunch': False}', 'HasTV': 'False', 'NoiseLevel': 'quiet', 'Open24Hours': 'False', 'OutdoorSeating': 'False', 'RestaurantsAttire': 'casual', 'RestaurantsDelivery': 'False', 'RestaurantsGoodForGroups': 'True', 'RestaurantsPriceRange2': '2', 'RestaurantsReservations': 'True', 'RestaurantsTableService': 'True', 'RestaurantsTakeOut': 'True', 'WheelchairAccessible': 'True', 'WiFi': 'no'}                                                                                                                                                                                                                                                                                               1\n",
       "{'Alcohol': 'beer_and_wine', 'Ambience': '{'romantic': False, 'intimate': False, 'classy': False, 'hipster': False, 'divey': False, 'touristy': False, 'trendy': False, 'upscale': False, 'casual': True}', 'BYOB': 'False', 'BYOBCorkage': 'no', 'BikeParking': 'False', 'BusinessAcceptsCreditCards': 'True', 'BusinessParking': '{'garage': False, 'street': False, 'validated': False, 'lot': True, 'valet': False}', 'Caters': 'True', 'GoodForKids': 'True', 'GoodForMeal': '{'dessert': False, 'latenight': False, 'lunch': True, 'dinner': True, 'breakfast': False, 'brunch': False}', 'HasTV': 'True', 'NoiseLevel': 'average', 'OutdoorSeating': 'True', 'RestaurantsAttire': 'casual', 'RestaurantsDelivery': 'False', 'RestaurantsGoodForGroups': 'True', 'RestaurantsPriceRange2': '1', 'RestaurantsReservations': 'False', 'RestaurantsTableService': 'True', 'RestaurantsTakeOut': 'True', 'WheelchairAccessible': 'True', 'WiFi': 'no'}                                                                                                                                                                                                                                                                                                                                                                                                                                                                                  1\n",
       "{'Alcohol': 'full_bar', 'Ambience': '{'romantic': False, 'intimate': False, 'classy': False, 'hipster': False, 'divey': False, 'touristy': False, 'trendy': False, 'upscale': False, 'casual': True}', 'BusinessAcceptsCreditCards': 'True', 'BusinessParking': '{'garage': False, 'street': True, 'validated': False, 'lot': True, 'valet': False}', 'GoodForDancing': 'False', 'GoodForKids': 'False', 'GoodForMeal': '{'dessert': False, 'latenight': False, 'lunch': False, 'dinner': False, 'breakfast': False, 'brunch': False}', 'HappyHour': 'True', 'HasTV': 'True', 'OutdoorSeating': 'False', 'RestaurantsAttire': 'casual', 'RestaurantsDelivery': 'False', 'RestaurantsGoodForGroups': 'True', 'RestaurantsPriceRange2': '2', 'RestaurantsReservations': 'True', 'RestaurantsTakeOut': 'True', 'WheelchairAccessible': 'True', 'WiFi': 'free'}                                                                                                                                                                                                                                                                                                                                                                                                                                                                                                                                                                               1\n",
       "{'BusinessParking': '{'garage': False, 'street': False, 'validated': False, 'lot': False, 'valet': False}', 'GoodForKids': 'True', 'RestaurantsDelivery': 'False', 'RestaurantsGoodForGroups': 'True', 'RestaurantsPriceRange2': '1', 'RestaurantsTableService': 'False', 'RestaurantsTakeOut': 'True', 'WheelchairAccessible': 'True'}                                                                                                                                                                                                                                                                                                                                                                                                                                                                                                                                                                                                                                                                                                                                                                                                                                                                                                                                                                                                                                                                                                   1\n",
       "{'Alcohol': 'full_bar', 'Ambience': '{'romantic': False, 'intimate': False, 'classy': False, 'hipster': False, 'divey': False, 'touristy': False, 'trendy': False, 'upscale': False, 'casual': True}', 'BikeParking': 'True', 'BusinessAcceptsCreditCards': 'True', 'BusinessParking': '{'garage': True, 'street': True, 'validated': True, 'lot': False, 'valet': True}', 'Caters': 'True', 'GoodForKids': 'True', 'GoodForMeal': '{'dessert': False, 'latenight': False, 'lunch': False, 'dinner': True, 'breakfast': False, 'brunch': False}', 'HasTV': 'True', 'NoiseLevel': 'average', 'OutdoorSeating': 'True', 'RestaurantsAttire': 'casual', 'RestaurantsDelivery': 'False', 'RestaurantsGoodForGroups': 'True', 'RestaurantsPriceRange2': '2', 'RestaurantsReservations': 'True', 'RestaurantsTableService': 'True', 'RestaurantsTakeOut': 'True', 'WheelchairAccessible': 'True', 'WiFi': 'free'}                                                                                                                                                                                                                                                                                                                                                                                                                                                                                                                               1\n",
       "{'Alcohol': 'full_bar', 'Ambience': '{'romantic': True, 'intimate': False, 'classy': True, 'hipster': False, 'divey': False, 'touristy': False, 'trendy': False, 'upscale': False, 'casual': False}', 'BYOB': 'False', 'BYOBCorkage': 'no', 'BestNights': '{'monday': True, 'tuesday': True, 'friday': False, 'wednesday': True, 'thursday': False, 'sunday': False, 'saturday': False}', 'BikeParking': 'True', 'BusinessAcceptsBitcoin': 'False', 'BusinessAcceptsCreditCards': 'True', 'BusinessParking': '{'garage': True, 'street': True, 'validated': True, 'lot': False, 'valet': True}', 'Caters': 'False', 'CoatCheck': 'False', 'DogsAllowed': 'False', 'GoodForDancing': 'False', 'GoodForKids': 'False', 'GoodForMeal': '{'dessert': False, 'latenight': False, 'lunch': False, 'dinner': True, 'breakfast': False, 'brunch': False}', 'HappyHour': 'True', 'HasTV': 'False', 'Music': '{'dj': False, 'background_music': True, 'no_music': False, 'karaoke': False, 'live': False, 'video': False, 'jukebox': False}', 'NoiseLevel': 'average', 'OutdoorSeating': 'False', 'RestaurantsAttire': 'dressy', 'RestaurantsCounterService': 'False', 'RestaurantsDelivery': 'False', 'RestaurantsGoodForGroups': 'True', 'RestaurantsPriceRange2': '3', 'RestaurantsReservations': 'True', 'RestaurantsTableService': 'True', 'RestaurantsTakeOut': 'False', 'Smoking': 'no', 'WheelchairAccessible': 'True', 'WiFi': 'free'}     1\n",
       "{'Alcohol': 'none', 'Ambience': '{'romantic': False, 'intimate': False, 'classy': False, 'hipster': False, 'divey': False, 'touristy': False, 'trendy': False, 'upscale': False, 'casual': True}', 'BikeParking': 'True', 'BusinessAcceptsCreditCards': 'True', 'BusinessParking': '{'garage': False, 'street': False, 'validated': False, 'lot': True, 'valet': False}', 'Caters': 'True', 'DriveThru': 'True', 'GoodForKids': 'True', 'GoodForMeal': '{'dessert': False, 'latenight': False, 'lunch': True, 'dinner': True, 'breakfast': False, 'brunch': False}', 'HasTV': 'True', 'NoiseLevel': 'average', 'OutdoorSeating': 'True', 'RestaurantsAttire': 'casual', 'RestaurantsDelivery': 'True', 'RestaurantsGoodForGroups': 'True', 'RestaurantsPriceRange2': '1', 'RestaurantsReservations': 'False', 'RestaurantsTableService': 'False', 'RestaurantsTakeOut': 'True', 'WheelchairAccessible': 'True', 'WiFi': 'no'}                                                                                                                                                                                                                                                                                                                                                                                                                                                                                                             1\n",
       "{'Alcohol': 'full_bar', 'Ambience': '{'romantic': False, 'intimate': False, 'classy': False, 'hipster': False, 'divey': False, 'touristy': False, 'trendy': False, 'upscale': False, 'casual': False}', 'BusinessAcceptsCreditCards': 'True', 'Caters': 'False', 'GoodForKids': 'True', 'GoodForMeal': '{'dessert': False, 'latenight': False, 'lunch': False, 'dinner': False, 'breakfast': False, 'brunch': False}', 'HasTV': 'True', 'NoiseLevel': 'average', 'OutdoorSeating': 'False', 'RestaurantsAttire': 'casual', 'RestaurantsDelivery': 'False', 'RestaurantsGoodForGroups': 'False', 'RestaurantsPriceRange2': '3', 'RestaurantsReservations': 'False', 'RestaurantsTableService': 'True', 'RestaurantsTakeOut': 'False', 'WiFi': 'no'}                                                                                                                                                                                                                                                                                                                                                                                                                                                                                                                                                                                                                                                                                        1\n",
       "{'Alcohol': 'none', 'Ambience': '{'romantic': False, 'intimate': False, 'classy': False, 'hipster': False, 'divey': False, 'touristy': False, 'trendy': False, 'upscale': False, 'casual': True}', 'BikeParking': 'True', 'BusinessAcceptsBitcoin': 'False', 'BusinessAcceptsCreditCards': 'True', 'BusinessParking': '{'garage': False, 'street': False, 'validated': False, 'lot': True, 'valet': False}', 'Caters': 'False', 'DogsAllowed': 'True', 'GoodForKids': 'True', 'GoodForMeal': '{'dessert': False, 'latenight': False, 'lunch': True, 'dinner': True, 'breakfast': True, 'brunch': True}', 'HasTV': 'False', 'NoiseLevel': 'average', 'OutdoorSeating': 'True', 'RestaurantsAttire': 'casual', 'RestaurantsDelivery': 'False', 'RestaurantsGoodForGroups': 'True', 'RestaurantsPriceRange2': '1', 'RestaurantsReservations': 'False', 'RestaurantsTableService': 'True', 'RestaurantsTakeOut': 'True', 'WheelchairAccessible': 'True', 'WiFi': 'no'}                                                                                                                                                                                                                                                                                                                                                                                                                                                                        1\n",
       "{'Alcohol': 'none', 'Ambience': '{'romantic': False, 'intimate': False, 'classy': False, 'hipster': False, 'divey': False, 'touristy': False, 'trendy': False, 'upscale': False, 'casual': True}', 'BikeParking': 'True', 'BusinessAcceptsBitcoin': 'False', 'BusinessAcceptsCreditCards': 'True', 'BusinessParking': '{'garage': False, 'street': False, 'validated': False, 'lot': True, 'valet': False}', 'Caters': 'True', 'DriveThru': 'True', 'GoodForKids': 'True', 'GoodForMeal': '{'dessert': False, 'latenight': False, 'lunch': True, 'dinner': True, 'breakfast': True, 'brunch': False}', 'HasTV': 'False', 'NoiseLevel': 'average', 'OutdoorSeating': 'True', 'RestaurantsAttire': 'casual', 'RestaurantsDelivery': 'True', 'RestaurantsGoodForGroups': 'True', 'RestaurantsPriceRange2': '1', 'RestaurantsReservations': 'False', 'RestaurantsTableService': 'False', 'RestaurantsTakeOut': 'True', 'WheelchairAccessible': 'True', 'WiFi': 'free'}                                                                                                                                                                                                                                                                                                                                                                                                                                                                        1\n",
       "{'Alcohol': 'beer_and_wine', 'Ambience': '{'romantic': False, 'intimate': False, 'classy': False, 'hipster': False, 'divey': False, 'touristy': False, 'trendy': False, 'upscale': False, 'casual': True}', 'BikeParking': 'False', 'BusinessAcceptsCreditCards': 'True', 'BusinessParking': '{'garage': False, 'street': False, 'validated': False, 'lot': False, 'valet': False}', 'Caters': 'False', 'GoodForKids': 'True', 'GoodForMeal': '{'dessert': False, 'latenight': False, 'lunch': True, 'dinner': True, 'breakfast': False, 'brunch': False}', 'HasTV': 'False', 'NoiseLevel': 'quiet', 'OutdoorSeating': 'False', 'RestaurantsAttire': 'casual', 'RestaurantsDelivery': 'False', 'RestaurantsGoodForGroups': 'True', 'RestaurantsPriceRange2': '1', 'RestaurantsReservations': 'False', 'RestaurantsTableService': 'True', 'RestaurantsTakeOut': 'True', 'WheelchairAccessible': 'True', 'WiFi': 'no'}                                                                                                                                                                                                                                                                                                                                                                                                                                                                                                                      1\n",
       "{'Alcohol': 'none', 'Ambience': '{'romantic': False, 'intimate': False, 'classy': False, 'hipster': False, 'divey': False, 'touristy': False, 'trendy': False, 'upscale': False, 'casual': False}', 'BikeParking': 'True', 'BusinessAcceptsCreditCards': 'True', 'BusinessParking': '{'garage': False, 'street': False, 'validated': False, 'lot': False, 'valet': False}', 'Caters': 'True', 'GoodForKids': 'True', 'GoodForMeal': '{'dessert': False, 'latenight': False, 'lunch': False, 'dinner': False, 'breakfast': False, 'brunch': False}', 'HasTV': 'True', 'NoiseLevel': 'average', 'OutdoorSeating': 'True', 'RestaurantsAttire': 'casual', 'RestaurantsDelivery': 'False', 'RestaurantsGoodForGroups': 'True', 'RestaurantsPriceRange2': '2', 'RestaurantsReservations': 'True', 'RestaurantsTableService': 'True', 'RestaurantsTakeOut': 'True', 'WiFi': 'no'}                                                                                                                                                                                                                                                                                                                                                                                                                                                                                                                                                               1\n",
       "{'BikeParking': 'False', 'BusinessAcceptsCreditCards': 'True', 'BusinessParking': '{'garage': False, 'street': False, 'validated': False, 'lot': True, 'valet': False}', 'RestaurantsPriceRange2': '2'}                                                                                                                                                                                                                                                                                                                                                                                                                                                                                                                                                                                                                                                                                                                                                                                                                                                                                                                                                                                                                                                                                                                                                                                                                                   1\n",
       "{'Alcohol': 'none', 'Ambience': '{'romantic': False, 'intimate': False, 'classy': False, 'hipster': False, 'divey': False, 'touristy': False, 'trendy': False, 'upscale': False, 'casual': True}', 'BikeParking': 'True', 'BusinessAcceptsBitcoin': 'False', 'BusinessAcceptsCreditCards': 'True', 'BusinessParking': '{'garage': False, 'street': False, 'validated': False, 'lot': True, 'valet': False}', 'Caters': 'True', 'DogsAllowed': 'False', 'GoodForKids': 'True', 'GoodForMeal': '{'dessert': False, 'latenight': False, 'lunch': True, 'dinner': False, 'breakfast': False, 'brunch': False}', 'HasTV': 'False', 'NoiseLevel': 'average', 'OutdoorSeating': 'True', 'RestaurantsAttire': 'casual', 'RestaurantsDelivery': 'True', 'RestaurantsGoodForGroups': 'True', 'RestaurantsPriceRange2': '1', 'RestaurantsReservations': 'False', 'RestaurantsTableService': 'False', 'RestaurantsTakeOut': 'True', 'WheelchairAccessible': 'True', 'WiFi': 'no'}                                                                                                                                                                                                                                                                                                                                                                                                                                                                     1\n",
       "{'Alcohol': 'none', 'Ambience': '{'romantic': False, 'intimate': False, 'classy': False, 'hipster': False, 'divey': False, 'touristy': False, 'trendy': False, 'upscale': False, 'casual': False}', 'BikeParking': 'True', 'BusinessAcceptsCreditCards': 'True', 'BusinessParking': '{'garage': False, 'street': False, 'validated': False, 'lot': True, 'valet': False}', 'Caters': 'True', 'DogsAllowed': 'False', 'GoodForKids': 'True', 'GoodForMeal': '{'dessert': False, 'latenight': False, 'lunch': False, 'dinner': False, 'breakfast': False, 'brunch': False}', 'OutdoorSeating': 'True', 'RestaurantsAttire': 'casual', 'RestaurantsDelivery': 'True', 'RestaurantsGoodForGroups': 'False', 'RestaurantsPriceRange2': '1', 'RestaurantsReservations': 'True', 'RestaurantsTableService': 'False', 'RestaurantsTakeOut': 'True', 'WheelchairAccessible': 'True', 'WiFi': 'free'}                                                                                                                                                                                                                                                                                                                                                                                                                                                                                                                                               1\n",
       "{'Alcohol': 'none', 'Ambience': '{'romantic': False, 'intimate': False, 'classy': False, 'hipster': False, 'divey': False, 'touristy': False, 'trendy': False, 'upscale': False, 'casual': True}', 'BikeParking': 'True', 'BusinessAcceptsCreditCards': 'True', 'BusinessParking': '{'garage': False, 'street': False, 'validated': False, 'lot': True, 'valet': False}', 'GoodForKids': 'True', 'GoodForMeal': '{'dessert': False, 'latenight': False, 'lunch': True, 'dinner': False, 'breakfast': False, 'brunch': False}', 'HasTV': 'True', 'NoiseLevel': 'quiet', 'OutdoorSeating': 'False', 'RestaurantsAttire': 'casual', 'RestaurantsDelivery': 'True', 'RestaurantsGoodForGroups': 'True', 'RestaurantsPriceRange2': '2', 'RestaurantsReservations': 'False', 'RestaurantsTableService': 'True', 'RestaurantsTakeOut': 'True', 'WiFi': 'no'}                                                                                                                                                                                                                                                                                                                                                                                                                                                                                                                                                                                     1\n",
       "{'Alcohol': 'full_bar', 'Ambience': '{'romantic': False, 'intimate': False, 'classy': False, 'hipster': False, 'divey': False, 'touristy': False, 'trendy': False, 'upscale': False, 'casual': True}', 'BikeParking': 'True', 'BusinessAcceptsCreditCards': 'True', 'BusinessParking': '{'garage': False, 'street': False, 'validated': False, 'lot': True, 'valet': False}', 'Caters': 'False', 'GoodForKids': 'True', 'GoodForMeal': '{'dessert': False, 'latenight': False, 'lunch': False, 'dinner': True, 'breakfast': False, 'brunch': False}', 'HasTV': 'True', 'NoiseLevel': 'quiet', 'OutdoorSeating': 'False', 'RestaurantsAttire': 'casual', 'RestaurantsDelivery': 'True', 'RestaurantsGoodForGroups': 'True', 'RestaurantsPriceRange2': '2', 'RestaurantsReservations': 'False', 'RestaurantsTableService': 'True', 'RestaurantsTakeOut': 'True', 'WiFi': 'free'}                                                                                                                                                                                                                                                                                                                                                                                                                                                                                                                                                            1\n",
       "{'Alcohol': 'full_bar', 'Ambience': '{'romantic': False, 'intimate': False, 'classy': False, 'hipster': False, 'divey': False, 'touristy': False, 'trendy': False, 'upscale': True, 'casual': False}', 'BYOB': 'True', 'BYOBCorkage': 'yes_corkage', 'BusinessAcceptsCreditCards': 'True', 'BusinessParking': '{'garage': False, 'street': False, 'validated': False, 'lot': False, 'valet': True}', 'Corkage': 'True', 'GoodForKids': 'False', 'GoodForMeal': '{'dessert': False, 'latenight': False, 'lunch': False, 'dinner': True, 'breakfast': False, 'brunch': False}', 'HasTV': 'True', 'NoiseLevel': 'quiet', 'OutdoorSeating': 'False', 'RestaurantsAttire': 'dressy', 'RestaurantsDelivery': 'False', 'RestaurantsGoodForGroups': 'True', 'RestaurantsPriceRange2': '4', 'RestaurantsReservations': 'True', 'RestaurantsTableService': 'True', 'RestaurantsTakeOut': 'False', 'WheelchairAccessible': 'True', 'WiFi': 'free'}                                                                                                                                                                                                                                                                                                                                                                                                                                                                                                   1\n",
       "{'Alcohol': 'full_bar', 'Ambience': '{'romantic': False, 'intimate': False, 'classy': False, 'hipster': False, 'divey': True, 'touristy': False, 'trendy': False, 'upscale': False, 'casual': False}', 'BestNights': '{'monday': False, 'tuesday': True, 'friday': True, 'wednesday': False, 'thursday': False, 'sunday': False, 'saturday': True}', 'BikeParking': 'True', 'BusinessAcceptsCreditCards': 'True', 'BusinessParking': '{'garage': False, 'street': False, 'validated': False, 'lot': True, 'valet': False}', 'Caters': 'True', 'CoatCheck': 'False', 'DogsAllowed': 'False', 'GoodForDancing': 'False', 'GoodForKids': 'False', 'GoodForMeal': '{'dessert': False, 'latenight': False, 'lunch': True, 'dinner': True, 'breakfast': False, 'brunch': False}', 'HappyHour': 'True', 'HasTV': 'True', 'Music': '{'dj': False, 'background_music': False, 'no_music': False, 'karaoke': False, 'live': False, 'video': False, 'jukebox': True}', 'NoiseLevel': 'average', 'OutdoorSeating': 'False', 'RestaurantsAttire': 'casual', 'RestaurantsDelivery': 'False', 'RestaurantsGoodForGroups': 'True', 'RestaurantsPriceRange2': '2', 'RestaurantsReservations': 'False', 'RestaurantsTakeOut': 'True', 'Smoking': 'outdoor', 'WheelchairAccessible': 'True', 'WiFi': 'no'}                                                                                                                                                   1\n",
       "{'Alcohol': 'beer_and_wine', 'BusinessAcceptsCreditCards': 'True', 'BusinessParking': '{'garage': False, 'street': False, 'validated': False, 'lot': True, 'valet': False}', 'GoodForKids': 'True', 'GoodForMeal': '{'dessert': False, 'latenight': False, 'lunch': False, 'dinner': True, 'breakfast': False, 'brunch': False}', 'OutdoorSeating': 'True', 'RestaurantsAttire': 'casual', 'RestaurantsDelivery': 'False', 'RestaurantsGoodForGroups': 'False', 'RestaurantsPriceRange2': '2', 'RestaurantsReservations': 'True', 'RestaurantsTableService': 'True', 'RestaurantsTakeOut': 'True', 'WheelchairAccessible': 'True'}                                                                                                                                                                                                                                                                                                                                                                                                                                                                                                                                                                                                                                                                                                                                                                                                        1\n",
       "{'Alcohol': 'none', 'Ambience': '{'romantic': False, 'intimate': False, 'classy': False, 'hipster': False, 'divey': False, 'touristy': False, 'trendy': False, 'upscale': False, 'casual': False}', 'BikeParking': 'True', 'BusinessAcceptsCreditCards': 'True', 'BusinessParking': '{'garage': False, 'street': False, 'validated': False, 'lot': True, 'valet': False}', 'Caters': 'True', 'GoodForKids': 'True', 'GoodForMeal': '{'dessert': False, 'latenight': False, 'lunch': True, 'dinner': True, 'breakfast': False, 'brunch': False}', 'HasTV': 'True', 'NoiseLevel': 'quiet', 'OutdoorSeating': 'False', 'RestaurantsAttire': 'casual', 'RestaurantsDelivery': 'True', 'RestaurantsGoodForGroups': 'True', 'RestaurantsPriceRange2': '1', 'RestaurantsReservations': 'False', 'RestaurantsTableService': 'False', 'RestaurantsTakeOut': 'True', 'WheelchairAccessible': 'True', 'WiFi': 'no'}                                                                                                                                                                                                                                                                                                                                                                                                                                                                                                                                  1\n",
       "Name: attributes, Length: 3623, dtype: int64"
      ]
     },
     "execution_count": 144,
     "metadata": {},
     "output_type": "execute_result"
    }
   ],
   "source": [
    "biz_phx.attributes.value_counts(dropna=False)"
   ]
  },
  {
   "cell_type": "code",
   "execution_count": 145,
   "metadata": {
    "ExecuteTime": {
     "end_time": "2018-08-23T20:20:44.372563Z",
     "start_time": "2018-08-23T20:20:44.196531Z"
    }
   },
   "outputs": [],
   "source": [
    "l_max = 30\n",
    "l_index = 0\n",
    "for i in range(len(biz_phx)):\n",
    "    if len(biz_phx.attributes[i]) > l_max:\n",
    "        l_max = len(biz_phx.attributes[i])\n",
    "        l_index = i"
   ]
  },
  {
   "cell_type": "code",
   "execution_count": 148,
   "metadata": {
    "ExecuteTime": {
     "end_time": "2018-08-23T20:21:20.043144Z",
     "start_time": "2018-08-23T20:21:20.012248Z"
    }
   },
   "outputs": [
    {
     "data": {
      "text/plain": [
       "{'Alcohol': 'beer_and_wine',\n",
       " 'Ambience': \"{'romantic': False, 'intimate': False, 'classy': False, 'hipster': False, 'divey': False, 'touristy': False, 'trendy': True, 'upscale': False, 'casual': False}\",\n",
       " 'BYOB': 'False',\n",
       " 'BYOBCorkage': 'no',\n",
       " 'BestNights': \"{'monday': True, 'tuesday': True, 'friday': True, 'wednesday': False, 'thursday': False, 'sunday': False, 'saturday': False}\",\n",
       " 'BikeParking': 'True',\n",
       " 'BusinessAcceptsBitcoin': 'False',\n",
       " 'BusinessAcceptsCreditCards': 'True',\n",
       " 'BusinessParking': \"{'garage': False, 'street': True, 'validated': False, 'lot': False, 'valet': True}\",\n",
       " 'Caters': 'True',\n",
       " 'CoatCheck': 'False',\n",
       " 'Corkage': 'False',\n",
       " 'DietaryRestrictions': \"{'dairy-free': False, 'gluten-free': False, 'vegan': True, 'kosher': False, 'halal': False, 'soy-free': False, 'vegetarian': True}\",\n",
       " 'DogsAllowed': 'True',\n",
       " 'GoodForDancing': 'False',\n",
       " 'GoodForKids': 'False',\n",
       " 'GoodForMeal': \"{'dessert': False, 'latenight': False, 'lunch': False, 'dinner': True, 'breakfast': False, 'brunch': False}\",\n",
       " 'HappyHour': 'True',\n",
       " 'HasTV': 'False',\n",
       " 'Music': \"{'dj': False, 'background_music': False, 'no_music': False, 'karaoke': False, 'live': False, 'video': False, 'jukebox': False}\",\n",
       " 'NoiseLevel': 'average',\n",
       " 'Open24Hours': 'False',\n",
       " 'OutdoorSeating': 'True',\n",
       " 'RestaurantsAttire': 'casual',\n",
       " 'RestaurantsCounterService': 'False',\n",
       " 'RestaurantsDelivery': 'False',\n",
       " 'RestaurantsGoodForGroups': 'True',\n",
       " 'RestaurantsPriceRange2': '2',\n",
       " 'RestaurantsReservations': 'True',\n",
       " 'RestaurantsTableService': 'True',\n",
       " 'RestaurantsTakeOut': 'True',\n",
       " 'Smoking': 'no',\n",
       " 'WheelchairAccessible': 'True',\n",
       " 'WiFi': 'free'}"
      ]
     },
     "execution_count": 148,
     "metadata": {},
     "output_type": "execute_result"
    }
   ],
   "source": [
    "biz_phx.attributes[l_index]"
   ]
  },
  {
   "cell_type": "code",
   "execution_count": 126,
   "metadata": {
    "ExecuteTime": {
     "end_time": "2018-08-23T19:55:58.553459Z",
     "start_time": "2018-08-23T19:55:58.521143Z"
    }
   },
   "outputs": [
    {
     "data": {
      "text/plain": [
       "{'Alcohol': 'full_bar',\n",
       " 'Ambience': \"{'romantic': False, 'intimate': False, 'classy': False, 'hipster': False, 'divey': False, 'touristy': False, 'trendy': False, 'upscale': False, 'casual': True}\",\n",
       " 'BYOB': 'False',\n",
       " 'BYOBCorkage': 'yes_free',\n",
       " 'BestNights': \"{'monday': False, 'tuesday': True, 'friday': True, 'wednesday': False, 'thursday': False, 'sunday': False, 'saturday': True}\",\n",
       " 'BikeParking': 'True',\n",
       " 'BusinessAcceptsCreditCards': 'True',\n",
       " 'BusinessParking': \"{'garage': False, 'street': False, 'validated': False, 'lot': True, 'valet': False}\",\n",
       " 'Caters': 'False',\n",
       " 'CoatCheck': 'False',\n",
       " 'Corkage': 'False',\n",
       " 'DriveThru': 'False',\n",
       " 'GoodForDancing': 'False',\n",
       " 'GoodForKids': 'True',\n",
       " 'GoodForMeal': \"{'dessert': False, 'latenight': False, 'lunch': True, 'dinner': True, 'breakfast': False, 'brunch': False}\",\n",
       " 'HappyHour': 'True',\n",
       " 'HasTV': 'True',\n",
       " 'Music': \"{'dj': False, 'background_music': False, 'no_music': False, 'karaoke': False, 'live': False, 'video': False, 'jukebox': False}\",\n",
       " 'NoiseLevel': 'average',\n",
       " 'OutdoorSeating': 'True',\n",
       " 'RestaurantsAttire': 'casual',\n",
       " 'RestaurantsDelivery': 'False',\n",
       " 'RestaurantsGoodForGroups': 'True',\n",
       " 'RestaurantsPriceRange2': '1',\n",
       " 'RestaurantsReservations': 'False',\n",
       " 'RestaurantsTableService': 'False',\n",
       " 'RestaurantsTakeOut': 'True',\n",
       " 'Smoking': 'outdoor',\n",
       " 'WheelchairAccessible': 'True',\n",
       " 'WiFi': 'no'}"
      ]
     },
     "execution_count": 126,
     "metadata": {},
     "output_type": "execute_result"
    }
   ],
   "source": [
    "biz_phx.attributes[0]"
   ]
  },
  {
   "cell_type": "code",
   "execution_count": 152,
   "metadata": {
    "ExecuteTime": {
     "end_time": "2018-08-23T20:30:20.717078Z",
     "start_time": "2018-08-23T20:30:20.685942Z"
    }
   },
   "outputs": [
    {
     "name": "stdout",
     "output_type": "stream",
     "text": [
      "Bars, Sports Bars, Dive Bars, Burgers, Nightlife, Sandwiches, Restaurants\n"
     ]
    },
    {
     "data": {
      "text/plain": [
       "str"
      ]
     },
     "execution_count": 152,
     "metadata": {},
     "output_type": "execute_result"
    }
   ],
   "source": [
    "print(biz_phx.categories[0])\n",
    "type(biz_phx.categories[0])"
   ]
  },
  {
   "cell_type": "code",
   "execution_count": 166,
   "metadata": {
    "ExecuteTime": {
     "end_time": "2018-08-23T20:41:32.186614Z",
     "start_time": "2018-08-23T20:41:32.157029Z"
    }
   },
   "outputs": [
    {
     "name": "stdout",
     "output_type": "stream",
     "text": [
      "Salad, Asian Fusion, Restaurants, American (Traditional), Food, Sandwiches\n",
      "Mexican, Restaurants\n",
      "Italian, Restaurants\n",
      "Restaurants, Sandwiches, Bakeries, Food, Cafes, Coffee & Tea\n",
      "Nightlife, Sports Bars, Bars, Fish & Chips, Restaurants, Karaoke, Burgers, American (Traditional), Irish, Breakfast & Brunch\n",
      "Kosher, Restaurants, Food, Grocery\n",
      "Restaurants, Nightlife, Bars, American (Traditional), Sports Bars\n",
      "Cafes, Restaurants, Salad, Sandwiches\n",
      "Restaurants, Mexican\n",
      "Restaurants, Food, Fast Food, Ice Cream & Frozen Yogurt, American (Traditional)\n"
     ]
    }
   ],
   "source": [
    "for i in range(30, 40):\n",
    "    print(biz_phx.categories[i])"
   ]
  },
  {
   "cell_type": "code",
   "execution_count": 179,
   "metadata": {
    "ExecuteTime": {
     "end_time": "2018-08-23T20:48:32.892383Z",
     "start_time": "2018-08-23T20:48:32.767935Z"
    }
   },
   "outputs": [],
   "source": [
    "cat_words = []\n",
    "for i in range(len(biz_phx)):\n",
    "    for word in biz_phx.categories[i].split(', '):\n",
    "        if word not in cat_words:\n",
    "            cat_words.append(word)"
   ]
  },
  {
   "cell_type": "code",
   "execution_count": 183,
   "metadata": {
    "ExecuteTime": {
     "end_time": "2018-08-23T20:53:41.115309Z",
     "start_time": "2018-08-23T20:53:41.087461Z"
    }
   },
   "outputs": [],
   "source": [
    "\n",
    "cat_words.sort()\n",
    "cat_words.remove('Restaurants')"
   ]
  },
  {
   "cell_type": "code",
   "execution_count": 184,
   "metadata": {
    "ExecuteTime": {
     "end_time": "2018-08-23T20:53:48.181989Z",
     "start_time": "2018-08-23T20:53:48.137777Z"
    }
   },
   "outputs": [
    {
     "data": {
      "text/plain": [
       "['Acai Bowls',\n",
       " 'Active Life',\n",
       " 'Adult Entertainment',\n",
       " 'Advertising',\n",
       " 'Afghan',\n",
       " 'African',\n",
       " 'Air Duct Cleaning',\n",
       " 'Airport Lounges',\n",
       " 'Airports',\n",
       " 'American (New)',\n",
       " 'American (Traditional)',\n",
       " 'Amusement Parks',\n",
       " 'Antiques',\n",
       " 'Apartments',\n",
       " 'Appliances',\n",
       " 'Appliances & Repair',\n",
       " 'Arabian',\n",
       " 'Arcades',\n",
       " 'Argentine',\n",
       " 'Armenian',\n",
       " 'Art Classes',\n",
       " 'Art Galleries',\n",
       " 'Art Museums',\n",
       " 'Arts & Entertainment',\n",
       " 'Asian Fusion',\n",
       " 'Automotive',\n",
       " 'Bagels',\n",
       " 'Bakeries',\n",
       " 'Barbeque',\n",
       " 'Bars',\n",
       " 'Beauty & Spas',\n",
       " 'Beer',\n",
       " 'Beer Bar',\n",
       " 'Beer Gardens',\n",
       " 'Belgian',\n",
       " 'Beverage Store',\n",
       " 'Books',\n",
       " 'Bookstores',\n",
       " 'Bowling',\n",
       " 'Brazilian',\n",
       " 'Breakfast & Brunch',\n",
       " 'Breweries',\n",
       " 'Brewpubs',\n",
       " 'British',\n",
       " 'Bubble Tea',\n",
       " 'Buffets',\n",
       " 'Building Supplies',\n",
       " 'Burgers',\n",
       " 'Business Consulting',\n",
       " 'Butcher',\n",
       " 'Cafes',\n",
       " 'Cafeteria',\n",
       " 'Cajun/Creole',\n",
       " 'Cambodian',\n",
       " 'Candy Stores',\n",
       " 'Cantonese',\n",
       " 'Cardiologists',\n",
       " 'Caribbean',\n",
       " 'Caterers',\n",
       " 'Cheese Shops',\n",
       " 'Cheesesteaks',\n",
       " 'Chicken Shop',\n",
       " 'Chicken Wings',\n",
       " 'Chinese',\n",
       " 'Chocolatiers & Shops',\n",
       " 'Cinema',\n",
       " 'Climbing',\n",
       " 'Club Crawl',\n",
       " 'Cocktail Bars',\n",
       " 'Coffee & Tea',\n",
       " 'Coffee & Tea Supplies',\n",
       " 'Coffee Roasteries',\n",
       " 'Comedy Clubs',\n",
       " 'Comfort Food',\n",
       " 'Community Service/Non-Profit',\n",
       " 'Contractors',\n",
       " 'Convenience Stores',\n",
       " 'Cooking Schools',\n",
       " 'Cosmetics & Beauty Supply',\n",
       " 'Country Clubs',\n",
       " 'Couriers & Delivery Services',\n",
       " 'Creperies',\n",
       " 'Cuban',\n",
       " 'Cupcakes',\n",
       " 'Custom Cakes',\n",
       " 'Damage Restoration',\n",
       " 'Dance Clubs',\n",
       " 'Day Spas',\n",
       " 'Delis',\n",
       " 'Department Stores',\n",
       " 'Desserts',\n",
       " 'Dim Sum',\n",
       " 'Diners',\n",
       " 'Dinner Theater',\n",
       " 'Discount Store',\n",
       " 'Dive Bars',\n",
       " 'Do-It-Yourself Food',\n",
       " 'Doctors',\n",
       " 'Dominican',\n",
       " 'Donuts',\n",
       " 'Drugstores',\n",
       " 'Eatertainment',\n",
       " 'Education',\n",
       " 'Emergency Medicine',\n",
       " 'Empanadas',\n",
       " 'Ethiopian',\n",
       " 'Ethnic Food',\n",
       " 'Ethnic Grocery',\n",
       " 'Event Planning & Services',\n",
       " 'Falafel',\n",
       " 'Farmers Market',\n",
       " 'Farms',\n",
       " 'Fashion',\n",
       " 'Fast Food',\n",
       " 'Festivals',\n",
       " 'Filipino',\n",
       " 'Fire Protection Services',\n",
       " 'Fireplace Services',\n",
       " 'Fish & Chips',\n",
       " 'Fitness & Instruction',\n",
       " 'Flooring',\n",
       " 'Flowers & Gifts',\n",
       " 'Fondue',\n",
       " 'Food',\n",
       " 'Food Court',\n",
       " 'Food Delivery Services',\n",
       " 'Food Stands',\n",
       " 'Food Tours',\n",
       " 'Food Trucks',\n",
       " 'French',\n",
       " 'Fruits & Veggies',\n",
       " 'Furniture Reupholstery',\n",
       " 'Furniture Stores',\n",
       " 'Gas Stations',\n",
       " 'Gastropubs',\n",
       " 'Gay Bars',\n",
       " 'Gelato',\n",
       " 'German',\n",
       " 'Gift Shops',\n",
       " 'Gluten-Free',\n",
       " 'Go Karts',\n",
       " 'Golf',\n",
       " 'Golf Equipment',\n",
       " 'Graphic Design',\n",
       " 'Greek',\n",
       " 'Grilling Equipment',\n",
       " 'Grocery',\n",
       " 'Gyms',\n",
       " 'Hair Extensions',\n",
       " 'Hair Salons',\n",
       " 'Hair Stylists',\n",
       " 'Haitian',\n",
       " 'Halal',\n",
       " 'Hawaiian',\n",
       " 'Head Shops',\n",
       " 'Health & Medical',\n",
       " 'Health Markets',\n",
       " 'Herbs & Spices',\n",
       " 'Home & Garden',\n",
       " 'Home Cleaning',\n",
       " 'Home Inspectors',\n",
       " 'Home Services',\n",
       " 'Hookah Bars',\n",
       " 'Horse Racing',\n",
       " 'Hospitals',\n",
       " 'Hot Dogs',\n",
       " 'Hot Pot',\n",
       " 'Hotel bar',\n",
       " 'Hotels',\n",
       " 'Hotels & Travel',\n",
       " 'Ice Cream & Frozen Yogurt',\n",
       " 'Imported Food',\n",
       " 'Indian',\n",
       " 'Indonesian',\n",
       " 'Interior Design',\n",
       " 'International Grocery',\n",
       " 'Internet Cafes',\n",
       " 'Irish',\n",
       " 'Irish Pub',\n",
       " 'Italian',\n",
       " 'Japanese',\n",
       " 'Jazz & Blues',\n",
       " 'Juice Bars & Smoothies',\n",
       " 'Karaoke',\n",
       " 'Kids Activities',\n",
       " 'Kitchen & Bath',\n",
       " 'Korean',\n",
       " 'Kosher',\n",
       " 'Landscaping',\n",
       " 'Laotian',\n",
       " 'Laser Tag',\n",
       " 'Latin American',\n",
       " 'Lebanese',\n",
       " 'Live/Raw Food',\n",
       " 'Local Flavor',\n",
       " 'Local Services',\n",
       " 'Lounges',\n",
       " 'Macarons',\n",
       " 'Mags',\n",
       " 'Makeup Artists',\n",
       " 'Marketing',\n",
       " 'Masonry/Concrete',\n",
       " 'Mass Media',\n",
       " 'Meat Shops',\n",
       " 'Medical Spas',\n",
       " 'Mediterranean',\n",
       " \"Men's Clothing\",\n",
       " 'Mexican',\n",
       " 'Middle Eastern',\n",
       " 'Modern European',\n",
       " 'Mongolian',\n",
       " 'Moroccan',\n",
       " 'Museums',\n",
       " 'Music & Video',\n",
       " 'Music Venues',\n",
       " 'Musicians',\n",
       " 'New Mexican Cuisine',\n",
       " 'Nightlife',\n",
       " 'Noodles',\n",
       " 'Nutritionists',\n",
       " 'Office Cleaning',\n",
       " 'Organic Stores',\n",
       " 'Outdoor Furniture Stores',\n",
       " 'Outlet Stores',\n",
       " 'Pakistani',\n",
       " 'Pan Asian',\n",
       " 'Party & Event Planning',\n",
       " 'Party Equipment Rentals',\n",
       " 'Party Supplies',\n",
       " 'Pasta Shops',\n",
       " 'Patisserie/Cake Shop',\n",
       " 'Pediatricians',\n",
       " 'Performing Arts',\n",
       " 'Persian/Iranian',\n",
       " 'Personal Chefs',\n",
       " 'Personal Shopping',\n",
       " 'Peruvian',\n",
       " 'Pet Services',\n",
       " 'Pet Sitting',\n",
       " 'Pet Stores',\n",
       " 'Pets',\n",
       " 'Pharmacy',\n",
       " 'Pizza',\n",
       " 'Playgrounds',\n",
       " 'Plumbing',\n",
       " 'Poke',\n",
       " 'Polish',\n",
       " 'Pool & Billiards',\n",
       " 'Pool Halls',\n",
       " 'Popcorn Shops',\n",
       " 'Pretzels',\n",
       " 'Print Media',\n",
       " 'Professional Services',\n",
       " 'Property Management',\n",
       " 'Psychics',\n",
       " 'Pubs',\n",
       " 'Puerto Rican',\n",
       " 'Race Tracks',\n",
       " 'Ramen',\n",
       " 'Real Estate',\n",
       " 'Real Estate Agents',\n",
       " 'Real Estate Services',\n",
       " 'Resorts',\n",
       " 'Restaurant Supplies',\n",
       " 'Roofing',\n",
       " 'Russian',\n",
       " 'Salad',\n",
       " 'Salvadoran',\n",
       " 'Sandwiches',\n",
       " 'Screen Printing',\n",
       " 'Screen Printing/T-Shirt Printing',\n",
       " 'Seafood',\n",
       " 'Seafood Markets',\n",
       " 'Shared Office Spaces',\n",
       " 'Shaved Ice',\n",
       " 'Shopping',\n",
       " 'Shopping Centers',\n",
       " 'Smokehouse',\n",
       " 'Social Clubs',\n",
       " 'Soul Food',\n",
       " 'Soup',\n",
       " 'Southern',\n",
       " 'Souvenir Shops',\n",
       " 'Spanish',\n",
       " 'Speakeasies',\n",
       " 'Specialty Food',\n",
       " 'Specialty Schools',\n",
       " 'Sporting Goods',\n",
       " 'Sports Bars',\n",
       " 'Sports Clubs',\n",
       " 'Spray Tanning',\n",
       " 'Stadiums & Arenas',\n",
       " 'Steakhouses',\n",
       " 'Street Vendors',\n",
       " 'Supernatural Readings',\n",
       " 'Sushi Bars',\n",
       " 'Szechuan',\n",
       " 'Tacos',\n",
       " 'Taiwanese',\n",
       " 'Tanning',\n",
       " 'Tapas Bars',\n",
       " 'Tapas/Small Plates',\n",
       " 'Tea Rooms',\n",
       " 'Tex-Mex',\n",
       " 'Thai',\n",
       " 'Tires',\n",
       " 'Tobacco Shops',\n",
       " 'Tours',\n",
       " 'Trainers',\n",
       " 'Trampoline Parks',\n",
       " 'Turkish',\n",
       " 'Ukrainian',\n",
       " 'Unofficial Yelp Events',\n",
       " 'Uzbek',\n",
       " 'Vegan',\n",
       " 'Vegetarian',\n",
       " 'Venues & Event Spaces',\n",
       " 'Veterinarians',\n",
       " 'Vietnamese',\n",
       " 'Vitamins & Supplements',\n",
       " 'Waffles',\n",
       " 'Web Design',\n",
       " 'Wedding Chapels',\n",
       " 'Wedding Planning',\n",
       " 'Whiskey Bars',\n",
       " 'Wholesale Stores',\n",
       " 'Wholesalers',\n",
       " 'Wine & Spirits',\n",
       " 'Wine Bars',\n",
       " 'Wineries',\n",
       " \"Women's Clothing\",\n",
       " 'Wraps',\n",
       " 'Yelp Events']"
      ]
     },
     "execution_count": 184,
     "metadata": {},
     "output_type": "execute_result"
    }
   ],
   "source": [
    "cat_words"
   ]
  },
  {
   "cell_type": "code",
   "execution_count": null,
   "metadata": {},
   "outputs": [],
   "source": []
  }
 ],
 "metadata": {
  "kernelspec": {
   "display_name": "Python 3",
   "language": "python",
   "name": "python3"
  },
  "language_info": {
   "codemirror_mode": {
    "name": "ipython",
    "version": 3
   },
   "file_extension": ".py",
   "mimetype": "text/x-python",
   "name": "python",
   "nbconvert_exporter": "python",
   "pygments_lexer": "ipython3",
   "version": "3.6.5"
  }
 },
 "nbformat": 4,
 "nbformat_minor": 2
}
