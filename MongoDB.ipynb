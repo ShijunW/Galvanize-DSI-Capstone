{
 "cells": [
  {
   "cell_type": "markdown",
   "metadata": {},
   "source": [
    "## test MongoDB function"
   ]
  },
  {
   "cell_type": "code",
   "execution_count": 1,
   "metadata": {
    "ExecuteTime": {
     "end_time": "2018-08-30T20:14:06.030347Z",
     "start_time": "2018-08-30T20:14:05.362922Z"
    }
   },
   "outputs": [],
   "source": [
    "from src.dataread import read_file"
   ]
  },
  {
   "cell_type": "code",
   "execution_count": 2,
   "metadata": {
    "ExecuteTime": {
     "end_time": "2018-08-24T17:05:26.986144Z",
     "start_time": "2018-08-24T17:05:26.824070Z"
    }
   },
   "outputs": [
    {
     "name": "stdout",
     "output_type": "stream",
     "text": [
      "LICENSE            \u001b[1m\u001b[34mapp\u001b[m\u001b[m                yelp-api.ipynb     yelp_api_key.yaml\r\n",
      "MongoDB.ipynb      \u001b[1m\u001b[34mdata\u001b[m\u001b[m               yelp-ver1.ipynb    \u001b[1m\u001b[34myelp_dataset\u001b[m\u001b[m\r\n",
      "README.md          request_example.py yelp.ipynb         yelp_helpers.py\r\n",
      "\u001b[1m\u001b[34m__pycache__\u001b[m\u001b[m        \u001b[1m\u001b[34msrc\u001b[m\u001b[m                yelp.py\r\n"
     ]
    }
   ],
   "source": [
    "!ls"
   ]
  },
  {
   "cell_type": "code",
   "execution_count": 2,
   "metadata": {
    "ExecuteTime": {
     "end_time": "2018-08-30T20:14:15.388908Z",
     "start_time": "2018-08-30T20:14:09.202815Z"
    }
   },
   "outputs": [],
   "source": [
    "businesses = read_file('./yelp_dataset/yelp_academic_dataset_business.json')"
   ]
  },
  {
   "cell_type": "code",
   "execution_count": 3,
   "metadata": {
    "ExecuteTime": {
     "end_time": "2018-08-30T20:14:16.485575Z",
     "start_time": "2018-08-30T20:14:16.227489Z"
    }
   },
   "outputs": [
    {
     "name": "stdout",
     "output_type": "stream",
     "text": [
      "<class 'pandas.core.frame.DataFrame'>\n",
      "RangeIndex: 188593 entries, 0 to 188592\n",
      "Data columns (total 15 columns):\n",
      "address         188593 non-null object\n",
      "attributes      162807 non-null object\n",
      "business_id     188593 non-null object\n",
      "categories      188052 non-null object\n",
      "city            188593 non-null object\n",
      "hours           143791 non-null object\n",
      "is_open         188593 non-null int64\n",
      "latitude        188587 non-null float64\n",
      "longitude       188587 non-null float64\n",
      "name            188593 non-null object\n",
      "neighborhood    188593 non-null object\n",
      "postal_code     188593 non-null object\n",
      "review_count    188593 non-null int64\n",
      "stars           188593 non-null float64\n",
      "state           188593 non-null object\n",
      "dtypes: float64(3), int64(2), object(10)\n",
      "memory usage: 21.6+ MB\n"
     ]
    }
   ],
   "source": [
    "businesses.info()"
   ]
  },
  {
   "cell_type": "code",
   "execution_count": 4,
   "metadata": {
    "ExecuteTime": {
     "end_time": "2018-08-30T20:14:16.976869Z",
     "start_time": "2018-08-30T20:14:16.847700Z"
    }
   },
   "outputs": [],
   "source": [
    "from pymongo import MongoClient"
   ]
  },
  {
   "cell_type": "code",
   "execution_count": 5,
   "metadata": {
    "ExecuteTime": {
     "end_time": "2018-08-30T20:21:00.273129Z",
     "start_time": "2018-08-30T20:21:00.241076Z"
    }
   },
   "outputs": [],
   "source": [
    "# Connect to the hosted MongoDB instance\n",
    "client = MongoClient('mongodb://localhost:27017/')"
   ]
  },
  {
   "cell_type": "code",
   "execution_count": 6,
   "metadata": {
    "ExecuteTime": {
     "end_time": "2018-08-30T20:21:51.880936Z",
     "start_time": "2018-08-30T20:21:51.852381Z"
    }
   },
   "outputs": [],
   "source": [
    "db = client.business"
   ]
  },
  {
   "cell_type": "code",
   "execution_count": 7,
   "metadata": {
    "ExecuteTime": {
     "end_time": "2018-08-30T20:22:40.768287Z",
     "start_time": "2018-08-30T20:22:40.740095Z"
    }
   },
   "outputs": [],
   "source": [
    "# Create a collection called biz\n",
    "biz = db.business"
   ]
  },
  {
   "cell_type": "code",
   "execution_count": 9,
   "metadata": {
    "ExecuteTime": {
     "end_time": "2018-08-30T20:38:59.412473Z",
     "start_time": "2018-08-30T20:38:59.330044Z"
    }
   },
   "outputs": [],
   "source": [
    "def read_json(file_name):\n",
    "    '''\n",
    "    Read the json file into a list\n",
    "    INPUT: string\n",
    "    OUTPUT: list\n",
    "    '''\n",
    "    with open(file_name, 'r') as json_file:\n",
    "        list_json = json_file.readlines()\n",
    "    return list_json"
   ]
  },
  {
   "cell_type": "code",
   "execution_count": 10,
   "metadata": {
    "ExecuteTime": {
     "end_time": "2018-08-30T20:39:22.885210Z",
     "start_time": "2018-08-30T20:39:22.853686Z"
    }
   },
   "outputs": [],
   "source": [
    "def json_to_mongo(file_name, db_name, collection_name):\n",
    "    '''\n",
    "    Read json file and store to mongodb\n",
    "    INPUT: string, string, string\n",
    "    OUTPUT: None\n",
    "    '''\n",
    "    list_json = read_json(file_name)\n",
    "    client = MongoClient()\n",
    "    db = client[db_name]\n",
    "    collection = db[collection_name]\n",
    "    for json_item in list_json:\n",
    "        record = json.loads(json_item)\n",
    "        collection.insert(record)"
   ]
  },
  {
   "cell_type": "code",
   "execution_count": 11,
   "metadata": {
    "ExecuteTime": {
     "end_time": "2018-08-30T20:42:18.207925Z",
     "start_time": "2018-08-30T20:42:18.172891Z"
    }
   },
   "outputs": [],
   "source": [
    "file_name = './yelp_dataset/yelp_academic_dataset_business.json'\n",
    "db_name = 'yelp'\n",
    "collection_name = 'business'"
   ]
  },
  {
   "cell_type": "code",
   "execution_count": 12,
   "metadata": {
    "ExecuteTime": {
     "end_time": "2018-08-30T20:44:28.647988Z",
     "start_time": "2018-08-30T20:42:44.089277Z"
    }
   },
   "outputs": [
    {
     "name": "stderr",
     "output_type": "stream",
     "text": [
      "/anaconda3/lib/python3.6/site-packages/ipykernel_launcher.py:13: DeprecationWarning: insert is deprecated. Use insert_one or insert_many instead.\n",
      "  del sys.path[0]\n"
     ]
    }
   ],
   "source": [
    "json_to_mongo(file_name, db_name, collection_name)"
   ]
  },
  {
   "cell_type": "code",
   "execution_count": 13,
   "metadata": {
    "ExecuteTime": {
     "end_time": "2018-08-30T20:49:14.306402Z",
     "start_time": "2018-08-30T20:49:14.231726Z"
    }
   },
   "outputs": [],
   "source": [
    "file_name = './yelp_dataset/yelp_academic_dataset_review.json'"
   ]
  },
  {
   "cell_type": "code",
   "execution_count": 14,
   "metadata": {
    "ExecuteTime": {
     "end_time": "2018-08-30T21:45:27.330026Z",
     "start_time": "2018-08-30T20:49:35.157028Z"
    }
   },
   "outputs": [
    {
     "name": "stderr",
     "output_type": "stream",
     "text": [
      "/anaconda3/lib/python3.6/site-packages/ipykernel_launcher.py:13: DeprecationWarning: insert is deprecated. Use insert_one or insert_many instead.\n",
      "  del sys.path[0]\n"
     ]
    }
   ],
   "source": [
    "json_to_mongo(file_name, db_name, collection_name='review')"
   ]
  },
  {
   "cell_type": "code",
   "execution_count": 15,
   "metadata": {
    "ExecuteTime": {
     "end_time": "2018-08-30T21:45:59.027177Z",
     "start_time": "2018-08-30T21:45:58.879656Z"
    }
   },
   "outputs": [],
   "source": [
    "file_name = './yelp_dataset/yelp_academic_dataset_user.json'"
   ]
  },
  {
   "cell_type": "code",
   "execution_count": 17,
   "metadata": {
    "ExecuteTime": {
     "end_time": "2018-08-30T22:05:36.011760Z",
     "start_time": "2018-08-30T21:48:13.473409Z"
    }
   },
   "outputs": [
    {
     "name": "stderr",
     "output_type": "stream",
     "text": [
      "/anaconda3/lib/python3.6/site-packages/ipykernel_launcher.py:13: DeprecationWarning: insert is deprecated. Use insert_one or insert_many instead.\n",
      "  del sys.path[0]\n"
     ]
    }
   ],
   "source": [
    "json_to_mongo(file_name, db_name, collection_name='user')"
   ]
  },
  {
   "cell_type": "markdown",
   "metadata": {},
   "source": [
    "accidently stored some user data into review collections, remove them using the following\n",
    "\n",
    "`db.review.remove({_id:{$gte:ObjectId(\"5b8865c11461653d76a27892\")}})`"
   ]
  },
  {
   "cell_type": "code",
   "execution_count": null,
   "metadata": {},
   "outputs": [],
   "source": []
  }
 ],
 "metadata": {
  "kernelspec": {
   "display_name": "Python 3",
   "language": "python",
   "name": "python3"
  },
  "language_info": {
   "codemirror_mode": {
    "name": "ipython",
    "version": 3
   },
   "file_extension": ".py",
   "mimetype": "text/x-python",
   "name": "python",
   "nbconvert_exporter": "python",
   "pygments_lexer": "ipython3",
   "version": "3.6.5"
  }
 },
 "nbformat": 4,
 "nbformat_minor": 2
}
