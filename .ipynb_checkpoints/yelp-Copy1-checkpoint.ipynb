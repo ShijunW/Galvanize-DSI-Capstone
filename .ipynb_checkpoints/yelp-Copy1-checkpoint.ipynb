{
 "cells": [
  {
   "cell_type": "code",
   "execution_count": 1,
   "metadata": {
    "ExecuteTime": {
     "end_time": "2018-08-21T16:39:43.161107Z",
     "start_time": "2018-08-21T16:39:42.440188Z"
    }
   },
   "outputs": [],
   "source": [
    "import pandas as pd\n",
    "import numpy as np\n"
   ]
  },
  {
   "cell_type": "code",
   "execution_count": 6,
   "metadata": {
    "ExecuteTime": {
     "end_time": "2018-08-21T16:51:03.291875Z",
     "start_time": "2018-08-21T16:51:03.267621Z"
    }
   },
   "outputs": [],
   "source": [
    "data_test = []"
   ]
  },
  {
   "cell_type": "code",
   "execution_count": 7,
   "metadata": {
    "ExecuteTime": {
     "end_time": "2018-08-21T16:51:36.838003Z",
     "start_time": "2018-08-21T16:51:36.386363Z"
    }
   },
   "outputs": [],
   "source": [
    "with open('yelp_academic_dataset_business.json', 'r') as f:\n",
    "    for line in f:\n",
    "        if '\"state\":\"AZ\"' in line:\n",
    "            data_test.append(line)"
   ]
  },
  {
   "cell_type": "code",
   "execution_count": 9,
   "metadata": {
    "ExecuteTime": {
     "end_time": "2018-08-21T16:52:23.091753Z",
     "start_time": "2018-08-21T16:52:23.065329Z"
    }
   },
   "outputs": [
    {
     "data": {
      "text/plain": [
       "56495"
      ]
     },
     "execution_count": 9,
     "metadata": {},
     "output_type": "execute_result"
    }
   ],
   "source": [
    "len(data_test)"
   ]
  },
  {
   "cell_type": "code",
   "execution_count": 24,
   "metadata": {
    "ExecuteTime": {
     "end_time": "2018-08-21T17:04:27.485202Z",
     "start_time": "2018-08-21T17:04:27.456112Z"
    }
   },
   "outputs": [],
   "source": [
    "import ast\n",
    "import json"
   ]
  },
  {
   "cell_type": "code",
   "execution_count": 20,
   "metadata": {
    "ExecuteTime": {
     "end_time": "2018-08-21T17:00:15.646220Z",
     "start_time": "2018-08-21T17:00:15.618401Z"
    },
    "scrolled": true
   },
   "outputs": [
    {
     "data": {
      "text/plain": [
       "'{\"business_id\":\"bFzdJJ3wp3PZssNEsyU23g\",\"name\":\"Geico Insurance\",\"neighborhood\":\"\",\"address\":\"211 W Monroe St\",\"city\":\"Phoenix\",\"state\":\"AZ\",\"postal_code\":\"85003\",\"latitude\":33.4499993,\"longitude\":-112.0769793,\"stars\":1.5,\"review_count\":8,\"is_open\":1,\"attributes\":null,\"categories\":\"Insurance, Financial Services\",\"hours\":null}\\n'"
      ]
     },
     "execution_count": 20,
     "metadata": {},
     "output_type": "execute_result"
    }
   ],
   "source": [
    "data_test[0]"
   ]
  },
  {
   "cell_type": "code",
   "execution_count": 26,
   "metadata": {
    "ExecuteTime": {
     "end_time": "2018-08-21T17:04:59.576898Z",
     "start_time": "2018-08-21T17:04:59.551614Z"
    }
   },
   "outputs": [],
   "source": [
    "data_json = json.loads(data_test[0])"
   ]
  },
  {
   "cell_type": "code",
   "execution_count": 23,
   "metadata": {
    "ExecuteTime": {
     "end_time": "2018-08-21T17:03:09.347725Z",
     "start_time": "2018-08-21T17:03:09.309735Z"
    }
   },
   "outputs": [
    {
     "ename": "ValueError",
     "evalue": "malformed node or string: <_ast.Name object at 0x12f116be0>",
     "output_type": "error",
     "traceback": [
      "\u001b[0;31m---------------------------------------------------------------------------\u001b[0m",
      "\u001b[0;31mValueError\u001b[0m                                Traceback (most recent call last)",
      "\u001b[0;32m<ipython-input-23-475b08226f03>\u001b[0m in \u001b[0;36m<module>\u001b[0;34m()\u001b[0m\n\u001b[0;32m----> 1\u001b[0;31m \u001b[0mast\u001b[0m\u001b[0;34m.\u001b[0m\u001b[0mliteral_eval\u001b[0m\u001b[0;34m(\u001b[0m\u001b[0mdata_test\u001b[0m\u001b[0;34m[\u001b[0m\u001b[0;36m0\u001b[0m\u001b[0;34m]\u001b[0m\u001b[0;34m)\u001b[0m\u001b[0;34m\u001b[0m\u001b[0m\n\u001b[0m",
      "\u001b[0;32m/anaconda3/lib/python3.6/ast.py\u001b[0m in \u001b[0;36mliteral_eval\u001b[0;34m(node_or_string)\u001b[0m\n\u001b[1;32m     83\u001b[0m                     \u001b[0;32mreturn\u001b[0m \u001b[0mleft\u001b[0m \u001b[0;34m-\u001b[0m \u001b[0mright\u001b[0m\u001b[0;34m\u001b[0m\u001b[0m\n\u001b[1;32m     84\u001b[0m         \u001b[0;32mraise\u001b[0m \u001b[0mValueError\u001b[0m\u001b[0;34m(\u001b[0m\u001b[0;34m'malformed node or string: '\u001b[0m \u001b[0;34m+\u001b[0m \u001b[0mrepr\u001b[0m\u001b[0;34m(\u001b[0m\u001b[0mnode\u001b[0m\u001b[0;34m)\u001b[0m\u001b[0;34m)\u001b[0m\u001b[0;34m\u001b[0m\u001b[0m\n\u001b[0;32m---> 85\u001b[0;31m     \u001b[0;32mreturn\u001b[0m \u001b[0m_convert\u001b[0m\u001b[0;34m(\u001b[0m\u001b[0mnode_or_string\u001b[0m\u001b[0;34m)\u001b[0m\u001b[0;34m\u001b[0m\u001b[0m\n\u001b[0m\u001b[1;32m     86\u001b[0m \u001b[0;34m\u001b[0m\u001b[0m\n\u001b[1;32m     87\u001b[0m \u001b[0;34m\u001b[0m\u001b[0m\n",
      "\u001b[0;32m/anaconda3/lib/python3.6/ast.py\u001b[0m in \u001b[0;36m_convert\u001b[0;34m(node)\u001b[0m\n\u001b[1;32m     64\u001b[0m         \u001b[0;32melif\u001b[0m \u001b[0misinstance\u001b[0m\u001b[0;34m(\u001b[0m\u001b[0mnode\u001b[0m\u001b[0;34m,\u001b[0m \u001b[0mDict\u001b[0m\u001b[0;34m)\u001b[0m\u001b[0;34m:\u001b[0m\u001b[0;34m\u001b[0m\u001b[0m\n\u001b[1;32m     65\u001b[0m             return dict((_convert(k), _convert(v)) for k, v\n\u001b[0;32m---> 66\u001b[0;31m                         in zip(node.keys, node.values))\n\u001b[0m\u001b[1;32m     67\u001b[0m         \u001b[0;32melif\u001b[0m \u001b[0misinstance\u001b[0m\u001b[0;34m(\u001b[0m\u001b[0mnode\u001b[0m\u001b[0;34m,\u001b[0m \u001b[0mNameConstant\u001b[0m\u001b[0;34m)\u001b[0m\u001b[0;34m:\u001b[0m\u001b[0;34m\u001b[0m\u001b[0m\n\u001b[1;32m     68\u001b[0m             \u001b[0;32mreturn\u001b[0m \u001b[0mnode\u001b[0m\u001b[0;34m.\u001b[0m\u001b[0mvalue\u001b[0m\u001b[0;34m\u001b[0m\u001b[0m\n",
      "\u001b[0;32m/anaconda3/lib/python3.6/ast.py\u001b[0m in \u001b[0;36m<genexpr>\u001b[0;34m(.0)\u001b[0m\n\u001b[1;32m     63\u001b[0m             \u001b[0;32mreturn\u001b[0m \u001b[0mset\u001b[0m\u001b[0;34m(\u001b[0m\u001b[0mmap\u001b[0m\u001b[0;34m(\u001b[0m\u001b[0m_convert\u001b[0m\u001b[0;34m,\u001b[0m \u001b[0mnode\u001b[0m\u001b[0;34m.\u001b[0m\u001b[0melts\u001b[0m\u001b[0;34m)\u001b[0m\u001b[0;34m)\u001b[0m\u001b[0;34m\u001b[0m\u001b[0m\n\u001b[1;32m     64\u001b[0m         \u001b[0;32melif\u001b[0m \u001b[0misinstance\u001b[0m\u001b[0;34m(\u001b[0m\u001b[0mnode\u001b[0m\u001b[0;34m,\u001b[0m \u001b[0mDict\u001b[0m\u001b[0;34m)\u001b[0m\u001b[0;34m:\u001b[0m\u001b[0;34m\u001b[0m\u001b[0m\n\u001b[0;32m---> 65\u001b[0;31m             return dict((_convert(k), _convert(v)) for k, v\n\u001b[0m\u001b[1;32m     66\u001b[0m                         in zip(node.keys, node.values))\n\u001b[1;32m     67\u001b[0m         \u001b[0;32melif\u001b[0m \u001b[0misinstance\u001b[0m\u001b[0;34m(\u001b[0m\u001b[0mnode\u001b[0m\u001b[0;34m,\u001b[0m \u001b[0mNameConstant\u001b[0m\u001b[0;34m)\u001b[0m\u001b[0;34m:\u001b[0m\u001b[0;34m\u001b[0m\u001b[0m\n",
      "\u001b[0;32m/anaconda3/lib/python3.6/ast.py\u001b[0m in \u001b[0;36m_convert\u001b[0;34m(node)\u001b[0m\n\u001b[1;32m     82\u001b[0m                 \u001b[0;32melse\u001b[0m\u001b[0;34m:\u001b[0m\u001b[0;34m\u001b[0m\u001b[0m\n\u001b[1;32m     83\u001b[0m                     \u001b[0;32mreturn\u001b[0m \u001b[0mleft\u001b[0m \u001b[0;34m-\u001b[0m \u001b[0mright\u001b[0m\u001b[0;34m\u001b[0m\u001b[0m\n\u001b[0;32m---> 84\u001b[0;31m         \u001b[0;32mraise\u001b[0m \u001b[0mValueError\u001b[0m\u001b[0;34m(\u001b[0m\u001b[0;34m'malformed node or string: '\u001b[0m \u001b[0;34m+\u001b[0m \u001b[0mrepr\u001b[0m\u001b[0;34m(\u001b[0m\u001b[0mnode\u001b[0m\u001b[0;34m)\u001b[0m\u001b[0;34m)\u001b[0m\u001b[0;34m\u001b[0m\u001b[0m\n\u001b[0m\u001b[1;32m     85\u001b[0m     \u001b[0;32mreturn\u001b[0m \u001b[0m_convert\u001b[0m\u001b[0;34m(\u001b[0m\u001b[0mnode_or_string\u001b[0m\u001b[0;34m)\u001b[0m\u001b[0;34m\u001b[0m\u001b[0m\n\u001b[1;32m     86\u001b[0m \u001b[0;34m\u001b[0m\u001b[0m\n",
      "\u001b[0;31mValueError\u001b[0m: malformed node or string: <_ast.Name object at 0x12f116be0>"
     ]
    }
   ],
   "source": [
    "ast.literal_eval(data_test[0])"
   ]
  },
  {
   "cell_type": "code",
   "execution_count": 16,
   "metadata": {
    "ExecuteTime": {
     "end_time": "2018-08-21T16:57:01.568359Z",
     "start_time": "2018-08-21T16:57:01.542615Z"
    }
   },
   "outputs": [],
   "source": [
    "user_test = []"
   ]
  },
  {
   "cell_type": "code",
   "execution_count": 17,
   "metadata": {
    "ExecuteTime": {
     "end_time": "2018-08-21T16:57:42.007141Z",
     "start_time": "2018-08-21T16:57:36.145521Z"
    }
   },
   "outputs": [],
   "source": [
    "with open('yelp_academic_dataset_user.json', 'r') as f:\n",
    "    for line in f:\n",
    "        user_test.append(line)"
   ]
  },
  {
   "cell_type": "code",
   "execution_count": 18,
   "metadata": {
    "ExecuteTime": {
     "end_time": "2018-08-21T16:57:49.921641Z",
     "start_time": "2018-08-21T16:57:48.140472Z"
    }
   },
   "outputs": [
    {
     "data": {
      "text/plain": [
       "1518169"
      ]
     },
     "execution_count": 18,
     "metadata": {},
     "output_type": "execute_result"
    }
   ],
   "source": [
    "len(user_test)"
   ]
  },
  {
   "cell_type": "code",
   "execution_count": 22,
   "metadata": {
    "ExecuteTime": {
     "end_time": "2018-08-21T17:02:44.613331Z",
     "start_time": "2018-08-21T17:02:44.575491Z"
    }
   },
   "outputs": [
    {
     "ename": "ValueError",
     "evalue": "malformed node or string: <_ast.Name object at 0x115309d68>",
     "output_type": "error",
     "traceback": [
      "\u001b[0;31m---------------------------------------------------------------------------\u001b[0m",
      "\u001b[0;31mValueError\u001b[0m                                Traceback (most recent call last)",
      "\u001b[0;32m<ipython-input-22-ed78ea3caeea>\u001b[0m in \u001b[0;36m<module>\u001b[0;34m()\u001b[0m\n\u001b[0;32m----> 1\u001b[0;31m \u001b[0mdf\u001b[0m \u001b[0;34m=\u001b[0m \u001b[0mpd\u001b[0m\u001b[0;34m.\u001b[0m\u001b[0mDataFrame\u001b[0m\u001b[0;34m(\u001b[0m\u001b[0mast\u001b[0m\u001b[0;34m.\u001b[0m\u001b[0mliteral_eval\u001b[0m\u001b[0;34m(\u001b[0m\u001b[0mdata_test\u001b[0m\u001b[0;34m[\u001b[0m\u001b[0;36m0\u001b[0m\u001b[0;34m]\u001b[0m\u001b[0;34m)\u001b[0m\u001b[0;34m)\u001b[0m\u001b[0;34m\u001b[0m\u001b[0m\n\u001b[0m",
      "\u001b[0;32m/anaconda3/lib/python3.6/ast.py\u001b[0m in \u001b[0;36mliteral_eval\u001b[0;34m(node_or_string)\u001b[0m\n\u001b[1;32m     83\u001b[0m                     \u001b[0;32mreturn\u001b[0m \u001b[0mleft\u001b[0m \u001b[0;34m-\u001b[0m \u001b[0mright\u001b[0m\u001b[0;34m\u001b[0m\u001b[0m\n\u001b[1;32m     84\u001b[0m         \u001b[0;32mraise\u001b[0m \u001b[0mValueError\u001b[0m\u001b[0;34m(\u001b[0m\u001b[0;34m'malformed node or string: '\u001b[0m \u001b[0;34m+\u001b[0m \u001b[0mrepr\u001b[0m\u001b[0;34m(\u001b[0m\u001b[0mnode\u001b[0m\u001b[0;34m)\u001b[0m\u001b[0;34m)\u001b[0m\u001b[0;34m\u001b[0m\u001b[0m\n\u001b[0;32m---> 85\u001b[0;31m     \u001b[0;32mreturn\u001b[0m \u001b[0m_convert\u001b[0m\u001b[0;34m(\u001b[0m\u001b[0mnode_or_string\u001b[0m\u001b[0;34m)\u001b[0m\u001b[0;34m\u001b[0m\u001b[0m\n\u001b[0m\u001b[1;32m     86\u001b[0m \u001b[0;34m\u001b[0m\u001b[0m\n\u001b[1;32m     87\u001b[0m \u001b[0;34m\u001b[0m\u001b[0m\n",
      "\u001b[0;32m/anaconda3/lib/python3.6/ast.py\u001b[0m in \u001b[0;36m_convert\u001b[0;34m(node)\u001b[0m\n\u001b[1;32m     64\u001b[0m         \u001b[0;32melif\u001b[0m \u001b[0misinstance\u001b[0m\u001b[0;34m(\u001b[0m\u001b[0mnode\u001b[0m\u001b[0;34m,\u001b[0m \u001b[0mDict\u001b[0m\u001b[0;34m)\u001b[0m\u001b[0;34m:\u001b[0m\u001b[0;34m\u001b[0m\u001b[0m\n\u001b[1;32m     65\u001b[0m             return dict((_convert(k), _convert(v)) for k, v\n\u001b[0;32m---> 66\u001b[0;31m                         in zip(node.keys, node.values))\n\u001b[0m\u001b[1;32m     67\u001b[0m         \u001b[0;32melif\u001b[0m \u001b[0misinstance\u001b[0m\u001b[0;34m(\u001b[0m\u001b[0mnode\u001b[0m\u001b[0;34m,\u001b[0m \u001b[0mNameConstant\u001b[0m\u001b[0;34m)\u001b[0m\u001b[0;34m:\u001b[0m\u001b[0;34m\u001b[0m\u001b[0m\n\u001b[1;32m     68\u001b[0m             \u001b[0;32mreturn\u001b[0m \u001b[0mnode\u001b[0m\u001b[0;34m.\u001b[0m\u001b[0mvalue\u001b[0m\u001b[0;34m\u001b[0m\u001b[0m\n",
      "\u001b[0;32m/anaconda3/lib/python3.6/ast.py\u001b[0m in \u001b[0;36m<genexpr>\u001b[0;34m(.0)\u001b[0m\n\u001b[1;32m     63\u001b[0m             \u001b[0;32mreturn\u001b[0m \u001b[0mset\u001b[0m\u001b[0;34m(\u001b[0m\u001b[0mmap\u001b[0m\u001b[0;34m(\u001b[0m\u001b[0m_convert\u001b[0m\u001b[0;34m,\u001b[0m \u001b[0mnode\u001b[0m\u001b[0;34m.\u001b[0m\u001b[0melts\u001b[0m\u001b[0;34m)\u001b[0m\u001b[0;34m)\u001b[0m\u001b[0;34m\u001b[0m\u001b[0m\n\u001b[1;32m     64\u001b[0m         \u001b[0;32melif\u001b[0m \u001b[0misinstance\u001b[0m\u001b[0;34m(\u001b[0m\u001b[0mnode\u001b[0m\u001b[0;34m,\u001b[0m \u001b[0mDict\u001b[0m\u001b[0;34m)\u001b[0m\u001b[0;34m:\u001b[0m\u001b[0;34m\u001b[0m\u001b[0m\n\u001b[0;32m---> 65\u001b[0;31m             return dict((_convert(k), _convert(v)) for k, v\n\u001b[0m\u001b[1;32m     66\u001b[0m                         in zip(node.keys, node.values))\n\u001b[1;32m     67\u001b[0m         \u001b[0;32melif\u001b[0m \u001b[0misinstance\u001b[0m\u001b[0;34m(\u001b[0m\u001b[0mnode\u001b[0m\u001b[0;34m,\u001b[0m \u001b[0mNameConstant\u001b[0m\u001b[0;34m)\u001b[0m\u001b[0;34m:\u001b[0m\u001b[0;34m\u001b[0m\u001b[0m\n",
      "\u001b[0;32m/anaconda3/lib/python3.6/ast.py\u001b[0m in \u001b[0;36m_convert\u001b[0;34m(node)\u001b[0m\n\u001b[1;32m     82\u001b[0m                 \u001b[0;32melse\u001b[0m\u001b[0;34m:\u001b[0m\u001b[0;34m\u001b[0m\u001b[0m\n\u001b[1;32m     83\u001b[0m                     \u001b[0;32mreturn\u001b[0m \u001b[0mleft\u001b[0m \u001b[0;34m-\u001b[0m \u001b[0mright\u001b[0m\u001b[0;34m\u001b[0m\u001b[0m\n\u001b[0;32m---> 84\u001b[0;31m         \u001b[0;32mraise\u001b[0m \u001b[0mValueError\u001b[0m\u001b[0;34m(\u001b[0m\u001b[0;34m'malformed node or string: '\u001b[0m \u001b[0;34m+\u001b[0m \u001b[0mrepr\u001b[0m\u001b[0;34m(\u001b[0m\u001b[0mnode\u001b[0m\u001b[0;34m)\u001b[0m\u001b[0;34m)\u001b[0m\u001b[0;34m\u001b[0m\u001b[0m\n\u001b[0m\u001b[1;32m     85\u001b[0m     \u001b[0;32mreturn\u001b[0m \u001b[0m_convert\u001b[0m\u001b[0;34m(\u001b[0m\u001b[0mnode_or_string\u001b[0m\u001b[0;34m)\u001b[0m\u001b[0;34m\u001b[0m\u001b[0m\n\u001b[1;32m     86\u001b[0m \u001b[0;34m\u001b[0m\u001b[0m\n",
      "\u001b[0;31mValueError\u001b[0m: malformed node or string: <_ast.Name object at 0x115309d68>"
     ]
    }
   ],
   "source": [
    "df = pd.DataFrame(ast.literal_eval(data_test[0]))"
   ]
  },
  {
   "cell_type": "code",
   "execution_count": 47,
   "metadata": {
    "ExecuteTime": {
     "end_time": "2018-08-09T16:38:06.122799Z",
     "start_time": "2018-08-09T16:38:05.823348Z"
    }
   },
   "outputs": [
    {
     "name": "stdout",
     "output_type": "stream",
     "text": [
      "{\"business_id\":\"Apn5Q_b6Nz61Tq4XzPdf9A\",\"name\":\"Minhas Micro Brewery\",\"neighborhood\":\"\",\"address\":\"1314 44 Avenue NE\",\"city\":\"Calgary\",\"state\":\"AB\",\"postal_code\":\"T2E 6L6\",\"latitude\":51.0918130155,\"longitude\":-114.031674872,\"stars\":4.0,\"review_count\":24,\"is_open\":1,\"attributes\":{\"BikeParking\":\"False\",\"BusinessAcceptsCreditCards\":\"True\",\"BusinessParking\":\"{'garage': False, 'street': True, 'validated': False, 'lot': False, 'valet': False}\",\"GoodForKids\":\"True\",\"HasTV\":\"True\",\"NoiseLevel\":\"average\",\"OutdoorSeating\":\"False\",\"RestaurantsAttire\":\"casual\",\"RestaurantsDelivery\":\"False\",\"RestaurantsGoodForGroups\":\"True\",\"RestaurantsPriceRange2\":\"2\",\"RestaurantsReservations\":\"True\",\"RestaurantsTakeOut\":\"True\"},\"categories\":\"Tours, Breweries, Pizza, Restaurants, Food, Hotels & Travel\",\"hours\":{\"Monday\":\"8:30-17:0\",\"Tuesday\":\"11:0-21:0\",\"Wednesday\":\"11:0-21:0\",\"Thursday\":\"11:0-21:0\",\"Friday\":\"11:0-21:0\",\"Saturday\":\"11:0-21:0\"}}\r\n",
      "{\"business_id\":\"AjEbIBw6ZFfln7ePHha9PA\",\"name\":\"CK'S BBQ & Catering\",\"neighborhood\":\"\",\"address\":\"\",\"city\":\"Henderson\",\"state\":\"NV\",\"postal_code\":\"89002\",\"latitude\":35.9607337,\"longitude\":-114.939821,\"stars\":4.5,\"review_count\":3,\"is_open\":0,\"attributes\":{\"Alcohol\":\"none\",\"BikeParking\":\"False\",\"BusinessAcceptsCreditCards\":\"True\",\"BusinessParking\":\"{'garage': False, 'street': True, 'validated': False, 'lot': True, 'valet': False}\",\"Caters\":\"True\",\"DogsAllowed\":\"True\",\"DriveThru\":\"False\",\"GoodForKids\":\"True\",\"GoodForMeal\":\"{'dessert': False, 'latenight': False, 'lunch': False, 'dinner': False, 'breakfast': False, 'brunch': False}\",\"HasTV\":\"False\",\"OutdoorSeating\":\"True\",\"RestaurantsAttire\":\"casual\",\"RestaurantsDelivery\":\"False\",\"RestaurantsGoodForGroups\":\"True\",\"RestaurantsPriceRange2\":\"2\",\"RestaurantsReservations\":\"False\",\"RestaurantsTableService\":\"False\",\"RestaurantsTakeOut\":\"True\",\"WheelchairAccessible\":\"True\",\"WiFi\":\"no\"},\"categories\":\"Chicken Wings, Burgers, Caterers, Street Vendors, Barbeque, Food Trucks, Food, Restaurants, Event Planning & Services\",\"hours\":{\"Friday\":\"17:0-23:0\",\"Saturday\":\"17:0-23:0\",\"Sunday\":\"17:0-23:0\"}}\r\n",
      "{\"business_id\":\"O8S5hYJ1SMc8fA4QBtVujA\",\"name\":\"La Bastringue\",\"neighborhood\":\"Rosemont-La Petite-Patrie\",\"address\":\"1335 rue Beaubien E\",\"city\":\"Montréal\",\"state\":\"QC\",\"postal_code\":\"H2G 1K7\",\"latitude\":45.5405031,\"longitude\":-73.5993003,\"stars\":4.0,\"review_count\":5,\"is_open\":0,\"attributes\":{\"Alcohol\":\"beer_and_wine\",\"Ambience\":\"{'romantic': False, 'intimate': False, 'classy': False, 'hipster': False, 'touristy': False, 'trendy': False, 'upscale': False, 'casual': False}\",\"BikeParking\":\"True\",\"BusinessAcceptsCreditCards\":\"False\",\"BusinessParking\":\"{'garage': False, 'street': False, 'validated': False, 'lot': False, 'valet': False}\",\"Caters\":\"False\",\"GoodForKids\":\"True\",\"GoodForMeal\":\"{'dessert': False, 'latenight': False, 'lunch': False, 'dinner': False, 'breakfast': False, 'brunch': False}\",\"HasTV\":\"True\",\"NoiseLevel\":\"average\",\"OutdoorSeating\":\"False\",\"RestaurantsAttire\":\"casual\",\"RestaurantsDelivery\":\"False\",\"RestaurantsGoodForGroups\":\"True\",\"RestaurantsPriceRange2\":\"2\",\"RestaurantsReservations\":\"True\",\"RestaurantsTableService\":\"True\",\"RestaurantsTakeOut\":\"False\",\"WiFi\":\"free\"},\"categories\":\"Breakfast & Brunch, Restaurants, French, Sandwiches, Cafes\",\"hours\":{\"Monday\":\"10:0-22:0\",\"Tuesday\":\"10:0-22:0\",\"Wednesday\":\"10:0-22:0\",\"Thursday\":\"10:0-22:0\",\"Friday\":\"10:0-22:0\",\"Saturday\":\"10:0-22:0\",\"Sunday\":\"10:0-22:0\"}}\r\n",
      "{\"business_id\":\"bFzdJJ3wp3PZssNEsyU23g\",\"name\":\"Geico Insurance\",\"neighborhood\":\"\",\"address\":\"211 W Monroe St\",\"city\":\"Phoenix\",\"state\":\"AZ\",\"postal_code\":\"85003\",\"latitude\":33.4499993,\"longitude\":-112.0769793,\"stars\":1.5,\"review_count\":8,\"is_open\":1,\"attributes\":null,\"categories\":\"Insurance, Financial Services\",\"hours\":null}\r\n",
      "{\"business_id\":\"8USyCYqpScwiNEb58Bt6CA\",\"name\":\"Action Engine\",\"neighborhood\":\"\",\"address\":\"2005 Alyth Place SE\",\"city\":\"Calgary\",\"state\":\"AB\",\"postal_code\":\"T2H 0N5\",\"latitude\":51.0355914,\"longitude\":-114.0273656,\"stars\":2.0,\"review_count\":4,\"is_open\":1,\"attributes\":{\"BusinessAcceptsCreditCards\":\"True\"},\"categories\":\"Home & Garden, Nurseries & Gardening, Shopping, Local Services, Automotive, Electronics Repair\",\"hours\":{\"Monday\":\"8:0-17:0\",\"Tuesday\":\"8:0-17:0\",\"Wednesday\":\"8:0-17:0\",\"Thursday\":\"8:0-17:0\",\"Friday\":\"8:0-17:0\"}}\r\n"
     ]
    }
   ],
   "source": [
    "!head -5 yelp_academic_dataset_business.json"
   ]
  },
  {
   "cell_type": "code",
   "execution_count": 45,
   "metadata": {
    "ExecuteTime": {
     "end_time": "2018-08-21T18:24:16.898878Z",
     "start_time": "2018-08-21T18:14:49.436508Z"
    }
   },
   "outputs": [],
   "source": [
    "business = pd.read_json('yelp_academic_dataset_business.json', lines=True)"
   ]
  },
  {
   "cell_type": "code",
   "execution_count": 30,
   "metadata": {
    "ExecuteTime": {
     "end_time": "2018-08-21T17:16:36.126994Z",
     "start_time": "2018-08-21T17:16:35.843325Z"
    }
   },
   "outputs": [
    {
     "name": "stdout",
     "output_type": "stream",
     "text": [
      "<class 'pandas.core.frame.DataFrame'>\n",
      "RangeIndex: 188593 entries, 0 to 188592\n",
      "Data columns (total 15 columns):\n",
      "address         188593 non-null object\n",
      "attributes      162807 non-null object\n",
      "business_id     188593 non-null object\n",
      "categories      188052 non-null object\n",
      "city            188593 non-null object\n",
      "hours           143791 non-null object\n",
      "is_open         188593 non-null int64\n",
      "latitude        188587 non-null float64\n",
      "longitude       188587 non-null float64\n",
      "name            188593 non-null object\n",
      "neighborhood    188593 non-null object\n",
      "postal_code     188593 non-null object\n",
      "review_count    188593 non-null int64\n",
      "stars           188593 non-null float64\n",
      "state           188593 non-null object\n",
      "dtypes: float64(3), int64(2), object(10)\n",
      "memory usage: 21.6+ MB\n"
     ]
    }
   ],
   "source": [
    "business.info()"
   ]
  },
  {
   "cell_type": "code",
   "execution_count": 31,
   "metadata": {
    "ExecuteTime": {
     "end_time": "2018-08-21T17:16:44.181656Z",
     "start_time": "2018-08-21T17:16:44.134812Z"
    }
   },
   "outputs": [
    {
     "data": {
      "text/html": [
       "<div>\n",
       "<style scoped>\n",
       "    .dataframe tbody tr th:only-of-type {\n",
       "        vertical-align: middle;\n",
       "    }\n",
       "\n",
       "    .dataframe tbody tr th {\n",
       "        vertical-align: top;\n",
       "    }\n",
       "\n",
       "    .dataframe thead th {\n",
       "        text-align: right;\n",
       "    }\n",
       "</style>\n",
       "<table border=\"1\" class=\"dataframe\">\n",
       "  <thead>\n",
       "    <tr style=\"text-align: right;\">\n",
       "      <th></th>\n",
       "      <th>address</th>\n",
       "      <th>attributes</th>\n",
       "      <th>business_id</th>\n",
       "      <th>categories</th>\n",
       "      <th>city</th>\n",
       "      <th>hours</th>\n",
       "      <th>is_open</th>\n",
       "      <th>latitude</th>\n",
       "      <th>longitude</th>\n",
       "      <th>name</th>\n",
       "      <th>neighborhood</th>\n",
       "      <th>postal_code</th>\n",
       "      <th>review_count</th>\n",
       "      <th>stars</th>\n",
       "      <th>state</th>\n",
       "    </tr>\n",
       "  </thead>\n",
       "  <tbody>\n",
       "    <tr>\n",
       "      <th>0</th>\n",
       "      <td>1314 44 Avenue NE</td>\n",
       "      <td>{'BikeParking': 'False', 'BusinessAcceptsCredi...</td>\n",
       "      <td>Apn5Q_b6Nz61Tq4XzPdf9A</td>\n",
       "      <td>Tours, Breweries, Pizza, Restaurants, Food, Ho...</td>\n",
       "      <td>Calgary</td>\n",
       "      <td>{'Monday': '8:30-17:0', 'Tuesday': '11:0-21:0'...</td>\n",
       "      <td>1</td>\n",
       "      <td>51.091813</td>\n",
       "      <td>-114.031675</td>\n",
       "      <td>Minhas Micro Brewery</td>\n",
       "      <td></td>\n",
       "      <td>T2E 6L6</td>\n",
       "      <td>24</td>\n",
       "      <td>4.0</td>\n",
       "      <td>AB</td>\n",
       "    </tr>\n",
       "    <tr>\n",
       "      <th>1</th>\n",
       "      <td></td>\n",
       "      <td>{'Alcohol': 'none', 'BikeParking': 'False', 'B...</td>\n",
       "      <td>AjEbIBw6ZFfln7ePHha9PA</td>\n",
       "      <td>Chicken Wings, Burgers, Caterers, Street Vendo...</td>\n",
       "      <td>Henderson</td>\n",
       "      <td>{'Friday': '17:0-23:0', 'Saturday': '17:0-23:0...</td>\n",
       "      <td>0</td>\n",
       "      <td>35.960734</td>\n",
       "      <td>-114.939821</td>\n",
       "      <td>CK'S BBQ &amp; Catering</td>\n",
       "      <td></td>\n",
       "      <td>89002</td>\n",
       "      <td>3</td>\n",
       "      <td>4.5</td>\n",
       "      <td>NV</td>\n",
       "    </tr>\n",
       "    <tr>\n",
       "      <th>2</th>\n",
       "      <td>1335 rue Beaubien E</td>\n",
       "      <td>{'Alcohol': 'beer_and_wine', 'Ambience': '{'ro...</td>\n",
       "      <td>O8S5hYJ1SMc8fA4QBtVujA</td>\n",
       "      <td>Breakfast &amp; Brunch, Restaurants, French, Sandw...</td>\n",
       "      <td>Montréal</td>\n",
       "      <td>{'Monday': '10:0-22:0', 'Tuesday': '10:0-22:0'...</td>\n",
       "      <td>0</td>\n",
       "      <td>45.540503</td>\n",
       "      <td>-73.599300</td>\n",
       "      <td>La Bastringue</td>\n",
       "      <td>Rosemont-La Petite-Patrie</td>\n",
       "      <td>H2G 1K7</td>\n",
       "      <td>5</td>\n",
       "      <td>4.0</td>\n",
       "      <td>QC</td>\n",
       "    </tr>\n",
       "    <tr>\n",
       "      <th>3</th>\n",
       "      <td>211 W Monroe St</td>\n",
       "      <td>None</td>\n",
       "      <td>bFzdJJ3wp3PZssNEsyU23g</td>\n",
       "      <td>Insurance, Financial Services</td>\n",
       "      <td>Phoenix</td>\n",
       "      <td>None</td>\n",
       "      <td>1</td>\n",
       "      <td>33.449999</td>\n",
       "      <td>-112.076979</td>\n",
       "      <td>Geico Insurance</td>\n",
       "      <td></td>\n",
       "      <td>85003</td>\n",
       "      <td>8</td>\n",
       "      <td>1.5</td>\n",
       "      <td>AZ</td>\n",
       "    </tr>\n",
       "    <tr>\n",
       "      <th>4</th>\n",
       "      <td>2005 Alyth Place SE</td>\n",
       "      <td>{'BusinessAcceptsCreditCards': 'True'}</td>\n",
       "      <td>8USyCYqpScwiNEb58Bt6CA</td>\n",
       "      <td>Home &amp; Garden, Nurseries &amp; Gardening, Shopping...</td>\n",
       "      <td>Calgary</td>\n",
       "      <td>{'Monday': '8:0-17:0', 'Tuesday': '8:0-17:0', ...</td>\n",
       "      <td>1</td>\n",
       "      <td>51.035591</td>\n",
       "      <td>-114.027366</td>\n",
       "      <td>Action Engine</td>\n",
       "      <td></td>\n",
       "      <td>T2H 0N5</td>\n",
       "      <td>4</td>\n",
       "      <td>2.0</td>\n",
       "      <td>AB</td>\n",
       "    </tr>\n",
       "  </tbody>\n",
       "</table>\n",
       "</div>"
      ],
      "text/plain": [
       "               address                                         attributes  \\\n",
       "0    1314 44 Avenue NE  {'BikeParking': 'False', 'BusinessAcceptsCredi...   \n",
       "1                       {'Alcohol': 'none', 'BikeParking': 'False', 'B...   \n",
       "2  1335 rue Beaubien E  {'Alcohol': 'beer_and_wine', 'Ambience': '{'ro...   \n",
       "3      211 W Monroe St                                               None   \n",
       "4  2005 Alyth Place SE             {'BusinessAcceptsCreditCards': 'True'}   \n",
       "\n",
       "              business_id                                         categories  \\\n",
       "0  Apn5Q_b6Nz61Tq4XzPdf9A  Tours, Breweries, Pizza, Restaurants, Food, Ho...   \n",
       "1  AjEbIBw6ZFfln7ePHha9PA  Chicken Wings, Burgers, Caterers, Street Vendo...   \n",
       "2  O8S5hYJ1SMc8fA4QBtVujA  Breakfast & Brunch, Restaurants, French, Sandw...   \n",
       "3  bFzdJJ3wp3PZssNEsyU23g                      Insurance, Financial Services   \n",
       "4  8USyCYqpScwiNEb58Bt6CA  Home & Garden, Nurseries & Gardening, Shopping...   \n",
       "\n",
       "        city                                              hours  is_open  \\\n",
       "0    Calgary  {'Monday': '8:30-17:0', 'Tuesday': '11:0-21:0'...        1   \n",
       "1  Henderson  {'Friday': '17:0-23:0', 'Saturday': '17:0-23:0...        0   \n",
       "2   Montréal  {'Monday': '10:0-22:0', 'Tuesday': '10:0-22:0'...        0   \n",
       "3    Phoenix                                               None        1   \n",
       "4    Calgary  {'Monday': '8:0-17:0', 'Tuesday': '8:0-17:0', ...        1   \n",
       "\n",
       "    latitude   longitude                  name               neighborhood  \\\n",
       "0  51.091813 -114.031675  Minhas Micro Brewery                              \n",
       "1  35.960734 -114.939821   CK'S BBQ & Catering                              \n",
       "2  45.540503  -73.599300         La Bastringue  Rosemont-La Petite-Patrie   \n",
       "3  33.449999 -112.076979       Geico Insurance                              \n",
       "4  51.035591 -114.027366         Action Engine                              \n",
       "\n",
       "  postal_code  review_count  stars state  \n",
       "0     T2E 6L6            24    4.0    AB  \n",
       "1       89002             3    4.5    NV  \n",
       "2     H2G 1K7             5    4.0    QC  \n",
       "3       85003             8    1.5    AZ  \n",
       "4     T2H 0N5             4    2.0    AB  "
      ]
     },
     "execution_count": 31,
     "metadata": {},
     "output_type": "execute_result"
    }
   ],
   "source": [
    "business.head()"
   ]
  },
  {
   "cell_type": "code",
   "execution_count": 46,
   "metadata": {
    "ExecuteTime": {
     "end_time": "2018-08-21T18:25:20.776905Z",
     "start_time": "2018-08-21T18:25:13.700169Z"
    }
   },
   "outputs": [],
   "source": [
    "business.to_csv('yelp_business.csv')"
   ]
  },
  {
   "cell_type": "code",
   "execution_count": 32,
   "metadata": {
    "ExecuteTime": {
     "end_time": "2018-08-21T17:17:15.107868Z",
     "start_time": "2018-08-21T17:17:15.050362Z"
    }
   },
   "outputs": [
    {
     "data": {
      "text/plain": [
       "array(['AB', 'NV', 'QC', 'AZ', 'ON', 'PA', 'OH', 'IL', 'WI', 'NC', 'BY',\n",
       "       'NYK', 'SC', 'C', 'XGM', 'ST', 'IN', 'RP', 'CMA', 'NI', 'NLK',\n",
       "       'VS', '6', 'CO', 'HE', 'VA', 'RCC', '01', 'SG', 'NY', 'OR', 'NW',\n",
       "       '4', '10', 'CC', 'CA', '45', 'LU', 'MT', 'G', 'PO', 'B', 'VT',\n",
       "       'AL', 'WAR', 'MO', 'HU', 'M', 'AR', 'O', 'FL', 'WA', 'KY', 'CRF',\n",
       "       'TAM', 'NE', 'XMS', 'GA', 'AG', 'WHT', 'MA', 'V', 'BC', 'SP', 'DE',\n",
       "       'HH', '11', 'CS', 'MN'], dtype=object)"
      ]
     },
     "execution_count": 32,
     "metadata": {},
     "output_type": "execute_result"
    }
   ],
   "source": [
    "business.state.unique()"
   ]
  },
  {
   "cell_type": "code",
   "execution_count": 34,
   "metadata": {
    "ExecuteTime": {
     "end_time": "2018-08-21T17:18:49.177052Z",
     "start_time": "2018-08-21T17:18:49.075695Z"
    }
   },
   "outputs": [
    {
     "data": {
      "text/plain": [
       "AZ     56495\n",
       "NV     35688\n",
       "ON     32393\n",
       "NC     14359\n",
       "OH     13664\n",
       "PA     10966\n",
       "QC      8756\n",
       "AB      7670\n",
       "WI      5042\n",
       "IL      1937\n",
       "SC       770\n",
       "NYK      163\n",
       "NI       134\n",
       "IN       101\n",
       "OR        72\n",
       "BY        60\n",
       "ST        45\n",
       "CO        43\n",
       "C         34\n",
       "HE        32\n",
       "NLK       23\n",
       "XGM       23\n",
       "NY        19\n",
       "RP        19\n",
       "01        11\n",
       "CA         8\n",
       "VS         7\n",
       "NW         4\n",
       "O          3\n",
       "6          3\n",
       "       ...  \n",
       "AL         2\n",
       "MN         1\n",
       "LU         1\n",
       "4          1\n",
       "MT         1\n",
       "10         1\n",
       "SP         1\n",
       "BC         1\n",
       "V          1\n",
       "TAM        1\n",
       "XMS        1\n",
       "GA         1\n",
       "HU         1\n",
       "KY         1\n",
       "PO         1\n",
       "CS         1\n",
       "NE         1\n",
       "RCC        1\n",
       "MA         1\n",
       "FL         1\n",
       "CC         1\n",
       "HH         1\n",
       "WAR        1\n",
       "DE         1\n",
       "WHT        1\n",
       "11         1\n",
       "AG         1\n",
       "VA         1\n",
       "CRF        1\n",
       "45         1\n",
       "Name: state, Length: 69, dtype: int64"
      ]
     },
     "execution_count": 34,
     "metadata": {},
     "output_type": "execute_result"
    }
   ],
   "source": [
    "business.state.value_counts()"
   ]
  },
  {
   "cell_type": "code",
   "execution_count": null,
   "metadata": {},
   "outputs": [],
   "source": [
    "business"
   ]
  },
  {
   "cell_type": "code",
   "execution_count": 6,
   "metadata": {
    "ExecuteTime": {
     "end_time": "2018-08-09T04:19:51.856613Z",
     "start_time": "2018-08-09T04:19:51.764668Z"
    }
   },
   "outputs": [],
   "source": [
    "business_AZ = business[business['state'] == 'AZ']"
   ]
  },
  {
   "cell_type": "code",
   "execution_count": 8,
   "metadata": {
    "ExecuteTime": {
     "end_time": "2018-08-09T04:20:23.659355Z",
     "start_time": "2018-08-09T04:20:23.544125Z"
    }
   },
   "outputs": [
    {
     "name": "stdout",
     "output_type": "stream",
     "text": [
      "<class 'pandas.core.frame.DataFrame'>\n",
      "Int64Index: 56495 entries, 3 to 188564\n",
      "Data columns (total 15 columns):\n",
      "address         56495 non-null object\n",
      "attributes      48256 non-null object\n",
      "business_id     56495 non-null object\n",
      "categories      56296 non-null object\n",
      "city            56495 non-null object\n",
      "hours           44928 non-null object\n",
      "is_open         56495 non-null int64\n",
      "latitude        56492 non-null float64\n",
      "longitude       56492 non-null float64\n",
      "name            56495 non-null object\n",
      "neighborhood    56495 non-null object\n",
      "postal_code     56495 non-null object\n",
      "review_count    56495 non-null int64\n",
      "stars           56495 non-null float64\n",
      "state           56495 non-null object\n",
      "dtypes: float64(3), int64(2), object(10)\n",
      "memory usage: 6.9+ MB\n"
     ]
    }
   ],
   "source": [
    "business_AZ.info()"
   ]
  },
  {
   "cell_type": "code",
   "execution_count": 22,
   "metadata": {
    "ExecuteTime": {
     "end_time": "2018-08-09T04:47:57.373287Z",
     "start_time": "2018-08-09T04:47:57.259115Z"
    }
   },
   "outputs": [
    {
     "data": {
      "text/plain": [
       "Restaurants, Mexican                                                                                                                                                                                                   394\n",
       "Mexican, Restaurants                                                                                                                                                                                                   367\n",
       "Beauty & Spas, Nail Salons                                                                                                                                                                                             317\n",
       "Nail Salons, Beauty & Spas                                                                                                                                                                                             295\n",
       "Hair Salons, Beauty & Spas                                                                                                                                                                                             240\n",
       "Auto Repair, Automotive                                                                                                                                                                                                231\n",
       "Beauty & Spas, Hair Salons                                                                                                                                                                                             230\n",
       "Automotive, Auto Repair                                                                                                                                                                                                205\n",
       "Coffee & Tea, Food                                                                                                                                                                                                     200\n",
       "NaN                                                                                                                                                                                                                    199\n",
       "Heating & Air Conditioning/HVAC, Home Services                                                                                                                                                                         197\n",
       "Financial Services, Banks & Credit Unions                                                                                                                                                                              194\n",
       "Food, Coffee & Tea                                                                                                                                                                                                     193\n",
       "Banks & Credit Unions, Financial Services                                                                                                                                                                              189\n",
       "Pizza, Restaurants                                                                                                                                                                                                     174\n",
       "Restaurants, Pizza                                                                                                                                                                                                     172\n",
       "Home Services, Heating & Air Conditioning/HVAC                                                                                                                                                                         171\n",
       "Barbers, Beauty & Spas                                                                                                                                                                                                 171\n",
       "Real Estate, Apartments, Home Services                                                                                                                                                                                 161\n",
       "Home Services, Apartments, Real Estate                                                                                                                                                                                 153\n",
       "Beauty & Spas, Barbers                                                                                                                                                                                                 144\n",
       "Real Estate, Home Services, Apartments                                                                                                                                                                                 140\n",
       "Apartments, Real Estate, Home Services                                                                                                                                                                                 139\n",
       "Home Services, Real Estate, Apartments                                                                                                                                                                                 136\n",
       "Apartments, Home Services, Real Estate                                                                                                                                                                                 135\n",
       "Chinese, Restaurants                                                                                                                                                                                                   125\n",
       "Restaurants, Chinese                                                                                                                                                                                                   117\n",
       "Local Services, Pest Control                                                                                                                                                                                           114\n",
       "Food, Ice Cream & Frozen Yogurt                                                                                                                                                                                        111\n",
       "Pest Control, Local Services                                                                                                                                                                                           108\n",
       "                                                                                                                                                                                                                      ... \n",
       "Auto Glass Services, Auto Repair, Body Shops, Windshield Installation & Repair, Automotive                                                                                                                               1\n",
       "Auto Detailing, Car Wash, Automotive, Oil Change Stations                                                                                                                                                                1\n",
       "Carpet Cleaning, Flooring, Home Cleaning, Refinishing Services, Local Services, Home Services, Window Washing                                                                                                            1\n",
       "Festivals, Hot Air Balloons, Kids Activities, Arts & Entertainment, Active Life                                                                                                                                          1\n",
       "Food, Bankruptcy Law, Lawyers, Pizza, Tax Services, Ice Cream & Frozen Yogurt, Professional Services, Financial Services, Business Consulting, Estate Planning Law, Restaurants, Tax Law, Wills, Trusts, & Probates      1\n",
       "Hair Stylists, Shopping, Cosmetics & Beauty Supply, Hair Salons, Hair Extensions, Beauty & Spas, Blow Dry/Out Services                                                                                                   1\n",
       "Health & Medical, Gyms, Weight Loss Centers, Active Life, Trainers, Fitness & Instruction, Boot Camps                                                                                                                    1\n",
       "Escape Games, Challenge Courses, Active Life, Event Planning & Services, Amusement Parks, Team Building Activities                                                                                                       1\n",
       "DUI Law, Real Estate Law, Professional Services, General Litigation, Lawyers, Divorce & Family Law                                                                                                                       1\n",
       "Food, Restaurants, Sandwiches, Breakfast & Brunch, Coffee & Tea, Coffee Roasteries                                                                                                                                       1\n",
       "Automotive, RV Dealers, RV Repair, Body Shops                                                                                                                                                                            1\n",
       "Bars, Restaurants, Italian, Wine Bars, Nightlife                                                                                                                                                                         1\n",
       "Professional Services, Office Equipment, Shopping, Printing Services, Recycling Center, Local Services, Shredding Services                                                                                               1\n",
       "Seafood, New Mexican Cuisine, American (Traditional), Mexican, Steakhouses, Restaurants                                                                                                                                  1\n",
       "Religious Organizations, Embroidery & Crochet, Religious Items, Local Services, Shopping, Spiritual Shop, Arts & Crafts, Jewelry, Engraving, Customized Merchandise, Souvenir Shops                                      1\n",
       "Home Services, Television Service Providers, Internet Service Providers, Professional Services                                                                                                                           1\n",
       "Local Services, Sporting Goods, Shopping, Outdoor Gear, Vacation Rentals, Hotels & Travel, Event Planning & Services, Party Equipment Rentals                                                                            1\n",
       "Restaurants, Coffee & Tea, Food, Bagels, Delis, Breakfast & Brunch                                                                                                                                                       1\n",
       "Nail Salons, Tanning, Eyelash Service, Beauty & Spas                                                                                                                                                                     1\n",
       "Pets, Pet Services, Pet Breeders                                                                                                                                                                                         1\n",
       "Home Services, Handyman, Contractors, Lighting Fixtures & Equipment, Electricians                                                                                                                                        1\n",
       "Permanent Makeup, Tattoo, Beauty & Spas                                                                                                                                                                                  1\n",
       "Home Services, Lighting Fixtures & Equipment, Landscaping                                                                                                                                                                1\n",
       "Cafes, Diners, Food, Steakhouses, Beer, Wine & Spirits, Vegan, Nightlife, American (New), Restaurants, Bars                                                                                                              1\n",
       "Fast Food, Restaurants, Hot Dogs, Burgers                                                                                                                                                                                1\n",
       "Health & Medical, Doctors, Dentists, Oral Surgeons, Cosmetic Surgeons, General Dentistry                                                                                                                                 1\n",
       "Home Services, Financial Services, Mortgage Brokers, Mortgage Lenders, Real Estate                                                                                                                                       1\n",
       "Pool & Hot Tub Service, Contractors, Landscape Architects, Architects, Hot Tub & Pool, Home Services, Shopping, Home & Garden, Landscaping, Professional Services                                                        1\n",
       "Home Services, Heating & Air Conditioning/HVAC, Shopping, Home & Garden, Contractors, Appliances                                                                                                                         1\n",
       "Accessories, Fashion, Women's Clothing, Shopping, Men's Clothing                                                                                                                                                         1\n",
       "Name: categories, Length: 30203, dtype: int64"
      ]
     },
     "execution_count": 22,
     "metadata": {},
     "output_type": "execute_result"
    }
   ],
   "source": [
    "business_AZ['categories'].value_counts(dropna=False)"
   ]
  },
  {
   "cell_type": "code",
   "execution_count": 24,
   "metadata": {
    "ExecuteTime": {
     "end_time": "2018-08-09T04:51:17.869665Z",
     "start_time": "2018-08-09T04:51:17.748266Z"
    }
   },
   "outputs": [
    {
     "name": "stderr",
     "output_type": "stream",
     "text": [
      "/anaconda3/lib/python3.6/site-packages/ipykernel_launcher.py:2: SettingWithCopyWarning: \n",
      "A value is trying to be set on a copy of a slice from a DataFrame\n",
      "\n",
      "See the caveats in the documentation: http://pandas.pydata.org/pandas-docs/stable/indexing.html#indexing-view-versus-copy\n",
      "  \n"
     ]
    }
   ],
   "source": [
    "# remove categories with NaN\n",
    "business_AZ.dropna(subset=['categories'], inplace=True)"
   ]
  },
  {
   "cell_type": "code",
   "execution_count": 27,
   "metadata": {
    "ExecuteTime": {
     "end_time": "2018-08-09T04:52:52.318460Z",
     "start_time": "2018-08-09T04:52:52.184886Z"
    }
   },
   "outputs": [],
   "source": [
    "restaurant_AZ = business_AZ[(business_AZ['categories'].str.contains('Restaurants')) \\\n",
    "                           | (business_AZ['categories'].str.contains('Food'))]"
   ]
  },
  {
   "cell_type": "code",
   "execution_count": 56,
   "metadata": {
    "ExecuteTime": {
     "end_time": "2018-08-11T02:01:47.819863Z",
     "start_time": "2018-08-11T02:01:47.081489Z"
    }
   },
   "outputs": [
    {
     "name": "stdout",
     "output_type": "stream",
     "text": [
      "<class 'pandas.core.frame.DataFrame'>\n",
      "Int64Index: 14525 entries, 5 to 188522\n",
      "Data columns (total 15 columns):\n",
      "address         14525 non-null object\n",
      "attributes      14287 non-null object\n",
      "business_id     14525 non-null object\n",
      "categories      14525 non-null object\n",
      "city            14525 non-null object\n",
      "hours           11146 non-null object\n",
      "is_open         14525 non-null int64\n",
      "latitude        14525 non-null float64\n",
      "longitude       14525 non-null float64\n",
      "name            14525 non-null object\n",
      "neighborhood    14525 non-null object\n",
      "postal_code     14525 non-null object\n",
      "review_count    14525 non-null int64\n",
      "stars           14525 non-null float64\n",
      "state           14525 non-null object\n",
      "dtypes: float64(3), int64(2), object(10)\n",
      "memory usage: 1.8+ MB\n"
     ]
    }
   ],
   "source": [
    "restaurant_AZ.info()"
   ]
  },
  {
   "cell_type": "code",
   "execution_count": 45,
   "metadata": {
    "ExecuteTime": {
     "end_time": "2018-08-09T16:04:54.647212Z",
     "start_time": "2018-08-09T16:04:53.535252Z"
    }
   },
   "outputs": [
    {
     "data": {
      "text/plain": [
       "Phoenix                 4964\n",
       "Scottsdale              1957\n",
       "Mesa                    1529\n",
       "Tempe                   1304\n",
       "Chandler                1101\n",
       "Glendale                 892\n",
       "Gilbert                  753\n",
       "Peoria                   470\n",
       "Surprise                 302\n",
       "Avondale                 234\n",
       "Goodyear                 228\n",
       "Cave Creek               109\n",
       "Fountain Hills           108\n",
       "Buckeye                   93\n",
       "Sun City                  60\n",
       "Litchfield Park           60\n",
       "Tolleson                  48\n",
       "Laveen                    42\n",
       "El Mirage                 34\n",
       "Paradise Valley           32\n",
       "MESA                      31\n",
       "Carefree                  30\n",
       "San Tan Valley            21\n",
       "Anthem                    21\n",
       "Sun City West             18\n",
       "Youngtown                 14\n",
       "Sun Lakes                 13\n",
       "Guadalupe                  9\n",
       "Higley                     7\n",
       "Fort McDowell              6\n",
       "Ahwatukee                  6\n",
       "Laveen Village             6\n",
       "Waddell                    4\n",
       "Roosevelt                  3\n",
       "Central City Village       2\n",
       "Pheonix                    2\n",
       "Scottdale                  2\n",
       "Metro Phoenix              1\n",
       "Pheonix AZ                 1\n",
       "Central City               1\n",
       "Gelndale                   1\n",
       "Glendale Az                1\n",
       "Phx                        1\n",
       "Schottsdale                1\n",
       "Surprise Crossing          1\n",
       "Phoenix Valley             1\n",
       "Mesa AZ                    1\n",
       "Name: city, dtype: int64"
      ]
     },
     "execution_count": 45,
     "metadata": {},
     "output_type": "execute_result"
    }
   ],
   "source": [
    "restaurant_AZ['city'].value_counts()"
   ]
  },
  {
   "cell_type": "code",
   "execution_count": 46,
   "metadata": {
    "ExecuteTime": {
     "end_time": "2018-08-09T16:07:13.263005Z",
     "start_time": "2018-08-09T16:07:13.203453Z"
    }
   },
   "outputs": [
    {
     "data": {
      "text/plain": [
       "array(['Phoenix', 'Avondale', 'Scottsdale', 'Glendale', 'Mesa',\n",
       "       'Goodyear', 'Gilbert', 'Tempe', 'Cave Creek', 'Peoria', 'Chandler',\n",
       "       'San Tan Valley', 'Sun City', 'Litchfield Park', 'Tolleson',\n",
       "       'Buckeye', 'Roosevelt', 'MESA', 'Fountain Hills', 'Guadalupe',\n",
       "       'Higley', 'Surprise', 'Ahwatukee', 'El Mirage', 'Youngtown',\n",
       "       'Sun City West', 'Paradise Valley', 'Scottdale', 'Laveen',\n",
       "       'Anthem', 'Carefree', 'Pheonix', 'Laveen Village', 'Waddell',\n",
       "       'Sun Lakes', 'Central City Village', 'Phx', 'Glendale Az',\n",
       "       'Schottsdale', 'Gelndale', 'Metro Phoenix', 'Fort McDowell',\n",
       "       'Phoenix Valley', 'Central City', 'Surprise Crossing', 'Mesa AZ',\n",
       "       'Pheonix AZ'], dtype=object)"
      ]
     },
     "execution_count": 46,
     "metadata": {},
     "output_type": "execute_result"
    }
   ],
   "source": [
    "restaurant_AZ['city'].unique()"
   ]
  },
  {
   "cell_type": "code",
   "execution_count": 49,
   "metadata": {
    "ExecuteTime": {
     "end_time": "2018-08-09T16:39:09.231734Z",
     "start_time": "2018-08-09T16:39:09.008764Z"
    }
   },
   "outputs": [
    {
     "name": "stdout",
     "output_type": "stream",
     "text": [
      "{\"user_id\":\"lzlZwIpuSWXEnNS91wxjHw\",\"name\":\"Susan\",\"review_count\":1,\"yelping_since\":\"2015-09-28\",\"friends\":\"None\",\"useful\":0,\"funny\":0,\"cool\":0,\"fans\":0,\"elite\":\"None\",\"average_stars\":2.0,\"compliment_hot\":0,\"compliment_more\":0,\"compliment_profile\":0,\"compliment_cute\":0,\"compliment_list\":0,\"compliment_note\":0,\"compliment_plain\":0,\"compliment_cool\":0,\"compliment_funny\":0,\"compliment_writer\":0,\"compliment_photos\":0}\r\n",
      "{\"user_id\":\"XvLBr-9smbI0m_a7dXtB7w\",\"name\":\"Daipayan\",\"review_count\":2,\"yelping_since\":\"2015-09-05\",\"friends\":\"None\",\"useful\":0,\"funny\":0,\"cool\":0,\"fans\":0,\"elite\":\"None\",\"average_stars\":5.0,\"compliment_hot\":0,\"compliment_more\":0,\"compliment_profile\":0,\"compliment_cute\":0,\"compliment_list\":0,\"compliment_note\":0,\"compliment_plain\":0,\"compliment_cool\":0,\"compliment_funny\":0,\"compliment_writer\":0,\"compliment_photos\":0}\r\n",
      "{\"user_id\":\"QPT4Ud4H5sJVr68yXhoWFw\",\"name\":\"Andy\",\"review_count\":1,\"yelping_since\":\"2016-07-21\",\"friends\":\"None\",\"useful\":0,\"funny\":0,\"cool\":0,\"fans\":0,\"elite\":\"None\",\"average_stars\":4.0,\"compliment_hot\":0,\"compliment_more\":0,\"compliment_profile\":0,\"compliment_cute\":0,\"compliment_list\":0,\"compliment_note\":0,\"compliment_plain\":0,\"compliment_cool\":0,\"compliment_funny\":0,\"compliment_writer\":0,\"compliment_photos\":0}\r\n",
      "{\"user_id\":\"i5YitlHZpf0B3R0s_8NVuw\",\"name\":\"Jonathan\",\"review_count\":19,\"yelping_since\":\"2014-08-04\",\"friends\":\"None\",\"useful\":0,\"funny\":0,\"cool\":0,\"fans\":0,\"elite\":\"None\",\"average_stars\":4.05,\"compliment_hot\":0,\"compliment_more\":0,\"compliment_profile\":0,\"compliment_cute\":0,\"compliment_list\":0,\"compliment_note\":0,\"compliment_plain\":0,\"compliment_cool\":0,\"compliment_funny\":0,\"compliment_writer\":0,\"compliment_photos\":0}\r\n",
      "{\"user_id\":\"s4FoIXE_LSGviTHBe8dmcg\",\"name\":\"Shashank\",\"review_count\":3,\"yelping_since\":\"2017-06-18\",\"friends\":\"None\",\"useful\":0,\"funny\":0,\"cool\":0,\"fans\":0,\"elite\":\"None\",\"average_stars\":3.0,\"compliment_hot\":0,\"compliment_more\":0,\"compliment_profile\":0,\"compliment_cute\":0,\"compliment_list\":0,\"compliment_note\":0,\"compliment_plain\":0,\"compliment_cool\":0,\"compliment_funny\":0,\"compliment_writer\":0,\"compliment_photos\":0}\r\n",
      "{\"user_id\":\"ZcsZdHLiJGVvDHVjeTYYnQ\",\"name\":\"Stacey X Joe\",\"review_count\":3,\"yelping_since\":\"2014-08-27\",\"friends\":\"None\",\"useful\":0,\"funny\":0,\"cool\":0,\"fans\":0,\"elite\":\"None\",\"average_stars\":5.0,\"compliment_hot\":0,\"compliment_more\":0,\"compliment_profile\":0,\"compliment_cute\":0,\"compliment_list\":0,\"compliment_note\":0,\"compliment_plain\":0,\"compliment_cool\":0,\"compliment_funny\":0,\"compliment_writer\":0,\"compliment_photos\":0}\r\n",
      "{\"user_id\":\"h3p6aeVL7vrafSOM50SsCg\",\"name\":\"Lindsay\",\"review_count\":2,\"yelping_since\":\"2016-02-02\",\"friends\":\"None\",\"useful\":0,\"funny\":0,\"cool\":0,\"fans\":0,\"elite\":\"None\",\"average_stars\":5.0,\"compliment_hot\":0,\"compliment_more\":0,\"compliment_profile\":0,\"compliment_cute\":0,\"compliment_list\":0,\"compliment_note\":0,\"compliment_plain\":0,\"compliment_cool\":0,\"compliment_funny\":0,\"compliment_writer\":0,\"compliment_photos\":0}\r\n",
      "{\"user_id\":\"EbJMotYYkq-iq-v1u8wCYA\",\"name\":\"Joshua\",\"review_count\":1,\"yelping_since\":\"2013-03-20\",\"friends\":\"None\",\"useful\":0,\"funny\":0,\"cool\":0,\"fans\":0,\"elite\":\"None\",\"average_stars\":5.0,\"compliment_hot\":0,\"compliment_more\":0,\"compliment_profile\":0,\"compliment_cute\":0,\"compliment_list\":0,\"compliment_note\":0,\"compliment_plain\":0,\"compliment_cool\":0,\"compliment_funny\":0,\"compliment_writer\":0,\"compliment_photos\":0}\r\n",
      "{\"user_id\":\"nnB0AE1Cxp_0154xkhXelw\",\"name\":\"Mike\",\"review_count\":11,\"yelping_since\":\"2014-07-11\",\"friends\":\"None\",\"useful\":8,\"funny\":0,\"cool\":0,\"fans\":1,\"elite\":\"None\",\"average_stars\":2.77,\"compliment_hot\":0,\"compliment_more\":0,\"compliment_profile\":0,\"compliment_cute\":0,\"compliment_list\":0,\"compliment_note\":0,\"compliment_plain\":0,\"compliment_cool\":0,\"compliment_funny\":0,\"compliment_writer\":0,\"compliment_photos\":0}\r\n",
      "{\"user_id\":\"XoEnrhtJc2pcdlQ09d8Oug\",\"name\":\"Mitch\",\"review_count\":4,\"yelping_since\":\"2013-04-07\",\"friends\":\"None\",\"useful\":2,\"funny\":3,\"cool\":1,\"fans\":0,\"elite\":\"None\",\"average_stars\":4.0,\"compliment_hot\":0,\"compliment_more\":0,\"compliment_profile\":0,\"compliment_cute\":0,\"compliment_list\":0,\"compliment_note\":0,\"compliment_plain\":0,\"compliment_cool\":0,\"compliment_funny\":0,\"compliment_writer\":0,\"compliment_photos\":0}\r\n"
     ]
    }
   ],
   "source": [
    "!head yelp_academic_dataset_user.json"
   ]
  },
  {
   "cell_type": "code",
   "execution_count": 36,
   "metadata": {
    "ExecuteTime": {
     "end_time": "2018-08-09T05:18:37.610658Z",
     "start_time": "2018-08-09T05:18:37.569979Z"
    }
   },
   "outputs": [
    {
     "ename": "OSError",
     "evalue": "[Errno 22] Invalid argument",
     "output_type": "error",
     "traceback": [
      "\u001b[0;31m---------------------------------------------------------------------------\u001b[0m",
      "\u001b[0;31mOSError\u001b[0m                                   Traceback (most recent call last)",
      "\u001b[0;32m<ipython-input-36-462ba9a95824>\u001b[0m in \u001b[0;36m<module>\u001b[0;34m()\u001b[0m\n\u001b[0;32m----> 1\u001b[0;31m \u001b[0muser\u001b[0m \u001b[0;34m=\u001b[0m \u001b[0mpd\u001b[0m\u001b[0;34m.\u001b[0m\u001b[0mread_json\u001b[0m\u001b[0;34m(\u001b[0m\u001b[0;34m'yelp_academic_dataset_user.json'\u001b[0m\u001b[0;34m,\u001b[0m \u001b[0mlines\u001b[0m\u001b[0;34m=\u001b[0m\u001b[0;32mTrue\u001b[0m\u001b[0;34m)\u001b[0m\u001b[0;34m\u001b[0m\u001b[0m\n\u001b[0m",
      "\u001b[0;32m/anaconda3/lib/python3.6/site-packages/pandas/io/json/json.py\u001b[0m in \u001b[0;36mread_json\u001b[0;34m(path_or_buf, orient, typ, dtype, convert_axes, convert_dates, keep_default_dates, numpy, precise_float, date_unit, encoding, lines, chunksize, compression)\u001b[0m\n\u001b[1;32m    414\u001b[0m         \u001b[0mkeep_default_dates\u001b[0m\u001b[0;34m=\u001b[0m\u001b[0mkeep_default_dates\u001b[0m\u001b[0;34m,\u001b[0m \u001b[0mnumpy\u001b[0m\u001b[0;34m=\u001b[0m\u001b[0mnumpy\u001b[0m\u001b[0;34m,\u001b[0m\u001b[0;34m\u001b[0m\u001b[0m\n\u001b[1;32m    415\u001b[0m         \u001b[0mprecise_float\u001b[0m\u001b[0;34m=\u001b[0m\u001b[0mprecise_float\u001b[0m\u001b[0;34m,\u001b[0m \u001b[0mdate_unit\u001b[0m\u001b[0;34m=\u001b[0m\u001b[0mdate_unit\u001b[0m\u001b[0;34m,\u001b[0m \u001b[0mencoding\u001b[0m\u001b[0;34m=\u001b[0m\u001b[0mencoding\u001b[0m\u001b[0;34m,\u001b[0m\u001b[0;34m\u001b[0m\u001b[0m\n\u001b[0;32m--> 416\u001b[0;31m         \u001b[0mlines\u001b[0m\u001b[0;34m=\u001b[0m\u001b[0mlines\u001b[0m\u001b[0;34m,\u001b[0m \u001b[0mchunksize\u001b[0m\u001b[0;34m=\u001b[0m\u001b[0mchunksize\u001b[0m\u001b[0;34m,\u001b[0m \u001b[0mcompression\u001b[0m\u001b[0;34m=\u001b[0m\u001b[0mcompression\u001b[0m\u001b[0;34m,\u001b[0m\u001b[0;34m\u001b[0m\u001b[0m\n\u001b[0m\u001b[1;32m    417\u001b[0m     )\n\u001b[1;32m    418\u001b[0m \u001b[0;34m\u001b[0m\u001b[0m\n",
      "\u001b[0;32m/anaconda3/lib/python3.6/site-packages/pandas/io/json/json.py\u001b[0m in \u001b[0;36m__init__\u001b[0;34m(self, filepath_or_buffer, orient, typ, dtype, convert_axes, convert_dates, keep_default_dates, numpy, precise_float, date_unit, encoding, lines, chunksize, compression)\u001b[0m\n\u001b[1;32m    464\u001b[0m \u001b[0;34m\u001b[0m\u001b[0m\n\u001b[1;32m    465\u001b[0m         \u001b[0mdata\u001b[0m \u001b[0;34m=\u001b[0m \u001b[0mself\u001b[0m\u001b[0;34m.\u001b[0m\u001b[0m_get_data_from_filepath\u001b[0m\u001b[0;34m(\u001b[0m\u001b[0mfilepath_or_buffer\u001b[0m\u001b[0;34m)\u001b[0m\u001b[0;34m\u001b[0m\u001b[0m\n\u001b[0;32m--> 466\u001b[0;31m         \u001b[0mself\u001b[0m\u001b[0;34m.\u001b[0m\u001b[0mdata\u001b[0m \u001b[0;34m=\u001b[0m \u001b[0mself\u001b[0m\u001b[0;34m.\u001b[0m\u001b[0m_preprocess_data\u001b[0m\u001b[0;34m(\u001b[0m\u001b[0mdata\u001b[0m\u001b[0;34m)\u001b[0m\u001b[0;34m\u001b[0m\u001b[0m\n\u001b[0m\u001b[1;32m    467\u001b[0m \u001b[0;34m\u001b[0m\u001b[0m\n\u001b[1;32m    468\u001b[0m     \u001b[0;32mdef\u001b[0m \u001b[0m_preprocess_data\u001b[0m\u001b[0;34m(\u001b[0m\u001b[0mself\u001b[0m\u001b[0;34m,\u001b[0m \u001b[0mdata\u001b[0m\u001b[0;34m)\u001b[0m\u001b[0;34m:\u001b[0m\u001b[0;34m\u001b[0m\u001b[0m\n",
      "\u001b[0;32m/anaconda3/lib/python3.6/site-packages/pandas/io/json/json.py\u001b[0m in \u001b[0;36m_preprocess_data\u001b[0;34m(self, data)\u001b[0m\n\u001b[1;32m    475\u001b[0m         \"\"\"\n\u001b[1;32m    476\u001b[0m         \u001b[0;32mif\u001b[0m \u001b[0mhasattr\u001b[0m\u001b[0;34m(\u001b[0m\u001b[0mdata\u001b[0m\u001b[0;34m,\u001b[0m \u001b[0;34m'read'\u001b[0m\u001b[0;34m)\u001b[0m \u001b[0;32mand\u001b[0m \u001b[0;32mnot\u001b[0m \u001b[0mself\u001b[0m\u001b[0;34m.\u001b[0m\u001b[0mchunksize\u001b[0m\u001b[0;34m:\u001b[0m\u001b[0;34m\u001b[0m\u001b[0m\n\u001b[0;32m--> 477\u001b[0;31m             \u001b[0mdata\u001b[0m \u001b[0;34m=\u001b[0m \u001b[0mdata\u001b[0m\u001b[0;34m.\u001b[0m\u001b[0mread\u001b[0m\u001b[0;34m(\u001b[0m\u001b[0;34m)\u001b[0m\u001b[0;34m\u001b[0m\u001b[0m\n\u001b[0m\u001b[1;32m    478\u001b[0m         \u001b[0;32mif\u001b[0m \u001b[0;32mnot\u001b[0m \u001b[0mhasattr\u001b[0m\u001b[0;34m(\u001b[0m\u001b[0mdata\u001b[0m\u001b[0;34m,\u001b[0m \u001b[0;34m'read'\u001b[0m\u001b[0;34m)\u001b[0m \u001b[0;32mand\u001b[0m \u001b[0mself\u001b[0m\u001b[0;34m.\u001b[0m\u001b[0mchunksize\u001b[0m\u001b[0;34m:\u001b[0m\u001b[0;34m\u001b[0m\u001b[0m\n\u001b[1;32m    479\u001b[0m             \u001b[0mdata\u001b[0m \u001b[0;34m=\u001b[0m \u001b[0mStringIO\u001b[0m\u001b[0;34m(\u001b[0m\u001b[0mdata\u001b[0m\u001b[0;34m)\u001b[0m\u001b[0;34m\u001b[0m\u001b[0m\n",
      "\u001b[0;31mOSError\u001b[0m: [Errno 22] Invalid argument"
     ]
    }
   ],
   "source": [
    "user = pd.read_json('yelp_academic_dataset_user.json', lines=True)"
   ]
  },
  {
   "cell_type": "code",
   "execution_count": 33,
   "metadata": {
    "ExecuteTime": {
     "end_time": "2018-08-09T05:16:32.012683Z",
     "start_time": "2018-08-09T05:15:16.266818Z"
    }
   },
   "outputs": [],
   "source": [
    "max_records = 1e5\n",
    "df = pd.read_json('yelp_academic_dataset_user.json', lines=True, chunksize=max_records)\n",
    "filtered_data = pd.DataFrame() # Initialize the dataframe\n",
    "try:\n",
    "    for df_chunk in df:\n",
    "       filtered_data = pd.concat([filtered_data, df_chunk])\n",
    "except ValueError:\n",
    "       print ('\\nSome messages in the file cannot be parsed')"
   ]
  },
  {
   "cell_type": "code",
   "execution_count": 35,
   "metadata": {
    "ExecuteTime": {
     "end_time": "2018-08-09T05:17:09.234038Z",
     "start_time": "2018-08-09T05:17:06.115839Z"
    }
   },
   "outputs": [
    {
     "name": "stdout",
     "output_type": "stream",
     "text": [
      "<class 'pandas.core.frame.DataFrame'>\n",
      "RangeIndex: 1518169 entries, 0 to 1518168\n",
      "Data columns (total 22 columns):\n",
      "average_stars         1518169 non-null float64\n",
      "compliment_cool       1518169 non-null int64\n",
      "compliment_cute       1518169 non-null int64\n",
      "compliment_funny      1518169 non-null int64\n",
      "compliment_hot        1518169 non-null int64\n",
      "compliment_list       1518169 non-null int64\n",
      "compliment_more       1518169 non-null int64\n",
      "compliment_note       1518169 non-null int64\n",
      "compliment_photos     1518169 non-null int64\n",
      "compliment_plain      1518169 non-null int64\n",
      "compliment_profile    1518169 non-null int64\n",
      "compliment_writer     1518169 non-null int64\n",
      "cool                  1518169 non-null int64\n",
      "elite                 1518169 non-null object\n",
      "fans                  1518169 non-null int64\n",
      "friends               1518169 non-null object\n",
      "funny                 1518169 non-null int64\n",
      "name                  1518169 non-null object\n",
      "review_count          1518169 non-null int64\n",
      "useful                1518169 non-null int64\n",
      "user_id               1518169 non-null object\n",
      "yelping_since         1518169 non-null object\n",
      "dtypes: float64(1), int64(16), object(5)\n",
      "memory usage: 254.8+ MB\n"
     ]
    }
   ],
   "source": [
    "filtered_data.info()"
   ]
  },
  {
   "cell_type": "code",
   "execution_count": 48,
   "metadata": {
    "ExecuteTime": {
     "end_time": "2018-08-21T18:29:23.107200Z",
     "start_time": "2018-08-21T18:27:01.241748Z"
    }
   },
   "outputs": [],
   "source": [
    "max_records = 1e5\n",
    "df_reader = pd.read_json('yelp_academic_dataset_user.json', lines=True, chunksize=max_records)\n",
    "users = pd.DataFrame() # Initialize the dataframe\n",
    "for df_chunk in df_reader:\n",
    "    try:\n",
    "        users = pd.concat([users, df_chunk])\n",
    "    except ValueError:\n",
    "        print ('\\nSome messages in the file cannot be parsed')"
   ]
  },
  {
   "cell_type": "code",
   "execution_count": 49,
   "metadata": {
    "ExecuteTime": {
     "end_time": "2018-08-21T18:29:26.227048Z",
     "start_time": "2018-08-21T18:29:23.117843Z"
    },
    "scrolled": false
   },
   "outputs": [
    {
     "name": "stdout",
     "output_type": "stream",
     "text": [
      "<class 'pandas.core.frame.DataFrame'>\n",
      "RangeIndex: 1518169 entries, 0 to 1518168\n",
      "Data columns (total 22 columns):\n",
      "average_stars         1518169 non-null float64\n",
      "compliment_cool       1518169 non-null int64\n",
      "compliment_cute       1518169 non-null int64\n",
      "compliment_funny      1518169 non-null int64\n",
      "compliment_hot        1518169 non-null int64\n",
      "compliment_list       1518169 non-null int64\n",
      "compliment_more       1518169 non-null int64\n",
      "compliment_note       1518169 non-null int64\n",
      "compliment_photos     1518169 non-null int64\n",
      "compliment_plain      1518169 non-null int64\n",
      "compliment_profile    1518169 non-null int64\n",
      "compliment_writer     1518169 non-null int64\n",
      "cool                  1518169 non-null int64\n",
      "elite                 1518169 non-null object\n",
      "fans                  1518169 non-null int64\n",
      "friends               1518169 non-null object\n",
      "funny                 1518169 non-null int64\n",
      "name                  1518169 non-null object\n",
      "review_count          1518169 non-null int64\n",
      "useful                1518169 non-null int64\n",
      "user_id               1518169 non-null object\n",
      "yelping_since         1518169 non-null object\n",
      "dtypes: float64(1), int64(16), object(5)\n",
      "memory usage: 254.8+ MB\n"
     ]
    }
   ],
   "source": [
    "users.info()"
   ]
  },
  {
   "cell_type": "code",
   "execution_count": 50,
   "metadata": {
    "ExecuteTime": {
     "end_time": "2018-08-21T18:31:12.171308Z",
     "start_time": "2018-08-21T18:30:06.415082Z"
    }
   },
   "outputs": [],
   "source": [
    "users.to_csv('yelp_user.csv')"
   ]
  },
  {
   "cell_type": "code",
   "execution_count": 50,
   "metadata": {
    "ExecuteTime": {
     "end_time": "2018-08-09T16:40:16.800814Z",
     "start_time": "2018-08-09T16:40:16.583409Z"
    }
   },
   "outputs": [
    {
     "name": "stdout",
     "output_type": "stream",
     "text": [
      "{\"review_id\":\"x7mDIiDB3jEiPGPHOmDzyw\",\"user_id\":\"msQe1u7Z_XuqjGoqhB0J5g\",\"business_id\":\"iCQpiavjjPzJ5_3gPD5Ebg\",\"stars\":2,\"date\":\"2011-02-25\",\"text\":\"The pizza was okay. Not the best I've had. I prefer Biaggio's on Flamingo \\/ Fort Apache. The chef there can make a MUCH better NY style pizza. The pizzeria @ Cosmo was over priced for the quality and lack of personality in the food. Biaggio's is a much better pick if youre going for italian - family owned, home made recipes, people that actually CARE if you like their food. You dont get that at a pizzeria in a casino. I dont care what you say...\",\"useful\":0,\"funny\":0,\"cool\":0}\r\n",
      "{\"review_id\":\"dDl8zu1vWPdKGihJrwQbpw\",\"user_id\":\"msQe1u7Z_XuqjGoqhB0J5g\",\"business_id\":\"pomGBqfbxcqPv14c3XH-ZQ\",\"stars\":5,\"date\":\"2012-11-13\",\"text\":\"I love this place! My fiance And I go here atleast once a week. The portions are huge! Food is amazing. I love their carne asada. They have great lunch specials... Leticia is super nice and cares about what you think of her restaurant. You have to try their cheese enchiladas too the sauce is different And amazing!!!\",\"useful\":0,\"funny\":0,\"cool\":0}\r\n",
      "{\"review_id\":\"LZp4UX5zK3e-c5ZGSeo3kA\",\"user_id\":\"msQe1u7Z_XuqjGoqhB0J5g\",\"business_id\":\"jtQARsP6P-LbkyjbO1qNGg\",\"stars\":1,\"date\":\"2014-10-23\",\"text\":\"Terrible. Dry corn bread. Rib tips were all fat and mushy and had no flavor. If you want bbq in this neighborhood go to john mulls roadkill grill. Trust me.\",\"useful\":3,\"funny\":1,\"cool\":1}\r\n",
      "{\"review_id\":\"Er4NBWCmCD4nM8_p1GRdow\",\"user_id\":\"msQe1u7Z_XuqjGoqhB0J5g\",\"business_id\":\"elqbBhBfElMNSrjFqW3now\",\"stars\":2,\"date\":\"2011-02-25\",\"text\":\"Back in 2005-2007 this place was my FAVORITE thai place EVER. I'd go here ALLLLL the time. I never had any complaints. Once they started to get more known and got busy, their service started to suck and their portion sizes got cut in half. I have a huge problem with paying MORE for way less food. The last time I went there I had the Pork Pad se Ew and it tasted good, but I finished my plate and was still hungry. I used to know the manager here and she would greet me with a \\\"Hello Melissa, nice to see you again, diet coke & pad thai or pad se ew?\\\" Now a days, I know she still knows me but she disregards my presence. Also, I had asked her what was up with the new portion sizes and she had no answer for me. Great food but not worth the money. I havent been back in over a year because I refuse to pay $10-15 for dinner and still be hungry after. Sorry PinKaow, you are not what you used to be!!\",\"useful\":2,\"funny\":0,\"cool\":0}\r\n",
      "{\"review_id\":\"jsDu6QEJHbwP2Blom1PLCA\",\"user_id\":\"msQe1u7Z_XuqjGoqhB0J5g\",\"business_id\":\"Ums3gaP2qM3W1XcA5r6SsQ\",\"stars\":5,\"date\":\"2014-09-05\",\"text\":\"Delicious healthy food. The steak is amazing. Fish and pork are awesome too. Service is above and beyond. Not a bad thing to say about this place. Worth every penny!\",\"useful\":0,\"funny\":0,\"cool\":0}\r\n",
      "{\"review_id\":\"pfavA0hr3nyqO61oupj-lA\",\"user_id\":\"msQe1u7Z_XuqjGoqhB0J5g\",\"business_id\":\"vgfcTvK81oD4r50NMjU2Ag\",\"stars\":1,\"date\":\"2011-02-25\",\"text\":\"This place sucks. The customer service is horrible. They dont serve food unless you order a pizza from a neighboring restaurant. Who does that? They dont control their crowd. Many times I've gone I've seen fights. The bartenders suck - I've almost got in a fight with one because she was a complete bitch. Refused to serve me a drink because she was \\\"busy\\\" celebrating her friends birthday BEHIND THE BAR. This place is ridiculous. I will NEVER go there again.. EVER.\",\"useful\":2,\"funny\":0,\"cool\":0}\r\n",
      "{\"review_id\":\"brokEno2n7s4vrwmmUdr9w\",\"user_id\":\"msQe1u7Z_XuqjGoqhB0J5g\",\"business_id\":\"AxeQEz3-s9_1TyIo-G7UQw\",\"stars\":5,\"date\":\"2011-10-10\",\"text\":\"If you like Thai food, you have to try the original thai bbq. Their pad se ew is to DIE for. Their thai egg rolls are delicious. Basil beef will not let you down (its not on the menu anymore, you have to ask for it!) \\n\\nYes, the building is not as fancy as some other places. Yes, i've batted a fly off my plate more than once. Yes, I do NOT go to the bathroom their because I dont even WANT to know what it looks like... \\n\\nBUT.. the thai food is the best in town. The service rocks. And you can get a $25 gift cert. on Restaurant.com for $2. Can you beat that? I think NOT.\\n\\nThis is the only place my husband and I go for anniversarys, date nights, birthdays.. anything!! I recommend it to everyone I know. If you KNOW good thai food, go here.\",\"useful\":1,\"funny\":0,\"cool\":0}\r\n",
      "{\"review_id\":\"kUZWBVZvhWuC8TWUg5AYyA\",\"user_id\":\"msQe1u7Z_XuqjGoqhB0J5g\",\"business_id\":\"zdE82PiD6wquvjYLyhOJNA\",\"stars\":5,\"date\":\"2012-04-18\",\"text\":\"AMAZING!!!\\n\\n I was referred here by a friend and at first thought \\\"Korean and Mexican?? WEIRD... i dont know\\\"... but my husband and I were in the area and thought why not, lets try it... after my friend had nothing but great things to say about this place. We tried the chimichanga and it was ABSOLUTELY AMAZING.... We actually did 1\\/2 chicken 1\\/2 beef (have you EVER been to a place that will make a burrito half and half? i havent!) The meat has fantastic flavor. I'm not a beef girl but i'd order a whole plate of their beef - its that good. The chimichanga was HUGE enough for both of us to share it (and my husband also had a beef taco which also was delicious) and we were FULL and it was $11 total with drinks. YOu cant beat that.\\n\\nTHe service was great. The server was so nice and attentive- you could tell she was the owner. \\n\\nThe only thing I'd change is their chips they serve. They were burnt, too thick and kind of bland but their salsa is great. And lets face it, i'm fat so I we ate two baskets anyway so they cant be that bad. lol\\n\\nAll in all, food was delicious, A LOT of food for cheap, great prices, great service great flavor. Hell even my burps taste delicious. Bahaha!\",\"useful\":0,\"funny\":1,\"cool\":0}\r\n",
      "{\"review_id\":\"wcqt0III88LEcm19IxFFyA\",\"user_id\":\"msQe1u7Z_XuqjGoqhB0J5g\",\"business_id\":\"EAwh1OmG6t6p3nRaZOW_AA\",\"stars\":4,\"date\":\"2011-02-25\",\"text\":\"Ribs = amazing\\n2 hour wait time= not so amazing, but understandable. \\n\\nThis place would get 5 stars if they expanded their BBQ restaurant. Their ribs are AMAZING. You get SO much food for the price and it tastes sooo good. Plus, the two hour wait isnt always a bad thing because it gives you an excuse to drink and gamble while you wait!\",\"useful\":0,\"funny\":0,\"cool\":0}\r\n",
      "{\"review_id\":\"LWUtqzNthMM3vpWZIFBlPw\",\"user_id\":\"msQe1u7Z_XuqjGoqhB0J5g\",\"business_id\":\"atVh8viqTj-sqDJ35tAYVg\",\"stars\":2,\"date\":\"2012-11-09\",\"text\":\"Food is pretty good, not gonna lie. BUT you have to make sacrifices if you choose to eat there. It literally takes an hour to an hour and a half to deliver food. Seriously. EVERY SINGLE TIME. Doesnt matter if we order at 8am, 10am or 1pm. Never fails, they take F-O-R-E-V-E-R. If you dont get what you ordered or you are upset by them delivering your breakfast around LUNCH time, be ready to have the owner talk down to you and be a total bitch to you for i dont know, just wanting what you pay for?! \\n\\nIts over priced. But its decently tasteful food. Takes forever. Owners a witch. And i'm pretty sure that they continuing forget to pack my extra ranch just to piss me off. \\n\\nEnd Rant. \\n\\nPS- I've never gone in there to eat because i frankly, i'd rather tip the nice delivery driver then the ignorant imbeciles that work in the dining area. \\n\\nPPS- My hot chocolate today was cold. They should call it Cold Chocolate. Or start caring if their hot chocolate is hot. One of the two would be great!\",\"useful\":1,\"funny\":2,\"cool\":1}\r\n"
     ]
    }
   ],
   "source": [
    "!head yelp_academic_dataset_review.json"
   ]
  },
  {
   "cell_type": "code",
   "execution_count": 35,
   "metadata": {
    "ExecuteTime": {
     "end_time": "2018-08-21T17:36:51.611226Z",
     "start_time": "2018-08-21T17:36:31.142866Z"
    }
   },
   "outputs": [],
   "source": [
    "review_test = []\n",
    "with open('yelp_academic_dataset_review.json', 'r') as f:\n",
    "    for line in f:\n",
    "        review_test.append(line)"
   ]
  },
  {
   "cell_type": "code",
   "execution_count": 36,
   "metadata": {
    "ExecuteTime": {
     "end_time": "2018-08-21T17:37:02.416709Z",
     "start_time": "2018-08-21T17:37:02.341555Z"
    }
   },
   "outputs": [
    {
     "data": {
      "text/plain": [
       "5996996"
      ]
     },
     "execution_count": 36,
     "metadata": {},
     "output_type": "execute_result"
    }
   ],
   "source": [
    "len(review_test)"
   ]
  },
  {
   "cell_type": "code",
   "execution_count": 37,
   "metadata": {
    "ExecuteTime": {
     "end_time": "2018-08-21T17:55:14.106192Z",
     "start_time": "2018-08-21T17:47:33.101910Z"
    }
   },
   "outputs": [],
   "source": [
    "with open('yelp_academic_dataset_review.json', 'r') as json_file:      \n",
    "    data = json_file.readlines()\n",
    "    # this line below may take at least 8-10 minutes of processing for 4-5 million rows.\n",
    "    # It converts all strings in list to actual json objects. \n",
    "    data = list(map(json.loads, data)) "
   ]
  },
  {
   "cell_type": "code",
   "execution_count": 38,
   "metadata": {
    "ExecuteTime": {
     "end_time": "2018-08-21T17:55:34.101136Z",
     "start_time": "2018-08-21T17:55:33.914527Z"
    }
   },
   "outputs": [
    {
     "data": {
      "text/plain": [
       "5996996"
      ]
     },
     "execution_count": 38,
     "metadata": {},
     "output_type": "execute_result"
    }
   ],
   "source": [
    "len(data)"
   ]
  },
  {
   "cell_type": "code",
   "execution_count": 41,
   "metadata": {
    "ExecuteTime": {
     "end_time": "2018-08-21T17:55:56.539026Z",
     "start_time": "2018-08-21T17:55:56.504550Z"
    }
   },
   "outputs": [
    {
     "data": {
      "text/plain": [
       "{'review_id': 'x7mDIiDB3jEiPGPHOmDzyw',\n",
       " 'user_id': 'msQe1u7Z_XuqjGoqhB0J5g',\n",
       " 'business_id': 'iCQpiavjjPzJ5_3gPD5Ebg',\n",
       " 'stars': 2,\n",
       " 'date': '2011-02-25',\n",
       " 'text': \"The pizza was okay. Not the best I've had. I prefer Biaggio's on Flamingo / Fort Apache. The chef there can make a MUCH better NY style pizza. The pizzeria @ Cosmo was over priced for the quality and lack of personality in the food. Biaggio's is a much better pick if youre going for italian - family owned, home made recipes, people that actually CARE if you like their food. You dont get that at a pizzeria in a casino. I dont care what you say...\",\n",
       " 'useful': 0,\n",
       " 'funny': 0,\n",
       " 'cool': 0}"
      ]
     },
     "execution_count": 41,
     "metadata": {},
     "output_type": "execute_result"
    }
   ],
   "source": [
    "data[0]"
   ]
  },
  {
   "cell_type": "code",
   "execution_count": 42,
   "metadata": {
    "ExecuteTime": {
     "end_time": "2018-08-21T18:02:47.761720Z",
     "start_time": "2018-08-21T17:56:23.214368Z"
    }
   },
   "outputs": [],
   "source": [
    "df_ = pd.DataFrame(data)"
   ]
  },
  {
   "cell_type": "code",
   "execution_count": 43,
   "metadata": {
    "ExecuteTime": {
     "end_time": "2018-08-21T18:03:00.176149Z",
     "start_time": "2018-08-21T18:02:59.804399Z"
    }
   },
   "outputs": [
    {
     "data": {
      "text/html": [
       "<div>\n",
       "<style scoped>\n",
       "    .dataframe tbody tr th:only-of-type {\n",
       "        vertical-align: middle;\n",
       "    }\n",
       "\n",
       "    .dataframe tbody tr th {\n",
       "        vertical-align: top;\n",
       "    }\n",
       "\n",
       "    .dataframe thead th {\n",
       "        text-align: right;\n",
       "    }\n",
       "</style>\n",
       "<table border=\"1\" class=\"dataframe\">\n",
       "  <thead>\n",
       "    <tr style=\"text-align: right;\">\n",
       "      <th></th>\n",
       "      <th>business_id</th>\n",
       "      <th>cool</th>\n",
       "      <th>date</th>\n",
       "      <th>funny</th>\n",
       "      <th>review_id</th>\n",
       "      <th>stars</th>\n",
       "      <th>text</th>\n",
       "      <th>useful</th>\n",
       "      <th>user_id</th>\n",
       "    </tr>\n",
       "  </thead>\n",
       "  <tbody>\n",
       "    <tr>\n",
       "      <th>0</th>\n",
       "      <td>iCQpiavjjPzJ5_3gPD5Ebg</td>\n",
       "      <td>0</td>\n",
       "      <td>2011-02-25</td>\n",
       "      <td>0</td>\n",
       "      <td>x7mDIiDB3jEiPGPHOmDzyw</td>\n",
       "      <td>2</td>\n",
       "      <td>The pizza was okay. Not the best I've had. I p...</td>\n",
       "      <td>0</td>\n",
       "      <td>msQe1u7Z_XuqjGoqhB0J5g</td>\n",
       "    </tr>\n",
       "    <tr>\n",
       "      <th>1</th>\n",
       "      <td>pomGBqfbxcqPv14c3XH-ZQ</td>\n",
       "      <td>0</td>\n",
       "      <td>2012-11-13</td>\n",
       "      <td>0</td>\n",
       "      <td>dDl8zu1vWPdKGihJrwQbpw</td>\n",
       "      <td>5</td>\n",
       "      <td>I love this place! My fiance And I go here atl...</td>\n",
       "      <td>0</td>\n",
       "      <td>msQe1u7Z_XuqjGoqhB0J5g</td>\n",
       "    </tr>\n",
       "    <tr>\n",
       "      <th>2</th>\n",
       "      <td>jtQARsP6P-LbkyjbO1qNGg</td>\n",
       "      <td>1</td>\n",
       "      <td>2014-10-23</td>\n",
       "      <td>1</td>\n",
       "      <td>LZp4UX5zK3e-c5ZGSeo3kA</td>\n",
       "      <td>1</td>\n",
       "      <td>Terrible. Dry corn bread. Rib tips were all fa...</td>\n",
       "      <td>3</td>\n",
       "      <td>msQe1u7Z_XuqjGoqhB0J5g</td>\n",
       "    </tr>\n",
       "    <tr>\n",
       "      <th>3</th>\n",
       "      <td>elqbBhBfElMNSrjFqW3now</td>\n",
       "      <td>0</td>\n",
       "      <td>2011-02-25</td>\n",
       "      <td>0</td>\n",
       "      <td>Er4NBWCmCD4nM8_p1GRdow</td>\n",
       "      <td>2</td>\n",
       "      <td>Back in 2005-2007 this place was my FAVORITE t...</td>\n",
       "      <td>2</td>\n",
       "      <td>msQe1u7Z_XuqjGoqhB0J5g</td>\n",
       "    </tr>\n",
       "    <tr>\n",
       "      <th>4</th>\n",
       "      <td>Ums3gaP2qM3W1XcA5r6SsQ</td>\n",
       "      <td>0</td>\n",
       "      <td>2014-09-05</td>\n",
       "      <td>0</td>\n",
       "      <td>jsDu6QEJHbwP2Blom1PLCA</td>\n",
       "      <td>5</td>\n",
       "      <td>Delicious healthy food. The steak is amazing. ...</td>\n",
       "      <td>0</td>\n",
       "      <td>msQe1u7Z_XuqjGoqhB0J5g</td>\n",
       "    </tr>\n",
       "  </tbody>\n",
       "</table>\n",
       "</div>"
      ],
      "text/plain": [
       "              business_id  cool        date  funny               review_id  \\\n",
       "0  iCQpiavjjPzJ5_3gPD5Ebg     0  2011-02-25      0  x7mDIiDB3jEiPGPHOmDzyw   \n",
       "1  pomGBqfbxcqPv14c3XH-ZQ     0  2012-11-13      0  dDl8zu1vWPdKGihJrwQbpw   \n",
       "2  jtQARsP6P-LbkyjbO1qNGg     1  2014-10-23      1  LZp4UX5zK3e-c5ZGSeo3kA   \n",
       "3  elqbBhBfElMNSrjFqW3now     0  2011-02-25      0  Er4NBWCmCD4nM8_p1GRdow   \n",
       "4  Ums3gaP2qM3W1XcA5r6SsQ     0  2014-09-05      0  jsDu6QEJHbwP2Blom1PLCA   \n",
       "\n",
       "   stars                                               text  useful  \\\n",
       "0      2  The pizza was okay. Not the best I've had. I p...       0   \n",
       "1      5  I love this place! My fiance And I go here atl...       0   \n",
       "2      1  Terrible. Dry corn bread. Rib tips were all fa...       3   \n",
       "3      2  Back in 2005-2007 this place was my FAVORITE t...       2   \n",
       "4      5  Delicious healthy food. The steak is amazing. ...       0   \n",
       "\n",
       "                  user_id  \n",
       "0  msQe1u7Z_XuqjGoqhB0J5g  \n",
       "1  msQe1u7Z_XuqjGoqhB0J5g  \n",
       "2  msQe1u7Z_XuqjGoqhB0J5g  \n",
       "3  msQe1u7Z_XuqjGoqhB0J5g  \n",
       "4  msQe1u7Z_XuqjGoqhB0J5g  "
      ]
     },
     "execution_count": 43,
     "metadata": {},
     "output_type": "execute_result"
    }
   ],
   "source": [
    "df_.head()"
   ]
  },
  {
   "cell_type": "code",
   "execution_count": 44,
   "metadata": {
    "ExecuteTime": {
     "end_time": "2018-08-21T18:07:58.781639Z",
     "start_time": "2018-08-21T18:04:52.238002Z"
    }
   },
   "outputs": [],
   "source": [
    "df_.to_csv('yelp_review.csv')"
   ]
  },
  {
   "cell_type": "code",
   "execution_count": 43,
   "metadata": {
    "ExecuteTime": {
     "end_time": "2018-08-09T07:05:15.462093Z",
     "start_time": "2018-08-09T06:44:09.080208Z"
    }
   },
   "outputs": [],
   "source": [
    "max_records = 1e5\n",
    "json_reader = pd.read_json('yelp_academic_dataset_review.json', lines=True, chunksize=max_records)\n",
    "reviews = pd.DataFrame() # Initialize the dataframe\n",
    "for df_chunk in json_reader:\n",
    "    try:\n",
    "        reviews = pd.concat([reviews, df_chunk])\n",
    "    except ValueError:\n",
    "        print ('\\nSome messages in the file cannot be parsed')"
   ]
  },
  {
   "cell_type": "code",
   "execution_count": 44,
   "metadata": {
    "ExecuteTime": {
     "end_time": "2018-08-09T07:06:54.420207Z",
     "start_time": "2018-08-09T07:05:15.524509Z"
    }
   },
   "outputs": [
    {
     "name": "stdout",
     "output_type": "stream",
     "text": [
      "<class 'pandas.core.frame.DataFrame'>\n",
      "RangeIndex: 5996996 entries, 0 to 5996995\n",
      "Data columns (total 9 columns):\n",
      "business_id    object\n",
      "cool           int64\n",
      "date           datetime64[ns]\n",
      "funny          int64\n",
      "review_id      object\n",
      "stars          int64\n",
      "text           object\n",
      "useful         int64\n",
      "user_id        object\n",
      "dtypes: datetime64[ns](1), int64(4), object(4)\n",
      "memory usage: 411.8+ MB\n"
     ]
    }
   ],
   "source": [
    "reviews.info()"
   ]
  },
  {
   "cell_type": "code",
   "execution_count": 51,
   "metadata": {
    "ExecuteTime": {
     "end_time": "2018-08-09T16:42:43.201210Z",
     "start_time": "2018-08-09T16:42:43.003205Z"
    }
   },
   "outputs": [
    {
     "name": "stdout",
     "output_type": "stream",
     "text": [
      "{\"text\":\"Get here early enough to have dinner.\",\"date\":\"2012-07-15\",\"likes\":0,\"business_id\":\"tJRDll5yqpZwehenzE2cSg\",\"user_id\":\"zcTZk7OG8ovAmh_fenH21g\"}\r\n",
      "{\"text\":\"Don't use them! Double charged my boyfriend and then would not respond afterwards!\",\"date\":\"2012-11-25\",\"likes\":0,\"business_id\":\"2ThtBbeDqFkVi6LugUOcVA\",\"user_id\":\"M5n8mMFoeXjnJEV2gxyGGA\"}\r\n",
      "{\"text\":\"Great breakfast large portions and friendly waitress. I highly recommend it\",\"date\":\"2015-08-12\",\"likes\":0,\"business_id\":\"jH19V2I9fIslnNhDzPmdkA\",\"user_id\":\"ZcLKXikTHYOnYt5VYRO5sg\"}\r\n",
      "{\"text\":\"Nice place. Great staff.  A fixture in the township forever\",\"date\":\"2014-06-20\",\"likes\":0,\"business_id\":\"dAa0hB2yrnHzVmsCkN4YvQ\",\"user_id\":\"oaYhjqBbh18ZhU0bpyzSuw\"}\r\n",
      "{\"text\":\"Happy hour 5-7 Monday - Friday\",\"date\":\"2016-10-12\",\"likes\":0,\"business_id\":\"dAa0hB2yrnHzVmsCkN4YvQ\",\"user_id\":\"ulQ8Nyj7jCUR8M83SUMoRQ\"}\r\n",
      "{\"text\":\"Parking is a premium, keep circling, you will eventually find a great spot\",\"date\":\"2017-01-28\",\"likes\":0,\"business_id\":\"ESzO3Av0b1_TzKOiqzbQYQ\",\"user_id\":\"ulQ8Nyj7jCUR8M83SUMoRQ\"}\r\n",
      "{\"text\":\"Homemade pasta is the best in the area\",\"date\":\"2017-02-25\",\"likes\":0,\"business_id\":\"k7WRPbDd7rztjHcGGkEjlw\",\"user_id\":\"ulQ8Nyj7jCUR8M83SUMoRQ\"}\r\n",
      "{\"text\":\"Excellent service, staff is dressed professionally, polite, mannered, and well trained\",\"date\":\"2017-04-08\",\"likes\":0,\"business_id\":\"k7WRPbDd7rztjHcGGkEjlw\",\"user_id\":\"ulQ8Nyj7jCUR8M83SUMoRQ\"}\r\n",
      "{\"text\":\"Come early on Sunday's to avoid the rush\",\"date\":\"2016-07-03\",\"likes\":0,\"business_id\":\"SqW3igh1_Png336VIb5DUA\",\"user_id\":\"ulQ8Nyj7jCUR8M83SUMoRQ\"}\r\n",
      "{\"text\":\"Love their soup!\",\"date\":\"2016-01-07\",\"likes\":0,\"business_id\":\"KNpcPGqDORDdvtekXd348w\",\"user_id\":\"ulQ8Nyj7jCUR8M83SUMoRQ\"}\r\n"
     ]
    }
   ],
   "source": [
    "!head yelp_academic_dataset_tip.json"
   ]
  },
  {
   "cell_type": "code",
   "execution_count": 53,
   "metadata": {
    "ExecuteTime": {
     "end_time": "2018-08-09T16:43:41.311879Z",
     "start_time": "2018-08-09T16:43:41.109710Z"
    }
   },
   "outputs": [
    {
     "name": "stdout",
     "output_type": "stream",
     "text": [
      "{\"photo_id\": \"IuXwafFH3fZlTyXA-poz0w\", \"business_id\": \"wRKYaVXTks43GVSI2awTQA\", \"caption\": \"\", \"label\": \"food\"}\r\n",
      "{\"photo_id\": \"vhnZ58_1shy9HNVdZgtMLw\", \"business_id\": \"wRKYaVXTks43GVSI2awTQA\", \"caption\": \"\", \"label\": \"food\"}\r\n",
      "{\"photo_id\": \"j9ad7H2IBEzhfNCuJu4ukg\", \"business_id\": \"wRKYaVXTks43GVSI2awTQA\", \"caption\": \"\", \"label\": \"food\"}\r\n",
      "{\"photo_id\": \"du-5X44HccQ9Zo3pQPiFgQ\", \"business_id\": \"wRKYaVXTks43GVSI2awTQA\", \"caption\": \"\", \"label\": \"food\"}\r\n",
      "{\"photo_id\": \"u7Tt1nvclYNoq3UOToP-GA\", \"business_id\": \"wRKYaVXTks43GVSI2awTQA\", \"caption\": \"The classic Farmer's Choice Breakfast has a little bit of everything to start your day.\", \"label\": \"food\"}\r\n",
      "{\"photo_id\": \"53pzxyvIsft9N42cNIqQAA\", \"business_id\": \"wRKYaVXTks43GVSI2awTQA\", \"caption\": \"Slow-roasted turkey dinner with classic sides: mashed potatoes with gravy, dressing, green beans with ham, and cranberry relish.\", \"label\": \"food\"}\r\n",
      "{\"photo_id\": \"tifGkvHf-BpdWMhQ8XlRzw\", \"business_id\": \"wRKYaVXTks43GVSI2awTQA\", \"caption\": \"Meatloaf is BACK! Topped with Bob Evans Wildfire\\u00ae Sauce and made-from-scratch crispy haystack onions.\", \"label\": \"food\"}\r\n",
      "{\"photo_id\": \"ZlM0GYwJPxMxJFPDiLYPOg\", \"business_id\": \"wRKYaVXTks43GVSI2awTQA\", \"caption\": \"\", \"label\": \"food\"}\r\n",
      "{\"photo_id\": \"rrMjjYaV7g_cZXjDiXwQdA\", \"business_id\": \"wRKYaVXTks43GVSI2awTQA\", \"caption\": \"\", \"label\": \"food\"}\r\n",
      "{\"photo_id\": \"nDrLw-oWSfWJRmUvh3gleQ\", \"business_id\": \"wRKYaVXTks43GVSI2awTQA\", \"caption\": \"\", \"label\": \"food\"}\r\n",
      "{\"photo_id\": \"WGTYXW59ZPgIs29uCz_LdA\", \"business_id\": \"4t8o25f4-fCt3cVzzNM1-w\", \"caption\": \"\", \"label\": \"food\"}\r\n",
      "{\"photo_id\": \"EzPXRn78l3wBAZfE3Imvqg\", \"business_id\": \"4t8o25f4-fCt3cVzzNM1-w\", \"caption\": \"\", \"label\": \"food\"}\r\n",
      "{\"photo_id\": \"qnF9dAbBNJWNFgF04f6ucQ\", \"business_id\": \"4t8o25f4-fCt3cVzzNM1-w\", \"caption\": \"\", \"label\": \"food\"}\r\n",
      "{\"photo_id\": \"TmbftApHiGLeZeC75IUL-A\", \"business_id\": \"4t8o25f4-fCt3cVzzNM1-w\", \"caption\": \"\", \"label\": \"food\"}\r\n",
      "{\"photo_id\": \"U0Dnir739bi-L7yrAmNE9w\", \"business_id\": \"4t8o25f4-fCt3cVzzNM1-w\", \"caption\": \"\", \"label\": \"food\"}\r\n",
      "{\"photo_id\": \"dyVi7CEPnZlliXMljzs4Pg\", \"business_id\": \"2ipAUIW4kVsE6nl4aREgag\", \"caption\": \"\", \"label\": \"food\"}\r\n",
      "{\"photo_id\": \"P4eQzVv9xRwBhvH6fEHP3g\", \"business_id\": \"gbLMIGbBx5aGmV6F7Yp9-w\", \"caption\": \"Bacon Avocado Cheeseburger\", \"label\": \"food\"}\r\n",
      "{\"photo_id\": \"ZFWiAI2ht_PkzYroMr8z6A\", \"business_id\": \"gbLMIGbBx5aGmV6F7Yp9-w\", \"caption\": \"Double Cheeseburger\", \"label\": \"food\"}\r\n",
      "{\"photo_id\": \"ztLOhtZbGdnFUa3qDXRgsw\", \"business_id\": \"gbLMIGbBx5aGmV6F7Yp9-w\", \"caption\": \"Cali Club Sandwich\", \"label\": \"food\"}\r\n",
      "{\"photo_id\": \"6zJlEQW1SGuq2zWOr1DTAg\", \"business_id\": \"gbLMIGbBx5aGmV6F7Yp9-w\", \"caption\": \"Country Fried Steak\", \"label\": \"food\"}\r\n",
      "{\"photo_id\": \"vZNx8zbEosAjkn3qDabw9Q\", \"business_id\": \"gbLMIGbBx5aGmV6F7Yp9-w\", \"caption\": \"Zesty Nachos\", \"label\": \"food\"}\r\n",
      "{\"photo_id\": \"IEd4b8-3hvywYVHEFZaeoA\", \"business_id\": \"gbLMIGbBx5aGmV6F7Yp9-w\", \"caption\": \"NEW! Tres Leches Pancake Breakfast\", \"label\": \"food\"}\r\n",
      "{\"photo_id\": \"qtZcgFQktqVFS3thnzZFlQ\", \"business_id\": \"gbLMIGbBx5aGmV6F7Yp9-w\", \"caption\": \"Chicken Cobb Salad w/ Fried Chicken\", \"label\": \"food\"}\r\n",
      "{\"photo_id\": \"mwVy69OHnx1V28Kc6lb--g\", \"business_id\": \"gbLMIGbBx5aGmV6F7Yp9-w\", \"caption\": \"Horchata Milk Shake\", \"label\": \"drink\"}\r\n",
      "{\"photo_id\": \"L33qn9WtpGcF64XGrdjAMA\", \"business_id\": \"gbLMIGbBx5aGmV6F7Yp9-w\", \"caption\": \"Original Grand Slam\\u00ae\", \"label\": \"food\"}\r\n",
      "{\"photo_id\": \"C7Z_ShX0tY9HGy7GKIv7iQ\", \"business_id\": \"gbLMIGbBx5aGmV6F7Yp9-w\", \"caption\": \"Spicy Sriracha Burger\", \"label\": \"food\"}\r\n",
      "{\"photo_id\": \"jZHLEQAoddNvQi4NwBrikw\", \"business_id\": \"p3DmeeCNz-BdijenlxGI2A\", \"caption\": \"\", \"label\": \"food\"}\r\n",
      "{\"photo_id\": \"oKhJPR01ITaYUYVDeRLegA\", \"business_id\": \"p3DmeeCNz-BdijenlxGI2A\", \"caption\": \"\", \"label\": \"food\"}\r\n",
      "{\"photo_id\": \"cYyln2tKEM5hs5SUFRZ3zg\", \"business_id\": \"p3DmeeCNz-BdijenlxGI2A\", \"caption\": \"\", \"label\": \"food\"}\r\n",
      "{\"photo_id\": \"OoAeD7JVbk_9ECNw5glNjg\", \"business_id\": \"p3DmeeCNz-BdijenlxGI2A\", \"caption\": \"\", \"label\": \"outside\"}\r\n",
      "{\"photo_id\": \"7VSQ4fI3aWftTF5Gz4TumQ\", \"business_id\": \"ttKbmaIhQREGeT2esJnIMQ\", \"caption\": \"This place was in the movie \\\"Zach and Miri Make a Porno\\\"\", \"label\": \"inside\"}\r\n",
      "{\"photo_id\": \"tTc1_lliqXaLQS46wF4-Vw\", \"business_id\": \"1xEFOt8ArF0k4cpqWUk9gg\", \"caption\": \"McDonald's World Famous Fries\\u00ae\", \"label\": \"food\"}\r\n",
      "{\"photo_id\": \"D8eaPRSCMJIXeOgLE8lRxw\", \"business_id\": \"1xEFOt8ArF0k4cpqWUk9gg\", \"caption\": \"McDonald's Big Mac\\u00ae Extra Value Meal\", \"label\": \"food\"}\r\n",
      "{\"photo_id\": \"K08R8-9y7YxgLDW6ZGWLqQ\", \"business_id\": \"1xEFOt8ArF0k4cpqWUk9gg\", \"caption\": \"McDonald's All Day Breakfast Sandwiches\", \"label\": \"food\"}\r\n",
      "{\"photo_id\": \"VZnjMz0F1qDgeT2XvGzpDA\", \"business_id\": \"1xEFOt8ArF0k4cpqWUk9gg\", \"caption\": \"McDonald's Chicken McNuggets\\u00ae\", \"label\": \"food\"}\r\n",
      "{\"photo_id\": \"BA7Rlmqa3ZMY2w8vVErI1A\", \"business_id\": \"1xEFOt8ArF0k4cpqWUk9gg\", \"caption\": \"McDonald's Quarter Pounder with Cheese Extra Value Meal\", \"label\": \"food\"}\r\n",
      "{\"photo_id\": \"lpunGz0i7nlI_9BMU3YtGg\", \"business_id\": \"1xEFOt8ArF0k4cpqWUk9gg\", \"caption\": \"McDonald's Artisan Grilled Chicken Sandwich Extra Value Meal\", \"label\": \"food\"}\r\n",
      "{\"photo_id\": \"KXKyu3By4R2fYqfwC-PWHg\", \"business_id\": \"1xEFOt8ArF0k4cpqWUk9gg\", \"caption\": \"McDonald's Dessert Menu Items\", \"label\": \"food\"}\r\n",
      "{\"photo_id\": \"qQZM0YRSNI647sYEJwrL7A\", \"business_id\": \"1xEFOt8ArF0k4cpqWUk9gg\", \"caption\": \"McDonald's Filet-O-Fish\\u00ae Extra Value Meal\", \"label\": \"food\"}\r\n",
      "{\"photo_id\": \"9kAREW7bAl1JeKzAG0V51A\", \"business_id\": \"1xEFOt8ArF0k4cpqWUk9gg\", \"caption\": \"McDonald's All Day Breakfast Menu Items\", \"label\": \"food\"}\r\n",
      "{\"photo_id\": \"wWTsXXxzv4tW9_v8Jf7HRg\", \"business_id\": \"1xEFOt8ArF0k4cpqWUk9gg\", \"caption\": \"McDonald's Buttermilk Crispy Chicken Sandwich Extra Value Meal\", \"label\": \"food\"}\r\n",
      "{\"photo_id\": \"EwYBCxfegswcPax6leU9eQ\", \"business_id\": \"1xEFOt8ArF0k4cpqWUk9gg\", \"caption\": \"McDonald's Double Cheeseburger Extra Value Meal\", \"label\": \"food\"}\r\n",
      "{\"photo_id\": \"kzt5ADXgHb_H1Unyqr7v3w\", \"business_id\": \"1xEFOt8ArF0k4cpqWUk9gg\", \"caption\": \"McDonald's Chicken & Fish Menu Items\", \"label\": \"food\"}\r\n",
      "{\"photo_id\": \"eHV1uTJmYVsXtdy5c87aqg\", \"business_id\": \"1xEFOt8ArF0k4cpqWUk9gg\", \"caption\": \"McDonald's Big Breakfast: biscuit, scrambled eggs, hot sausage, and hash browns.\", \"label\": \"food\"}\r\n",
      "{\"photo_id\": \"xQTBavqK-kiibO73A9aCdw\", \"business_id\": \"1xEFOt8ArF0k4cpqWUk9gg\", \"caption\": \"McDonald's Snacks & Sides Menu Items\", \"label\": \"food\"}\r\n",
      "{\"photo_id\": \"IcFm9H0VB1fMAYH9yKaquQ\", \"business_id\": \"1xEFOt8ArF0k4cpqWUk9gg\", \"caption\": \"\", \"label\": \"drink\"}\r\n",
      "{\"photo_id\": \"1kid7-3ZVxf4IoMe9an2Ag\", \"business_id\": \"1xEFOt8ArF0k4cpqWUk9gg\", \"caption\": \"\", \"label\": \"food\"}\r\n",
      "{\"photo_id\": \"WcQsWxvVcHiszyx9UxMzhw\", \"business_id\": \"1xEFOt8ArF0k4cpqWUk9gg\", \"caption\": \"\", \"label\": \"food\"}\r\n",
      "{\"photo_id\": \"C97jfrkbyhPrlD7ZjauPrg\", \"business_id\": \"1xEFOt8ArF0k4cpqWUk9gg\", \"caption\": \"\", \"label\": \"food\"}\r\n",
      "{\"photo_id\": \"dvNIwOq9xHmV4DthIeDJhg\", \"business_id\": \"1xEFOt8ArF0k4cpqWUk9gg\", \"caption\": \"\", \"label\": \"food\"}\r\n"
     ]
    }
   ],
   "source": [
    "!head -50 yelp_academic_dataset_photo.json"
   ]
  },
  {
   "cell_type": "code",
   "execution_count": 54,
   "metadata": {
    "ExecuteTime": {
     "end_time": "2018-08-09T16:44:34.785204Z",
     "start_time": "2018-08-09T16:44:34.583151Z"
    }
   },
   "outputs": [
    {
     "name": "stdout",
     "output_type": "stream",
     "text": [
      "{\"time\":{\"Fri-0\":2,\"Sat-0\":1,\"Sun-0\":1,\"Wed-0\":2,\"Fri-1\":1,\"Sat-1\":3,\"Thu-1\":1,\"Wed-1\":1,\"Sat-2\":1,\"Sun-2\":2,\"Thu-2\":1,\"Wed-2\":1,\"Fri-3\":1,\"Sun-3\":3,\"Mon-4\":1,\"Thu-4\":1,\"Tue-4\":2,\"Wed-4\":2,\"Sun-6\":1,\"Wed-6\":1,\"Thu-7\":1,\"Fri-10\":3,\"Mon-10\":1,\"Sat-10\":3,\"Sun-10\":3,\"Tue-10\":2,\"Mon-11\":1,\"Thu-11\":1,\"Wed-11\":2,\"Mon-12\":1,\"Sat-12\":1,\"Tue-12\":1,\"Sat-13\":3,\"Thu-13\":1,\"Tue-13\":2,\"Wed-13\":3,\"Fri-14\":2,\"Mon-14\":1,\"Sat-14\":1,\"Sun-14\":1,\"Tue-14\":1,\"Wed-14\":2,\"Fri-15\":1,\"Mon-15\":1,\"Sat-15\":1,\"Thu-15\":2,\"Tue-15\":1,\"Fri-16\":1,\"Sat-16\":2,\"Sun-16\":1,\"Thu-16\":1,\"Tue-16\":1,\"Fri-17\":1,\"Mon-17\":3,\"Sat-17\":4,\"Sun-17\":1,\"Tue-17\":1,\"Wed-17\":1,\"Fri-18\":1,\"Mon-18\":1,\"Sat-18\":4,\"Sun-18\":1,\"Thu-18\":1,\"Tue-18\":2,\"Wed-18\":1,\"Fri-19\":3,\"Mon-19\":1,\"Sun-19\":2,\"Thu-19\":1,\"Wed-19\":1,\"Mon-20\":1,\"Sun-20\":5,\"Thu-20\":4,\"Tue-20\":2,\"Wed-20\":3,\"Fri-21\":4,\"Mon-21\":1,\"Sat-21\":1,\"Sun-21\":1,\"Thu-21\":4,\"Tue-21\":1,\"Wed-21\":1,\"Fri-22\":3,\"Thu-22\":1,\"Fri-23\":1,\"Mon-23\":2,\"Sat-23\":3,\"Sun-23\":1,\"Thu-23\":2,\"Tue-23\":2},\"business_id\":\"7KPBkxAOEtb3QeIL9PEErg\"}\r\n",
      "{\"time\":{\"Mon-13\":1,\"Thu-13\":1,\"Sat-16\":1,\"Wed-17\":1,\"Sun-19\":1,\"Thu-20\":1,\"Sat-21\":1},\"business_id\":\"kREVIrSBbtqBhIYkTccQUg\"}\r\n",
      "{\"time\":{\"Thu-0\":1,\"Mon-1\":1,\"Mon-12\":1,\"Sat-16\":1,\"Sun-22\":1,\"Fri-23\":1},\"business_id\":\"tJRDll5yqpZwehenzE2cSg\"}\r\n",
      "{\"time\":{\"Sun-14\":1,\"Fri-18\":1,\"Mon-20\":1},\"business_id\":\"tZccfdl6JNw-j5BKnCTIQQ\"}\r\n",
      "{\"time\":{\"Sat-3\":1,\"Sun-18\":1,\"Sat-21\":1,\"Sat-23\":1,\"Thu-23\":1},\"business_id\":\"r1p7RAMzCV_6NPF0dNoR3g\"}\r\n",
      "{\"time\":{\"Sat-17\":1,\"Sat-18\":1},\"business_id\":\"OVkBMWxUBXGoO4K3_CeJ7g\"}\r\n",
      "{\"time\":{\"Sun-0\":1,\"Thu-0\":1,\"Sun-1\":1,\"Sat-15\":2,\"Sun-16\":2,\"Tue-16\":1,\"Fri-17\":1,\"Sat-17\":1,\"Mon-18\":1,\"Sat-18\":2,\"Sun-18\":1,\"Thu-18\":1,\"Sat-19\":1,\"Tue-19\":1,\"Wed-19\":1,\"Fri-20\":1,\"Sat-20\":1,\"Sat-21\":2,\"Sun-21\":1,\"Tue-21\":1,\"Sun-22\":1,\"Wed-22\":1,\"Mon-23\":1,\"Sat-23\":2},\"business_id\":\"fW1SKSunVnlaq-fxZ-gSUQ\"}\r\n",
      "{\"time\":{\"Fri-2\":1,\"Fri-11\":1,\"Thu-11\":3,\"Mon-12\":1,\"Thu-12\":1,\"Wed-12\":1,\"Fri-13\":1,\"Thu-13\":1,\"Wed-18\":1,\"Fri-19\":1,\"Thu-20\":1,\"Tue-20\":2,\"Fri-21\":2,\"Mon-21\":1,\"Thu-21\":1,\"Tue-21\":2,\"Wed-21\":2,\"Fri-22\":3,\"Thu-22\":1,\"Tue-22\":2},\"business_id\":\"mDdqgfrvROGAumcQdZ3HIg\"}\r\n",
      "{\"time\":{\"Fri-0\":1,\"Sat-0\":1,\"Sun-0\":1,\"Thu-0\":1,\"Wed-0\":1,\"Fri-1\":1,\"Sat-1\":1,\"Tue-1\":1,\"Mon-2\":1,\"Sun-2\":1,\"Thu-2\":1,\"Sat-3\":1,\"Sun-3\":1,\"Thu-3\":1,\"Wed-3\":1,\"Mon-17\":1,\"Sat-17\":1,\"Sun-17\":2,\"Tue-17\":1,\"Fri-18\":1,\"Mon-18\":1,\"Sun-18\":1,\"Mon-19\":1,\"Sat-19\":1,\"Mon-20\":3,\"Sat-20\":1,\"Thu-20\":1,\"Mon-21\":1,\"Thu-21\":1,\"Fri-22\":2,\"Sat-22\":3,\"Sun-22\":1,\"Tue-22\":3,\"Wed-22\":1,\"Sat-23\":2,\"Tue-23\":3},\"business_id\":\"nhZ1HGWD8lMErdn3FuWuTQ\"}\r\n",
      "{\"time\":{\"Thu-15\":1,\"Sat-23\":1},\"business_id\":\"vDoXZGE7p6xAkKQ0XQPvoA\"}\r\n"
     ]
    }
   ],
   "source": [
    "!head yelp_academic_dataset_checkin.json"
   ]
  },
  {
   "cell_type": "code",
   "execution_count": 55,
   "metadata": {
    "ExecuteTime": {
     "end_time": "2018-08-11T02:01:47.071133Z",
     "start_time": "2018-08-11T02:00:53.859581Z"
    }
   },
   "outputs": [
    {
     "name": "stdout",
     "output_type": "stream",
     "text": [
      "Variable        Type          Data/Info\n",
      "---------------------------------------\n",
      "autopep8        module        <module 'autopep8' from '<...>te-packages/autopep8.py'>\n",
      "business        DataFrame                              <...>188593 rows x 15 columns]\n",
      "business_AZ     DataFrame                              <...>[56296 rows x 15 columns]\n",
      "df              JsonReader    <pandas.io.json.json.Json<...>er object at 0x109b345c0>\n",
      "df_chunk        DataFrame                         busin<...>n[96996 rows x 9 columns]\n",
      "df_reader       JsonReader    <pandas.io.json.json.Json<...>er object at 0x10a2523c8>\n",
      "filtered_data   DataFrame              average_stars  c<...>518169 rows x 22 columns]\n",
      "json            module        <module 'json' from '/ana<...>hon3.6/json/__init__.py'>\n",
      "json_reader     JsonReader    <pandas.io.json.json.Json<...>er object at 0x11a197550>\n",
      "max_records     float         100000.0\n",
      "np              module        <module 'numpy' from '/an<...>kages/numpy/__init__.py'>\n",
      "pd              module        <module 'pandas' from '/a<...>ages/pandas/__init__.py'>\n",
      "restaurant_AZ   DataFrame                              <...>[14525 rows x 15 columns]\n",
      "reviews         DataFrame                         busin<...>5996996 rows x 9 columns]\n",
      "user            JsonReader    <pandas.io.json.json.Json<...>er object at 0x109aed438>\n",
      "users           DataFrame              average_stars  c<...>518169 rows x 22 columns]\n"
     ]
    }
   ],
   "source": [
    "%whos"
   ]
  },
  {
   "cell_type": "code",
   "execution_count": 57,
   "metadata": {
    "ExecuteTime": {
     "end_time": "2018-08-11T02:23:19.948340Z",
     "start_time": "2018-08-11T02:18:17.924753Z"
    }
   },
   "outputs": [],
   "source": [
    "restaurant_AZ_reviews = pd.merge(restaurant_AZ, reviews, on='business_id')"
   ]
  },
  {
   "cell_type": "code",
   "execution_count": 58,
   "metadata": {
    "ExecuteTime": {
     "end_time": "2018-08-11T02:24:00.369499Z",
     "start_time": "2018-08-11T02:23:20.003355Z"
    }
   },
   "outputs": [
    {
     "name": "stdout",
     "output_type": "stream",
     "text": [
      "<class 'pandas.core.frame.DataFrame'>\n",
      "Int64Index: 1149706 entries, 0 to 1149705\n",
      "Data columns (total 23 columns):\n",
      "address         1149706 non-null object\n",
      "attributes      1147640 non-null object\n",
      "business_id     1149706 non-null object\n",
      "categories      1149706 non-null object\n",
      "city            1149706 non-null object\n",
      "hours           1087204 non-null object\n",
      "is_open         1149706 non-null int64\n",
      "latitude        1149706 non-null float64\n",
      "longitude       1149706 non-null float64\n",
      "name            1149706 non-null object\n",
      "neighborhood    1149706 non-null object\n",
      "postal_code     1149706 non-null object\n",
      "review_count    1149706 non-null int64\n",
      "stars_x         1149706 non-null float64\n",
      "state           1149706 non-null object\n",
      "cool            1149706 non-null int64\n",
      "date            1149706 non-null datetime64[ns]\n",
      "funny           1149706 non-null int64\n",
      "review_id       1149706 non-null object\n",
      "stars_y         1149706 non-null int64\n",
      "text            1149706 non-null object\n",
      "useful          1149706 non-null int64\n",
      "user_id         1149706 non-null object\n",
      "dtypes: datetime64[ns](1), float64(3), int64(6), object(13)\n",
      "memory usage: 210.5+ MB\n"
     ]
    }
   ],
   "source": [
    "restaurant_AZ_reviews.info()"
   ]
  },
  {
   "cell_type": "code",
   "execution_count": 59,
   "metadata": {
    "ExecuteTime": {
     "end_time": "2018-08-11T02:24:01.126094Z",
     "start_time": "2018-08-11T02:24:00.411003Z"
    }
   },
   "outputs": [
    {
     "data": {
      "text/html": [
       "<div>\n",
       "<style scoped>\n",
       "    .dataframe tbody tr th:only-of-type {\n",
       "        vertical-align: middle;\n",
       "    }\n",
       "\n",
       "    .dataframe tbody tr th {\n",
       "        vertical-align: top;\n",
       "    }\n",
       "\n",
       "    .dataframe thead th {\n",
       "        text-align: right;\n",
       "    }\n",
       "</style>\n",
       "<table border=\"1\" class=\"dataframe\">\n",
       "  <thead>\n",
       "    <tr style=\"text-align: right;\">\n",
       "      <th></th>\n",
       "      <th>address</th>\n",
       "      <th>attributes</th>\n",
       "      <th>business_id</th>\n",
       "      <th>categories</th>\n",
       "      <th>city</th>\n",
       "      <th>hours</th>\n",
       "      <th>is_open</th>\n",
       "      <th>latitude</th>\n",
       "      <th>longitude</th>\n",
       "      <th>name</th>\n",
       "      <th>...</th>\n",
       "      <th>stars_x</th>\n",
       "      <th>state</th>\n",
       "      <th>cool</th>\n",
       "      <th>date</th>\n",
       "      <th>funny</th>\n",
       "      <th>review_id</th>\n",
       "      <th>stars_y</th>\n",
       "      <th>text</th>\n",
       "      <th>useful</th>\n",
       "      <th>user_id</th>\n",
       "    </tr>\n",
       "  </thead>\n",
       "  <tbody>\n",
       "    <tr>\n",
       "      <th>0</th>\n",
       "      <td>20235 N Cave Creek Rd, Ste 1115</td>\n",
       "      <td>{'BikeParking': 'True', 'BusinessAcceptsCredit...</td>\n",
       "      <td>45bWSZtniwPRiqlivpS8Og</td>\n",
       "      <td>Coffee &amp; Tea, Food</td>\n",
       "      <td>Phoenix</td>\n",
       "      <td>{'Monday': '5:30-20:0', 'Tuesday': '5:30-20:0'...</td>\n",
       "      <td>1</td>\n",
       "      <td>33.671375</td>\n",
       "      <td>-112.030017</td>\n",
       "      <td>The Coffee Bean &amp; Tea Leaf</td>\n",
       "      <td>...</td>\n",
       "      <td>4.0</td>\n",
       "      <td>AZ</td>\n",
       "      <td>0</td>\n",
       "      <td>2013-01-19</td>\n",
       "      <td>0</td>\n",
       "      <td>BrDYgJabSYhVDOXXYhrKdg</td>\n",
       "      <td>5</td>\n",
       "      <td>I love this place! Jay is the best!! He rememb...</td>\n",
       "      <td>0</td>\n",
       "      <td>kjfBvZlRzs1_7vdp7SZbeg</td>\n",
       "    </tr>\n",
       "    <tr>\n",
       "      <th>1</th>\n",
       "      <td>20235 N Cave Creek Rd, Ste 1115</td>\n",
       "      <td>{'BikeParking': 'True', 'BusinessAcceptsCredit...</td>\n",
       "      <td>45bWSZtniwPRiqlivpS8Og</td>\n",
       "      <td>Coffee &amp; Tea, Food</td>\n",
       "      <td>Phoenix</td>\n",
       "      <td>{'Monday': '5:30-20:0', 'Tuesday': '5:30-20:0'...</td>\n",
       "      <td>1</td>\n",
       "      <td>33.671375</td>\n",
       "      <td>-112.030017</td>\n",
       "      <td>The Coffee Bean &amp; Tea Leaf</td>\n",
       "      <td>...</td>\n",
       "      <td>4.0</td>\n",
       "      <td>AZ</td>\n",
       "      <td>0</td>\n",
       "      <td>2016-03-06</td>\n",
       "      <td>0</td>\n",
       "      <td>vjuNvMW3zO-DHnCVwP-OYQ</td>\n",
       "      <td>5</td>\n",
       "      <td>Ice blended fat free no sugar added extra larg...</td>\n",
       "      <td>0</td>\n",
       "      <td>h8RmB4pdbXwVVfOQjg21zA</td>\n",
       "    </tr>\n",
       "    <tr>\n",
       "      <th>2</th>\n",
       "      <td>20235 N Cave Creek Rd, Ste 1115</td>\n",
       "      <td>{'BikeParking': 'True', 'BusinessAcceptsCredit...</td>\n",
       "      <td>45bWSZtniwPRiqlivpS8Og</td>\n",
       "      <td>Coffee &amp; Tea, Food</td>\n",
       "      <td>Phoenix</td>\n",
       "      <td>{'Monday': '5:30-20:0', 'Tuesday': '5:30-20:0'...</td>\n",
       "      <td>1</td>\n",
       "      <td>33.671375</td>\n",
       "      <td>-112.030017</td>\n",
       "      <td>The Coffee Bean &amp; Tea Leaf</td>\n",
       "      <td>...</td>\n",
       "      <td>4.0</td>\n",
       "      <td>AZ</td>\n",
       "      <td>0</td>\n",
       "      <td>2017-03-24</td>\n",
       "      <td>0</td>\n",
       "      <td>CJBrxwSfPLU3QgwlCpFAkQ</td>\n",
       "      <td>5</td>\n",
       "      <td>Great place wonderful baristas\\nAmazing Manage...</td>\n",
       "      <td>0</td>\n",
       "      <td>yGJjiS9zWkQ2VBrjxnnAXA</td>\n",
       "    </tr>\n",
       "    <tr>\n",
       "      <th>3</th>\n",
       "      <td>20235 N Cave Creek Rd, Ste 1115</td>\n",
       "      <td>{'BikeParking': 'True', 'BusinessAcceptsCredit...</td>\n",
       "      <td>45bWSZtniwPRiqlivpS8Og</td>\n",
       "      <td>Coffee &amp; Tea, Food</td>\n",
       "      <td>Phoenix</td>\n",
       "      <td>{'Monday': '5:30-20:0', 'Tuesday': '5:30-20:0'...</td>\n",
       "      <td>1</td>\n",
       "      <td>33.671375</td>\n",
       "      <td>-112.030017</td>\n",
       "      <td>The Coffee Bean &amp; Tea Leaf</td>\n",
       "      <td>...</td>\n",
       "      <td>4.0</td>\n",
       "      <td>AZ</td>\n",
       "      <td>0</td>\n",
       "      <td>2013-04-28</td>\n",
       "      <td>0</td>\n",
       "      <td>Pe1BtPgRQZj3uINA6e-ogA</td>\n",
       "      <td>3</td>\n",
       "      <td>Probably won't come back.  Not horrible, just ...</td>\n",
       "      <td>0</td>\n",
       "      <td>eI0gjxvpgfDnHcPT09qMcA</td>\n",
       "    </tr>\n",
       "    <tr>\n",
       "      <th>4</th>\n",
       "      <td>20235 N Cave Creek Rd, Ste 1115</td>\n",
       "      <td>{'BikeParking': 'True', 'BusinessAcceptsCredit...</td>\n",
       "      <td>45bWSZtniwPRiqlivpS8Og</td>\n",
       "      <td>Coffee &amp; Tea, Food</td>\n",
       "      <td>Phoenix</td>\n",
       "      <td>{'Monday': '5:30-20:0', 'Tuesday': '5:30-20:0'...</td>\n",
       "      <td>1</td>\n",
       "      <td>33.671375</td>\n",
       "      <td>-112.030017</td>\n",
       "      <td>The Coffee Bean &amp; Tea Leaf</td>\n",
       "      <td>...</td>\n",
       "      <td>4.0</td>\n",
       "      <td>AZ</td>\n",
       "      <td>0</td>\n",
       "      <td>2015-03-31</td>\n",
       "      <td>0</td>\n",
       "      <td>I768tdk9mOFEZ-3091cpHA</td>\n",
       "      <td>5</td>\n",
       "      <td>Love this coffee bean! The baristas are always...</td>\n",
       "      <td>0</td>\n",
       "      <td>GMRHCmYD3T4QUI1Ro3t8Zg</td>\n",
       "    </tr>\n",
       "  </tbody>\n",
       "</table>\n",
       "<p>5 rows × 23 columns</p>\n",
       "</div>"
      ],
      "text/plain": [
       "                           address  \\\n",
       "0  20235 N Cave Creek Rd, Ste 1115   \n",
       "1  20235 N Cave Creek Rd, Ste 1115   \n",
       "2  20235 N Cave Creek Rd, Ste 1115   \n",
       "3  20235 N Cave Creek Rd, Ste 1115   \n",
       "4  20235 N Cave Creek Rd, Ste 1115   \n",
       "\n",
       "                                          attributes             business_id  \\\n",
       "0  {'BikeParking': 'True', 'BusinessAcceptsCredit...  45bWSZtniwPRiqlivpS8Og   \n",
       "1  {'BikeParking': 'True', 'BusinessAcceptsCredit...  45bWSZtniwPRiqlivpS8Og   \n",
       "2  {'BikeParking': 'True', 'BusinessAcceptsCredit...  45bWSZtniwPRiqlivpS8Og   \n",
       "3  {'BikeParking': 'True', 'BusinessAcceptsCredit...  45bWSZtniwPRiqlivpS8Og   \n",
       "4  {'BikeParking': 'True', 'BusinessAcceptsCredit...  45bWSZtniwPRiqlivpS8Og   \n",
       "\n",
       "           categories     city  \\\n",
       "0  Coffee & Tea, Food  Phoenix   \n",
       "1  Coffee & Tea, Food  Phoenix   \n",
       "2  Coffee & Tea, Food  Phoenix   \n",
       "3  Coffee & Tea, Food  Phoenix   \n",
       "4  Coffee & Tea, Food  Phoenix   \n",
       "\n",
       "                                               hours  is_open   latitude  \\\n",
       "0  {'Monday': '5:30-20:0', 'Tuesday': '5:30-20:0'...        1  33.671375   \n",
       "1  {'Monday': '5:30-20:0', 'Tuesday': '5:30-20:0'...        1  33.671375   \n",
       "2  {'Monday': '5:30-20:0', 'Tuesday': '5:30-20:0'...        1  33.671375   \n",
       "3  {'Monday': '5:30-20:0', 'Tuesday': '5:30-20:0'...        1  33.671375   \n",
       "4  {'Monday': '5:30-20:0', 'Tuesday': '5:30-20:0'...        1  33.671375   \n",
       "\n",
       "    longitude                        name           ...           stars_x  \\\n",
       "0 -112.030017  The Coffee Bean & Tea Leaf           ...               4.0   \n",
       "1 -112.030017  The Coffee Bean & Tea Leaf           ...               4.0   \n",
       "2 -112.030017  The Coffee Bean & Tea Leaf           ...               4.0   \n",
       "3 -112.030017  The Coffee Bean & Tea Leaf           ...               4.0   \n",
       "4 -112.030017  The Coffee Bean & Tea Leaf           ...               4.0   \n",
       "\n",
       "  state  cool       date funny               review_id stars_y  \\\n",
       "0    AZ     0 2013-01-19     0  BrDYgJabSYhVDOXXYhrKdg       5   \n",
       "1    AZ     0 2016-03-06     0  vjuNvMW3zO-DHnCVwP-OYQ       5   \n",
       "2    AZ     0 2017-03-24     0  CJBrxwSfPLU3QgwlCpFAkQ       5   \n",
       "3    AZ     0 2013-04-28     0  Pe1BtPgRQZj3uINA6e-ogA       3   \n",
       "4    AZ     0 2015-03-31     0  I768tdk9mOFEZ-3091cpHA       5   \n",
       "\n",
       "                                                text useful  \\\n",
       "0  I love this place! Jay is the best!! He rememb...      0   \n",
       "1  Ice blended fat free no sugar added extra larg...      0   \n",
       "2  Great place wonderful baristas\\nAmazing Manage...      0   \n",
       "3  Probably won't come back.  Not horrible, just ...      0   \n",
       "4  Love this coffee bean! The baristas are always...      0   \n",
       "\n",
       "                  user_id  \n",
       "0  kjfBvZlRzs1_7vdp7SZbeg  \n",
       "1  h8RmB4pdbXwVVfOQjg21zA  \n",
       "2  yGJjiS9zWkQ2VBrjxnnAXA  \n",
       "3  eI0gjxvpgfDnHcPT09qMcA  \n",
       "4  GMRHCmYD3T4QUI1Ro3t8Zg  \n",
       "\n",
       "[5 rows x 23 columns]"
      ]
     },
     "execution_count": 59,
     "metadata": {},
     "output_type": "execute_result"
    }
   ],
   "source": [
    "restaurant_AZ_reviews.head()"
   ]
  },
  {
   "cell_type": "code",
   "execution_count": null,
   "metadata": {},
   "outputs": [],
   "source": []
  }
 ],
 "metadata": {
  "kernelspec": {
   "display_name": "Python 3",
   "language": "python",
   "name": "python3"
  },
  "language_info": {
   "codemirror_mode": {
    "name": "ipython",
    "version": 3
   },
   "file_extension": ".py",
   "mimetype": "text/x-python",
   "name": "python",
   "nbconvert_exporter": "python",
   "pygments_lexer": "ipython3",
   "version": "3.6.5"
  }
 },
 "nbformat": 4,
 "nbformat_minor": 2
}
